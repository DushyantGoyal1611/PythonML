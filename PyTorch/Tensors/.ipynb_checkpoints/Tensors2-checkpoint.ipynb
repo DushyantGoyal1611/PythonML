{
 "cells": [
  {
   "cell_type": "code",
   "execution_count": 1,
   "id": "876cf67c-3517-4c45-a908-03a1f1a404b8",
   "metadata": {},
   "outputs": [],
   "source": [
    "import torch\n",
    "import numpy as np"
   ]
  },
  {
   "cell_type": "markdown",
   "id": "439d49ec-8e20-4e2e-99e6-d6cb55f760cd",
   "metadata": {},
   "source": [
    "<font size=\"4\" color='yellow'>Scalar</font>"
   ]
  },
  {
   "cell_type": "code",
   "execution_count": 40,
   "id": "96ed58d7-aa72-4d3a-b936-208e48a3dee4",
   "metadata": {},
   "outputs": [
    {
     "data": {
      "text/plain": [
       "tensor(7)"
      ]
     },
     "execution_count": 40,
     "metadata": {},
     "output_type": "execute_result"
    }
   ],
   "source": [
    "scalar = torch.tensor(7)\n",
    "scalar"
   ]
  },
  {
   "cell_type": "code",
   "execution_count": 3,
   "id": "19dda237-47ee-4f96-b350-ef63eba9f0e9",
   "metadata": {},
   "outputs": [
    {
     "data": {
      "text/plain": [
       "0"
      ]
     },
     "execution_count": 3,
     "metadata": {},
     "output_type": "execute_result"
    }
   ],
   "source": [
    "scalar.ndim"
   ]
  },
  {
   "cell_type": "code",
   "execution_count": 5,
   "id": "229f8ca4-4510-422f-878a-d08f1e10674c",
   "metadata": {},
   "outputs": [
    {
     "data": {
      "text/plain": [
       "7"
      ]
     },
     "execution_count": 5,
     "metadata": {},
     "output_type": "execute_result"
    }
   ],
   "source": [
    "# Get tensor back as Python int\n",
    "scalar.item()"
   ]
  },
  {
   "cell_type": "markdown",
   "id": "bd0bdaa0-9e34-40bb-8243-30df5a6ee97c",
   "metadata": {},
   "source": [
    "<font size=\"4\" color='yellow'>Vector</font>"
   ]
  },
  {
   "cell_type": "code",
   "execution_count": 42,
   "id": "9b6fc4d8-f0d5-4e2c-aae3-d53931c0a511",
   "metadata": {},
   "outputs": [
    {
     "data": {
      "text/plain": [
       "tensor([7, 8])"
      ]
     },
     "execution_count": 42,
     "metadata": {},
     "output_type": "execute_result"
    }
   ],
   "source": [
    "vector = torch.tensor([7,8])\n",
    "vector"
   ]
  },
  {
   "cell_type": "code",
   "execution_count": 8,
   "id": "acad0b75-623b-49ea-8066-94ad7facf0c1",
   "metadata": {},
   "outputs": [
    {
     "data": {
      "text/plain": [
       "1"
      ]
     },
     "execution_count": 8,
     "metadata": {},
     "output_type": "execute_result"
    }
   ],
   "source": [
    "vector.ndim"
   ]
  },
  {
   "cell_type": "code",
   "execution_count": 12,
   "id": "8330bfd9-de1a-4e71-9010-904a62df45f0",
   "metadata": {},
   "outputs": [
    {
     "data": {
      "text/plain": [
       "torch.Size([2])"
      ]
     },
     "execution_count": 12,
     "metadata": {},
     "output_type": "execute_result"
    }
   ],
   "source": [
    "vector.shape"
   ]
  },
  {
   "cell_type": "markdown",
   "id": "2f0fd969-ee27-413f-a7cf-40c90c428b13",
   "metadata": {},
   "source": [
    "<font size=\"4\" color='yellow'>Matrix</font>"
   ]
  },
  {
   "cell_type": "code",
   "execution_count": 43,
   "id": "c4faa5d3-dea3-4610-bac7-a1922b71f1af",
   "metadata": {},
   "outputs": [
    {
     "data": {
      "text/plain": [
       "tensor([[1, 2],\n",
       "        [3, 4]])"
      ]
     },
     "execution_count": 43,
     "metadata": {},
     "output_type": "execute_result"
    }
   ],
   "source": [
    "matrix = torch.tensor([[1,2],[3,4]])\n",
    "matrix"
   ]
  },
  {
   "cell_type": "code",
   "execution_count": 10,
   "id": "4e45a3f6-8072-4c0a-9eae-5180926ea16a",
   "metadata": {},
   "outputs": [
    {
     "data": {
      "text/plain": [
       "2"
      ]
     },
     "execution_count": 10,
     "metadata": {},
     "output_type": "execute_result"
    }
   ],
   "source": [
    "matrix.ndim"
   ]
  },
  {
   "cell_type": "code",
   "execution_count": 13,
   "id": "a3ec7f16-7ec5-4b2e-b802-f0c65c048c6e",
   "metadata": {},
   "outputs": [
    {
     "data": {
      "text/plain": [
       "torch.Size([2, 2])"
      ]
     },
     "execution_count": 13,
     "metadata": {},
     "output_type": "execute_result"
    }
   ],
   "source": [
    "matrix.shape"
   ]
  },
  {
   "cell_type": "markdown",
   "id": "e98c321c-efca-43b5-a649-91d00876ee8c",
   "metadata": {},
   "source": [
    "<font size=\"4\" color='yellow'>Tensor</font>"
   ]
  },
  {
   "cell_type": "code",
   "execution_count": 44,
   "id": "ac3c64b1-cecd-46c4-a554-640b6393bfb5",
   "metadata": {},
   "outputs": [
    {
     "data": {
      "text/plain": [
       "tensor([[[1, 1, 1],\n",
       "         [2, 2, 2],\n",
       "         [3, 3, 3]]])"
      ]
     },
     "execution_count": 44,
     "metadata": {},
     "output_type": "execute_result"
    }
   ],
   "source": [
    "tensor1 = torch.tensor([[[1,1,1],[2,2,2],[3,3,3]]])\n",
    "tensor1"
   ]
  },
  {
   "cell_type": "code",
   "execution_count": 19,
   "id": "5c8ff832-7b8c-4e73-9434-789956a10d1b",
   "metadata": {},
   "outputs": [
    {
     "data": {
      "text/plain": [
       "3"
      ]
     },
     "execution_count": 19,
     "metadata": {},
     "output_type": "execute_result"
    }
   ],
   "source": [
    "tensor1.ndim"
   ]
  },
  {
   "cell_type": "code",
   "execution_count": 20,
   "id": "1793ce23-e3ab-42b8-b055-27c8c4ecd77f",
   "metadata": {},
   "outputs": [
    {
     "data": {
      "text/plain": [
       "torch.Size([1, 3, 3])"
      ]
     },
     "execution_count": 20,
     "metadata": {},
     "output_type": "execute_result"
    }
   ],
   "source": [
    "tensor1.shape"
   ]
  },
  {
   "cell_type": "code",
   "execution_count": 22,
   "id": "722ec97f-5e4d-40a1-b645-e63a56b17e2e",
   "metadata": {},
   "outputs": [
    {
     "data": {
      "text/plain": [
       "tensor([[[1, 1, 1],\n",
       "         [2, 2, 2],\n",
       "         [3, 3, 3]],\n",
       "\n",
       "        [[4, 4, 4],\n",
       "         [5, 5, 5],\n",
       "         [6, 6, 6]]])"
      ]
     },
     "execution_count": 22,
     "metadata": {},
     "output_type": "execute_result"
    }
   ],
   "source": [
    "tensor2 = torch.tensor([[[1,1,1],[2,2,2],[3,3,3]],\n",
    "                       [[4,4,4],[5,5,5],[6,6,6]]])\n",
    "tensor2"
   ]
  },
  {
   "cell_type": "code",
   "execution_count": 23,
   "id": "1f211950-12c2-4017-97af-cb22e872004d",
   "metadata": {},
   "outputs": [
    {
     "data": {
      "text/plain": [
       "3"
      ]
     },
     "execution_count": 23,
     "metadata": {},
     "output_type": "execute_result"
    }
   ],
   "source": [
    "tensor2.ndim"
   ]
  },
  {
   "cell_type": "code",
   "execution_count": 25,
   "id": "fcb24e55-fcdd-4b7c-bd79-2668d438e5d6",
   "metadata": {},
   "outputs": [
    {
     "data": {
      "text/plain": [
       "torch.Size([2, 3, 3])"
      ]
     },
     "execution_count": 25,
     "metadata": {},
     "output_type": "execute_result"
    }
   ],
   "source": [
    "tensor2.shape"
   ]
  },
  {
   "cell_type": "code",
   "execution_count": 26,
   "id": "c4f373d1-a167-439b-9925-a9fd673529c4",
   "metadata": {},
   "outputs": [],
   "source": [
    "# dtype"
   ]
  },
  {
   "cell_type": "code",
   "execution_count": 29,
   "id": "2b88667a-dd33-4fe0-ab4b-20fe8a5ad968",
   "metadata": {},
   "outputs": [],
   "source": [
    "float_tensor = torch.tensor([3,6,9], dtype=torch.float32)"
   ]
  },
  {
   "cell_type": "code",
   "execution_count": 30,
   "id": "a57ea935-c90d-4daf-8ad0-165cd7cf1870",
   "metadata": {},
   "outputs": [
    {
     "name": "stdout",
     "output_type": "stream",
     "text": [
      "tensor([3., 6., 9.])\n",
      "torch.float32\n"
     ]
    }
   ],
   "source": [
    "print(float_tensor)\n",
    "print(float_tensor.dtype)"
   ]
  },
  {
   "cell_type": "code",
   "execution_count": 31,
   "id": "a8da1aff-b1fd-45ed-a8d1-023efe0cc051",
   "metadata": {},
   "outputs": [],
   "source": [
    "int_tensor = torch.tensor([2,4,8], dtype=torch.int64)"
   ]
  },
  {
   "cell_type": "code",
   "execution_count": 32,
   "id": "528e3cfd-5c79-4153-82be-8b34b01a909a",
   "metadata": {},
   "outputs": [
    {
     "name": "stdout",
     "output_type": "stream",
     "text": [
      "tensor([2, 4, 8])\n",
      "torch.int64\n"
     ]
    }
   ],
   "source": [
    "print(int_tensor)\n",
    "print(int_tensor.dtype)"
   ]
  },
  {
   "cell_type": "code",
   "execution_count": 33,
   "id": "ca034575-7305-4488-94b1-dbdc8db0497a",
   "metadata": {},
   "outputs": [
    {
     "data": {
      "text/plain": [
       "tensor([ 6., 24., 72.])"
      ]
     },
     "execution_count": 33,
     "metadata": {},
     "output_type": "execute_result"
    }
   ],
   "source": [
    "float_tensor * int_tensor"
   ]
  },
  {
   "cell_type": "code",
   "execution_count": 34,
   "id": "c6b65572-503f-4049-b0b9-3f5e98c7a534",
   "metadata": {},
   "outputs": [
    {
     "data": {
      "text/plain": [
       "device(type='cpu')"
      ]
     },
     "execution_count": 34,
     "metadata": {},
     "output_type": "execute_result"
    }
   ],
   "source": [
    "tensor.device"
   ]
  },
  {
   "cell_type": "markdown",
   "id": "15ff29fa-bad6-45cd-b0d4-79129379c7fa",
   "metadata": {},
   "source": [
    "<font size=\"4\" color='yellow'>Details about a Created Tensor</font>"
   ]
  },
  {
   "cell_type": "code",
   "execution_count": 36,
   "id": "87f15e4c-f7d5-472e-baea-ba633973d7d4",
   "metadata": {},
   "outputs": [],
   "source": [
    "arr = torch.rand(3,4)"
   ]
  },
  {
   "cell_type": "code",
   "execution_count": 39,
   "id": "35a94eb9-7ac2-4380-9376-32ba2fb25ffc",
   "metadata": {},
   "outputs": [
    {
     "name": "stdout",
     "output_type": "stream",
     "text": [
      "tensor([[0.7986, 0.3733, 0.1431, 0.3140],\n",
      "        [0.5441, 0.8311, 0.0156, 0.9159],\n",
      "        [0.0515, 0.8139, 0.2388, 0.9957]])\n",
      "\n",
      "Datatype of Tensor: torch.float32\n",
      "Shape of Tensor: torch.Size([3, 4])\n",
      "Device on which Tensor: cpu\n"
     ]
    }
   ],
   "source": [
    "print(arr)\n",
    "print()\n",
    "print(f\"Datatype of Tensor: {arr.dtype}\")\n",
    "print(f\"Shape of Tensor: {arr.shape}\")\n",
    "print(f\"Device on which Tensor: {arr.device}\")"
   ]
  },
  {
   "cell_type": "markdown",
   "id": "bb94ece9-4752-4e42-973e-de24e13274a8",
   "metadata": {},
   "source": [
    "<font size=\"4\" color='yellow'>Manipulating Tensor</font>"
   ]
  },
  {
   "cell_type": "code",
   "execution_count": 46,
   "id": "85a01dba-006e-484b-b9aa-f2993dead274",
   "metadata": {},
   "outputs": [],
   "source": [
    "arr1 = torch.tensor([1,2,3])"
   ]
  },
  {
   "cell_type": "code",
   "execution_count": 48,
   "id": "63d0dbb2-3acb-4b6e-9024-052605e664a4",
   "metadata": {},
   "outputs": [
    {
     "name": "stdout",
     "output_type": "stream",
     "text": [
      "Addition: tensor([11, 12, 13])\n",
      "Subtraction: tensor([-9, -8, -7])\n",
      "Multiplication: tensor([10, 20, 30])\n",
      "Division: tensor([0.1000, 0.2000, 0.3000])\n",
      "Modulus: tensor([1, 2, 3])\n"
     ]
    }
   ],
   "source": [
    "print(f\"Addition: {torch.add(arr1,10)}\")\n",
    "print(f\"Subtraction: {arr1 - 10}\")\n",
    "print(f\"Multiplication: {torch.mul(arr1,10)}\")\n",
    "print(f\"Division: {torch.div(arr1,10)}\")\n",
    "print(f\"Modulus: {torch.remainder(arr1,10)}\")"
   ]
  },
  {
   "cell_type": "code",
   "execution_count": 49,
   "id": "56c8117f-080e-4cfa-9501-4c82ba515904",
   "metadata": {},
   "outputs": [
    {
     "name": "stdout",
     "output_type": "stream",
     "text": [
      "Element-wise Multiplication: tensor([1, 4, 9])\n"
     ]
    }
   ],
   "source": [
    "# Element-wise multiplication\n",
    "arr1 = torch.tensor([1,2,3])\n",
    "arr2 = torch.tensor([1,2,3])\n",
    "\n",
    "print(f'Element-wise Multiplication: {arr1 * arr2}')"
   ]
  },
  {
   "cell_type": "code",
   "execution_count": 50,
   "id": "5fe79397-b370-49ca-bee0-b267b8f26dfa",
   "metadata": {},
   "outputs": [
    {
     "name": "stdout",
     "output_type": "stream",
     "text": [
      "Matrix Multiplication: 14\n"
     ]
    }
   ],
   "source": [
    "# Matrix multiplication\n",
    "arr1 = torch.tensor([1,2,3])\n",
    "arr2 = torch.tensor([1,2,3])\n",
    "\n",
    "print(f'Matrix Multiplication: {torch.matmul(arr1,arr2)}')"
   ]
  },
  {
   "cell_type": "code",
   "execution_count": 65,
   "id": "41dae929-3a1a-49f5-80bb-3c49b8c5393c",
   "metadata": {},
   "outputs": [
    {
     "data": {
      "text/plain": [
       "tensor([1., 2., 3., 4., 5., 6., 7., 8., 9.])"
      ]
     },
     "execution_count": 65,
     "metadata": {},
     "output_type": "execute_result"
    }
   ],
   "source": [
    "tensor_arr = torch.arange(1, 10, dtype=torch.float32)\n",
    "tensor_arr"
   ]
  },
  {
   "cell_type": "code",
   "execution_count": 61,
   "id": "9b1c8fc3-f8f7-498f-b6b1-a7da16c523d0",
   "metadata": {},
   "outputs": [
    {
     "data": {
      "text/plain": [
       "torch.float32"
      ]
     },
     "execution_count": 61,
     "metadata": {},
     "output_type": "execute_result"
    }
   ],
   "source": [
    "tensor_arr.dtype"
   ]
  },
  {
   "cell_type": "code",
   "execution_count": 62,
   "id": "3e8348f1-b021-47a9-90aa-d48239461971",
   "metadata": {},
   "outputs": [
    {
     "name": "stdout",
     "output_type": "stream",
     "text": [
      "Min: 1.0\n",
      "Max: 9.0\n",
      "Sum: 45.0\n",
      "Mean: 5.0\n"
     ]
    }
   ],
   "source": [
    "print(f'Min: {tensor_arr.min()}')\n",
    "print(f'Max: {tensor_arr.max()}')\n",
    "print(f'Sum: {tensor_arr.sum()}')\n",
    "print(f'Mean: {tensor_arr.mean()}')"
   ]
  },
  {
   "cell_type": "code",
   "execution_count": 67,
   "id": "b0895f0a-a5e0-44ef-a8f8-a93dc2f3d022",
   "metadata": {},
   "outputs": [
    {
     "name": "stdout",
     "output_type": "stream",
     "text": [
      "Position of Smallest Element: 0\n",
      "Position of Largest Element: 8\n",
      "Sorted Index: tensor([0, 1, 2, 3, 4, 5, 6, 7, 8])\n"
     ]
    }
   ],
   "source": [
    "print(f'Position of Smallest Element: {tensor_arr.argmin()}')\n",
    "print(f'Position of Largest Element: {tensor_arr.argmax()}')\n",
    "print(f'Sorted Index: {tensor_arr.argsort()}')"
   ]
  },
  {
   "cell_type": "code",
   "execution_count": 71,
   "id": "6fd42c1e-20bf-4557-b61b-6a393ac6cd0e",
   "metadata": {},
   "outputs": [
    {
     "data": {
      "text/plain": [
       "(tensor([[0.0238, 0.0284, 0.5327],\n",
       "         [0.5534, 0.0845, 0.5071]]),\n",
       " torch.Size([2, 3]))"
      ]
     },
     "execution_count": 71,
     "metadata": {},
     "output_type": "execute_result"
    }
   ],
   "source": [
    "arr = torch.rand(2,3)\n",
    "arr,arr.shape"
   ]
  },
  {
   "cell_type": "code",
   "execution_count": 75,
   "id": "f4e6f54b-66bb-416d-9efc-a8e9807c26b2",
   "metadata": {},
   "outputs": [
    {
     "data": {
      "text/plain": [
       "(tensor([[0.0238, 0.0284],\n",
       "         [0.5327, 0.5534],\n",
       "         [0.0845, 0.5071]]),\n",
       " torch.Size([3, 2]))"
      ]
     },
     "execution_count": 75,
     "metadata": {},
     "output_type": "execute_result"
    }
   ],
   "source": [
    "arr = arr.reshape(3,2)\n",
    "arr, arr.shape"
   ]
  },
  {
   "cell_type": "code",
   "execution_count": 77,
   "id": "2b09bc4b-6346-4a52-99bb-0d65890dd1f6",
   "metadata": {},
   "outputs": [
    {
     "data": {
      "text/plain": [
       "tensor([0.0238, 0.0284, 0.5327, 0.5534, 0.0845, 0.5071])"
      ]
     },
     "execution_count": 77,
     "metadata": {},
     "output_type": "execute_result"
    }
   ],
   "source": [
    "arr.flatten()"
   ]
  },
  {
   "cell_type": "code",
   "execution_count": 90,
   "id": "1c034a47-a466-474e-8fd0-6c366e79bac7",
   "metadata": {},
   "outputs": [
    {
     "data": {
      "text/plain": [
       "(tensor([[1],\n",
       "         [2],\n",
       "         [3]]),\n",
       " torch.Size([3]),\n",
       " torch.Size([3, 1]))"
      ]
     },
     "execution_count": 90,
     "metadata": {},
     "output_type": "execute_result"
    }
   ],
   "source": [
    "# after set unsqueeze 1, tensor becomes 2d\n",
    "\n",
    "tensor = torch.tensor([1,2,3])\n",
    "arr = tensor.unsqueeze(1)\n",
    "arr, tensor.shape, arr.shape"
   ]
  },
  {
   "cell_type": "code",
   "execution_count": 88,
   "id": "b6f58c8c-88e2-46a6-bbed-70b9651b9704",
   "metadata": {},
   "outputs": [
    {
     "data": {
      "text/plain": [
       "tensor([1, 2, 3])"
      ]
     },
     "execution_count": 88,
     "metadata": {},
     "output_type": "execute_result"
    }
   ],
   "source": [
    "x = arr.squeeze()\n",
    "x"
   ]
  },
  {
   "cell_type": "code",
   "execution_count": 98,
   "id": "112503b0-a326-4552-9e8b-0ed2dcdc4568",
   "metadata": {},
   "outputs": [
    {
     "data": {
      "text/plain": [
       "(tensor([[[0.7153, 0.2583, 0.0112],\n",
       "          [0.3100, 0.4924, 0.7043],\n",
       "          [0.3455, 0.5904, 0.4142],\n",
       "          [0.2652, 0.8058, 0.3074]],\n",
       " \n",
       "         [[0.9867, 0.6358, 0.0469],\n",
       "          [0.2243, 0.9198, 0.5770],\n",
       "          [0.1502, 0.4855, 0.3595],\n",
       "          [0.7086, 0.3827, 0.7815]]]),\n",
       " torch.Size([2, 4, 3]))"
      ]
     },
     "execution_count": 98,
     "metadata": {},
     "output_type": "execute_result"
    }
   ],
   "source": [
    "# permute\n",
    "arr = torch.rand(2,4,3)\n",
    "arr, arr.shape"
   ]
  },
  {
   "cell_type": "code",
   "execution_count": 103,
   "id": "2161c4ed-37ec-4da1-b5a9-86dbd8125487",
   "metadata": {},
   "outputs": [
    {
     "data": {
      "text/plain": [
       "(tensor([[[0.7153, 0.3100, 0.3455, 0.2652],\n",
       "          [0.9867, 0.2243, 0.1502, 0.7086]],\n",
       " \n",
       "         [[0.2583, 0.4924, 0.5904, 0.8058],\n",
       "          [0.6358, 0.9198, 0.4855, 0.3827]],\n",
       " \n",
       "         [[0.0112, 0.7043, 0.4142, 0.3074],\n",
       "          [0.0469, 0.5770, 0.3595, 0.7815]]]),\n",
       " torch.Size([3, 2, 4]))"
      ]
     },
     "execution_count": 103,
     "metadata": {},
     "output_type": "execute_result"
    }
   ],
   "source": [
    "permuted_arr = arr.permute(2,0,1)\n",
    "permuted_arr, permuted_arr.shape"
   ]
  },
  {
   "cell_type": "markdown",
   "id": "811a1d92-e000-4c69-9152-73bbf7912e3b",
   "metadata": {},
   "source": [
    "<font size=\"4\" color='yellow'>Indexing</font>"
   ]
  },
  {
   "cell_type": "code",
   "execution_count": 107,
   "id": "4877560c-4146-4cb7-ba82-6e907a19b783",
   "metadata": {},
   "outputs": [
    {
     "name": "stdout",
     "output_type": "stream",
     "text": [
      "tensor([1, 2, 3, 4, 5, 6, 7, 8, 9])\n",
      "tensor(1)\n",
      "tensor(5)\n",
      "tensor(9)\n"
     ]
    }
   ],
   "source": [
    "# Basic Indexing\n",
    "arr = torch.arange(1,10)\n",
    "print(arr)\n",
    "print(arr[0]) # First Element\n",
    "print(arr[4]) # Element at 4th position\n",
    "print(arr[-1]) # Last Element"
   ]
  },
  {
   "cell_type": "code",
   "execution_count": 113,
   "id": "8d2355b0-076a-4792-a130-84802d5a18ee",
   "metadata": {},
   "outputs": [
    {
     "name": "stdout",
     "output_type": "stream",
     "text": [
      "tensor([[0.9811, 0.0027],\n",
      "        [0.3258, 0.2850]])\n",
      "tensor(0.9811)\n",
      "tensor(0.0027)\n",
      "tensor(0.3258)\n",
      "tensor(0.0027)\n"
     ]
    }
   ],
   "source": [
    "# Indexing in 2d\n",
    "\n",
    "arr = torch.rand(2,2)\n",
    "print(arr)\n",
    "print(arr[0][0])\n",
    "print(arr[0][1])\n",
    "print(arr[1][0])\n",
    "print(arr[0][1])"
   ]
  },
  {
   "cell_type": "code",
   "execution_count": 127,
   "id": "d70c3808-caa9-450d-8178-36740521cd98",
   "metadata": {},
   "outputs": [
    {
     "name": "stdout",
     "output_type": "stream",
     "text": [
      "tensor([[[0.7576, 0.4952],\n",
      "         [0.2659, 0.2392]],\n",
      "\n",
      "        [[0.4699, 0.3253],\n",
      "         [0.1340, 0.4270]]])\n",
      "tensor(0.7576)\n",
      "tensor(0.4699)\n",
      "tensor([[0.7576, 0.4952],\n",
      "        [0.2659, 0.2392]])\n",
      "\n",
      "tensor([[0.4699, 0.3253],\n",
      "        [0.1340, 0.4270]])\n"
     ]
    }
   ],
   "source": [
    "# Indexing in 3d\n",
    "# 3d = [batch, row, columns]\n",
    "\n",
    "arr = torch.rand(2,2,2)\n",
    "print(arr)\n",
    "print(arr[0][0][0])\n",
    "print(arr[1][0][0])\n",
    "print(arr[0][:][:])\n",
    "print()\n",
    "print(arr[1][:][:])"
   ]
  },
  {
   "cell_type": "markdown",
   "id": "69861bd6-ef1d-4546-81a2-6f0feece8098",
   "metadata": {},
   "source": [
    "<font size=\"4\" color='yellow'>Tensor to Numpy</font>"
   ]
  },
  {
   "cell_type": "code",
   "execution_count": 136,
   "id": "b23a3648-8b13-4ea0-908b-0131c96477e4",
   "metadata": {},
   "outputs": [],
   "source": [
    "tensors = torch.rand([2,2])"
   ]
  },
  {
   "cell_type": "code",
   "execution_count": 137,
   "id": "d32af503-d3cc-4b15-8eae-b459db63a68f",
   "metadata": {},
   "outputs": [],
   "source": [
    "num_arr = tensors.numpy()"
   ]
  },
  {
   "cell_type": "code",
   "execution_count": 138,
   "id": "49d453de-7f46-4ba4-82a1-e3afd7a53ba0",
   "metadata": {},
   "outputs": [
    {
     "name": "stdout",
     "output_type": "stream",
     "text": [
      "[[0.66324776 0.78983605]\n",
      " [0.77172977 0.623939  ]]\n",
      "<class 'numpy.ndarray'>\n"
     ]
    }
   ],
   "source": [
    "print(num_arr)\n",
    "print(type(num_arr))"
   ]
  },
  {
   "cell_type": "markdown",
   "id": "87f6868d-8701-49a1-b528-6585bcedf848",
   "metadata": {},
   "source": [
    "<font size=\"4\" color='yellow'>Numpy to Tensor</font>"
   ]
  },
  {
   "cell_type": "code",
   "execution_count": 139,
   "id": "6ce93c67-a98c-49c5-83ad-01dc9f242cf1",
   "metadata": {},
   "outputs": [],
   "source": [
    "tensors = torch.from_numpy(num_arr)"
   ]
  },
  {
   "cell_type": "code",
   "execution_count": 140,
   "id": "7f6214e1-9c64-4b19-937a-14e73967784a",
   "metadata": {},
   "outputs": [
    {
     "name": "stdout",
     "output_type": "stream",
     "text": [
      "tensor([[0.6632, 0.7898],\n",
      "        [0.7717, 0.6239]])\n",
      "<class 'torch.Tensor'>\n"
     ]
    }
   ],
   "source": [
    "print(tensors)\n",
    "print(type(tensors))"
   ]
  }
 ],
 "metadata": {
  "kernelspec": {
   "display_name": "Python 3 (ipykernel)",
   "language": "python",
   "name": "python3"
  },
  "language_info": {
   "codemirror_mode": {
    "name": "ipython",
    "version": 3
   },
   "file_extension": ".py",
   "mimetype": "text/x-python",
   "name": "python",
   "nbconvert_exporter": "python",
   "pygments_lexer": "ipython3",
   "version": "3.13.1"
  }
 },
 "nbformat": 4,
 "nbformat_minor": 5
}
