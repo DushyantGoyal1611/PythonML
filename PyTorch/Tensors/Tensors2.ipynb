{
 "cells": [
  {
   "cell_type": "code",
   "execution_count": 1,
   "id": "876cf67c-3517-4c45-a908-03a1f1a404b8",
   "metadata": {},
   "outputs": [],
   "source": [
    "import torch\n",
    "import numpy as np"
   ]
  },
  {
   "cell_type": "markdown",
   "id": "439d49ec-8e20-4e2e-99e6-d6cb55f760cd",
   "metadata": {},
   "source": [
    "<font size=\"4\" color='yellow'>Scalar</font>"
   ]
  },
  {
   "cell_type": "code",
   "execution_count": 2,
   "id": "96ed58d7-aa72-4d3a-b936-208e48a3dee4",
   "metadata": {},
   "outputs": [
    {
     "data": {
      "text/plain": [
       "tensor(7)"
      ]
     },
     "execution_count": 2,
     "metadata": {},
     "output_type": "execute_result"
    }
   ],
   "source": [
    "scalar = torch.tensor(7)\n",
    "scalar"
   ]
  },
  {
   "cell_type": "code",
   "execution_count": 3,
   "id": "19dda237-47ee-4f96-b350-ef63eba9f0e9",
   "metadata": {},
   "outputs": [
    {
     "data": {
      "text/plain": [
       "0"
      ]
     },
     "execution_count": 3,
     "metadata": {},
     "output_type": "execute_result"
    }
   ],
   "source": [
    "scalar.ndim"
   ]
  },
  {
   "cell_type": "code",
   "execution_count": 4,
   "id": "229f8ca4-4510-422f-878a-d08f1e10674c",
   "metadata": {},
   "outputs": [
    {
     "data": {
      "text/plain": [
       "7"
      ]
     },
     "execution_count": 4,
     "metadata": {},
     "output_type": "execute_result"
    }
   ],
   "source": [
    "# Get tensor back as Python int\n",
    "scalar.item()"
   ]
  },
  {
   "cell_type": "markdown",
   "id": "bd0bdaa0-9e34-40bb-8243-30df5a6ee97c",
   "metadata": {},
   "source": [
    "<font size=\"4\" color='yellow'>Vector</font>"
   ]
  },
  {
   "cell_type": "code",
   "execution_count": 5,
   "id": "9b6fc4d8-f0d5-4e2c-aae3-d53931c0a511",
   "metadata": {},
   "outputs": [
    {
     "data": {
      "text/plain": [
       "tensor([7, 8])"
      ]
     },
     "execution_count": 5,
     "metadata": {},
     "output_type": "execute_result"
    }
   ],
   "source": [
    "vector = torch.tensor([7,8])\n",
    "vector"
   ]
  },
  {
   "cell_type": "code",
   "execution_count": 6,
   "id": "acad0b75-623b-49ea-8066-94ad7facf0c1",
   "metadata": {},
   "outputs": [
    {
     "data": {
      "text/plain": [
       "1"
      ]
     },
     "execution_count": 6,
     "metadata": {},
     "output_type": "execute_result"
    }
   ],
   "source": [
    "vector.ndim"
   ]
  },
  {
   "cell_type": "code",
   "execution_count": 7,
   "id": "8330bfd9-de1a-4e71-9010-904a62df45f0",
   "metadata": {},
   "outputs": [
    {
     "data": {
      "text/plain": [
       "torch.Size([2])"
      ]
     },
     "execution_count": 7,
     "metadata": {},
     "output_type": "execute_result"
    }
   ],
   "source": [
    "vector.shape"
   ]
  },
  {
   "cell_type": "markdown",
   "id": "2f0fd969-ee27-413f-a7cf-40c90c428b13",
   "metadata": {},
   "source": [
    "<font size=\"4\" color='yellow'>Matrix</font>"
   ]
  },
  {
   "cell_type": "code",
   "execution_count": 8,
   "id": "c4faa5d3-dea3-4610-bac7-a1922b71f1af",
   "metadata": {},
   "outputs": [
    {
     "data": {
      "text/plain": [
       "tensor([[1, 2],\n",
       "        [3, 4]])"
      ]
     },
     "execution_count": 8,
     "metadata": {},
     "output_type": "execute_result"
    }
   ],
   "source": [
    "matrix = torch.tensor([[1,2],[3,4]])\n",
    "matrix"
   ]
  },
  {
   "cell_type": "code",
   "execution_count": 9,
   "id": "4e45a3f6-8072-4c0a-9eae-5180926ea16a",
   "metadata": {},
   "outputs": [
    {
     "data": {
      "text/plain": [
       "2"
      ]
     },
     "execution_count": 9,
     "metadata": {},
     "output_type": "execute_result"
    }
   ],
   "source": [
    "matrix.ndim"
   ]
  },
  {
   "cell_type": "code",
   "execution_count": 10,
   "id": "a3ec7f16-7ec5-4b2e-b802-f0c65c048c6e",
   "metadata": {},
   "outputs": [
    {
     "data": {
      "text/plain": [
       "torch.Size([2, 2])"
      ]
     },
     "execution_count": 10,
     "metadata": {},
     "output_type": "execute_result"
    }
   ],
   "source": [
    "matrix.shape"
   ]
  },
  {
   "cell_type": "markdown",
   "id": "e98c321c-efca-43b5-a649-91d00876ee8c",
   "metadata": {},
   "source": [
    "<font size=\"4\" color='yellow'>Tensor</font>"
   ]
  },
  {
   "cell_type": "code",
   "execution_count": 11,
   "id": "ac3c64b1-cecd-46c4-a554-640b6393bfb5",
   "metadata": {},
   "outputs": [
    {
     "data": {
      "text/plain": [
       "tensor([[[1, 1, 1],\n",
       "         [2, 2, 2],\n",
       "         [3, 3, 3]]])"
      ]
     },
     "execution_count": 11,
     "metadata": {},
     "output_type": "execute_result"
    }
   ],
   "source": [
    "tensor1 = torch.tensor([[[1,1,1],[2,2,2],[3,3,3]]])\n",
    "tensor1"
   ]
  },
  {
   "cell_type": "code",
   "execution_count": 12,
   "id": "5c8ff832-7b8c-4e73-9434-789956a10d1b",
   "metadata": {},
   "outputs": [
    {
     "data": {
      "text/plain": [
       "3"
      ]
     },
     "execution_count": 12,
     "metadata": {},
     "output_type": "execute_result"
    }
   ],
   "source": [
    "tensor1.ndim"
   ]
  },
  {
   "cell_type": "code",
   "execution_count": 13,
   "id": "1793ce23-e3ab-42b8-b055-27c8c4ecd77f",
   "metadata": {},
   "outputs": [
    {
     "data": {
      "text/plain": [
       "torch.Size([1, 3, 3])"
      ]
     },
     "execution_count": 13,
     "metadata": {},
     "output_type": "execute_result"
    }
   ],
   "source": [
    "tensor1.shape"
   ]
  },
  {
   "cell_type": "code",
   "execution_count": 14,
   "id": "722ec97f-5e4d-40a1-b645-e63a56b17e2e",
   "metadata": {},
   "outputs": [
    {
     "data": {
      "text/plain": [
       "tensor([[[1, 1, 1],\n",
       "         [2, 2, 2],\n",
       "         [3, 3, 3]],\n",
       "\n",
       "        [[4, 4, 4],\n",
       "         [5, 5, 5],\n",
       "         [6, 6, 6]]])"
      ]
     },
     "execution_count": 14,
     "metadata": {},
     "output_type": "execute_result"
    }
   ],
   "source": [
    "tensor2 = torch.tensor([[[1,1,1],[2,2,2],[3,3,3]],\n",
    "                       [[4,4,4],[5,5,5],[6,6,6]]])\n",
    "tensor2"
   ]
  },
  {
   "cell_type": "code",
   "execution_count": 15,
   "id": "1f211950-12c2-4017-97af-cb22e872004d",
   "metadata": {},
   "outputs": [
    {
     "data": {
      "text/plain": [
       "3"
      ]
     },
     "execution_count": 15,
     "metadata": {},
     "output_type": "execute_result"
    }
   ],
   "source": [
    "tensor2.ndim"
   ]
  },
  {
   "cell_type": "code",
   "execution_count": 16,
   "id": "fcb24e55-fcdd-4b7c-bd79-2668d438e5d6",
   "metadata": {},
   "outputs": [
    {
     "data": {
      "text/plain": [
       "torch.Size([2, 3, 3])"
      ]
     },
     "execution_count": 16,
     "metadata": {},
     "output_type": "execute_result"
    }
   ],
   "source": [
    "tensor2.shape"
   ]
  },
  {
   "cell_type": "code",
   "execution_count": 17,
   "id": "c4f373d1-a167-439b-9925-a9fd673529c4",
   "metadata": {},
   "outputs": [],
   "source": [
    "# dtype"
   ]
  },
  {
   "cell_type": "code",
   "execution_count": 18,
   "id": "2b88667a-dd33-4fe0-ab4b-20fe8a5ad968",
   "metadata": {},
   "outputs": [],
   "source": [
    "float_tensor = torch.tensor([3,6,9], dtype=torch.float32)"
   ]
  },
  {
   "cell_type": "code",
   "execution_count": 19,
   "id": "a57ea935-c90d-4daf-8ad0-165cd7cf1870",
   "metadata": {},
   "outputs": [
    {
     "name": "stdout",
     "output_type": "stream",
     "text": [
      "tensor([3., 6., 9.])\n",
      "torch.float32\n"
     ]
    }
   ],
   "source": [
    "print(float_tensor)\n",
    "print(float_tensor.dtype)"
   ]
  },
  {
   "cell_type": "code",
   "execution_count": 20,
   "id": "a8da1aff-b1fd-45ed-a8d1-023efe0cc051",
   "metadata": {},
   "outputs": [],
   "source": [
    "int_tensor = torch.tensor([2,4,8], dtype=torch.int64)"
   ]
  },
  {
   "cell_type": "code",
   "execution_count": 21,
   "id": "528e3cfd-5c79-4153-82be-8b34b01a909a",
   "metadata": {},
   "outputs": [
    {
     "name": "stdout",
     "output_type": "stream",
     "text": [
      "tensor([2, 4, 8])\n",
      "torch.int64\n"
     ]
    }
   ],
   "source": [
    "print(int_tensor)\n",
    "print(int_tensor.dtype)"
   ]
  },
  {
   "cell_type": "code",
   "execution_count": 22,
   "id": "ca034575-7305-4488-94b1-dbdc8db0497a",
   "metadata": {},
   "outputs": [
    {
     "data": {
      "text/plain": [
       "tensor([ 6., 24., 72.])"
      ]
     },
     "execution_count": 22,
     "metadata": {},
     "output_type": "execute_result"
    }
   ],
   "source": [
    "float_tensor * int_tensor"
   ]
  },
  {
   "cell_type": "code",
   "execution_count": 23,
   "id": "c6b65572-503f-4049-b0b9-3f5e98c7a534",
   "metadata": {},
   "outputs": [
    {
     "ename": "NameError",
     "evalue": "name 'tensor' is not defined",
     "output_type": "error",
     "traceback": [
      "\u001b[1;31m---------------------------------------------------------------------------\u001b[0m",
      "\u001b[1;31mNameError\u001b[0m                                 Traceback (most recent call last)",
      "Cell \u001b[1;32mIn[23], line 1\u001b[0m\n\u001b[1;32m----> 1\u001b[0m \u001b[43mtensor\u001b[49m\u001b[38;5;241m.\u001b[39mdevice\n",
      "\u001b[1;31mNameError\u001b[0m: name 'tensor' is not defined"
     ]
    }
   ],
   "source": [
    "tensor.device"
   ]
  },
  {
   "cell_type": "markdown",
   "id": "15ff29fa-bad6-45cd-b0d4-79129379c7fa",
   "metadata": {},
   "source": [
    "<font size=\"4\" color='yellow'>Details about a Created Tensor</font>"
   ]
  },
  {
   "cell_type": "code",
   "execution_count": null,
   "id": "87f15e4c-f7d5-472e-baea-ba633973d7d4",
   "metadata": {},
   "outputs": [],
   "source": [
    "arr = torch.rand(3,4)"
   ]
  },
  {
   "cell_type": "code",
   "execution_count": null,
   "id": "35a94eb9-7ac2-4380-9376-32ba2fb25ffc",
   "metadata": {},
   "outputs": [],
   "source": [
    "print(arr)\n",
    "print()\n",
    "print(f\"Datatype of Tensor: {arr.dtype}\")\n",
    "print(f\"Shape of Tensor: {arr.shape}\")\n",
    "print(f\"Device on which Tensor: {arr.device}\")"
   ]
  },
  {
   "cell_type": "markdown",
   "id": "bb94ece9-4752-4e42-973e-de24e13274a8",
   "metadata": {},
   "source": [
    "<font size=\"4\" color='yellow'>Manipulating Tensor</font>"
   ]
  },
  {
   "cell_type": "code",
   "execution_count": null,
   "id": "85a01dba-006e-484b-b9aa-f2993dead274",
   "metadata": {},
   "outputs": [],
   "source": [
    "arr1 = torch.tensor([1,2,3])"
   ]
  },
  {
   "cell_type": "code",
   "execution_count": null,
   "id": "63d0dbb2-3acb-4b6e-9024-052605e664a4",
   "metadata": {},
   "outputs": [],
   "source": [
    "print(f\"Addition: {torch.add(arr1,10)}\")\n",
    "print(f\"Subtraction: {arr1 - 10}\")\n",
    "print(f\"Multiplication: {torch.mul(arr1,10)}\")\n",
    "print(f\"Division: {torch.div(arr1,10)}\")\n",
    "print(f\"Modulus: {torch.remainder(arr1,10)}\")"
   ]
  },
  {
   "cell_type": "code",
   "execution_count": null,
   "id": "56c8117f-080e-4cfa-9501-4c82ba515904",
   "metadata": {},
   "outputs": [],
   "source": [
    "# Element-wise multiplication\n",
    "arr1 = torch.tensor([1,2,3])\n",
    "arr2 = torch.tensor([1,2,3])\n",
    "\n",
    "print(f'Element-wise Multiplication: {arr1 * arr2}')"
   ]
  },
  {
   "cell_type": "code",
   "execution_count": null,
   "id": "5fe79397-b370-49ca-bee0-b267b8f26dfa",
   "metadata": {},
   "outputs": [],
   "source": [
    "# Matrix multiplication\n",
    "arr1 = torch.tensor([1,2,3])\n",
    "arr2 = torch.tensor([1,2,3])\n",
    "\n",
    "print(f'Matrix Multiplication: {torch.matmul(arr1,arr2)}')"
   ]
  },
  {
   "cell_type": "code",
   "execution_count": null,
   "id": "41dae929-3a1a-49f5-80bb-3c49b8c5393c",
   "metadata": {},
   "outputs": [],
   "source": [
    "tensor_arr = torch.arange(1, 10, dtype=torch.float32)\n",
    "tensor_arr"
   ]
  },
  {
   "cell_type": "code",
   "execution_count": null,
   "id": "9b1c8fc3-f8f7-498f-b6b1-a7da16c523d0",
   "metadata": {},
   "outputs": [],
   "source": [
    "tensor_arr.dtype"
   ]
  },
  {
   "cell_type": "code",
   "execution_count": null,
   "id": "3e8348f1-b021-47a9-90aa-d48239461971",
   "metadata": {},
   "outputs": [],
   "source": [
    "print(f'Min: {tensor_arr.min()}')\n",
    "print(f'Max: {tensor_arr.max()}')\n",
    "print(f'Sum: {tensor_arr.sum()}')\n",
    "print(f'Mean: {tensor_arr.mean()}')"
   ]
  },
  {
   "cell_type": "code",
   "execution_count": null,
   "id": "b0895f0a-a5e0-44ef-a8f8-a93dc2f3d022",
   "metadata": {},
   "outputs": [],
   "source": [
    "print(f'Position of Smallest Element: {tensor_arr.argmin()}')\n",
    "print(f'Position of Largest Element: {tensor_arr.argmax()}')\n",
    "print(f'Sorted Index: {tensor_arr.argsort()}')"
   ]
  },
  {
   "cell_type": "code",
   "execution_count": null,
   "id": "6fd42c1e-20bf-4557-b61b-6a393ac6cd0e",
   "metadata": {},
   "outputs": [],
   "source": [
    "arr = torch.rand(2,3)\n",
    "arr,arr.shape"
   ]
  },
  {
   "cell_type": "code",
   "execution_count": null,
   "id": "f4e6f54b-66bb-416d-9efc-a8e9807c26b2",
   "metadata": {},
   "outputs": [],
   "source": [
    "arr = arr.reshape(3,2)\n",
    "arr, arr.shape"
   ]
  },
  {
   "cell_type": "code",
   "execution_count": null,
   "id": "2b09bc4b-6346-4a52-99bb-0d65890dd1f6",
   "metadata": {},
   "outputs": [],
   "source": [
    "arr.flatten()"
   ]
  },
  {
   "cell_type": "code",
   "execution_count": null,
   "id": "1c034a47-a466-474e-8fd0-6c366e79bac7",
   "metadata": {},
   "outputs": [],
   "source": [
    "# after set unsqueeze 1, tensor becomes 2d\n",
    "\n",
    "tensor = torch.tensor([1,2,3])\n",
    "arr = tensor.unsqueeze(1)\n",
    "arr, tensor.shape, arr.shape"
   ]
  },
  {
   "cell_type": "code",
   "execution_count": null,
   "id": "b6f58c8c-88e2-46a6-bbed-70b9651b9704",
   "metadata": {},
   "outputs": [],
   "source": [
    "x = arr.squeeze()\n",
    "x"
   ]
  },
  {
   "cell_type": "code",
   "execution_count": null,
   "id": "112503b0-a326-4552-9e8b-0ed2dcdc4568",
   "metadata": {},
   "outputs": [],
   "source": [
    "# permute\n",
    "arr = torch.rand(2,4,3)\n",
    "arr, arr.shape"
   ]
  },
  {
   "cell_type": "code",
   "execution_count": null,
   "id": "2161c4ed-37ec-4da1-b5a9-86dbd8125487",
   "metadata": {},
   "outputs": [],
   "source": [
    "permuted_arr = arr.permute(2,0,1)\n",
    "permuted_arr, permuted_arr.shape"
   ]
  },
  {
   "cell_type": "markdown",
   "id": "811a1d92-e000-4c69-9152-73bbf7912e3b",
   "metadata": {},
   "source": [
    "<font size=\"4\" color='yellow'>Indexing</font>"
   ]
  },
  {
   "cell_type": "code",
   "execution_count": null,
   "id": "4877560c-4146-4cb7-ba82-6e907a19b783",
   "metadata": {},
   "outputs": [],
   "source": [
    "# Basic Indexing\n",
    "arr = torch.arange(1,10)\n",
    "print(arr)\n",
    "print(arr[0]) # First Element\n",
    "print(arr[4]) # Element at 4th position\n",
    "print(arr[-1]) # Last Element"
   ]
  },
  {
   "cell_type": "code",
   "execution_count": null,
   "id": "8d2355b0-076a-4792-a130-84802d5a18ee",
   "metadata": {},
   "outputs": [],
   "source": [
    "# Indexing in 2d\n",
    "\n",
    "arr = torch.rand(2,2)\n",
    "print(arr)\n",
    "print(arr[0][0])\n",
    "print(arr[0][1])\n",
    "print(arr[1][0])\n",
    "print(arr[0][1])"
   ]
  },
  {
   "cell_type": "code",
   "execution_count": null,
   "id": "d70c3808-caa9-450d-8178-36740521cd98",
   "metadata": {},
   "outputs": [],
   "source": [
    "# Indexing in 3d\n",
    "# 3d = [batch, row, columns]\n",
    "\n",
    "arr = torch.rand(2,2,2)\n",
    "print(arr)\n",
    "print(arr[0][0][0])\n",
    "print(arr[1][0][0])\n",
    "print(arr[0][:][:])\n",
    "print()\n",
    "print(arr[1][:][:])"
   ]
  },
  {
   "cell_type": "markdown",
   "id": "69861bd6-ef1d-4546-81a2-6f0feece8098",
   "metadata": {},
   "source": [
    "<font size=\"4\" color='yellow'>Tensor to Numpy</font>"
   ]
  },
  {
   "cell_type": "code",
   "execution_count": null,
   "id": "b23a3648-8b13-4ea0-908b-0131c96477e4",
   "metadata": {},
   "outputs": [],
   "source": [
    "tensors = torch.rand([2,2])"
   ]
  },
  {
   "cell_type": "code",
   "execution_count": null,
   "id": "d32af503-d3cc-4b15-8eae-b459db63a68f",
   "metadata": {},
   "outputs": [],
   "source": [
    "num_arr = tensors.numpy()"
   ]
  },
  {
   "cell_type": "code",
   "execution_count": null,
   "id": "49d453de-7f46-4ba4-82a1-e3afd7a53ba0",
   "metadata": {},
   "outputs": [],
   "source": [
    "print(num_arr)\n",
    "print(type(num_arr))"
   ]
  },
  {
   "cell_type": "markdown",
   "id": "87f6868d-8701-49a1-b528-6585bcedf848",
   "metadata": {},
   "source": [
    "<font size=\"4\" color='yellow'>Numpy to Tensor</font>"
   ]
  },
  {
   "cell_type": "code",
   "execution_count": null,
   "id": "6ce93c67-a98c-49c5-83ad-01dc9f242cf1",
   "metadata": {},
   "outputs": [],
   "source": [
    "tensors = torch.from_numpy(num_arr)"
   ]
  },
  {
   "cell_type": "code",
   "execution_count": null,
   "id": "7f6214e1-9c64-4b19-937a-14e73967784a",
   "metadata": {},
   "outputs": [],
   "source": [
    "print(tensors)\n",
    "print(type(tensors))"
   ]
  },
  {
   "cell_type": "markdown",
   "id": "31f0b0f0-0de3-4db9-8ec2-292ee29b5b69",
   "metadata": {},
   "source": [
    "<font size=\"4\" color='yellow'>Reproducibility</font>"
   ]
  },
  {
   "cell_type": "code",
   "execution_count": 25,
   "id": "45cfc781-c7d9-4641-8fda-2c72074b8ffd",
   "metadata": {},
   "outputs": [
    {
     "name": "stdout",
     "output_type": "stream",
     "text": [
      "tensor([[0.5345, 0.7108],\n",
      "        [0.8685, 0.7311]])\n",
      "tensor([[0.2158, 0.7376],\n",
      "        [0.8491, 0.1833]])\n",
      "tensor([[False, False],\n",
      "        [False, False]])\n"
     ]
    }
   ],
   "source": [
    "# It will give different result\n",
    "\n",
    "tensor1 = torch.rand(2,2)\n",
    "tensor2 = torch.rand(2,2)\n",
    "\n",
    "print(tensor1)\n",
    "print(tensor2)\n",
    "print(tensor1 == tensor2)"
   ]
  },
  {
   "cell_type": "code",
   "execution_count": 27,
   "id": "7522d80a-3b1a-49e3-8dd2-b0b7f829d350",
   "metadata": {},
   "outputs": [
    {
     "name": "stdout",
     "output_type": "stream",
     "text": [
      "tensor([[0.8823, 0.9150],\n",
      "        [0.3829, 0.9593]])\n",
      "tensor([[0.8823, 0.9150],\n",
      "        [0.3829, 0.9593]])\n",
      "tensor([[True, True],\n",
      "        [True, True]])\n"
     ]
    }
   ],
   "source": [
    "# It will give same result\n",
    "\n",
    "torch.manual_seed(42)\n",
    "tensor1 = torch.rand(2,2)\n",
    "\n",
    "torch.manual_seed(42)\n",
    "tensor2 = torch.rand(2,2)\n",
    "\n",
    "print(tensor1)\n",
    "print(tensor2)\n",
    "print(tensor1 == tensor2)"
   ]
  }
 ],
 "metadata": {
  "kernelspec": {
   "display_name": "Python 3 (ipykernel)",
   "language": "python",
   "name": "python3"
  },
  "language_info": {
   "codemirror_mode": {
    "name": "ipython",
    "version": 3
   },
   "file_extension": ".py",
   "mimetype": "text/x-python",
   "name": "python",
   "nbconvert_exporter": "python",
   "pygments_lexer": "ipython3",
   "version": "3.13.1"
  }
 },
 "nbformat": 4,
 "nbformat_minor": 5
}
