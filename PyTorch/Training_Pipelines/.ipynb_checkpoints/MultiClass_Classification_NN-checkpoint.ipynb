{
 "cells": [
  {
   "cell_type": "code",
   "execution_count": null,
   "id": "e8c220f7-257e-41d4-8770-8eb3ac1b27c4",
   "metadata": {},
   "outputs": [],
   "source": [
    "import pandas as pd\n",
    "import numpy as np\n",
    "import torch\n",
    "import torch.nn as nn\n",
    "from sklearn.model_selection import train_test_split\n",
    "from sklearn.datasets import make_blobs\n",
    "import matplotlib.pyplot as plt\n",
    "import requests\n",
    "from pathlib import Path"
   ]
  },
  {
   "cell_type": "code",
   "execution_count": null,
   "id": "786e8ffe-f8f9-432c-beda-de74acd53320",
   "metadata": {},
   "outputs": [],
   "source": [
    "NUM_FEATURES = 2\n",
    "NUM_CLASSES = 4\n",
    "\n",
    "X, y = make_blobs(\n",
    "    n_samples=1000,\n",
    "    n_features=NUM_FEATURES,\n",
    "    centers=NUM_CLASSES,\n",
    "    cluster_std=1.5,\n",
    "    random_state=42\n",
    ")"
   ]
  },
  {
   "cell_type": "code",
   "execution_count": null,
   "id": "c7fb1cbb-8d90-48ae-9565-b5127c9f5d4a",
   "metadata": {},
   "outputs": [],
   "source": [
    "type(X), type(y)"
   ]
  },
  {
   "cell_type": "code",
   "execution_count": null,
   "id": "95af701e-5fba-4e89-9235-be7f22c1a1c3",
   "metadata": {},
   "outputs": [],
   "source": [
    "# Convert Numpy Array into Tensors\n",
    "X = torch.from_numpy(X).type(torch.float)\n",
    "y = torch.from_numpy(y).type(torch.long)"
   ]
  },
  {
   "cell_type": "code",
   "execution_count": null,
   "id": "89b71902-32fd-451f-94dc-41d4729721d5",
   "metadata": {},
   "outputs": [],
   "source": [
    "type(X), type(y)"
   ]
  },
  {
   "cell_type": "code",
   "execution_count": null,
   "id": "88259af9-7376-4d1b-8fbc-92c0124a097f",
   "metadata": {},
   "outputs": [],
   "source": [
    "# Splitting the Data\n",
    "X_train, X_test, y_train, y_test = train_test_split(X, y, test_size=0.2, random_state=42)"
   ]
  },
  {
   "cell_type": "code",
   "execution_count": null,
   "id": "165bd0bb-4466-42d5-a395-15b0bbe2eef9",
   "metadata": {},
   "outputs": [],
   "source": [
    "print(f\"Length of X_train is {len(X_train)}\")\n",
    "print(f\"Length of X_test is {len(X_test)}\")\n",
    "print(f\"Length of y_train is {len(y_train)}\")\n",
    "print(f\"Length of y_test is {len(y_test)}\")"
   ]
  },
  {
   "cell_type": "code",
   "execution_count": null,
   "id": "dedcd6f4-941a-4628-9c30-0f24cce849ff",
   "metadata": {},
   "outputs": [],
   "source": [
    "# Visualization\n",
    "plt.figure(figsize=(10,6))\n",
    "plt.scatter(X[:,0], X[:,1], c=y, cmap=plt.cm.RdYlBu)\n",
    "plt.show()"
   ]
  },
  {
   "cell_type": "code",
   "execution_count": null,
   "id": "f1c170c1-a30b-4802-8cb9-865ee8c2dae8",
   "metadata": {},
   "outputs": [],
   "source": [
    "# Create a Model\n",
    "class BlobModel(nn.Module):\n",
    "    def __init__(self):\n",
    "        super().__init__()\n",
    "        self.network = nn.Sequential(\n",
    "            nn.Linear(X_train.shape[1], 8),\n",
    "            nn.ReLU(),\n",
    "            nn.Linear(8, 8),\n",
    "            nn.ReLU(),\n",
    "            nn.Linear(8, 4)\n",
    "        )\n",
    "\n",
    "    def forward(self, x):\n",
    "        return self.network(x)\n",
    "\n",
    "model = BlobModel()\n",
    "model"
   ]
  },
  {
   "cell_type": "code",
   "execution_count": null,
   "id": "5972a144-cef7-44a0-b954-b12bf0e1b39d",
   "metadata": {},
   "outputs": [],
   "source": [
    "# Important Parameters\n",
    "epochs = 100\n",
    "learning_rate = 0.1"
   ]
  },
  {
   "cell_type": "code",
   "execution_count": null,
   "id": "0026a766-e4f6-4f59-b0a5-0d2e6ab12049",
   "metadata": {},
   "outputs": [],
   "source": [
    "# Loss Functions and Optimizers\n",
    "loss_function = nn.CrossEntropyLoss()\n",
    "optimizer = torch.optim.SGD(model.parameters(), lr=learning_rate)"
   ]
  },
  {
   "cell_type": "code",
   "execution_count": null,
   "id": "9bf6e725-8402-489a-8c25-3570824c575f",
   "metadata": {},
   "outputs": [],
   "source": [
    "# Calculate Accuracy\n",
    "def accuracy_fn(y_true, y_pred):\n",
    "    correct = torch.eq(y_true, y_pred).sum().item()\n",
    "    acc = (correct/len(y_pred))*100\n",
    "    return acc"
   ]
  },
  {
   "cell_type": "code",
   "execution_count": null,
   "id": "7384e799-1e78-4ab5-aa3d-d9d322a8d4fd",
   "metadata": {},
   "outputs": [],
   "source": [
    "optimizer"
   ]
  },
  {
   "cell_type": "code",
   "execution_count": null,
   "id": "4c85183f-1ce7-4d88-8c70-4592672ce8c4",
   "metadata": {},
   "outputs": [],
   "source": [
    "torch.manual_seed(42)\n",
    "\n",
    "for epoch in range(epochs):\n",
    "    model.train()\n",
    "\n",
    "    #Training Loop\n",
    "    #Forward Pass\n",
    "    y_logits = model(X_train)\n",
    "    y_pred = torch.softmax(y_logits, dim=1).argmax(dim=1)\n",
    "\n",
    "    # Loss and Accuracy Function\n",
    "    loss = loss_function(y_logits, y_train)\n",
    "    acc = accuracy_fn(y_train, y_pred)\n",
    "    \n",
    "    # Set Gradients to Zero\n",
    "    optimizer.zero_grad()\n",
    "\n",
    "    # Backward Pass\n",
    "    loss.backward()\n",
    "\n",
    "    # Update the Parameters\n",
    "    optimizer.step()\n",
    "\n",
    "    # Testing Loop\n",
    "    model.eval()\n",
    "\n",
    "    with torch.inference_mode():\n",
    "        test_logits = model(X_test)\n",
    "        test_pred = torch.softmax(test_logits, dim=1).argmax(dim=1)\n",
    "\n",
    "        test_loss = loss_function(test_logits, y_test)\n",
    "        test_acc = accuracy_fn(y_test, test_pred)\n",
    "\n",
    "    if epochs%10 == 0:\n",
    "        print(f\"Epoch: {epoch} | Training Loss: {loss} | Training Accuracy: {acc} | Test Loss: {test_loss} | Test Accuracy: {test_acc}\")"
   ]
  }
 ],
 "metadata": {
  "kernelspec": {
   "display_name": "Python 3 (ipykernel)",
   "language": "python",
   "name": "python3"
  },
  "language_info": {
   "codemirror_mode": {
    "name": "ipython",
    "version": 3
   },
   "file_extension": ".py",
   "mimetype": "text/x-python",
   "name": "python",
   "nbconvert_exporter": "python",
   "pygments_lexer": "ipython3",
   "version": "3.13.1"
  }
 },
 "nbformat": 4,
 "nbformat_minor": 5
}
