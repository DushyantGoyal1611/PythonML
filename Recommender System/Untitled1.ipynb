{
 "cells": [
  {
   "cell_type": "code",
   "execution_count": 1,
   "id": "42783796-514f-4f40-817f-e94d7d0204a8",
   "metadata": {},
   "outputs": [],
   "source": [
    "import pandas as pd\n",
    "import numpy as np\n",
    "import matplotlib.pyplot as plt\n",
    "\n",
    "# Torch \n",
    "import torch\n",
    "import torch.nn as nn\n",
    "from torchmetrics import Accuracy\n",
    "from torch.utils.data import Dataset, DataLoader\n",
    "\n",
    "# Scikit-Learn\n",
    "# Data Encoding and Scaling\n",
    "from sklearn.compose import ColumnTransformer\n",
    "from sklearn.preprocessing import LabelEncoder, OrdinalEncoder, OneHotEncoder, StandardScaler\n",
    "from sklearn.model_selection import train_test_split\n",
    "from sklearn.decomposition import PCA\n",
    "\n",
    "# Natural Language Processing(NLP)\n",
    "import nltk\n",
    "from nltk.tokenize import word_tokenize\n",
    "from nltk.corpus import stopwords\n",
    "from nltk.stem import WordNetLemmatizer\n",
    "# Word Embedding\n",
    "import gensim\n",
    "from gensim.models import Word2Vec"
   ]
  },
  {
   "cell_type": "code",
   "execution_count": 2,
   "id": "64f0a4c3-d14a-49a5-b524-888c93eb7d02",
   "metadata": {},
   "outputs": [
    {
     "data": {
      "text/plain": [
       "'cpu'"
      ]
     },
     "execution_count": 2,
     "metadata": {},
     "output_type": "execute_result"
    }
   ],
   "source": [
    "device = 'cuda' if torch.cuda.is_available() else 'cpu'\n",
    "device"
   ]
  },
  {
   "cell_type": "code",
   "execution_count": 3,
   "id": "a364375c-c4cd-4459-bd7f-3633a3230aa9",
   "metadata": {},
   "outputs": [],
   "source": [
    "df = pd.read_csv('IntervieweeDataset.csv')"
   ]
  },
  {
   "cell_type": "code",
   "execution_count": 4,
   "id": "7df9d892-ece3-438c-b789-7da84166523c",
   "metadata": {},
   "outputs": [
    {
     "data": {
      "text/plain": [
       "(21256, 52)"
      ]
     },
     "execution_count": 4,
     "metadata": {},
     "output_type": "execute_result"
    }
   ],
   "source": [
    "df.shape"
   ]
  },
  {
   "cell_type": "code",
   "execution_count": 5,
   "id": "d68f499e-264e-4eb3-8d38-9a33b2b3f28d",
   "metadata": {},
   "outputs": [
    {
     "data": {
      "text/plain": [
       "Index(['Name', 'Age', 'Gender', 'Type of Graduation/Post Graduation',\n",
       "       'Marital status', 'Mode of interview given by candidate?',\n",
       "       'Pre Interview Check', 'Fluency in English based on introduction',\n",
       "       'Confidence based on Introduction (English)',\n",
       "       'Confidence based on the topic given  ',\n",
       "       'Confidence Based on the PPT Question',\n",
       "       'Confidence based on the sales scenario',\n",
       "       'Structured Thinking (In regional only)',\n",
       "       'Structured Thinking Based on the PPT Question',\n",
       "       'Structured Thinking( Call pitch)',\n",
       "       'Regional fluency based on the topic given  ',\n",
       "       'Regional fluency Based on the PPT Question',\n",
       "       'Regional fluency based on the  sales scenario',\n",
       "       'Does the candidate has mother tongue influence while speaking english.',\n",
       "       'Has acquaintance in Company and has spoken to him/her before applying?',\n",
       "       'Candidate Status', 'Last Fixed CTC (lakhs) ', 'Currently Employed',\n",
       "       'Experienced candidate - (Experience in months)',\n",
       "       'Experienced Candidate (Nature of work)',\n",
       "       'What was the type of Role?\\t',\n",
       "       'How many slides candidate have submitted in PPT?',\n",
       "       'Call-pitch Elements used during the call Sales Scenario',\n",
       "       'But, my child's exam are going on now, so we will keep the counselling session after the exams get over.(Time: Favourable pitch: Counsellor hype)',\n",
       "       'Let me discuss it with my child',\n",
       "       'Sir being in education industry I know this is a marketing gimmick and at the end of the day you'll be selling the app.',\n",
       "       'Role acceptance', 'Interview Verdict',\n",
       "       'Candidate is willing to relocate',\n",
       "       'Role Location to be given to the candidate', 'Comments',\n",
       "       'RedFlags Comments in Interview',\n",
       "       'Confidence based on Introduction (English).1',\n",
       "       'Confidence based on the topic given  .1',\n",
       "       'Confidence Based on the PPT Question.1',\n",
       "       'Confidence based on the sales scenario.1',\n",
       "       'Structured Thinking (In regional only).1',\n",
       "       'Structured Thinking Based on the PPT Question.1',\n",
       "       'Structured Thinking( Call pitch).1',\n",
       "       'Regional fluency based on the topic given  .1',\n",
       "       'Regional fluency Based on the PPT Question.1',\n",
       "       'Regional fluency based on the  sales scenario.1', 'Confidence Score',\n",
       "       'Structured Thinking Score', 'Regional Fluency Score', 'Total Score',\n",
       "       'Whether joined the company or not\\n'],\n",
       "      dtype='object')"
      ]
     },
     "execution_count": 5,
     "metadata": {},
     "output_type": "execute_result"
    }
   ],
   "source": [
    "df.columns"
   ]
  },
  {
   "cell_type": "markdown",
   "id": "a3147de9-c801-4e35-b122-dbf61c3223af",
   "metadata": {},
   "source": [
    "## Dropped Columns"
   ]
  },
  {
   "cell_type": "code",
   "execution_count": 7,
   "id": "58b1334b-7ad7-4a61-8bd6-f7eb336c1ae1",
   "metadata": {},
   "outputs": [],
   "source": [
    "df.dropna(inplace=True)"
   ]
  },
  {
   "cell_type": "code",
   "execution_count": 8,
   "id": "a89c072c-47d8-4c6f-9324-0c8adf1ccfef",
   "metadata": {},
   "outputs": [],
   "source": [
    "df.drop(df.iloc[:,8:18], axis=1, inplace=True)"
   ]
  },
  {
   "cell_type": "code",
   "execution_count": 9,
   "id": "05ca3362-656a-45a3-9fa3-b49ec0644d2f",
   "metadata": {},
   "outputs": [],
   "source": [
    "df.drop(['Does the candidate has mother tongue influence while speaking english.',\n",
    "         'How many slides candidate have submitted in PPT?',\n",
    "        'Comments',\n",
    "        'RedFlags Comments in Interview',\n",
    "        'Call-pitch Elements used during the call Sales Scenario',\n",
    "        \"But, my child's exam are going on now, so we will keep the counselling session after the exams get over.(Time: Favourable pitch: Counsellor hype)\",\n",
    "        'Let me discuss it with my child',\n",
    "        \"Sir being in education industry I know this is a marketing gimmick and at the end of the day you'll be selling the app.\"], axis=1, inplace=True)"
   ]
  },
  {
   "cell_type": "markdown",
   "id": "8a4d4529-43e2-48c6-9fa9-af5533923677",
   "metadata": {},
   "source": [
    "## Renamed Columns"
   ]
  },
  {
   "cell_type": "code",
   "execution_count": 11,
   "id": "937af016-68c7-42f1-8076-67bd03f61e16",
   "metadata": {},
   "outputs": [],
   "source": [
    "df.rename(columns={'Whether joined the company or not\\n': 'Whether joined the company or not', 'What was the type of Role?\\t': 'What was the type of Role?'}, inplace=True)"
   ]
  },
  {
   "cell_type": "code",
   "execution_count": 12,
   "id": "dd9f86ba-01d8-4d0c-8bd2-1c632277efef",
   "metadata": {},
   "outputs": [],
   "source": [
    "df.rename(columns={\"But, my child's exam are going on now, so we will keep the counselling session after the exams get over.(Time: Favourable pitch: Counsellor hype)\":\"But, my child's exam are going on now, so we will keep the counselling session after the exams get over\"}, inplace=True)"
   ]
  },
  {
   "cell_type": "code",
   "execution_count": 13,
   "id": "238610c5-90b5-45d6-b860-766d22055fbb",
   "metadata": {},
   "outputs": [],
   "source": [
    "df.rename(columns = {'Has acquaintance in Company and has spoken to him/her before applying?' : 'Acquaintance and Referral'}, inplace=True)"
   ]
  },
  {
   "cell_type": "code",
   "execution_count": 14,
   "id": "7aadd81f-55bb-40f7-873a-c04071a6c169",
   "metadata": {},
   "outputs": [],
   "source": [
    "df.rename(columns = {'Type of Graduation/Post Graduation' : 'Education'}, inplace=True)"
   ]
  },
  {
   "cell_type": "code",
   "execution_count": 15,
   "id": "07f003a2-8973-4dae-b1c0-1c54c4ab991a",
   "metadata": {},
   "outputs": [],
   "source": [
    "df.rename(columns= {'Mode of interview given by candidate?' : 'Mode of Interview'}, inplace=True)"
   ]
  },
  {
   "cell_type": "code",
   "execution_count": 16,
   "id": "d456f566-3fc6-4251-afb5-10fa7b900c9c",
   "metadata": {},
   "outputs": [],
   "source": [
    "df['id'] = df.index"
   ]
  },
  {
   "cell_type": "code",
   "execution_count": 17,
   "id": "051c9335-67a0-4a5c-816a-2bfa14a45c5c",
   "metadata": {},
   "outputs": [],
   "source": [
    "df['Whether joined the company or not'] = df['Whether joined the company or not'].replace({'Joined':'Yes', 'Not Joined':'No'})\n",
    "df['Whether joined the company or not'] = df['Whether joined the company or not'].map({'Yes': 1, 'No': 0}).astype(int)"
   ]
  },
  {
   "cell_type": "code",
   "execution_count": 18,
   "id": "294496fa-f504-4020-954f-ea1ba7356043",
   "metadata": {},
   "outputs": [
    {
     "data": {
      "text/plain": [
       "Index(['Name', 'Age', 'Gender', 'Education', 'Marital status',\n",
       "       'Mode of Interview', 'Pre Interview Check',\n",
       "       'Fluency in English based on introduction', 'Acquaintance and Referral',\n",
       "       'Candidate Status', 'Last Fixed CTC (lakhs) ', 'Currently Employed',\n",
       "       'Experienced candidate - (Experience in months)',\n",
       "       'Experienced Candidate (Nature of work)', 'What was the type of Role?',\n",
       "       'Call-pitch Elements used during the call Sales Scenario',\n",
       "       'But, my child's exam are going on now, so we will keep the counselling session after the exams get over',\n",
       "       'Let me discuss it with my child',\n",
       "       'Sir being in education industry I know this is a marketing gimmick and at the end of the day you'll be selling the app.',\n",
       "       'Role acceptance', 'Interview Verdict',\n",
       "       'Candidate is willing to relocate',\n",
       "       'Role Location to be given to the candidate', 'Comments',\n",
       "       'RedFlags Comments in Interview',\n",
       "       'Confidence based on Introduction (English).1',\n",
       "       'Confidence based on the topic given  .1',\n",
       "       'Confidence Based on the PPT Question.1',\n",
       "       'Confidence based on the sales scenario.1',\n",
       "       'Structured Thinking (In regional only).1',\n",
       "       'Structured Thinking Based on the PPT Question.1',\n",
       "       'Structured Thinking( Call pitch).1',\n",
       "       'Regional fluency based on the topic given  .1',\n",
       "       'Regional fluency Based on the PPT Question.1',\n",
       "       'Regional fluency based on the  sales scenario.1', 'Confidence Score',\n",
       "       'Structured Thinking Score', 'Regional Fluency Score', 'Total Score',\n",
       "       'Whether joined the company or not', 'id'],\n",
       "      dtype='object')"
      ]
     },
     "execution_count": 18,
     "metadata": {},
     "output_type": "execute_result"
    }
   ],
   "source": [
    "df.columns"
   ]
  },
  {
   "cell_type": "code",
   "execution_count": 19,
   "id": "3805f3d8-f2f5-441d-88a8-a50534bfe091",
   "metadata": {},
   "outputs": [],
   "source": [
    "education_mapping = {\n",
    "    'Engineering & Technology': [\n",
    "        'B.E / B-Tech', 'M.E / M-Tech', 'B-Tech - INTEGRATED', 'BE - CSe and CDAC',\n",
    "        'B.ENG', 'Bachelors of planning', 'B.Arch', 'Bachelor of Architecture', 'B.ARC'\n",
    "    ],\n",
    "    'Science & Medical': [\n",
    "        'BSc or MSc', 'BSC', 'MS', 'Masters in biotechnology', 'PG - msc biochemistry',\n",
    "        'Bio science', 'masters in biology', 'biotech', 'Masters of Statistics',\n",
    "        'Bachelors in biotechnology', 'Ph D genetics', 'MBBS', 'Bachelor in medical lab',\n",
    "        'B.Physiotherapist', 'B.pharma', 'M.pharma', 'B -pharm', 'B.PHARMA',\n",
    "        'PHARMA D', 'pharm D', 'M.Pharma', 'Bachelors in dental',\n",
    "        'Masters in Clinical Psychology', 'B.voc in applied clinical psychology'\n",
    "    ],\n",
    "    'Commerce & Business': [\n",
    "        'B.com', 'BCOM COMPUTERS', 'Bcom computers', 'bcom -pa', 'M.com',\n",
    "        'MBA', 'MBA- 2019', 'MBA agro business', 'PGDM', 'pgdm', 'PGDM 2022',\n",
    "        'PGDM marketing', 'PG diploma in banking', 'PG DIPLOMA IN BANKING',\n",
    "        'Masters in banking and insurance', 'BBA or BBM', 'BBM',\n",
    "        'Bachelor of Business Economics (B.B.E.)', 'PGPM', 'PGPM in marketing',\n",
    "        'PGPCEM', 'PGDBS', 'B.Voc - Banking & Finance'\n",
    "    ],\n",
    "    'Humanities & Social Sciences': [\n",
    "        'BA/MA', 'LLB', 'LLM', 'MPhil', 'M.phil', 'Mphil 2020', 'PHD', 'doctorate',\n",
    "        'Masters of Social Work (MSW)', 'msw', 'msw-hr-2014', 'MSW HRM',\n",
    "        'Public administration', 'Masters in comparative religion', 'Masters in archeology',\n",
    "        'English Honors', 'MASTERS IN SOCIAL SCIENCE', 'Bengali Honors'\n",
    "    ],\n",
    "    'Mass Communication & Media': [\n",
    "        'B.comm (Bachelor of mass comm.)', 'Bachelor mass communication',\n",
    "        'mass media', 'masss media', 'mass comm', 'Mass comm', 'BMM ( MAss Media)',\n",
    "        'BJMC', 'MJMC 2020', 'Masters in mass communication', 'MASTERS IN MASS COM',\n",
    "        'Masters in Convergent Journalism', 'master maas comm', 'master in electronic media'\n",
    "    ],\n",
    "    'Vocational & Professional Courses': [\n",
    "        'B.ed (Teaching)', 'B.ed', 'B.ED', 'M.ed', 'D.el.ed', 'd el. ed', 'Dled',\n",
    "        'Bachelors in fisheries science', 'Bachelors in tourism', 'Bachelor of Tourism',\n",
    "        'travel & toursim', 'Bachelors in design', 'B.Design', 'Bachelors in hospitality',\n",
    "        \"Bachelor's in Hospitality\", 'Hotel Management', 'Masters in fashion designing',\n",
    "        'Masters in hospitality', 'Masters in design', 'food technology',\n",
    "        'BVoc', 'B.VOC', 'B.vocational', 'B.voc - IT', 'B.voc networking and mobile applications',\n",
    "        'bachelors of vocational - automobile', 'Bpharma', 'Mpharma', 'Diploma', 'Diploma in engr',\n",
    "        'PGDCA', 'PGD', 'pgdca', 'PGD (Bachelor of Library Science)', 'BMIT',\n",
    "        'PGDF', 'PGDA', 'MFC', 'MLIS', 'BMS', 'BMS marketing', 'bms', 'bms-2020',\n",
    "        'Bachelor in IT', 'BCA/MCA', 'CSE', 'PDGM Advance Computing'\n",
    "    ]\n",
    "}\n",
    "\n",
    "# Function to map education to categories\n",
    "def categorize_education(education):\n",
    "    for category, degrees in education_mapping.items():\n",
    "        if education in degrees:\n",
    "            return category\n",
    "    return 'Other'  # Default category if not found"
   ]
  },
  {
   "cell_type": "markdown",
   "id": "f0f230fa-fcca-45fb-8b0f-7f3ca3eef6a6",
   "metadata": {},
   "source": [
    "## Numerical Dataframe"
   ]
  },
  {
   "cell_type": "code",
   "execution_count": 21,
   "id": "a0a352bd-be5a-45a4-a305-df6147e829e2",
   "metadata": {},
   "outputs": [],
   "source": [
    "numerical_df = df.copy()\n",
    "numerical_df.drop(['id',\n",
    "                   'Name',\n",
    "                   'Comments',\n",
    "                   'RedFlags Comments in Interview',\n",
    "        'Whether joined the company or not',\n",
    "        'Experienced Candidate (Nature of work)',\n",
    "        'Call-pitch Elements used during the call Sales Scenario',\n",
    "        \"But, my child's exam are going on now, so we will keep the counselling session after the exams get over\",\n",
    "        'Let me discuss it with my child',\n",
    "        \"Sir being in education industry I know this is a marketing gimmick and at the end of the day you'll be selling the app.\"], axis=1, inplace=True)\n",
    "\n",
    "df = df[['id',\n",
    "         'Name',\n",
    "         'Comments',\n",
    "         'RedFlags Comments in Interview',\n",
    "         'Whether joined the company or not',\n",
    "         'Experienced Candidate (Nature of work)',\n",
    "         'Call-pitch Elements used during the call Sales Scenario',\n",
    "         \"But, my child's exam are going on now, so we will keep the counselling session after the exams get over\",\n",
    "         'Let me discuss it with my child',\n",
    "         \"Sir being in education industry I know this is a marketing gimmick and at the end of the day you'll be selling the app.\"]]"
   ]
  },
  {
   "cell_type": "code",
   "execution_count": 22,
   "id": "7f54a997-51b9-4d48-95af-9dfeb85a0984",
   "metadata": {},
   "outputs": [],
   "source": [
    "numerical_df['Age'] = numerical_df['Age'].astype(str).str.replace('+', '', regex=False).astype(int)"
   ]
  },
  {
   "cell_type": "code",
   "execution_count": 23,
   "id": "9c8334a2-57f5-4eab-ae2f-b588a3153bf1",
   "metadata": {},
   "outputs": [],
   "source": [
    "numerical_df['Education'] = numerical_df['Education'].apply(categorize_education)"
   ]
  },
  {
   "cell_type": "code",
   "execution_count": 24,
   "id": "e14c7181-f1b1-4887-8a6f-516b83970881",
   "metadata": {},
   "outputs": [
    {
     "data": {
      "text/plain": [
       "array(['Other', 'Science & Medical', 'Engineering & Technology',\n",
       "       'Humanities & Social Sciences', 'Commerce & Business',\n",
       "       'Vocational & Professional Courses', 'Mass Communication & Media'],\n",
       "      dtype=object)"
      ]
     },
     "execution_count": 24,
     "metadata": {},
     "output_type": "execute_result"
    }
   ],
   "source": [
    "numerical_df['Education'].unique()"
   ]
  },
  {
   "cell_type": "code",
   "execution_count": 25,
   "id": "b3c8466c-05dc-4bfc-9016-c0832aac2171",
   "metadata": {},
   "outputs": [
    {
     "data": {
      "image/png": "[encoded data removed]",
      "text/plain": [
       "<Figure size 1000x500 with 1 Axes>"
      ]
     },
     "metadata": {},
     "output_type": "display_data"
    }
   ],
   "source": [
    "education_counts = numerical_df['Education'].value_counts()\n",
    "plt.figure(figsize=(10, 5))\n",
    "plt.bar(education_counts.index, education_counts.values)\n",
    "plt.xticks(rotation=90)  \n",
    "plt.xlabel(\"Education Categories\")\n",
    "plt.ylabel(\"Count\")\n",
    "plt.title(\"Distribution of Education Categories\")\n",
    "plt.show()"
   ]
  },
  {
   "cell_type": "code",
   "execution_count": 26,
   "id": "7c7448a0-9fbf-492d-b1e4-2ee49cf8de9d",
   "metadata": {},
   "outputs": [],
   "source": [
    "bins = [18, 22, 25, 28, 32, 35, float('inf')]\n",
    "labels = ['18-22', '23-25', '26-28', '29-32', '33-35', '35+']"
   ]
  },
  {
   "cell_type": "code",
   "execution_count": 27,
   "id": "528683e5-7944-4751-86c3-4cb5a341246b",
   "metadata": {},
   "outputs": [],
   "source": [
    "numerical_df['Age'] = pd.cut(numerical_df['Age'], bins=bins, labels=labels, right=True)"
   ]
  },
  {
   "cell_type": "code",
   "execution_count": 28,
   "id": "d93c0eee-d952-4b8e-a2d5-4db8be8c1c57",
   "metadata": {},
   "outputs": [
    {
     "data": {
      "text/plain": [
       "['23-25', '29-32', '26-28', '18-22']\n",
       "Categories (6, object): ['18-22' < '23-25' < '26-28' < '29-32' < '33-35' < '35+']"
      ]
     },
     "execution_count": 28,
     "metadata": {},
     "output_type": "execute_result"
    }
   ],
   "source": [
    "numerical_df['Age'].unique()"
   ]
  },
  {
   "cell_type": "code",
   "execution_count": 29,
   "id": "1741d5ce-bae5-416f-ade0-a154ddcf0c04",
   "metadata": {},
   "outputs": [],
   "source": [
    "numerical_df['Role Location to be given to the candidate'] = numerical_df['Role Location to be given to the candidate'].replace({'Inbound Bangalore':'Bangalore ', 'Bangalore ':'Bangalore'})"
   ]
  },
  {
   "cell_type": "code",
   "execution_count": 30,
   "id": "e45c4ac5-f4c5-48db-9644-04e68f84bcef",
   "metadata": {},
   "outputs": [
    {
     "data": {
      "text/plain": [
       "array(['Bangalore', 'Delhi ', 'Chennai ', 'Pune ', 'Kolkata ', 'Indore ',\n",
       "       'Hyderabad ', 'Bangalore ', 'Coimbator ', 'Shimoga ', 'Shivamoga ',\n",
       "       'Ranchi ', 'Karnal ', 'Bhagalpur ', 'Coimbatore ', 'Muzaffarpur ',\n",
       "       'Nagpur ', 'Bareilly ', 'Mangalore ', 'Surat ', 'Bengaluru ',\n",
       "       'Kanpur ', 'Dhanbad ', 'Bellary ', 'Kollam ', 'Gaya ',\n",
       "       'Ghaziabad ', 'Kochi ', 'Thrissur ', 'Patna ', 'Agra ',\n",
       "       'Ahmedabad ', 'Noida ', 'Gurgaon ', 'Anand ', 'Cuttack ',\n",
       "       'Saharanpur ', 'Bikaner ', 'Salem ', 'Jaipur ', 'Bhubaneswar ',\n",
       "       'Udaipur ', 'Lucknow ', 'Rewa ', 'Gwalior ', 'Kurnool ', 'Bhopal ',\n",
       "       'Jamnagar ', 'Aurangabad ', 'Sikar ', 'Mumbai ', 'Ludhiana ',\n",
       "       'Aligarh ', 'Mathura ', 'Jabalpur ', 'Calicut ', 'Vizag ',\n",
       "       'Dharwad ', 'Ujjain ', 'Meerut ', 'Hubli ', 'Hassan ', 'Gulbarga ',\n",
       "       'Kozhikode ', 'Tirupati ', 'Darbhanga ', 'Ahmednagar ', 'Thane ',\n",
       "       'Nashik ', 'Nanded ', 'Jodhpur ', 'Raipur ', 'Amritsar ',\n",
       "       'Bardhaman ', 'Bokaro ', 'Visakhapatnam ', 'Sirsa ', 'Ambala ',\n",
       "       'Sonipat ', 'Bokaro Steel City ', 'Chandigarh ', 'Bharatpur ',\n",
       "       'Sri Ganganagar ', 'Malappuram ', 'Nellore ', 'Vijayawada ',\n",
       "       'Bhavnagar ', 'Guntur ', 'Kannur ', 'vadodara ', 'Dibrugarh ',\n",
       "       'Dehradun ', 'Kottayam ', 'Durg ', 'Allahabad ', 'Navi Mumbai ',\n",
       "       'Faizabad ', 'Jamshedpur ', 'Mohali ', 'Barrackpore ', 'Alwar ',\n",
       "       'Roorkee ', 'Amravati ', 'Vapi ', 'Yamuna Nagar ', 'Ajmer ',\n",
       "       'Rajahmundry ', 'Anantapur ', 'Trivandrum ', 'Jagadhiri ',\n",
       "       'Siliguri ', 'Bhilai ', 'Punjab ', 'Rajkot ', 'Palakkad ',\n",
       "       'Kharagpur ', 'Belagavi ', 'Sagar ', 'Shimla ', 'Karimnagar ',\n",
       "       'Hisar ', 'Puducherry ', 'Pondicherry ', 'Erode ', 'Bilaspur ',\n",
       "       'Bhilwara ', 'Kadapa ', 'Udham Singh Nagar ', 'Mysore ',\n",
       "       'Faridabad ', 'Latur ', 'Vijayapura ', 'Asansol ', 'Rudrapur ',\n",
       "       'Davanagere ', 'Jalandhar ', 'Vellore ', 'Panipat ', 'Mandya ',\n",
       "       'Bathinda ', 'Purnia ', 'Mangaluru ', 'Solapur '], dtype=object)"
      ]
     },
     "execution_count": 30,
     "metadata": {},
     "output_type": "execute_result"
    }
   ],
   "source": [
    "numerical_df['Role Location to be given to the candidate'].unique()"
   ]
  },
  {
   "cell_type": "code",
   "execution_count": 31,
   "id": "903e2428-4a9e-4b41-a8b8-3409adf6e7bc",
   "metadata": {},
   "outputs": [
    {
     "name": "stdout",
     "output_type": "stream",
     "text": [
      "<class 'pandas.core.frame.DataFrame'>\n",
      "Index: 18681 entries, 0 to 21255\n",
      "Data columns (total 31 columns):\n",
      " #   Column                                           Non-Null Count  Dtype   \n",
      "---  ------                                           --------------  -----   \n",
      " 0   Age                                              18681 non-null  category\n",
      " 1   Gender                                           18681 non-null  object  \n",
      " 2   Education                                        18681 non-null  object  \n",
      " 3   Marital status                                   18681 non-null  object  \n",
      " 4   Mode of Interview                                18681 non-null  object  \n",
      " 5   Pre Interview Check                              18681 non-null  object  \n",
      " 6   Fluency in English based on introduction         18681 non-null  object  \n",
      " 7   Acquaintance and Referral                        18681 non-null  object  \n",
      " 8   Candidate Status                                 18681 non-null  object  \n",
      " 9   Last Fixed CTC (lakhs)                           18681 non-null  object  \n",
      " 10  Currently Employed                               18681 non-null  object  \n",
      " 11  Experienced candidate - (Experience in months)   18681 non-null  object  \n",
      " 12  What was the type of Role?                       18681 non-null  object  \n",
      " 13  Role acceptance                                  18681 non-null  object  \n",
      " 14  Interview Verdict                                18681 non-null  object  \n",
      " 15  Candidate is willing to relocate                 18681 non-null  object  \n",
      " 16  Role Location to be given to the candidate       18681 non-null  object  \n",
      " 17  Confidence based on Introduction (English).1     18681 non-null  int64   \n",
      " 18  Confidence based on the topic given  .1          18681 non-null  int64   \n",
      " 19  Confidence Based on the PPT Question.1           18681 non-null  int64   \n",
      " 20  Confidence based on the sales scenario.1         18681 non-null  int64   \n",
      " 21  Structured Thinking (In regional only).1         18681 non-null  int64   \n",
      " 22  Structured Thinking Based on the PPT Question.1  18681 non-null  int64   \n",
      " 23  Structured Thinking( Call pitch).1               18681 non-null  int64   \n",
      " 24  Regional fluency based on the topic given  .1    18681 non-null  int64   \n",
      " 25  Regional fluency Based on the PPT Question.1     18681 non-null  float64 \n",
      " 26  Regional fluency based on the  sales scenario.1  18681 non-null  float64 \n",
      " 27  Confidence Score                                 18681 non-null  int64   \n",
      " 28  Structured Thinking Score                        18681 non-null  int64   \n",
      " 29  Regional Fluency Score                           18681 non-null  int64   \n",
      " 30  Total Score                                      18681 non-null  int64   \n",
      "dtypes: category(1), float64(2), int64(12), object(16)\n",
      "memory usage: 4.4+ MB\n"
     ]
    }
   ],
   "source": [
    "numerical_df.info()"
   ]
  },
  {
   "cell_type": "code",
   "execution_count": 32,
   "id": "2a40cdd1-06b2-4000-a9c5-682febe886da",
   "metadata": {},
   "outputs": [
    {
     "data": {
      "text/plain": [
       "array(['Reject', 'Premium Select', 'Borderline Select', 'Select',\n",
       "       'Borderline Reject'], dtype=object)"
      ]
     },
     "execution_count": 32,
     "metadata": {},
     "output_type": "execute_result"
    }
   ],
   "source": [
    "numerical_df['Interview Verdict'].unique()"
   ]
  },
  {
   "cell_type": "markdown",
   "id": "5e7752b5-9555-4400-ae57-7231d5c800c6",
   "metadata": {},
   "source": [
    "## Label Encoding"
   ]
  },
  {
   "cell_type": "code",
   "execution_count": 34,
   "id": "90e4bd25-5d59-46df-8584-e9cf4864c1b6",
   "metadata": {},
   "outputs": [],
   "source": [
    "le = LabelEncoder()"
   ]
  },
  {
   "cell_type": "code",
   "execution_count": 35,
   "id": "4d680567-c79e-4d2b-ba3d-010f47eb9f26",
   "metadata": {},
   "outputs": [],
   "source": [
    "numerical_df['Gender'] = le.fit_transform(numerical_df['Gender'])"
   ]
  },
  {
   "cell_type": "code",
   "execution_count": 36,
   "id": "14ff7fb9-11aa-4457-9291-8f2ed2dbf2a7",
   "metadata": {},
   "outputs": [],
   "source": [
    "numerical_df['Marital status'] = le.fit_transform(numerical_df['Marital status'])"
   ]
  },
  {
   "cell_type": "code",
   "execution_count": 37,
   "id": "2c201c6a-8fe3-4055-ae18-c8c7ce98dab0",
   "metadata": {},
   "outputs": [],
   "source": [
    "numerical_df['Mode of Interview'] = le.fit_transform(numerical_df['Mode of Interview'])"
   ]
  },
  {
   "cell_type": "code",
   "execution_count": 38,
   "id": "48cc9b8d-f954-4bd5-9342-42a1dce37260",
   "metadata": {},
   "outputs": [],
   "source": [
    "numerical_df['Pre Interview Check'] = le.fit_transform(numerical_df['Pre Interview Check'])"
   ]
  },
  {
   "cell_type": "code",
   "execution_count": 39,
   "id": "091e0e49-d9eb-4e6a-b60f-ba99fccb7c7d",
   "metadata": {},
   "outputs": [],
   "source": [
    "numerical_df['Acquaintance and Referral'] = le.fit_transform(numerical_df['Acquaintance and Referral'])"
   ]
  },
  {
   "cell_type": "code",
   "execution_count": 40,
   "id": "d7f837e5-6325-48c2-8240-45cc2a0f7041",
   "metadata": {},
   "outputs": [],
   "source": [
    "numerical_df['Currently Employed'] = le.fit_transform(numerical_df['Currently Employed'])"
   ]
  },
  {
   "cell_type": "code",
   "execution_count": 41,
   "id": "4b3f1f4f-ff93-4b38-a232-63a05731462a",
   "metadata": {},
   "outputs": [],
   "source": [
    "numerical_df['Candidate is willing to relocate'] = le.fit_transform(numerical_df['Candidate is willing to relocate'])"
   ]
  },
  {
   "cell_type": "markdown",
   "id": "eb4cb0a8-133b-44ff-a8fe-744a23314e8c",
   "metadata": {},
   "source": [
    "## Ordinal and OneHot Encoding using Column Transformer"
   ]
  },
  {
   "cell_type": "code",
   "execution_count": 43,
   "id": "7f6b3416-04d2-4c2e-8bf0-879fdca3942e",
   "metadata": {},
   "outputs": [],
   "source": [
    "transformer = ColumnTransformer(transformers = [\n",
    "    ('t1', OneHotEncoder(sparse_output=False, drop='first'), ['Fluency in English based on introduction', 'Candidate Status', 'Role Location to be given to the candidate', 'Education', 'What was the type of Role?']),\n",
    "    ('t2', OrdinalEncoder(categories=[['Fresher', '0-1.99', '2-2.99', '3-3.99', '4-4.99', '5-5.99', '6-6.99', '7+']]), ['Last Fixed CTC (lakhs) ']),\n",
    "    ('t3', OrdinalEncoder(categories=[['Fresher(<6 months)', '6-11.99 Months', '12-17.99 Months', '18-23.99 Months', '24-29.99 Months', '30-35.99 Months', '36-47.99 Months', '48+ Months']]), ['Experienced candidate - (Experience in months)']),\n",
    "    ('t4', OrdinalEncoder(categories=[['No', 'Yes : Think and says yes.(Shows some hesitation)', 'Emphatic Yes']]), ['Role acceptance']),\n",
    "    ('t5', OrdinalEncoder(categories=[['Reject', 'Borderline Reject', 'Borderline Select', 'Select', 'Premium Select']]), ['Interview Verdict']),\n",
    "    ('t6', OrdinalEncoder(categories=[['18-22', '23-25', '26-28', '29-32', '33-35', '35+']]), ['Age']),\n",
    "], remainder='passthrough')"
   ]
  },
  {
   "cell_type": "code",
   "execution_count": 44,
   "id": "429f9233-5376-4dd8-9a1f-9295f6023fbd",
   "metadata": {},
   "outputs": [],
   "source": [
    "numerical_df = transformer.fit_transform(numerical_df)\n",
    "features_names = transformer.get_feature_names_out()\n",
    "numerical_df = pd.DataFrame(numerical_df, columns=features_names)"
   ]
  },
  {
   "cell_type": "code",
   "execution_count": 45,
   "id": "d138416b-a823-47f4-9fb4-362c076b5c3e",
   "metadata": {},
   "outputs": [
    {
     "data": {
      "text/html": [
       "<div>\n",
       "<style scoped>\n",
       "    .dataframe tbody tr th:only-of-type {\n",
       "        vertical-align: middle;\n",
       "    }\n",
       "\n",
       "    .dataframe tbody tr th {\n",
       "        vertical-align: top;\n",
       "    }\n",
       "\n",
       "    .dataframe thead th {\n",
       "        text-align: right;\n",
       "    }\n",
       "</style>\n",
       "<table border=\"1\" class=\"dataframe\">\n",
       "  <thead>\n",
       "    <tr style=\"text-align: right;\">\n",
       "      <th></th>\n",
       "      <th>t1__Fluency in English based on introduction_Natural Stutter and Stammer</th>\n",
       "      <th>t1__Fluency in English based on introduction_Taking gaps while speaking due to lack of content but does not stammer or stutter</th>\n",
       "      <th>t1__Fluency in English based on introduction_Trying but Not Able to speak clearly &amp; Fumbles a lot</th>\n",
       "      <th>t1__Candidate Status_Experienced in non client facing(equal to or more than 6 months)</th>\n",
       "      <th>t1__Candidate Status_Fresher(only 2022 grad)</th>\n",
       "      <th>t1__Candidate Status_Lateral(2021 and before with (less than 6 months) experience)</th>\n",
       "      <th>t1__Role Location to be given to the candidate_Ahmedabad</th>\n",
       "      <th>t1__Role Location to be given to the candidate_Ahmednagar</th>\n",
       "      <th>t1__Role Location to be given to the candidate_Ajmer</th>\n",
       "      <th>t1__Role Location to be given to the candidate_Aligarh</th>\n",
       "      <th>...</th>\n",
       "      <th>remainder__Structured Thinking (In regional only).1</th>\n",
       "      <th>remainder__Structured Thinking Based on the PPT Question.1</th>\n",
       "      <th>remainder__Structured Thinking( Call pitch).1</th>\n",
       "      <th>remainder__Regional fluency based on the topic given  .1</th>\n",
       "      <th>remainder__Regional fluency Based on the PPT Question.1</th>\n",
       "      <th>remainder__Regional fluency based on the  sales scenario.1</th>\n",
       "      <th>remainder__Confidence Score</th>\n",
       "      <th>remainder__Structured Thinking Score</th>\n",
       "      <th>remainder__Regional Fluency Score</th>\n",
       "      <th>remainder__Total Score</th>\n",
       "    </tr>\n",
       "  </thead>\n",
       "  <tbody>\n",
       "    <tr>\n",
       "      <th>0</th>\n",
       "      <td>0.0</td>\n",
       "      <td>0.0</td>\n",
       "      <td>0.0</td>\n",
       "      <td>1.0</td>\n",
       "      <td>0.0</td>\n",
       "      <td>0.0</td>\n",
       "      <td>0.0</td>\n",
       "      <td>0.0</td>\n",
       "      <td>0.0</td>\n",
       "      <td>0.0</td>\n",
       "      <td>...</td>\n",
       "      <td>2.0</td>\n",
       "      <td>3.0</td>\n",
       "      <td>2.0</td>\n",
       "      <td>1.0</td>\n",
       "      <td>1.0</td>\n",
       "      <td>1.0</td>\n",
       "      <td>11.0</td>\n",
       "      <td>7.0</td>\n",
       "      <td>3.0</td>\n",
       "      <td>42.0</td>\n",
       "    </tr>\n",
       "    <tr>\n",
       "      <th>1</th>\n",
       "      <td>0.0</td>\n",
       "      <td>0.0</td>\n",
       "      <td>0.0</td>\n",
       "      <td>0.0</td>\n",
       "      <td>0.0</td>\n",
       "      <td>1.0</td>\n",
       "      <td>0.0</td>\n",
       "      <td>0.0</td>\n",
       "      <td>0.0</td>\n",
       "      <td>0.0</td>\n",
       "      <td>...</td>\n",
       "      <td>3.0</td>\n",
       "      <td>3.0</td>\n",
       "      <td>3.0</td>\n",
       "      <td>3.0</td>\n",
       "      <td>3.0</td>\n",
       "      <td>3.0</td>\n",
       "      <td>12.0</td>\n",
       "      <td>9.0</td>\n",
       "      <td>9.0</td>\n",
       "      <td>60.0</td>\n",
       "    </tr>\n",
       "    <tr>\n",
       "      <th>2</th>\n",
       "      <td>0.0</td>\n",
       "      <td>0.0</td>\n",
       "      <td>0.0</td>\n",
       "      <td>0.0</td>\n",
       "      <td>1.0</td>\n",
       "      <td>0.0</td>\n",
       "      <td>0.0</td>\n",
       "      <td>0.0</td>\n",
       "      <td>0.0</td>\n",
       "      <td>0.0</td>\n",
       "      <td>...</td>\n",
       "      <td>3.0</td>\n",
       "      <td>3.0</td>\n",
       "      <td>3.0</td>\n",
       "      <td>3.0</td>\n",
       "      <td>1.0</td>\n",
       "      <td>3.0</td>\n",
       "      <td>10.0</td>\n",
       "      <td>9.0</td>\n",
       "      <td>7.0</td>\n",
       "      <td>52.0</td>\n",
       "    </tr>\n",
       "    <tr>\n",
       "      <th>3</th>\n",
       "      <td>0.0</td>\n",
       "      <td>0.0</td>\n",
       "      <td>0.0</td>\n",
       "      <td>0.0</td>\n",
       "      <td>1.0</td>\n",
       "      <td>0.0</td>\n",
       "      <td>0.0</td>\n",
       "      <td>0.0</td>\n",
       "      <td>0.0</td>\n",
       "      <td>0.0</td>\n",
       "      <td>...</td>\n",
       "      <td>3.0</td>\n",
       "      <td>3.0</td>\n",
       "      <td>3.0</td>\n",
       "      <td>3.0</td>\n",
       "      <td>3.0</td>\n",
       "      <td>3.0</td>\n",
       "      <td>12.0</td>\n",
       "      <td>9.0</td>\n",
       "      <td>9.0</td>\n",
       "      <td>60.0</td>\n",
       "    </tr>\n",
       "    <tr>\n",
       "      <th>4</th>\n",
       "      <td>0.0</td>\n",
       "      <td>1.0</td>\n",
       "      <td>0.0</td>\n",
       "      <td>0.0</td>\n",
       "      <td>1.0</td>\n",
       "      <td>0.0</td>\n",
       "      <td>0.0</td>\n",
       "      <td>0.0</td>\n",
       "      <td>0.0</td>\n",
       "      <td>0.0</td>\n",
       "      <td>...</td>\n",
       "      <td>2.0</td>\n",
       "      <td>2.0</td>\n",
       "      <td>1.0</td>\n",
       "      <td>3.0</td>\n",
       "      <td>1.0</td>\n",
       "      <td>3.0</td>\n",
       "      <td>10.0</td>\n",
       "      <td>5.0</td>\n",
       "      <td>7.0</td>\n",
       "      <td>44.0</td>\n",
       "    </tr>\n",
       "  </tbody>\n",
       "</table>\n",
       "<p>5 rows × 182 columns</p>\n",
       "</div>"
      ],
      "text/plain": [
       "   t1__Fluency in English based on introduction_Natural Stutter and Stammer  \\\n",
       "0                                                0.0                          \n",
       "1                                                0.0                          \n",
       "2                                                0.0                          \n",
       "3                                                0.0                          \n",
       "4                                                0.0                          \n",
       "\n",
       "   t1__Fluency in English based on introduction_Taking gaps while speaking due to lack of content but does not stammer or stutter  \\\n",
       "0                                                0.0                                                                                \n",
       "1                                                0.0                                                                                \n",
       "2                                                0.0                                                                                \n",
       "3                                                0.0                                                                                \n",
       "4                                                1.0                                                                                \n",
       "\n",
       "   t1__Fluency in English based on introduction_Trying but Not Able to speak clearly & Fumbles a lot  \\\n",
       "0                                                0.0                                                   \n",
       "1                                                0.0                                                   \n",
       "2                                                0.0                                                   \n",
       "3                                                0.0                                                   \n",
       "4                                                0.0                                                   \n",
       "\n",
       "   t1__Candidate Status_Experienced in non client facing(equal to or more than 6 months)  \\\n",
       "0                                                1.0                                       \n",
       "1                                                0.0                                       \n",
       "2                                                0.0                                       \n",
       "3                                                0.0                                       \n",
       "4                                                0.0                                       \n",
       "\n",
       "   t1__Candidate Status_Fresher(only 2022 grad)  \\\n",
       "0                                           0.0   \n",
       "1                                           0.0   \n",
       "2                                           1.0   \n",
       "3                                           1.0   \n",
       "4                                           1.0   \n",
       "\n",
       "   t1__Candidate Status_Lateral(2021 and before with (less than 6 months) experience)  \\\n",
       "0                                                0.0                                    \n",
       "1                                                1.0                                    \n",
       "2                                                0.0                                    \n",
       "3                                                0.0                                    \n",
       "4                                                0.0                                    \n",
       "\n",
       "   t1__Role Location to be given to the candidate_Ahmedabad   \\\n",
       "0                                                0.0           \n",
       "1                                                0.0           \n",
       "2                                                0.0           \n",
       "3                                                0.0           \n",
       "4                                                0.0           \n",
       "\n",
       "   t1__Role Location to be given to the candidate_Ahmednagar   \\\n",
       "0                                                0.0            \n",
       "1                                                0.0            \n",
       "2                                                0.0            \n",
       "3                                                0.0            \n",
       "4                                                0.0            \n",
       "\n",
       "   t1__Role Location to be given to the candidate_Ajmer   \\\n",
       "0                                                0.0       \n",
       "1                                                0.0       \n",
       "2                                                0.0       \n",
       "3                                                0.0       \n",
       "4                                                0.0       \n",
       "\n",
       "   t1__Role Location to be given to the candidate_Aligarh   ...  \\\n",
       "0                                                0.0        ...   \n",
       "1                                                0.0        ...   \n",
       "2                                                0.0        ...   \n",
       "3                                                0.0        ...   \n",
       "4                                                0.0        ...   \n",
       "\n",
       "   remainder__Structured Thinking (In regional only).1  \\\n",
       "0                                                2.0     \n",
       "1                                                3.0     \n",
       "2                                                3.0     \n",
       "3                                                3.0     \n",
       "4                                                2.0     \n",
       "\n",
       "   remainder__Structured Thinking Based on the PPT Question.1  \\\n",
       "0                                                3.0            \n",
       "1                                                3.0            \n",
       "2                                                3.0            \n",
       "3                                                3.0            \n",
       "4                                                2.0            \n",
       "\n",
       "   remainder__Structured Thinking( Call pitch).1  \\\n",
       "0                                            2.0   \n",
       "1                                            3.0   \n",
       "2                                            3.0   \n",
       "3                                            3.0   \n",
       "4                                            1.0   \n",
       "\n",
       "   remainder__Regional fluency based on the topic given  .1  \\\n",
       "0                                                1.0          \n",
       "1                                                3.0          \n",
       "2                                                3.0          \n",
       "3                                                3.0          \n",
       "4                                                3.0          \n",
       "\n",
       "   remainder__Regional fluency Based on the PPT Question.1  \\\n",
       "0                                                1.0         \n",
       "1                                                3.0         \n",
       "2                                                1.0         \n",
       "3                                                3.0         \n",
       "4                                                1.0         \n",
       "\n",
       "   remainder__Regional fluency based on the  sales scenario.1  \\\n",
       "0                                                1.0            \n",
       "1                                                3.0            \n",
       "2                                                3.0            \n",
       "3                                                3.0            \n",
       "4                                                3.0            \n",
       "\n",
       "   remainder__Confidence Score  remainder__Structured Thinking Score  \\\n",
       "0                         11.0                                   7.0   \n",
       "1                         12.0                                   9.0   \n",
       "2                         10.0                                   9.0   \n",
       "3                         12.0                                   9.0   \n",
       "4                         10.0                                   5.0   \n",
       "\n",
       "   remainder__Regional Fluency Score  remainder__Total Score  \n",
       "0                                3.0                    42.0  \n",
       "1                                9.0                    60.0  \n",
       "2                                7.0                    52.0  \n",
       "3                                9.0                    60.0  \n",
       "4                                7.0                    44.0  \n",
       "\n",
       "[5 rows x 182 columns]"
      ]
     },
     "execution_count": 45,
     "metadata": {},
     "output_type": "execute_result"
    }
   ],
   "source": [
    "numerical_df.head()"
   ]
  },
  {
   "cell_type": "code",
   "execution_count": 46,
   "id": "0c80ca23-5b53-4e8e-aff2-9b3c958979b6",
   "metadata": {},
   "outputs": [
    {
     "data": {
      "text/plain": [
       "(18681, 182)"
      ]
     },
     "execution_count": 46,
     "metadata": {},
     "output_type": "execute_result"
    }
   ],
   "source": [
    "numerical_df.shape"
   ]
  },
  {
   "cell_type": "code",
   "execution_count": 47,
   "id": "9a25e6bd-889a-4606-9bee-08d03e9e06c9",
   "metadata": {},
   "outputs": [
    {
     "data": {
      "text/plain": [
       "Index(['id', 'Name', 'Comments', 'RedFlags Comments in Interview',\n",
       "       'Whether joined the company or not',\n",
       "       'Experienced Candidate (Nature of work)',\n",
       "       'Call-pitch Elements used during the call Sales Scenario',\n",
       "       'But, my child's exam are going on now, so we will keep the counselling session after the exams get over',\n",
       "       'Let me discuss it with my child',\n",
       "       'Sir being in education industry I know this is a marketing gimmick and at the end of the day you'll be selling the app.'],\n",
       "      dtype='object')"
      ]
     },
     "execution_count": 47,
     "metadata": {},
     "output_type": "execute_result"
    }
   ],
   "source": [
    "df.columns"
   ]
  },
  {
   "cell_type": "code",
   "execution_count": 48,
   "id": "a6c2713f-848f-4515-9060-d265dd2ef3a2",
   "metadata": {},
   "outputs": [],
   "source": [
    "df.drop(['Experienced Candidate (Nature of work)',\n",
    "        'Call-pitch Elements used during the call Sales Scenario',\n",
    "        \"But, my child's exam are going on now, so we will keep the counselling session after the exams get over\",\n",
    "        'Let me discuss it with my child',\n",
    "         \"Sir being in education industry I know this is a marketing gimmick and at the end of the day you'll be selling the app.\"\n",
    "        ], axis=1, inplace=True)"
   ]
  },
  {
   "cell_type": "code",
   "execution_count": 49,
   "id": "078a4260-73da-41ad-9b7a-2272695a34b2",
   "metadata": {},
   "outputs": [
    {
     "data": {
      "text/plain": [
       "Index(['id', 'Name', 'Comments', 'RedFlags Comments in Interview',\n",
       "       'Whether joined the company or not'],\n",
       "      dtype='object')"
      ]
     },
     "execution_count": 49,
     "metadata": {},
     "output_type": "execute_result"
    }
   ],
   "source": [
    "df.columns"
   ]
  },
  {
   "cell_type": "markdown",
   "id": "c84d8223-8ad4-48a7-b440-680b3e967211",
   "metadata": {},
   "source": [
    "## Stemming\n",
    "**Note: Use Lemmatization for more accuracy**\n",
    "\n",
    "To normalize words and reduce them to their root forms, we will apply **stemming**. This helps in handling variations of words and improves text processing efficiency for machine learning models.  \n",
    "(e.g., \"running\" → \"run\")"
   ]
  },
  {
   "cell_type": "markdown",
   "id": "a93b8dd9-5ce8-4f29-8458-f5ef2afb6b48",
   "metadata": {},
   "source": [
    "**Currently Using Lemmatization**"
   ]
  },
  {
   "cell_type": "code",
   "execution_count": 52,
   "id": "c91d9292-9488-40d5-bbb0-2c31fc26016a",
   "metadata": {},
   "outputs": [],
   "source": [
    "df['tags'] = df['Comments'] + \" \" + df['RedFlags Comments in Interview']"
   ]
  },
  {
   "cell_type": "code",
   "execution_count": 53,
   "id": "430479ea-65aa-4e77-98c4-0a4a15e50670",
   "metadata": {},
   "outputs": [
    {
     "data": {
      "text/plain": [
       "\"29 yo / female / unmarried / MSc Finance UK 2022 / recently relocated to India just 20 days ago / Odissa / father - doctor / bro - software engineer / pursuing internship in investment banking - ends in next week / worked as a teacher / good story teller - fluent in hindi and english - good energy / also prepared for UPSC and GMAT - purchased a course from byju's earlier / cracked GMAT and got business school as well/asking ques in sales scenario - 2/5\""
      ]
     },
     "execution_count": 53,
     "metadata": {},
     "output_type": "execute_result"
    }
   ],
   "source": [
    "df.loc[1, 'Comments']"
   ]
  },
  {
   "cell_type": "code",
   "execution_count": 54,
   "id": "20ded79f-135e-45b0-a231-081074ffd83f",
   "metadata": {},
   "outputs": [
    {
     "data": {
      "text/plain": [
       "'Not Rehire (CDT have not joined byjus in sales before), Not Interviewed in Byjus in sales role in last 90days, Laptop and WiFi are Available, Age is below 32.11, At least Graduated ( not 12th Pass or diploma or Final Year student), Willing to relocate at given location for SSP, Comfortable with the stipend & allowances during training, Not working currently and ready to join the R3 Process'"
      ]
     },
     "execution_count": 54,
     "metadata": {},
     "output_type": "execute_result"
    }
   ],
   "source": [
    "df.loc[1, 'RedFlags Comments in Interview']"
   ]
  },
  {
   "cell_type": "code",
   "execution_count": 55,
   "id": "f3bed509-f652-4633-95d4-481bfbfc8bec",
   "metadata": {},
   "outputs": [
    {
     "data": {
      "text/plain": [
       "\"29 yo / female / unmarried / MSc Finance UK 2022 / recently relocated to India just 20 days ago / Odissa / father - doctor / bro - software engineer / pursuing internship in investment banking - ends in next week / worked as a teacher / good story teller - fluent in hindi and english - good energy / also prepared for UPSC and GMAT - purchased a course from byju's earlier / cracked GMAT and got business school as well/asking ques in sales scenario - 2/5 Not Rehire (CDT have not joined byjus in sales before), Not Interviewed in Byjus in sales role in last 90days, Laptop and WiFi are Available, Age is below 32.11, At least Graduated ( not 12th Pass or diploma or Final Year student), Willing to relocate at given location for SSP, Comfortable with the stipend & allowances during training, Not working currently and ready to join the R3 Process\""
      ]
     },
     "execution_count": 55,
     "metadata": {},
     "output_type": "execute_result"
    }
   ],
   "source": [
    "df.loc[1, 'tags']"
   ]
  },
  {
   "cell_type": "code",
   "execution_count": 56,
   "id": "15eb8546-7033-4e75-9156-71903157deba",
   "metadata": {},
   "outputs": [],
   "source": [
    "lemmatizer = WordNetLemmatizer()"
   ]
  },
  {
   "cell_type": "code",
   "execution_count": 57,
   "id": "e3859385-1097-4b7a-9a96-92647a1fef1c",
   "metadata": {},
   "outputs": [],
   "source": [
    "stop_words = set(stopwords.words('english'))"
   ]
  },
  {
   "cell_type": "code",
   "execution_count": 58,
   "id": "fa852c2b-755b-4125-88df-5794625bdff4",
   "metadata": {},
   "outputs": [],
   "source": [
    "def formatting(text):\n",
    "    if isinstance(text, list):\n",
    "        text = \" \".join(text)\n",
    "    words = word_tokenize(text.lower())\n",
    "    filtered_words = [lemmatizer.lemmatize(word) for word in words if word not in stop_words]\n",
    "    return \" \".join(filtered_words)"
   ]
  },
  {
   "cell_type": "code",
   "execution_count": 59,
   "id": "08104cb9-9a20-4189-9cab-5cb016d5f433",
   "metadata": {},
   "outputs": [],
   "source": [
    "def remove_duplicates(text):\n",
    "    words = text.split()\n",
    "    seen = set()\n",
    "    unique_words = []\n",
    "\n",
    "    for word in words:\n",
    "        if word not in seen:\n",
    "            seen.add(word)\n",
    "            unique_words.append(word)\n",
    "\n",
    "    return \" \".join(unique_words)  "
   ]
  },
  {
   "cell_type": "code",
   "execution_count": 60,
   "id": "e9efa455-ee77-498c-a078-00f918da152d",
   "metadata": {},
   "outputs": [],
   "source": [
    "''' Applying Stopwords Removal and Lemmatization'''\n",
    "df['tags'] = df['tags'].apply(formatting)\n",
    "df['tags'] = df['tags'].apply(remove_duplicates)"
   ]
  },
  {
   "cell_type": "code",
   "execution_count": 61,
   "id": "60f4cffa-143d-4b8f-a98e-9650fd8a25d4",
   "metadata": {},
   "outputs": [],
   "source": [
    "df['tags'] = df['tags'].str.replace('/', '', regex=False)\n",
    "df['tags'] = df['tags'].str.replace('[','', regex=False)\n",
    "df['tags'] = df['tags'].str.replace(']','', regex=False)"
   ]
  },
  {
   "cell_type": "code",
   "execution_count": 62,
   "id": "304cd58a-7db3-4ea8-954d-4c440c662741",
   "metadata": {},
   "outputs": [
    {
     "data": {
      "text/plain": [
       "\"29 yo  female unmarried msc finance uk 2022 recently relocated india 20 day ago odissa father - doctor bro software engineer pursuing internship investment banking end next week worked teacher good story teller fluent hindi english energy also prepared upsc gmat purchased course byju 's earlier cracked got business school wellasking ques sale scenario 25 rehire ( cdt joined byjus ) , interviewed role last 90days laptop wifi available age 32.11 least graduated 12th pas diploma final year student willing relocate given location ssp comfortable stipend & allowance training working currently ready join r3 process\""
      ]
     },
     "execution_count": 62,
     "metadata": {},
     "output_type": "execute_result"
    }
   ],
   "source": [
    "df.loc[1,'tags']"
   ]
  },
  {
   "cell_type": "code",
   "execution_count": 63,
   "id": "b11c7127-7b44-49e3-855f-5e7b9d34da99",
   "metadata": {},
   "outputs": [],
   "source": [
    "df.drop(['Comments', 'RedFlags Comments in Interview'], axis=1, inplace=True)"
   ]
  },
  {
   "cell_type": "code",
   "execution_count": 64,
   "id": "7f115cb9-44da-4eb8-9a12-8be3346c41b2",
   "metadata": {},
   "outputs": [],
   "source": [
    "# Ensure target is binary\n",
    "df['Whether joined the company or not'] = (df['Whether joined the company or not'] >= 0.5).astype(int)"
   ]
  },
  {
   "cell_type": "code",
   "execution_count": 65,
   "id": "b8c9ba2b-036d-49c7-be95-116ada0a0db8",
   "metadata": {},
   "outputs": [
    {
     "data": {
      "text/plain": [
       "Index(['id', 'Name', 'Whether joined the company or not', 'tags'], dtype='object')"
      ]
     },
     "execution_count": 65,
     "metadata": {},
     "output_type": "execute_result"
    }
   ],
   "source": [
    "df.columns"
   ]
  },
  {
   "cell_type": "markdown",
   "id": "bc78a5d2-2e79-4ea9-b2aa-d50cfa920ab8",
   "metadata": {},
   "source": [
    "<!-- ## Word Embeddings\n",
    "**Note: Use Contextual Embeddings for More Accuracy**\n",
    "\n",
    "<!-- To represent words in a numerical format while preserving their meaning and relationships, we will apply **word embeddings**. This helps in capturing semantic similarities and improving machine learning model performance. -->\n",
    "(e.g., \"king\" → similar to \"queen\" but different from \"apple\"). -->"
   ]
  },
  {
   "cell_type": "code",
   "execution_count": 67,
   "id": "6a2fa776-6ba9-43f7-a284-7fb53262590e",
   "metadata": {},
   "outputs": [],
   "source": [
    "# sentences = [tag.split() for tag in df['tags']]"
   ]
  },
  {
   "cell_type": "code",
   "execution_count": 68,
   "id": "584777a2-e3f1-45e1-8c49-84856d234b76",
   "metadata": {},
   "outputs": [],
   "source": [
    "# # Train Word2Vec model\n",
    "# w2v_model = Word2Vec(sentences, vector_size=16, window=5, min_count=1, workers=4)"
   ]
  },
  {
   "cell_type": "code",
   "execution_count": 69,
   "id": "e10b5553-3eb3-4424-bdda-facdecd113ee",
   "metadata": {},
   "outputs": [],
   "source": [
    "# # Function to convert text into an average word embedding\n",
    "# def text_to_embedding(text):\n",
    "#     words = text.split()\n",
    "#     embeddings = [w2v_model.wv[word] for word in words if word in w2v_model.wv]\n",
    "#     return np.mean(embeddings, axis=0) if embeddings else np.zeros(16)"
   ]
  },
  {
   "cell_type": "code",
   "execution_count": 70,
   "id": "d0e16c13-a5ce-4699-9661-85a99fab1292",
   "metadata": {},
   "outputs": [],
   "source": [
    "# text_embeddings = np.array([text_to_embedding(text) for text in df['tags']])\n",
    "# text_embeddings_df = pd.DataFrame(text_embeddings, columns=[f'emb_{i}' for i in range(16)])"
   ]
  },
  {
   "cell_type": "code",
   "execution_count": 71,
   "id": "f9e84478-4fde-4152-b1d8-cb9eb910f40d",
   "metadata": {},
   "outputs": [],
   "source": [
    "text_df = df.copy()\n",
    "text_df.drop(['Name', 'tags', 'Whether joined the company or not'], axis=1, inplace=True)\n",
    "df = df[['id', 'Whether joined the company or not']]"
   ]
  },
  {
   "cell_type": "code",
   "execution_count": 72,
   "id": "62d951f8-c238-4bd5-8b4c-a7239d3a2948",
   "metadata": {},
   "outputs": [],
   "source": [
    "# neural_df = text_df.join([text_embeddings_df, numerical_df], how='inner')\n",
    "neural_df = text_df.join([numerical_df], how='inner')"
   ]
  },
  {
   "cell_type": "code",
   "execution_count": 73,
   "id": "d922c760-e150-4471-a865-cc0994fecc14",
   "metadata": {},
   "outputs": [
    {
     "data": {
      "text/plain": [
       "(16386, 183)"
      ]
     },
     "execution_count": 73,
     "metadata": {},
     "output_type": "execute_result"
    }
   ],
   "source": [
    "neural_df.shape"
   ]
  },
  {
   "cell_type": "code",
   "execution_count": 74,
   "id": "90777716-9b77-492a-a77a-4723f17c6726",
   "metadata": {},
   "outputs": [],
   "source": [
    "neural_df.columns = neural_df.columns.str.replace(r'^remainder__', '', regex=True)"
   ]
  },
  {
   "cell_type": "markdown",
   "id": "3efb204a-c094-4877-bf52-c162c2f9e9fe",
   "metadata": {},
   "source": [
    "## Feature Scaling"
   ]
  },
  {
   "cell_type": "code",
   "execution_count": 76,
   "id": "bf5cf597-ce2e-4d94-bf58-5a94e83be062",
   "metadata": {},
   "outputs": [
    {
     "data": {
      "text/html": [
       "<style>#sk-container-id-1 {\n",
       "  /* Definition of color scheme common for light and dark mode */\n",
       "  --sklearn-color-text: black;\n",
       "  --sklearn-color-line: gray;\n",
       "  /* Definition of color scheme for unfitted estimators */\n",
       "  --sklearn-color-unfitted-level-0: #fff5e6;\n",
       "  --sklearn-color-unfitted-level-1: #f6e4d2;\n",
       "  --sklearn-color-unfitted-level-2: #ffe0b3;\n",
       "  --sklearn-color-unfitted-level-3: chocolate;\n",
       "  /* Definition of color scheme for fitted estimators */\n",
       "  --sklearn-color-fitted-level-0: #f0f8ff;\n",
       "  --sklearn-color-fitted-level-1: #d4ebff;\n",
       "  --sklearn-color-fitted-level-2: #b3dbfd;\n",
       "  --sklearn-color-fitted-level-3: cornflowerblue;\n",
       "\n",
       "  /* Specific color for light theme */\n",
       "  --sklearn-color-text-on-default-background: var(--sg-text-color, var(--theme-code-foreground, var(--jp-content-font-color1, black)));\n",
       "  --sklearn-color-background: var(--sg-background-color, var(--theme-background, var(--jp-layout-color0, white)));\n",
       "  --sklearn-color-border-box: var(--sg-text-color, var(--theme-code-foreground, var(--jp-content-font-color1, black)));\n",
       "  --sklearn-color-icon: #696969;\n",
       "\n",
       "  @media (prefers-color-scheme: dark) {\n",
       "    /* Redefinition of color scheme for dark theme */\n",
       "    --sklearn-color-text-on-default-background: var(--sg-text-color, var(--theme-code-foreground, var(--jp-content-font-color1, white)));\n",
       "    --sklearn-color-background: var(--sg-background-color, var(--theme-background, var(--jp-layout-color0, #111)));\n",
       "    --sklearn-color-border-box: var(--sg-text-color, var(--theme-code-foreground, var(--jp-content-font-color1, white)));\n",
       "    --sklearn-color-icon: #878787;\n",
       "  }\n",
       "}\n",
       "\n",
       "#sk-container-id-1 {\n",
       "  color: var(--sklearn-color-text);\n",
       "}\n",
       "\n",
       "#sk-container-id-1 pre {\n",
       "  padding: 0;\n",
       "}\n",
       "\n",
       "#sk-container-id-1 input.sk-hidden--visually {\n",
       "  border: 0;\n",
       "  clip: rect(1px 1px 1px 1px);\n",
       "  clip: rect(1px, 1px, 1px, 1px);\n",
       "  height: 1px;\n",
       "  margin: -1px;\n",
       "  overflow: hidden;\n",
       "  padding: 0;\n",
       "  position: absolute;\n",
       "  width: 1px;\n",
       "}\n",
       "\n",
       "#sk-container-id-1 div.sk-dashed-wrapped {\n",
       "  border: 1px dashed var(--sklearn-color-line);\n",
       "  margin: 0 0.4em 0.5em 0.4em;\n",
       "  box-sizing: border-box;\n",
       "  padding-bottom: 0.4em;\n",
       "  background-color: var(--sklearn-color-background);\n",
       "}\n",
       "\n",
       "#sk-container-id-1 div.sk-container {\n",
       "  /* jupyter's `normalize.less` sets `[hidden] { display: none; }`\n",
       "     but bootstrap.min.css set `[hidden] { display: none !important; }`\n",
       "     so we also need the `!important` here to be able to override the\n",
       "     default hidden behavior on the sphinx rendered scikit-learn.org.\n",
       "     See: https://github.com/scikit-learn/scikit-learn/issues/21755 */\n",
       "  display: inline-block !important;\n",
       "  position: relative;\n",
       "}\n",
       "\n",
       "#sk-container-id-1 div.sk-text-repr-fallback {\n",
       "  display: none;\n",
       "}\n",
       "\n",
       "div.sk-parallel-item,\n",
       "div.sk-serial,\n",
       "div.sk-item {\n",
       "  /* draw centered vertical line to link estimators */\n",
       "  background-image: linear-gradient(var(--sklearn-color-text-on-default-background), var(--sklearn-color-text-on-default-background));\n",
       "  background-size: 2px 100%;\n",
       "  background-repeat: no-repeat;\n",
       "  background-position: center center;\n",
       "}\n",
       "\n",
       "/* Parallel-specific style estimator block */\n",
       "\n",
       "#sk-container-id-1 div.sk-parallel-item::after {\n",
       "  content: \"\";\n",
       "  width: 100%;\n",
       "  border-bottom: 2px solid var(--sklearn-color-text-on-default-background);\n",
       "  flex-grow: 1;\n",
       "}\n",
       "\n",
       "#sk-container-id-1 div.sk-parallel {\n",
       "  display: flex;\n",
       "  align-items: stretch;\n",
       "  justify-content: center;\n",
       "  background-color: var(--sklearn-color-background);\n",
       "  position: relative;\n",
       "}\n",
       "\n",
       "#sk-container-id-1 div.sk-parallel-item {\n",
       "  display: flex;\n",
       "  flex-direction: column;\n",
       "}\n",
       "\n",
       "#sk-container-id-1 div.sk-parallel-item:first-child::after {\n",
       "  align-self: flex-end;\n",
       "  width: 50%;\n",
       "}\n",
       "\n",
       "#sk-container-id-1 div.sk-parallel-item:last-child::after {\n",
       "  align-self: flex-start;\n",
       "  width: 50%;\n",
       "}\n",
       "\n",
       "#sk-container-id-1 div.sk-parallel-item:only-child::after {\n",
       "  width: 0;\n",
       "}\n",
       "\n",
       "/* Serial-specific style estimator block */\n",
       "\n",
       "#sk-container-id-1 div.sk-serial {\n",
       "  display: flex;\n",
       "  flex-direction: column;\n",
       "  align-items: center;\n",
       "  background-color: var(--sklearn-color-background);\n",
       "  padding-right: 1em;\n",
       "  padding-left: 1em;\n",
       "}\n",
       "\n",
       "\n",
       "/* Toggleable style: style used for estimator/Pipeline/ColumnTransformer box that is\n",
       "clickable and can be expanded/collapsed.\n",
       "- Pipeline and ColumnTransformer use this feature and define the default style\n",
       "- Estimators will overwrite some part of the style using the `sk-estimator` class\n",
       "*/\n",
       "\n",
       "/* Pipeline and ColumnTransformer style (default) */\n",
       "\n",
       "#sk-container-id-1 div.sk-toggleable {\n",
       "  /* Default theme specific background. It is overwritten whether we have a\n",
       "  specific estimator or a Pipeline/ColumnTransformer */\n",
       "  background-color: var(--sklearn-color-background);\n",
       "}\n",
       "\n",
       "/* Toggleable label */\n",
       "#sk-container-id-1 label.sk-toggleable__label {\n",
       "  cursor: pointer;\n",
       "  display: block;\n",
       "  width: 100%;\n",
       "  margin-bottom: 0;\n",
       "  padding: 0.5em;\n",
       "  box-sizing: border-box;\n",
       "  text-align: center;\n",
       "}\n",
       "\n",
       "#sk-container-id-1 label.sk-toggleable__label-arrow:before {\n",
       "  /* Arrow on the left of the label */\n",
       "  content: \"▸\";\n",
       "  float: left;\n",
       "  margin-right: 0.25em;\n",
       "  color: var(--sklearn-color-icon);\n",
       "}\n",
       "\n",
       "#sk-container-id-1 label.sk-toggleable__label-arrow:hover:before {\n",
       "  color: var(--sklearn-color-text);\n",
       "}\n",
       "\n",
       "/* Toggleable content - dropdown */\n",
       "\n",
       "#sk-container-id-1 div.sk-toggleable__content {\n",
       "  max-height: 0;\n",
       "  max-width: 0;\n",
       "  overflow: hidden;\n",
       "  text-align: left;\n",
       "  /* unfitted */\n",
       "  background-color: var(--sklearn-color-unfitted-level-0);\n",
       "}\n",
       "\n",
       "#sk-container-id-1 div.sk-toggleable__content.fitted {\n",
       "  /* fitted */\n",
       "  background-color: var(--sklearn-color-fitted-level-0);\n",
       "}\n",
       "\n",
       "#sk-container-id-1 div.sk-toggleable__content pre {\n",
       "  margin: 0.2em;\n",
       "  border-radius: 0.25em;\n",
       "  color: var(--sklearn-color-text);\n",
       "  /* unfitted */\n",
       "  background-color: var(--sklearn-color-unfitted-level-0);\n",
       "}\n",
       "\n",
       "#sk-container-id-1 div.sk-toggleable__content.fitted pre {\n",
       "  /* unfitted */\n",
       "  background-color: var(--sklearn-color-fitted-level-0);\n",
       "}\n",
       "\n",
       "#sk-container-id-1 input.sk-toggleable__control:checked~div.sk-toggleable__content {\n",
       "  /* Expand drop-down */\n",
       "  max-height: 200px;\n",
       "  max-width: 100%;\n",
       "  overflow: auto;\n",
       "}\n",
       "\n",
       "#sk-container-id-1 input.sk-toggleable__control:checked~label.sk-toggleable__label-arrow:before {\n",
       "  content: \"▾\";\n",
       "}\n",
       "\n",
       "/* Pipeline/ColumnTransformer-specific style */\n",
       "\n",
       "#sk-container-id-1 div.sk-label input.sk-toggleable__control:checked~label.sk-toggleable__label {\n",
       "  color: var(--sklearn-color-text);\n",
       "  background-color: var(--sklearn-color-unfitted-level-2);\n",
       "}\n",
       "\n",
       "#sk-container-id-1 div.sk-label.fitted input.sk-toggleable__control:checked~label.sk-toggleable__label {\n",
       "  background-color: var(--sklearn-color-fitted-level-2);\n",
       "}\n",
       "\n",
       "/* Estimator-specific style */\n",
       "\n",
       "/* Colorize estimator box */\n",
       "#sk-container-id-1 div.sk-estimator input.sk-toggleable__control:checked~label.sk-toggleable__label {\n",
       "  /* unfitted */\n",
       "  background-color: var(--sklearn-color-unfitted-level-2);\n",
       "}\n",
       "\n",
       "#sk-container-id-1 div.sk-estimator.fitted input.sk-toggleable__control:checked~label.sk-toggleable__label {\n",
       "  /* fitted */\n",
       "  background-color: var(--sklearn-color-fitted-level-2);\n",
       "}\n",
       "\n",
       "#sk-container-id-1 div.sk-label label.sk-toggleable__label,\n",
       "#sk-container-id-1 div.sk-label label {\n",
       "  /* The background is the default theme color */\n",
       "  color: var(--sklearn-color-text-on-default-background);\n",
       "}\n",
       "\n",
       "/* On hover, darken the color of the background */\n",
       "#sk-container-id-1 div.sk-label:hover label.sk-toggleable__label {\n",
       "  color: var(--sklearn-color-text);\n",
       "  background-color: var(--sklearn-color-unfitted-level-2);\n",
       "}\n",
       "\n",
       "/* Label box, darken color on hover, fitted */\n",
       "#sk-container-id-1 div.sk-label.fitted:hover label.sk-toggleable__label.fitted {\n",
       "  color: var(--sklearn-color-text);\n",
       "  background-color: var(--sklearn-color-fitted-level-2);\n",
       "}\n",
       "\n",
       "/* Estimator label */\n",
       "\n",
       "#sk-container-id-1 div.sk-label label {\n",
       "  font-family: monospace;\n",
       "  font-weight: bold;\n",
       "  display: inline-block;\n",
       "  line-height: 1.2em;\n",
       "}\n",
       "\n",
       "#sk-container-id-1 div.sk-label-container {\n",
       "  text-align: center;\n",
       "}\n",
       "\n",
       "/* Estimator-specific */\n",
       "#sk-container-id-1 div.sk-estimator {\n",
       "  font-family: monospace;\n",
       "  border: 1px dotted var(--sklearn-color-border-box);\n",
       "  border-radius: 0.25em;\n",
       "  box-sizing: border-box;\n",
       "  margin-bottom: 0.5em;\n",
       "  /* unfitted */\n",
       "  background-color: var(--sklearn-color-unfitted-level-0);\n",
       "}\n",
       "\n",
       "#sk-container-id-1 div.sk-estimator.fitted {\n",
       "  /* fitted */\n",
       "  background-color: var(--sklearn-color-fitted-level-0);\n",
       "}\n",
       "\n",
       "/* on hover */\n",
       "#sk-container-id-1 div.sk-estimator:hover {\n",
       "  /* unfitted */\n",
       "  background-color: var(--sklearn-color-unfitted-level-2);\n",
       "}\n",
       "\n",
       "#sk-container-id-1 div.sk-estimator.fitted:hover {\n",
       "  /* fitted */\n",
       "  background-color: var(--sklearn-color-fitted-level-2);\n",
       "}\n",
       "\n",
       "/* Specification for estimator info (e.g. \"i\" and \"?\") */\n",
       "\n",
       "/* Common style for \"i\" and \"?\" */\n",
       "\n",
       ".sk-estimator-doc-link,\n",
       "a:link.sk-estimator-doc-link,\n",
       "a:visited.sk-estimator-doc-link {\n",
       "  float: right;\n",
       "  font-size: smaller;\n",
       "  line-height: 1em;\n",
       "  font-family: monospace;\n",
       "  background-color: var(--sklearn-color-background);\n",
       "  border-radius: 1em;\n",
       "  height: 1em;\n",
       "  width: 1em;\n",
       "  text-decoration: none !important;\n",
       "  margin-left: 1ex;\n",
       "  /* unfitted */\n",
       "  border: var(--sklearn-color-unfitted-level-1) 1pt solid;\n",
       "  color: var(--sklearn-color-unfitted-level-1);\n",
       "}\n",
       "\n",
       ".sk-estimator-doc-link.fitted,\n",
       "a:link.sk-estimator-doc-link.fitted,\n",
       "a:visited.sk-estimator-doc-link.fitted {\n",
       "  /* fitted */\n",
       "  border: var(--sklearn-color-fitted-level-1) 1pt solid;\n",
       "  color: var(--sklearn-color-fitted-level-1);\n",
       "}\n",
       "\n",
       "/* On hover */\n",
       "div.sk-estimator:hover .sk-estimator-doc-link:hover,\n",
       ".sk-estimator-doc-link:hover,\n",
       "div.sk-label-container:hover .sk-estimator-doc-link:hover,\n",
       ".sk-estimator-doc-link:hover {\n",
       "  /* unfitted */\n",
       "  background-color: var(--sklearn-color-unfitted-level-3);\n",
       "  color: var(--sklearn-color-background);\n",
       "  text-decoration: none;\n",
       "}\n",
       "\n",
       "div.sk-estimator.fitted:hover .sk-estimator-doc-link.fitted:hover,\n",
       ".sk-estimator-doc-link.fitted:hover,\n",
       "div.sk-label-container:hover .sk-estimator-doc-link.fitted:hover,\n",
       ".sk-estimator-doc-link.fitted:hover {\n",
       "  /* fitted */\n",
       "  background-color: var(--sklearn-color-fitted-level-3);\n",
       "  color: var(--sklearn-color-background);\n",
       "  text-decoration: none;\n",
       "}\n",
       "\n",
       "/* Span, style for the box shown on hovering the info icon */\n",
       ".sk-estimator-doc-link span {\n",
       "  display: none;\n",
       "  z-index: 9999;\n",
       "  position: relative;\n",
       "  font-weight: normal;\n",
       "  right: .2ex;\n",
       "  padding: .5ex;\n",
       "  margin: .5ex;\n",
       "  width: min-content;\n",
       "  min-width: 20ex;\n",
       "  max-width: 50ex;\n",
       "  color: var(--sklearn-color-text);\n",
       "  box-shadow: 2pt 2pt 4pt #999;\n",
       "  /* unfitted */\n",
       "  background: var(--sklearn-color-unfitted-level-0);\n",
       "  border: .5pt solid var(--sklearn-color-unfitted-level-3);\n",
       "}\n",
       "\n",
       ".sk-estimator-doc-link.fitted span {\n",
       "  /* fitted */\n",
       "  background: var(--sklearn-color-fitted-level-0);\n",
       "  border: var(--sklearn-color-fitted-level-3);\n",
       "}\n",
       "\n",
       ".sk-estimator-doc-link:hover span {\n",
       "  display: block;\n",
       "}\n",
       "\n",
       "/* \"?\"-specific style due to the `<a>` HTML tag */\n",
       "\n",
       "#sk-container-id-1 a.estimator_doc_link {\n",
       "  float: right;\n",
       "  font-size: 1rem;\n",
       "  line-height: 1em;\n",
       "  font-family: monospace;\n",
       "  background-color: var(--sklearn-color-background);\n",
       "  border-radius: 1rem;\n",
       "  height: 1rem;\n",
       "  width: 1rem;\n",
       "  text-decoration: none;\n",
       "  /* unfitted */\n",
       "  color: var(--sklearn-color-unfitted-level-1);\n",
       "  border: var(--sklearn-color-unfitted-level-1) 1pt solid;\n",
       "}\n",
       "\n",
       "#sk-container-id-1 a.estimator_doc_link.fitted {\n",
       "  /* fitted */\n",
       "  border: var(--sklearn-color-fitted-level-1) 1pt solid;\n",
       "  color: var(--sklearn-color-fitted-level-1);\n",
       "}\n",
       "\n",
       "/* On hover */\n",
       "#sk-container-id-1 a.estimator_doc_link:hover {\n",
       "  /* unfitted */\n",
       "  background-color: var(--sklearn-color-unfitted-level-3);\n",
       "  color: var(--sklearn-color-background);\n",
       "  text-decoration: none;\n",
       "}\n",
       "\n",
       "#sk-container-id-1 a.estimator_doc_link.fitted:hover {\n",
       "  /* fitted */\n",
       "  background-color: var(--sklearn-color-fitted-level-3);\n",
       "}\n",
       "</style><div id=\"sk-container-id-1\" class=\"sk-top-container\"><div class=\"sk-text-repr-fallback\"><pre>StandardScaler()</pre><b>In a Jupyter environment, please rerun this cell to show the HTML representation or trust the notebook. <br />On GitHub, the HTML representation is unable to render, please try loading this page with nbviewer.org.</b></div><div class=\"sk-container\" hidden><div class=\"sk-item\"><div class=\"sk-estimator  sk-toggleable\"><input class=\"sk-toggleable__control sk-hidden--visually\" id=\"sk-estimator-id-1\" type=\"checkbox\" checked><label for=\"sk-estimator-id-1\" class=\"sk-toggleable__label  sk-toggleable__label-arrow \">&nbsp;&nbsp;StandardScaler<a class=\"sk-estimator-doc-link \" rel=\"noreferrer\" target=\"_blank\" href=\"https://scikit-learn.org/1.5/modules/generated/sklearn.preprocessing.StandardScaler.html\">?<span>Documentation for StandardScaler</span></a><span class=\"sk-estimator-doc-link \">i<span>Not fitted</span></span></label><div class=\"sk-toggleable__content \"><pre>StandardScaler()</pre></div> </div></div></div></div>"
      ],
      "text/plain": [
       "StandardScaler()"
      ]
     },
     "execution_count": 76,
     "metadata": {},
     "output_type": "execute_result"
    }
   ],
   "source": [
    "scaler = StandardScaler()\n",
    "scaler"
   ]
  },
  {
   "cell_type": "code",
   "execution_count": 77,
   "id": "b0af00c0-6045-4cd7-8e4f-f6b95f8db1e3",
   "metadata": {},
   "outputs": [],
   "source": [
    "scaled_data = scaler.fit_transform(neural_df)\n",
    "neural_df = pd.DataFrame(scaled_data, columns=neural_df.columns)"
   ]
  },
  {
   "cell_type": "code",
   "execution_count": 78,
   "id": "18c18119-5073-493a-8317-aa45ef5b1c6d",
   "metadata": {},
   "outputs": [
    {
     "data": {
      "text/plain": [
       "(16386, 183)"
      ]
     },
     "execution_count": 78,
     "metadata": {},
     "output_type": "execute_result"
    }
   ],
   "source": [
    "neural_df.shape"
   ]
  },
  {
   "cell_type": "code",
   "execution_count": 79,
   "id": "15caf73a-bf40-4843-93c5-10d037e5b4ad",
   "metadata": {},
   "outputs": [
    {
     "data": {
      "text/html": [
       "<div>\n",
       "<style scoped>\n",
       "    .dataframe tbody tr th:only-of-type {\n",
       "        vertical-align: middle;\n",
       "    }\n",
       "\n",
       "    .dataframe tbody tr th {\n",
       "        vertical-align: top;\n",
       "    }\n",
       "\n",
       "    .dataframe thead th {\n",
       "        text-align: right;\n",
       "    }\n",
       "</style>\n",
       "<table border=\"1\" class=\"dataframe\">\n",
       "  <thead>\n",
       "    <tr style=\"text-align: right;\">\n",
       "      <th></th>\n",
       "      <th>id</th>\n",
       "      <th>t1__Fluency in English based on introduction_Natural Stutter and Stammer</th>\n",
       "      <th>t1__Fluency in English based on introduction_Taking gaps while speaking due to lack of content but does not stammer or stutter</th>\n",
       "      <th>t1__Fluency in English based on introduction_Trying but Not Able to speak clearly &amp; Fumbles a lot</th>\n",
       "      <th>t1__Candidate Status_Experienced in non client facing(equal to or more than 6 months)</th>\n",
       "      <th>t1__Candidate Status_Fresher(only 2022 grad)</th>\n",
       "      <th>t1__Candidate Status_Lateral(2021 and before with (less than 6 months) experience)</th>\n",
       "      <th>t1__Role Location to be given to the candidate_Ahmedabad</th>\n",
       "      <th>t1__Role Location to be given to the candidate_Ahmednagar</th>\n",
       "      <th>t1__Role Location to be given to the candidate_Ajmer</th>\n",
       "      <th>...</th>\n",
       "      <th>Structured Thinking (In regional only).1</th>\n",
       "      <th>Structured Thinking Based on the PPT Question.1</th>\n",
       "      <th>Structured Thinking( Call pitch).1</th>\n",
       "      <th>Regional fluency based on the topic given  .1</th>\n",
       "      <th>Regional fluency Based on the PPT Question.1</th>\n",
       "      <th>Regional fluency based on the  sales scenario.1</th>\n",
       "      <th>Confidence Score</th>\n",
       "      <th>Structured Thinking Score</th>\n",
       "      <th>Regional Fluency Score</th>\n",
       "      <th>Total Score</th>\n",
       "    </tr>\n",
       "  </thead>\n",
       "  <tbody>\n",
       "    <tr>\n",
       "      <th>0</th>\n",
       "      <td>-1.727100</td>\n",
       "      <td>-0.053058</td>\n",
       "      <td>-0.999878</td>\n",
       "      <td>-0.321843</td>\n",
       "      <td>2.267020</td>\n",
       "      <td>-0.920403</td>\n",
       "      <td>-0.493392</td>\n",
       "      <td>-0.08838</td>\n",
       "      <td>-0.050693</td>\n",
       "      <td>-0.040626</td>\n",
       "      <td>...</td>\n",
       "      <td>-0.618165</td>\n",
       "      <td>1.023919</td>\n",
       "      <td>-0.426360</td>\n",
       "      <td>-1.085582</td>\n",
       "      <td>-1.059200</td>\n",
       "      <td>-1.041109</td>\n",
       "      <td>0.954486</td>\n",
       "      <td>-0.022234</td>\n",
       "      <td>-1.313993</td>\n",
       "      <td>-0.195651</td>\n",
       "    </tr>\n",
       "    <tr>\n",
       "      <th>1</th>\n",
       "      <td>-1.726915</td>\n",
       "      <td>-0.053058</td>\n",
       "      <td>-0.999878</td>\n",
       "      <td>-0.321843</td>\n",
       "      <td>-0.441108</td>\n",
       "      <td>-0.920403</td>\n",
       "      <td>2.026784</td>\n",
       "      <td>-0.08838</td>\n",
       "      <td>-0.050693</td>\n",
       "      <td>-0.040626</td>\n",
       "      <td>...</td>\n",
       "      <td>0.988633</td>\n",
       "      <td>1.023919</td>\n",
       "      <td>1.004679</td>\n",
       "      <td>0.985358</td>\n",
       "      <td>1.028621</td>\n",
       "      <td>1.064106</td>\n",
       "      <td>1.418863</td>\n",
       "      <td>1.256117</td>\n",
       "      <td>1.269118</td>\n",
       "      <td>1.511448</td>\n",
       "    </tr>\n",
       "    <tr>\n",
       "      <th>2</th>\n",
       "      <td>-1.726730</td>\n",
       "      <td>-0.053058</td>\n",
       "      <td>-0.999878</td>\n",
       "      <td>-0.321843</td>\n",
       "      <td>-0.441108</td>\n",
       "      <td>1.086480</td>\n",
       "      <td>-0.493392</td>\n",
       "      <td>-0.08838</td>\n",
       "      <td>-0.050693</td>\n",
       "      <td>-0.040626</td>\n",
       "      <td>...</td>\n",
       "      <td>0.988633</td>\n",
       "      <td>1.023919</td>\n",
       "      <td>1.004679</td>\n",
       "      <td>0.985358</td>\n",
       "      <td>-1.059200</td>\n",
       "      <td>1.064106</td>\n",
       "      <td>0.490109</td>\n",
       "      <td>1.256117</td>\n",
       "      <td>0.408081</td>\n",
       "      <td>0.752738</td>\n",
       "    </tr>\n",
       "    <tr>\n",
       "      <th>3</th>\n",
       "      <td>-1.726545</td>\n",
       "      <td>-0.053058</td>\n",
       "      <td>-0.999878</td>\n",
       "      <td>-0.321843</td>\n",
       "      <td>-0.441108</td>\n",
       "      <td>1.086480</td>\n",
       "      <td>-0.493392</td>\n",
       "      <td>-0.08838</td>\n",
       "      <td>-0.050693</td>\n",
       "      <td>-0.040626</td>\n",
       "      <td>...</td>\n",
       "      <td>0.988633</td>\n",
       "      <td>1.023919</td>\n",
       "      <td>1.004679</td>\n",
       "      <td>0.985358</td>\n",
       "      <td>1.028621</td>\n",
       "      <td>1.064106</td>\n",
       "      <td>1.418863</td>\n",
       "      <td>1.256117</td>\n",
       "      <td>1.269118</td>\n",
       "      <td>1.511448</td>\n",
       "    </tr>\n",
       "    <tr>\n",
       "      <th>4</th>\n",
       "      <td>-1.726360</td>\n",
       "      <td>-0.053058</td>\n",
       "      <td>1.000122</td>\n",
       "      <td>-0.321843</td>\n",
       "      <td>-0.441108</td>\n",
       "      <td>1.086480</td>\n",
       "      <td>-0.493392</td>\n",
       "      <td>-0.08838</td>\n",
       "      <td>-0.050693</td>\n",
       "      <td>-0.040626</td>\n",
       "      <td>...</td>\n",
       "      <td>-0.618165</td>\n",
       "      <td>-0.556520</td>\n",
       "      <td>-1.857399</td>\n",
       "      <td>0.985358</td>\n",
       "      <td>-1.059200</td>\n",
       "      <td>1.064106</td>\n",
       "      <td>0.490109</td>\n",
       "      <td>-1.300585</td>\n",
       "      <td>0.408081</td>\n",
       "      <td>-0.005973</td>\n",
       "    </tr>\n",
       "  </tbody>\n",
       "</table>\n",
       "<p>5 rows × 183 columns</p>\n",
       "</div>"
      ],
      "text/plain": [
       "         id  \\\n",
       "0 -1.727100   \n",
       "1 -1.726915   \n",
       "2 -1.726730   \n",
       "3 -1.726545   \n",
       "4 -1.726360   \n",
       "\n",
       "   t1__Fluency in English based on introduction_Natural Stutter and Stammer  \\\n",
       "0                                          -0.053058                          \n",
       "1                                          -0.053058                          \n",
       "2                                          -0.053058                          \n",
       "3                                          -0.053058                          \n",
       "4                                          -0.053058                          \n",
       "\n",
       "   t1__Fluency in English based on introduction_Taking gaps while speaking due to lack of content but does not stammer or stutter  \\\n",
       "0                                          -0.999878                                                                                \n",
       "1                                          -0.999878                                                                                \n",
       "2                                          -0.999878                                                                                \n",
       "3                                          -0.999878                                                                                \n",
       "4                                           1.000122                                                                                \n",
       "\n",
       "   t1__Fluency in English based on introduction_Trying but Not Able to speak clearly & Fumbles a lot  \\\n",
       "0                                          -0.321843                                                   \n",
       "1                                          -0.321843                                                   \n",
       "2                                          -0.321843                                                   \n",
       "3                                          -0.321843                                                   \n",
       "4                                          -0.321843                                                   \n",
       "\n",
       "   t1__Candidate Status_Experienced in non client facing(equal to or more than 6 months)  \\\n",
       "0                                           2.267020                                       \n",
       "1                                          -0.441108                                       \n",
       "2                                          -0.441108                                       \n",
       "3                                          -0.441108                                       \n",
       "4                                          -0.441108                                       \n",
       "\n",
       "   t1__Candidate Status_Fresher(only 2022 grad)  \\\n",
       "0                                     -0.920403   \n",
       "1                                     -0.920403   \n",
       "2                                      1.086480   \n",
       "3                                      1.086480   \n",
       "4                                      1.086480   \n",
       "\n",
       "   t1__Candidate Status_Lateral(2021 and before with (less than 6 months) experience)  \\\n",
       "0                                          -0.493392                                    \n",
       "1                                           2.026784                                    \n",
       "2                                          -0.493392                                    \n",
       "3                                          -0.493392                                    \n",
       "4                                          -0.493392                                    \n",
       "\n",
       "   t1__Role Location to be given to the candidate_Ahmedabad   \\\n",
       "0                                           -0.08838           \n",
       "1                                           -0.08838           \n",
       "2                                           -0.08838           \n",
       "3                                           -0.08838           \n",
       "4                                           -0.08838           \n",
       "\n",
       "   t1__Role Location to be given to the candidate_Ahmednagar   \\\n",
       "0                                          -0.050693            \n",
       "1                                          -0.050693            \n",
       "2                                          -0.050693            \n",
       "3                                          -0.050693            \n",
       "4                                          -0.050693            \n",
       "\n",
       "   t1__Role Location to be given to the candidate_Ajmer   ...  \\\n",
       "0                                          -0.040626      ...   \n",
       "1                                          -0.040626      ...   \n",
       "2                                          -0.040626      ...   \n",
       "3                                          -0.040626      ...   \n",
       "4                                          -0.040626      ...   \n",
       "\n",
       "   Structured Thinking (In regional only).1  \\\n",
       "0                                 -0.618165   \n",
       "1                                  0.988633   \n",
       "2                                  0.988633   \n",
       "3                                  0.988633   \n",
       "4                                 -0.618165   \n",
       "\n",
       "   Structured Thinking Based on the PPT Question.1  \\\n",
       "0                                         1.023919   \n",
       "1                                         1.023919   \n",
       "2                                         1.023919   \n",
       "3                                         1.023919   \n",
       "4                                        -0.556520   \n",
       "\n",
       "   Structured Thinking( Call pitch).1  \\\n",
       "0                           -0.426360   \n",
       "1                            1.004679   \n",
       "2                            1.004679   \n",
       "3                            1.004679   \n",
       "4                           -1.857399   \n",
       "\n",
       "   Regional fluency based on the topic given  .1  \\\n",
       "0                                      -1.085582   \n",
       "1                                       0.985358   \n",
       "2                                       0.985358   \n",
       "3                                       0.985358   \n",
       "4                                       0.985358   \n",
       "\n",
       "   Regional fluency Based on the PPT Question.1  \\\n",
       "0                                     -1.059200   \n",
       "1                                      1.028621   \n",
       "2                                     -1.059200   \n",
       "3                                      1.028621   \n",
       "4                                     -1.059200   \n",
       "\n",
       "   Regional fluency based on the  sales scenario.1  Confidence Score  \\\n",
       "0                                        -1.041109          0.954486   \n",
       "1                                         1.064106          1.418863   \n",
       "2                                         1.064106          0.490109   \n",
       "3                                         1.064106          1.418863   \n",
       "4                                         1.064106          0.490109   \n",
       "\n",
       "   Structured Thinking Score  Regional Fluency Score  Total Score  \n",
       "0                  -0.022234               -1.313993    -0.195651  \n",
       "1                   1.256117                1.269118     1.511448  \n",
       "2                   1.256117                0.408081     0.752738  \n",
       "3                   1.256117                1.269118     1.511448  \n",
       "4                  -1.300585                0.408081    -0.005973  \n",
       "\n",
       "[5 rows x 183 columns]"
      ]
     },
     "execution_count": 79,
     "metadata": {},
     "output_type": "execute_result"
    }
   ],
   "source": [
    "neural_df.head()"
   ]
  },
  {
   "cell_type": "markdown",
   "id": "5e2bf50f-7c69-4ac7-bb0a-0d081b89bb33",
   "metadata": {},
   "source": [
    "# Principal Component Analysis(PCA) for Dimensionality Reduction\n",
    "**Required to reduce the number of features**"
   ]
  },
  {
   "cell_type": "code",
   "execution_count": 81,
   "id": "2d4dad86-81a8-4401-af48-9559d86e33d3",
   "metadata": {},
   "outputs": [],
   "source": [
    "pca = PCA(n_components=0.95)\n",
    "neural_pca = pca.fit_transform(neural_df)"
   ]
  },
  {
   "cell_type": "code",
   "execution_count": 82,
   "id": "f36e8a54-4fcc-4057-bf45-9aad8ba927ac",
   "metadata": {},
   "outputs": [
    {
     "data": {
      "text/plain": [
       "numpy.ndarray"
      ]
     },
     "execution_count": 82,
     "metadata": {},
     "output_type": "execute_result"
    }
   ],
   "source": [
    "type(neural_pca)"
   ]
  },
  {
   "cell_type": "code",
   "execution_count": 83,
   "id": "a4e10c37-9039-4432-99dc-7cc2e4cdd243",
   "metadata": {},
   "outputs": [],
   "source": [
    "features_names = pca.get_feature_names_out()\n",
    "neural_df = pd.DataFrame(neural_pca, columns=features_names)"
   ]
  },
  {
   "cell_type": "code",
   "execution_count": 84,
   "id": "cc4dd3b4-6166-4cf2-98de-6632a6e33fbe",
   "metadata": {},
   "outputs": [
    {
     "data": {
      "text/plain": [
       "pandas.core.frame.DataFrame"
      ]
     },
     "execution_count": 84,
     "metadata": {},
     "output_type": "execute_result"
    }
   ],
   "source": [
    "type(neural_df)"
   ]
  },
  {
   "cell_type": "code",
   "execution_count": 85,
   "id": "ed4fd3b8-fa05-477b-ab9d-4cbaa878c331",
   "metadata": {},
   "outputs": [
    {
     "data": {
      "text/plain": [
       "(16386, 157)"
      ]
     },
     "execution_count": 85,
     "metadata": {},
     "output_type": "execute_result"
    }
   ],
   "source": [
    "neural_df.shape"
   ]
  },
  {
   "cell_type": "code",
   "execution_count": 86,
   "id": "9ae806da-bd97-43a7-b358-f1787fdb4549",
   "metadata": {},
   "outputs": [
    {
     "data": {
      "text/html": [
       "<div>\n",
       "<style scoped>\n",
       "    .dataframe tbody tr th:only-of-type {\n",
       "        vertical-align: middle;\n",
       "    }\n",
       "\n",
       "    .dataframe tbody tr th {\n",
       "        vertical-align: top;\n",
       "    }\n",
       "\n",
       "    .dataframe thead th {\n",
       "        text-align: right;\n",
       "    }\n",
       "</style>\n",
       "<table border=\"1\" class=\"dataframe\">\n",
       "  <thead>\n",
       "    <tr style=\"text-align: right;\">\n",
       "      <th></th>\n",
       "      <th>pca0</th>\n",
       "      <th>pca1</th>\n",
       "      <th>pca2</th>\n",
       "      <th>pca3</th>\n",
       "      <th>pca4</th>\n",
       "      <th>pca5</th>\n",
       "      <th>pca6</th>\n",
       "      <th>pca7</th>\n",
       "      <th>pca8</th>\n",
       "      <th>pca9</th>\n",
       "      <th>...</th>\n",
       "      <th>pca147</th>\n",
       "      <th>pca148</th>\n",
       "      <th>pca149</th>\n",
       "      <th>pca150</th>\n",
       "      <th>pca151</th>\n",
       "      <th>pca152</th>\n",
       "      <th>pca153</th>\n",
       "      <th>pca154</th>\n",
       "      <th>pca155</th>\n",
       "      <th>pca156</th>\n",
       "    </tr>\n",
       "  </thead>\n",
       "  <tbody>\n",
       "    <tr>\n",
       "      <th>0</th>\n",
       "      <td>-0.190595</td>\n",
       "      <td>1.603640</td>\n",
       "      <td>-1.923272</td>\n",
       "      <td>0.476262</td>\n",
       "      <td>-2.757752</td>\n",
       "      <td>2.376733</td>\n",
       "      <td>-1.114562</td>\n",
       "      <td>0.024991</td>\n",
       "      <td>0.462876</td>\n",
       "      <td>-1.535030</td>\n",
       "      <td>...</td>\n",
       "      <td>0.112733</td>\n",
       "      <td>0.165646</td>\n",
       "      <td>0.808095</td>\n",
       "      <td>-0.063254</td>\n",
       "      <td>-0.231634</td>\n",
       "      <td>0.191869</td>\n",
       "      <td>-1.244860</td>\n",
       "      <td>0.169024</td>\n",
       "      <td>-0.369306</td>\n",
       "      <td>0.101116</td>\n",
       "    </tr>\n",
       "    <tr>\n",
       "      <th>1</th>\n",
       "      <td>3.811756</td>\n",
       "      <td>-0.770714</td>\n",
       "      <td>2.471994</td>\n",
       "      <td>-0.952621</td>\n",
       "      <td>-2.699456</td>\n",
       "      <td>0.454274</td>\n",
       "      <td>-0.260872</td>\n",
       "      <td>2.405846</td>\n",
       "      <td>-0.726385</td>\n",
       "      <td>1.073021</td>\n",
       "      <td>...</td>\n",
       "      <td>-0.241896</td>\n",
       "      <td>0.806371</td>\n",
       "      <td>-0.126276</td>\n",
       "      <td>-0.145195</td>\n",
       "      <td>-0.013398</td>\n",
       "      <td>-0.155182</td>\n",
       "      <td>0.163951</td>\n",
       "      <td>-0.464314</td>\n",
       "      <td>-0.250800</td>\n",
       "      <td>0.840069</td>\n",
       "    </tr>\n",
       "    <tr>\n",
       "      <th>2</th>\n",
       "      <td>2.875870</td>\n",
       "      <td>0.006112</td>\n",
       "      <td>-1.365300</td>\n",
       "      <td>-0.357709</td>\n",
       "      <td>-0.979919</td>\n",
       "      <td>-1.013026</td>\n",
       "      <td>1.287534</td>\n",
       "      <td>0.274170</td>\n",
       "      <td>-1.181975</td>\n",
       "      <td>-0.077841</td>\n",
       "      <td>...</td>\n",
       "      <td>-0.134603</td>\n",
       "      <td>-0.207796</td>\n",
       "      <td>-0.027161</td>\n",
       "      <td>-0.215581</td>\n",
       "      <td>1.175728</td>\n",
       "      <td>0.499223</td>\n",
       "      <td>0.720948</td>\n",
       "      <td>2.133465</td>\n",
       "      <td>-0.603323</td>\n",
       "      <td>0.533190</td>\n",
       "    </tr>\n",
       "    <tr>\n",
       "      <th>3</th>\n",
       "      <td>4.591949</td>\n",
       "      <td>-2.451700</td>\n",
       "      <td>-0.439728</td>\n",
       "      <td>-0.381282</td>\n",
       "      <td>-0.806903</td>\n",
       "      <td>-1.278485</td>\n",
       "      <td>2.032766</td>\n",
       "      <td>-0.549691</td>\n",
       "      <td>-0.342157</td>\n",
       "      <td>-0.477531</td>\n",
       "      <td>...</td>\n",
       "      <td>-0.163578</td>\n",
       "      <td>0.109474</td>\n",
       "      <td>0.281468</td>\n",
       "      <td>0.147277</td>\n",
       "      <td>0.036758</td>\n",
       "      <td>-0.341363</td>\n",
       "      <td>-0.127240</td>\n",
       "      <td>-0.820484</td>\n",
       "      <td>-0.488195</td>\n",
       "      <td>-0.516699</td>\n",
       "    </tr>\n",
       "    <tr>\n",
       "      <th>4</th>\n",
       "      <td>-0.694341</td>\n",
       "      <td>-1.542599</td>\n",
       "      <td>-0.394311</td>\n",
       "      <td>-1.109023</td>\n",
       "      <td>-1.226698</td>\n",
       "      <td>-0.300969</td>\n",
       "      <td>-1.264556</td>\n",
       "      <td>-0.497095</td>\n",
       "      <td>0.662038</td>\n",
       "      <td>-0.296847</td>\n",
       "      <td>...</td>\n",
       "      <td>-0.431429</td>\n",
       "      <td>-0.917939</td>\n",
       "      <td>-0.324805</td>\n",
       "      <td>-0.592903</td>\n",
       "      <td>0.013651</td>\n",
       "      <td>1.856939</td>\n",
       "      <td>0.084294</td>\n",
       "      <td>0.050644</td>\n",
       "      <td>0.831888</td>\n",
       "      <td>-0.579280</td>\n",
       "    </tr>\n",
       "  </tbody>\n",
       "</table>\n",
       "<p>5 rows × 157 columns</p>\n",
       "</div>"
      ],
      "text/plain": [
       "       pca0      pca1      pca2      pca3      pca4      pca5      pca6  \\\n",
       "0 -0.190595  1.603640 -1.923272  0.476262 -2.757752  2.376733 -1.114562   \n",
       "1  3.811756 -0.770714  2.471994 -0.952621 -2.699456  0.454274 -0.260872   \n",
       "2  2.875870  0.006112 -1.365300 -0.357709 -0.979919 -1.013026  1.287534   \n",
       "3  4.591949 -2.451700 -0.439728 -0.381282 -0.806903 -1.278485  2.032766   \n",
       "4 -0.694341 -1.542599 -0.394311 -1.109023 -1.226698 -0.300969 -1.264556   \n",
       "\n",
       "       pca7      pca8      pca9  ...    pca147    pca148    pca149    pca150  \\\n",
       "0  0.024991  0.462876 -1.535030  ...  0.112733  0.165646  0.808095 -0.063254   \n",
       "1  2.405846 -0.726385  1.073021  ... -0.241896  0.806371 -0.126276 -0.145195   \n",
       "2  0.274170 -1.181975 -0.077841  ... -0.134603 -0.207796 -0.027161 -0.215581   \n",
       "3 -0.549691 -0.342157 -0.477531  ... -0.163578  0.109474  0.281468  0.147277   \n",
       "4 -0.497095  0.662038 -0.296847  ... -0.431429 -0.917939 -0.324805 -0.592903   \n",
       "\n",
       "     pca151    pca152    pca153    pca154    pca155    pca156  \n",
       "0 -0.231634  0.191869 -1.244860  0.169024 -0.369306  0.101116  \n",
       "1 -0.013398 -0.155182  0.163951 -0.464314 -0.250800  0.840069  \n",
       "2  1.175728  0.499223  0.720948  2.133465 -0.603323  0.533190  \n",
       "3  0.036758 -0.341363 -0.127240 -0.820484 -0.488195 -0.516699  \n",
       "4  0.013651  1.856939  0.084294  0.050644  0.831888 -0.579280  \n",
       "\n",
       "[5 rows x 157 columns]"
      ]
     },
     "execution_count": 86,
     "metadata": {},
     "output_type": "execute_result"
    }
   ],
   "source": [
    "neural_df.head()"
   ]
  },
  {
   "cell_type": "code",
   "execution_count": 87,
   "id": "40ff7cb6-8e73-448e-a487-80cf4f19a172",
   "metadata": {},
   "outputs": [
    {
     "data": {
      "text/html": [
       "<div>\n",
       "<style scoped>\n",
       "    .dataframe tbody tr th:only-of-type {\n",
       "        vertical-align: middle;\n",
       "    }\n",
       "\n",
       "    .dataframe tbody tr th {\n",
       "        vertical-align: top;\n",
       "    }\n",
       "\n",
       "    .dataframe thead th {\n",
       "        text-align: right;\n",
       "    }\n",
       "</style>\n",
       "<table border=\"1\" class=\"dataframe\">\n",
       "  <thead>\n",
       "    <tr style=\"text-align: right;\">\n",
       "      <th></th>\n",
       "      <th>id</th>\n",
       "      <th>Whether joined the company or not</th>\n",
       "    </tr>\n",
       "  </thead>\n",
       "  <tbody>\n",
       "    <tr>\n",
       "      <th>0</th>\n",
       "      <td>0</td>\n",
       "      <td>0</td>\n",
       "    </tr>\n",
       "    <tr>\n",
       "      <th>1</th>\n",
       "      <td>1</td>\n",
       "      <td>0</td>\n",
       "    </tr>\n",
       "    <tr>\n",
       "      <th>2</th>\n",
       "      <td>2</td>\n",
       "      <td>1</td>\n",
       "    </tr>\n",
       "    <tr>\n",
       "      <th>3</th>\n",
       "      <td>3</td>\n",
       "      <td>1</td>\n",
       "    </tr>\n",
       "    <tr>\n",
       "      <th>4</th>\n",
       "      <td>4</td>\n",
       "      <td>0</td>\n",
       "    </tr>\n",
       "  </tbody>\n",
       "</table>\n",
       "</div>"
      ],
      "text/plain": [
       "   id  Whether joined the company or not\n",
       "0   0                                  0\n",
       "1   1                                  0\n",
       "2   2                                  1\n",
       "3   3                                  1\n",
       "4   4                                  0"
      ]
     },
     "execution_count": 87,
     "metadata": {},
     "output_type": "execute_result"
    }
   ],
   "source": [
    "df.head()"
   ]
  },
  {
   "cell_type": "code",
   "execution_count": 88,
   "id": "6f60c206-a54e-4741-b20d-7d8eaa655955",
   "metadata": {},
   "outputs": [],
   "source": [
    "df = df.join([neural_df], how='inner')"
   ]
  },
  {
   "cell_type": "code",
   "execution_count": 89,
   "id": "6fc097a7-f898-476c-803f-e36564998fec",
   "metadata": {},
   "outputs": [
    {
     "data": {
      "text/html": [
       "<div>\n",
       "<style scoped>\n",
       "    .dataframe tbody tr th:only-of-type {\n",
       "        vertical-align: middle;\n",
       "    }\n",
       "\n",
       "    .dataframe tbody tr th {\n",
       "        vertical-align: top;\n",
       "    }\n",
       "\n",
       "    .dataframe thead th {\n",
       "        text-align: right;\n",
       "    }\n",
       "</style>\n",
       "<table border=\"1\" class=\"dataframe\">\n",
       "  <thead>\n",
       "    <tr style=\"text-align: right;\">\n",
       "      <th></th>\n",
       "      <th>id</th>\n",
       "      <th>Whether joined the company or not</th>\n",
       "      <th>pca0</th>\n",
       "      <th>pca1</th>\n",
       "      <th>pca2</th>\n",
       "      <th>pca3</th>\n",
       "      <th>pca4</th>\n",
       "      <th>pca5</th>\n",
       "      <th>pca6</th>\n",
       "      <th>pca7</th>\n",
       "      <th>...</th>\n",
       "      <th>pca147</th>\n",
       "      <th>pca148</th>\n",
       "      <th>pca149</th>\n",
       "      <th>pca150</th>\n",
       "      <th>pca151</th>\n",
       "      <th>pca152</th>\n",
       "      <th>pca153</th>\n",
       "      <th>pca154</th>\n",
       "      <th>pca155</th>\n",
       "      <th>pca156</th>\n",
       "    </tr>\n",
       "  </thead>\n",
       "  <tbody>\n",
       "    <tr>\n",
       "      <th>0</th>\n",
       "      <td>0</td>\n",
       "      <td>0</td>\n",
       "      <td>-0.190595</td>\n",
       "      <td>1.603640</td>\n",
       "      <td>-1.923272</td>\n",
       "      <td>0.476262</td>\n",
       "      <td>-2.757752</td>\n",
       "      <td>2.376733</td>\n",
       "      <td>-1.114562</td>\n",
       "      <td>0.024991</td>\n",
       "      <td>...</td>\n",
       "      <td>0.112733</td>\n",
       "      <td>0.165646</td>\n",
       "      <td>0.808095</td>\n",
       "      <td>-0.063254</td>\n",
       "      <td>-0.231634</td>\n",
       "      <td>0.191869</td>\n",
       "      <td>-1.244860</td>\n",
       "      <td>0.169024</td>\n",
       "      <td>-0.369306</td>\n",
       "      <td>0.101116</td>\n",
       "    </tr>\n",
       "    <tr>\n",
       "      <th>1</th>\n",
       "      <td>1</td>\n",
       "      <td>0</td>\n",
       "      <td>3.811756</td>\n",
       "      <td>-0.770714</td>\n",
       "      <td>2.471994</td>\n",
       "      <td>-0.952621</td>\n",
       "      <td>-2.699456</td>\n",
       "      <td>0.454274</td>\n",
       "      <td>-0.260872</td>\n",
       "      <td>2.405846</td>\n",
       "      <td>...</td>\n",
       "      <td>-0.241896</td>\n",
       "      <td>0.806371</td>\n",
       "      <td>-0.126276</td>\n",
       "      <td>-0.145195</td>\n",
       "      <td>-0.013398</td>\n",
       "      <td>-0.155182</td>\n",
       "      <td>0.163951</td>\n",
       "      <td>-0.464314</td>\n",
       "      <td>-0.250800</td>\n",
       "      <td>0.840069</td>\n",
       "    </tr>\n",
       "  </tbody>\n",
       "</table>\n",
       "<p>2 rows × 159 columns</p>\n",
       "</div>"
      ],
      "text/plain": [
       "   id  Whether joined the company or not      pca0      pca1      pca2  \\\n",
       "0   0                                  0 -0.190595  1.603640 -1.923272   \n",
       "1   1                                  0  3.811756 -0.770714  2.471994   \n",
       "\n",
       "       pca3      pca4      pca5      pca6      pca7  ...    pca147    pca148  \\\n",
       "0  0.476262 -2.757752  2.376733 -1.114562  0.024991  ...  0.112733  0.165646   \n",
       "1 -0.952621 -2.699456  0.454274 -0.260872  2.405846  ... -0.241896  0.806371   \n",
       "\n",
       "     pca149    pca150    pca151    pca152    pca153    pca154    pca155  \\\n",
       "0  0.808095 -0.063254 -0.231634  0.191869 -1.244860  0.169024 -0.369306   \n",
       "1 -0.126276 -0.145195 -0.013398 -0.155182  0.163951 -0.464314 -0.250800   \n",
       "\n",
       "     pca156  \n",
       "0  0.101116  \n",
       "1  0.840069  \n",
       "\n",
       "[2 rows x 159 columns]"
      ]
     },
     "execution_count": 89,
     "metadata": {},
     "output_type": "execute_result"
    }
   ],
   "source": [
    "df.head(2)"
   ]
  },
  {
   "cell_type": "code",
   "execution_count": 90,
   "id": "8d9b2937-5209-4695-bded-a660fdcd6520",
   "metadata": {},
   "outputs": [],
   "source": [
    "# df.drop(['id', 'Name'], axis=1, inplace=True)"
   ]
  },
  {
   "cell_type": "code",
   "execution_count": 91,
   "id": "da09571c-7d49-455c-9d65-b1c1dd5f3fc4",
   "metadata": {},
   "outputs": [],
   "source": [
    "y = df['Whether joined the company or not']\n",
    "X = df\n",
    "X.drop(['id', 'Whether joined the company or not'], axis=1, inplace=True)"
   ]
  },
  {
   "cell_type": "markdown",
   "id": "d25b9ff3-13b2-445e-b01d-a4da9447f0e0",
   "metadata": {},
   "source": [
    "<hr style=\"border: 2px dashed yellow;\">"
   ]
  },
  {
   "cell_type": "markdown",
   "id": "b03abf1c-5e16-49db-a8cd-836aa2648442",
   "metadata": {},
   "source": [
    "## Data Splitting"
   ]
  },
  {
   "cell_type": "code",
   "execution_count": 94,
   "id": "d47fd84a-8b66-4a88-9536-554bc93867ab",
   "metadata": {},
   "outputs": [],
   "source": [
    "X_train, X_test, y_train, y_test = train_test_split(X, y, test_size=0.2, random_state=42)"
   ]
  },
  {
   "cell_type": "code",
   "execution_count": 95,
   "id": "f6e5df97-df79-401c-bfe7-4f78badeeb59",
   "metadata": {},
   "outputs": [
    {
     "name": "stdout",
     "output_type": "stream",
     "text": [
      "Length of X_train: 11498\n",
      "Length of X_test: 2875\n",
      "Length of y_train: 11498\n",
      "Length of y_test: 2875\n"
     ]
    }
   ],
   "source": [
    "print(f'Length of X_train: {len(X_train)}')\n",
    "print(f'Length of X_test: {len(X_test)}')\n",
    "print(f'Length of y_train: {len(y_train)}')\n",
    "print(f'Length of y_test: {len(X_test)}')"
   ]
  },
  {
   "cell_type": "code",
   "execution_count": 96,
   "id": "aa1de390-4493-4e71-889c-9fb472dcddfe",
   "metadata": {},
   "outputs": [
    {
     "data": {
      "text/plain": [
       "(pandas.core.frame.DataFrame, pandas.core.series.Series)"
      ]
     },
     "execution_count": 96,
     "metadata": {},
     "output_type": "execute_result"
    }
   ],
   "source": [
    "type(X_train), type(y_train)"
   ]
  },
  {
   "cell_type": "markdown",
   "id": "c9052501-f329-4176-83b6-032aded484d5",
   "metadata": {},
   "source": [
    "## Dataset"
   ]
  },
  {
   "cell_type": "code",
   "execution_count": 98,
   "id": "42e7e285-ea23-4ab4-bd1e-5aa6d3e09eaf",
   "metadata": {},
   "outputs": [],
   "source": [
    "class CustomDataset(Dataset):\n",
    "    def __init__(self, features, labels):\n",
    "        self.features = torch.tensor(features.values, dtype=torch.float32)\n",
    "        self.labels = torch.tensor(labels.values, dtype=torch.float32)\n",
    "\n",
    "    def __len__(self):\n",
    "        return len(self.labels)\n",
    "\n",
    "    def __getitem__(self, idx):\n",
    "        return self.features[idx], self.labels[idx]"
   ]
  },
  {
   "cell_type": "code",
   "execution_count": 99,
   "id": "43da06dc-07ca-4283-9b9c-054c23828863",
   "metadata": {},
   "outputs": [],
   "source": [
    "train_data = CustomDataset(X_train, y_train)\n",
    "test_data = CustomDataset(X_test, y_test)"
   ]
  },
  {
   "cell_type": "code",
   "execution_count": 100,
   "id": "b337e2fe-7812-4057-8427-e504cdcbb106",
   "metadata": {},
   "outputs": [
    {
     "data": {
      "text/plain": [
       "158"
      ]
     },
     "execution_count": 100,
     "metadata": {},
     "output_type": "execute_result"
    }
   ],
   "source": [
    "X_train.shape[1]"
   ]
  },
  {
   "cell_type": "code",
   "execution_count": 226,
   "id": "1527de08-7ff2-4aa2-bd95-3714defc70e9",
   "metadata": {},
   "outputs": [
    {
     "data": {
      "text/plain": [
       "7873     1\n",
       "15516    1\n",
       "8154     1\n",
       "11654    0\n",
       "6931     1\n",
       "Name: Whether joined the company or not, dtype: int32"
      ]
     },
     "execution_count": 226,
     "metadata": {},
     "output_type": "execute_result"
    }
   ],
   "source": [
    "y_train.head()"
   ]
  },
  {
   "cell_type": "markdown",
   "id": "392a6eb7-6cbd-4fce-a032-763ea1788b63",
   "metadata": {},
   "source": [
    "## DataLoader"
   ]
  },
  {
   "cell_type": "code",
   "execution_count": 102,
   "id": "e0d7066d-3577-4686-93be-31541f9ba42f",
   "metadata": {},
   "outputs": [],
   "source": [
    "BATCH_SIZE = 16"
   ]
  },
  {
   "cell_type": "code",
   "execution_count": 103,
   "id": "62cac917-80ab-4efa-bfdd-5a2298b8d1eb",
   "metadata": {},
   "outputs": [],
   "source": [
    "train_dataloader = DataLoader(train_data, batch_size=BATCH_SIZE, shuffle=True)\n",
    "test_dataloader = DataLoader(test_data, batch_size=BATCH_SIZE, shuffle=True)"
   ]
  },
  {
   "cell_type": "code",
   "execution_count": 104,
   "id": "51fee5a5-621a-443d-904e-0379f9c31e51",
   "metadata": {},
   "outputs": [
    {
     "data": {
      "text/plain": [
       "(11498, 2875)"
      ]
     },
     "execution_count": 104,
     "metadata": {},
     "output_type": "execute_result"
    }
   ],
   "source": [
    "len(train_data), len(test_data)"
   ]
  },
  {
   "cell_type": "code",
   "execution_count": 105,
   "id": "02856cb4-1a7b-4909-8431-80c4a6629c3c",
   "metadata": {},
   "outputs": [
    {
     "data": {
      "text/plain": [
       "(719, 180)"
      ]
     },
     "execution_count": 105,
     "metadata": {},
     "output_type": "execute_result"
    }
   ],
   "source": [
    "len(train_dataloader), len(test_dataloader)"
   ]
  },
  {
   "cell_type": "markdown",
   "id": "a21c57d9-292e-4209-8e3b-4e01afd2e32c",
   "metadata": {},
   "source": [
    "## Define a Model"
   ]
  },
  {
   "cell_type": "code",
   "execution_count": 107,
   "id": "68a109dd-f232-4c3d-b89e-55312804d53a",
   "metadata": {},
   "outputs": [],
   "source": [
    "class HybridRecommender(nn.Module):\n",
    "    def __init__(self, input_size):\n",
    "        super().__init__()\n",
    "        self.network = nn.Sequential(\n",
    "            nn.Linear(input_size, 256),\n",
    "            nn.BatchNorm1d(256),\n",
    "            nn.LeakyReLU(),\n",
    "            nn.Dropout(0.3),\n",
    "            \n",
    "            nn.Linear(256, 128),\n",
    "            nn.BatchNorm1d(128),\n",
    "            nn.LeakyReLU(),\n",
    "            nn.Dropout(0.3),\n",
    "\n",
    "            nn.Linear(128, 64),\n",
    "            nn.BatchNorm1d(64),\n",
    "            nn.LeakyReLU(),\n",
    "            nn.Dropout(0.3),\n",
    "\n",
    "            nn.Linear(64, 32),\n",
    "            nn.LeakyReLU(),\n",
    "            \n",
    "            nn.Linear(32, 1),\n",
    "            nn.Sigmoid()\n",
    "        )\n",
    "\n",
    "    def forward(self, x):\n",
    "        return self.network(x)"
   ]
  },
  {
   "cell_type": "code",
   "execution_count": 108,
   "id": "03d03130-3c1a-4a17-9e2f-43c16a72a924",
   "metadata": {},
   "outputs": [
    {
     "data": {
      "text/plain": [
       "HybridRecommender(\n",
       "  (network): Sequential(\n",
       "    (0): Linear(in_features=158, out_features=256, bias=True)\n",
       "    (1): BatchNorm1d(256, eps=1e-05, momentum=0.1, affine=True, track_running_stats=True)\n",
       "    (2): LeakyReLU(negative_slope=0.01)\n",
       "    (3): Dropout(p=0.3, inplace=False)\n",
       "    (4): Linear(in_features=256, out_features=128, bias=True)\n",
       "    (5): BatchNorm1d(128, eps=1e-05, momentum=0.1, affine=True, track_running_stats=True)\n",
       "    (6): LeakyReLU(negative_slope=0.01)\n",
       "    (7): Dropout(p=0.3, inplace=False)\n",
       "    (8): Linear(in_features=128, out_features=64, bias=True)\n",
       "    (9): BatchNorm1d(64, eps=1e-05, momentum=0.1, affine=True, track_running_stats=True)\n",
       "    (10): LeakyReLU(negative_slope=0.01)\n",
       "    (11): Dropout(p=0.3, inplace=False)\n",
       "    (12): Linear(in_features=64, out_features=32, bias=True)\n",
       "    (13): LeakyReLU(negative_slope=0.01)\n",
       "    (14): Linear(in_features=32, out_features=1, bias=True)\n",
       "    (15): Sigmoid()\n",
       "  )\n",
       ")"
      ]
     },
     "execution_count": 108,
     "metadata": {},
     "output_type": "execute_result"
    }
   ],
   "source": [
    "''' Initializing the model '''\n",
    "input_size = X_train.shape[1]\n",
    "model_0 = HybridRecommender(input_size)\n",
    "model_0.to(device)"
   ]
  },
  {
   "cell_type": "code",
   "execution_count": 109,
   "id": "c644f7bc-0693-4aef-bf1a-2e6db09dc8ee",
   "metadata": {},
   "outputs": [],
   "source": [
    "''' Important Parameters '''\n",
    "learning_rate = 0.001\n",
    "epochs = 10"
   ]
  },
  {
   "cell_type": "code",
   "execution_count": 110,
   "id": "64c8db33-495f-4632-a947-7be41cc0a2a2",
   "metadata": {},
   "outputs": [],
   "source": [
    "''' Loss Function and Optimizer '''\n",
    "loss_function = nn.BCELoss()\n",
    "optimizer = torch.optim.Adam(model_0.parameters(), lr=learning_rate)"
   ]
  },
  {
   "cell_type": "markdown",
   "id": "077c0843-d1a3-4fa6-9a22-4a6c25ff729f",
   "metadata": {},
   "source": [
    "## Training Loop"
   ]
  },
  {
   "cell_type": "code",
   "execution_count": 112,
   "id": "e7fee83e-718d-4325-861b-7173cd92e376",
   "metadata": {},
   "outputs": [],
   "source": [
    "def train_step(model:torch.nn.Module,\n",
    "              dataloader:torch.utils.data.DataLoader,\n",
    "              loss_function:torch.nn.Module,\n",
    "              optimizer:torch.optim.Optimizer,\n",
    "              accuracy,\n",
    "              device:torch.device):\n",
    "\n",
    "    train_loss, train_acc = 0,0\n",
    "    model.train()\n",
    "\n",
    "    for features, labels in dataloader:\n",
    "        X, y = features.to(device), labels.to(device)\n",
    "        # Forward Pass\n",
    "        # y_pred = model(X)\n",
    "        y_logits = model(X).squeeze()\n",
    "        y_pred = torch.round(torch.sigmoid(y_logits))\n",
    "\n",
    "        # Calculate Loss and Accuracy per batch\n",
    "        # loss = loss_function(y_pred, y)\n",
    "        loss = loss_function(y_logits, y)\n",
    "        train_loss += loss.item()\n",
    "        train_acc += accuracy(y, y_pred).item()*100\n",
    "\n",
    "        # Set gradients to zero\n",
    "        optimizer.zero_grad()\n",
    "\n",
    "        # Back Propogation\n",
    "        loss.backward()\n",
    "\n",
    "        # Update the Parameters\n",
    "        optimizer.step()\n",
    "\n",
    "    train_loss /= len(dataloader)\n",
    "    train_acc /= len(dataloader)\n",
    "\n",
    "    return train_loss, train_acc"
   ]
  },
  {
   "cell_type": "markdown",
   "id": "691a96b0-dcee-4a09-b6e6-dc4dcee9487e",
   "metadata": {},
   "source": [
    "## Testing Loop"
   ]
  },
  {
   "cell_type": "code",
   "execution_count": 114,
   "id": "13589803-4347-419e-83a6-6ee3aaa0bbb2",
   "metadata": {},
   "outputs": [],
   "source": [
    "def test_step(model:torch.nn.Module,\n",
    "             dataloader:torch.utils.data.DataLoader,\n",
    "             loss_function:torch.nn.Module,\n",
    "             accuracy,\n",
    "             device:torch.device):\n",
    "\n",
    "    test_loss, test_acc = 0,0\n",
    "\n",
    "    model.eval()\n",
    "    with torch.inference_mode():\n",
    "        for features, labels in dataloader:\n",
    "            X, y = features.to(device), labels.to(device)\n",
    "            # Forward Pass\n",
    "            # test_pred = model(X)\n",
    "            test_logits = model(X).squeeze()\n",
    "            test_pred = torch.round(torch.sigmoid(test_logits))\n",
    "            \n",
    "            # Calculate Loss and Accuracy per batch\n",
    "            loss = loss_function(test_logits, y)\n",
    "            test_loss += loss.item()\n",
    "            test_acc += accuracy(y, test_pred).item()*100\n",
    "\n",
    "        test_loss /= len(dataloader)\n",
    "        test_acc /= len(dataloader)\n",
    "\n",
    "        return test_loss, test_acc"
   ]
  },
  {
   "cell_type": "markdown",
   "id": "98cfd15c-d8ef-43b0-833a-aff0c67639ee",
   "metadata": {},
   "source": [
    "## Combining Training and Testing Loop into evaluate()"
   ]
  },
  {
   "cell_type": "code",
   "execution_count": 116,
   "id": "f9b0fc99-dc4e-4a39-8021-5f9050efdc2c",
   "metadata": {},
   "outputs": [],
   "source": [
    "def evaluate(model:torch.nn.Module,\n",
    "             train_dataloader:torch.utils.data.DataLoader,\n",
    "             test_dataloader:torch.utils.data.DataLoader,\n",
    "             loss_function:torch.nn.Module,\n",
    "             optimizer:torch.optim.Optimizer,\n",
    "             accuracy,\n",
    "             device:torch.device,\n",
    "             epochs:int = 5):\n",
    "\n",
    "    model.to(device)\n",
    "    # Create empty result dictionary\n",
    "    results = {'train_loss':[],\n",
    "              'train_acc':[],\n",
    "              'test_loss':[],\n",
    "              'test_acc':[]}\n",
    "\n",
    "    # Loop through training and testing steps for the number of epochs\n",
    "    for epoch in range(epochs):\n",
    "        train_loss, train_acc = train_step(model=model,\n",
    "                                          dataloader=train_dataloader,\n",
    "                                          loss_function=loss_function,\n",
    "                                          optimizer=optimizer,\n",
    "                                          accuracy=accuracy,\n",
    "                                          device=device)\n",
    "        \n",
    "        test_loss, test_acc = test_step(model=model,\n",
    "                                          dataloader=test_dataloader,\n",
    "                                          loss_function=loss_function,\n",
    "                                          accuracy=accuracy,\n",
    "                                          device=device)\n",
    "\n",
    "        print(f'Training Loss: {train_loss:.5f} | Training Accuracy: {train_acc:.2f}% | Testing Loss: {test_loss:.5f} | Testing Accuracy: {test_acc:.2f}%')      \n",
    "\n",
    "        results['train_loss'].append(train_loss)\n",
    "        results['train_acc'].append(train_acc)\n",
    "        results['test_loss'].append(test_loss)\n",
    "        results['test_acc'].append(test_acc)\n",
    "\n",
    "    return results"
   ]
  },
  {
   "cell_type": "code",
   "execution_count": 117,
   "id": "10cc8105-663b-49ca-a48c-cd583e6c8ee9",
   "metadata": {},
   "outputs": [
    {
     "name": "stdout",
     "output_type": "stream",
     "text": [
      "Training Loss: 0.69407 | Training Accuracy: 47.42% | Testing Loss: 0.69003 | Testing Accuracy: 45.98%\n",
      "Training Loss: 0.69264 | Training Accuracy: 47.43% | Testing Loss: 0.69038 | Testing Accuracy: 45.97%\n",
      "Training Loss: 0.69206 | Training Accuracy: 47.42% | Testing Loss: 0.69003 | Testing Accuracy: 45.97%\n",
      "Training Loss: 0.69193 | Training Accuracy: 47.43% | Testing Loss: 0.69029 | Testing Accuracy: 46.00%\n",
      "Training Loss: 0.69209 | Training Accuracy: 47.43% | Testing Loss: 0.68974 | Testing Accuracy: 45.97%\n",
      "Training Loss: 0.69214 | Training Accuracy: 47.43% | Testing Loss: 0.69036 | Testing Accuracy: 45.93%\n",
      "Training Loss: 0.69200 | Training Accuracy: 47.42% | Testing Loss: 0.69037 | Testing Accuracy: 45.98%\n",
      "Training Loss: 0.69170 | Training Accuracy: 47.43% | Testing Loss: 0.69079 | Testing Accuracy: 46.00%\n",
      "Training Loss: 0.69212 | Training Accuracy: 47.43% | Testing Loss: 0.68989 | Testing Accuracy: 46.01%\n",
      "Training Loss: 0.69189 | Training Accuracy: 47.43% | Testing Loss: 0.69046 | Testing Accuracy: 46.01%\n"
     ]
    }
   ],
   "source": [
    "torch.manual_seed(42)\n",
    "accuracy = Accuracy(task='binary').to(device)\n",
    "\n",
    "model_0_results = evaluate(model=model_0,\n",
    "                        train_dataloader=train_dataloader,\n",
    "                        test_dataloader=test_dataloader,\n",
    "                        loss_function=loss_function,\n",
    "                        optimizer=optimizer,\n",
    "                        accuracy=accuracy,\n",
    "                        device=device,\n",
    "                        epochs=epochs)"
   ]
  },
  {
   "cell_type": "markdown",
   "id": "35bfc62f-8209-4cdc-95ec-045f1e6e59f9",
   "metadata": {},
   "source": [
    "## Loss and Accuracy Curves"
   ]
  },
  {
   "cell_type": "code",
   "execution_count": 119,
   "id": "a43fa1bb-ea94-4b20-84e4-73ed83fc0815",
   "metadata": {},
   "outputs": [
    {
     "data": {
      "image/png": "[encoded data removed]",
      "text/plain": [
       "<Figure size 1500x500 with 2 Axes>"
      ]
     },
     "metadata": {},
     "output_type": "display_data"
    }
   ],
   "source": [
    "plt.figure(figsize=(15,5))\n",
    "epochs = range(len(model_0_results['train_loss']))\n",
    "\n",
    "plt.subplot(1,2,1)\n",
    "plt.plot(epochs, model_0_results['train_loss'], label='Training Loss')\n",
    "plt.plot(epochs, model_0_results['test_loss'], label='Testing Loss')\n",
    "plt.xlabel('Epochs')\n",
    "plt.ylabel('Loss')\n",
    "plt.title('Training Vs Testing Loss')\n",
    "plt.legend()\n",
    "\n",
    "plt.subplot(1,2,2)\n",
    "plt.plot(epochs, model_0_results['train_acc'], label='Training Accuracy')\n",
    "plt.plot(epochs, model_0_results['test_acc'], label='Testing Accuracy')\n",
    "plt.xlabel('Epochs')\n",
    "plt.ylabel('Accuracy')\n",
    "plt.title('Training Vs Testing Accuracy')\n",
    "plt.legend()\n",
    "\n",
    "plt.show()"
   ]
  }
 ],
 "metadata": {
  "kernelspec": {
   "display_name": "Python 3 (ipykernel)",
   "language": "python",
   "name": "python3"
  },
  "language_info": {
   "codemirror_mode": {
    "name": "ipython",
    "version": 3
   },
   "file_extension": ".py",
   "mimetype": "text/x-python",
   "name": "python",
   "nbconvert_exporter": "python",
   "pygments_lexer": "ipython3",
   "version": "3.12.7"
  }
 },
 "nbformat": 4,
 "nbformat_minor": 5
}
