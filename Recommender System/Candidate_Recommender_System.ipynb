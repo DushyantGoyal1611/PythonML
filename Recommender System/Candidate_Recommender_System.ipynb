{
 "cells": [
  {
   "cell_type": "code",
   "execution_count": 85,
   "id": "91b41e2a-9aff-4aff-9d2b-167908549bd2",
   "metadata": {},
   "outputs": [],
   "source": [
    "import pandas as pd\n",
    "import numpy as np\n",
    "import seaborn as sns\n",
    "import matplotlib.pyplot as plt\n",
    "\n",
    "# Torch \n",
    "import torch\n",
    "import torch.nn as nn\n",
    "from torch.utils.data import random_split\n",
    "\n",
    "# Scikit-Learn\n",
    "# Data Encoding and Scaling\n",
    "from sklearn.compose import ColumnTransformer\n",
    "from sklearn.preprocessing import LabelEncoder, OrdinalEncoder, OneHotEncoder, StandardScaler\n",
    "from sklearn.decomposition import PCA\n",
    "from sklearn.model_selection import train_test_split\n",
    "\n",
    "# Natural Language Processing(NLP)\n",
    "import nltk\n",
    "from nltk.stem.porter import PorterStemmer\n",
    "from nltk.tokenize import word_tokenize\n",
    "from nltk.corpus import stopwords\n",
    "# Word Embedding\n",
    "import gensim\n",
    "from gensim.models import Word2Vec"
   ]
  },
  {
   "cell_type": "code",
   "execution_count": 2,
   "id": "e71765a3-5931-4bf0-b81f-fc84d324cdd8",
   "metadata": {},
   "outputs": [
    {
     "name": "stderr",
     "output_type": "stream",
     "text": [
      "[nltk_data] Downloading package punkt to\n",
      "[nltk_data]     C:\\Users\\Dushyant\\AppData\\Roaming\\nltk_data...\n",
      "[nltk_data]   Package punkt is already up-to-date!\n",
      "[nltk_data] Downloading package stopwords to\n",
      "[nltk_data]     C:\\Users\\Dushyant\\AppData\\Roaming\\nltk_data...\n",
      "[nltk_data]   Package stopwords is already up-to-date!\n"
     ]
    },
    {
     "data": {
      "text/plain": [
       "True"
      ]
     },
     "execution_count": 2,
     "metadata": {},
     "output_type": "execute_result"
    }
   ],
   "source": [
    "nltk.download('punkt')      # For tokenization\n",
    "nltk.download('stopwords')  # For stopword removal"
   ]
  },
  {
   "cell_type": "code",
   "execution_count": 3,
   "id": "923092aa-69a4-47a7-bca4-4577ba30b96c",
   "metadata": {},
   "outputs": [
    {
     "data": {
      "text/plain": [
       "'cpu'"
      ]
     },
     "execution_count": 3,
     "metadata": {},
     "output_type": "execute_result"
    }
   ],
   "source": [
    "device = 'cuda' if torch.cuda.is_available() else 'cpu'\n",
    "device"
   ]
  },
  {
   "cell_type": "code",
   "execution_count": 4,
   "id": "9e5c4850-7af3-4568-bc1f-ea67cddc933d",
   "metadata": {},
   "outputs": [],
   "source": [
    "df = pd.read_csv('IntervieweeDataset.csv')"
   ]
  },
  {
   "cell_type": "code",
   "execution_count": 5,
   "id": "cb9a10aa-d979-495d-8ca8-bbb0b73045e5",
   "metadata": {},
   "outputs": [
    {
     "data": {
      "text/html": [
       "<div>\n",
       "<style scoped>\n",
       "    .dataframe tbody tr th:only-of-type {\n",
       "        vertical-align: middle;\n",
       "    }\n",
       "\n",
       "    .dataframe tbody tr th {\n",
       "        vertical-align: top;\n",
       "    }\n",
       "\n",
       "    .dataframe thead th {\n",
       "        text-align: right;\n",
       "    }\n",
       "</style>\n",
       "<table border=\"1\" class=\"dataframe\">\n",
       "  <thead>\n",
       "    <tr style=\"text-align: right;\">\n",
       "      <th></th>\n",
       "      <th>Name</th>\n",
       "      <th>Age</th>\n",
       "      <th>Gender</th>\n",
       "      <th>Type of Graduation/Post Graduation</th>\n",
       "      <th>Marital status</th>\n",
       "      <th>Mode of interview given by candidate?</th>\n",
       "      <th>Pre Interview Check</th>\n",
       "      <th>Fluency in English based on introduction</th>\n",
       "      <th>Confidence based on Introduction (English)</th>\n",
       "      <th>Confidence based on the topic given</th>\n",
       "      <th>...</th>\n",
       "      <th>Structured Thinking Based on the PPT Question.1</th>\n",
       "      <th>Structured Thinking( Call pitch).1</th>\n",
       "      <th>Regional fluency based on the topic given  .1</th>\n",
       "      <th>Regional fluency Based on the PPT Question.1</th>\n",
       "      <th>Regional fluency based on the  sales scenario.1</th>\n",
       "      <th>Confidence Score</th>\n",
       "      <th>Structured Thinking Score</th>\n",
       "      <th>Regional Fluency Score</th>\n",
       "      <th>Total Score</th>\n",
       "      <th>Whether joined the company or not\\n</th>\n",
       "    </tr>\n",
       "  </thead>\n",
       "  <tbody>\n",
       "    <tr>\n",
       "      <th>0</th>\n",
       "      <td>parida</td>\n",
       "      <td>25</td>\n",
       "      <td>Female</td>\n",
       "      <td>Masters in data science</td>\n",
       "      <td>Unmarried</td>\n",
       "      <td>Mobile</td>\n",
       "      <td>Proceed with the Interview</td>\n",
       "      <td>Able to speak sentences in a clear/coherent wa...</td>\n",
       "      <td>Impactful - Good confidence throughout the Int...</td>\n",
       "      <td>Guarded Confidence - Confident in some areas a...</td>\n",
       "      <td>...</td>\n",
       "      <td>3</td>\n",
       "      <td>2</td>\n",
       "      <td>1</td>\n",
       "      <td>1.0</td>\n",
       "      <td>1.0</td>\n",
       "      <td>11</td>\n",
       "      <td>7</td>\n",
       "      <td>3</td>\n",
       "      <td>42</td>\n",
       "      <td>No</td>\n",
       "    </tr>\n",
       "  </tbody>\n",
       "</table>\n",
       "<p>1 rows × 52 columns</p>\n",
       "</div>"
      ],
      "text/plain": [
       "     Name Age  Gender Type of Graduation/Post Graduation Marital status  \\\n",
       "0  parida  25  Female            Masters in data science      Unmarried   \n",
       "\n",
       "  Mode of interview given by candidate?         Pre Interview Check  \\\n",
       "0                                Mobile  Proceed with the Interview   \n",
       "\n",
       "            Fluency in English based on introduction  \\\n",
       "0  Able to speak sentences in a clear/coherent wa...   \n",
       "\n",
       "          Confidence based on Introduction (English)  \\\n",
       "0  Impactful - Good confidence throughout the Int...   \n",
       "\n",
       "               Confidence based on the topic given    ...  \\\n",
       "0  Guarded Confidence - Confident in some areas a...  ...   \n",
       "\n",
       "  Structured Thinking Based on the PPT Question.1  \\\n",
       "0                                               3   \n",
       "\n",
       "  Structured Thinking( Call pitch).1  \\\n",
       "0                                  2   \n",
       "\n",
       "  Regional fluency based on the topic given  .1  \\\n",
       "0                                             1   \n",
       "\n",
       "  Regional fluency Based on the PPT Question.1  \\\n",
       "0                                          1.0   \n",
       "\n",
       "  Regional fluency based on the  sales scenario.1 Confidence Score  \\\n",
       "0                                             1.0               11   \n",
       "\n",
       "  Structured Thinking Score Regional Fluency Score Total Score  \\\n",
       "0                         7                      3          42   \n",
       "\n",
       "  Whether joined the company or not\\n  \n",
       "0                                  No  \n",
       "\n",
       "[1 rows x 52 columns]"
      ]
     },
     "execution_count": 5,
     "metadata": {},
     "output_type": "execute_result"
    }
   ],
   "source": [
    "df.head(1)"
   ]
  },
  {
   "cell_type": "code",
   "execution_count": 6,
   "id": "8d929a89-9b76-43df-9d7e-48ca0695d5fc",
   "metadata": {},
   "outputs": [
    {
     "data": {
      "text/plain": [
       "(21256, 52)"
      ]
     },
     "execution_count": 6,
     "metadata": {},
     "output_type": "execute_result"
    }
   ],
   "source": [
    "df.shape"
   ]
  },
  {
   "cell_type": "code",
   "execution_count": 7,
   "id": "a646c1db-49d4-443a-b78c-d8d6403e4a79",
   "metadata": {},
   "outputs": [],
   "source": [
    "df.dropna(inplace=True)"
   ]
  },
  {
   "cell_type": "code",
   "execution_count": 8,
   "id": "0731f26b-d7f3-4616-9895-428688b11844",
   "metadata": {},
   "outputs": [
    {
     "data": {
      "text/plain": [
       "(18681, 52)"
      ]
     },
     "execution_count": 8,
     "metadata": {},
     "output_type": "execute_result"
    }
   ],
   "source": [
    "df.shape"
   ]
  },
  {
   "cell_type": "code",
   "execution_count": 9,
   "id": "378e6a5e-034d-4c07-9699-858d0b8fc8d3",
   "metadata": {},
   "outputs": [],
   "source": [
    "df.drop(df.iloc[:,8:18], axis=1, inplace=True)"
   ]
  },
  {
   "cell_type": "code",
   "execution_count": 10,
   "id": "fde1202a-4a83-42d8-9cca-3f3fc9575960",
   "metadata": {},
   "outputs": [],
   "source": [
    "df.drop(['Does the candidate has mother tongue influence while speaking english.', 'How many slides candidate have submitted in PPT?'], axis=1, inplace=True)"
   ]
  },
  {
   "cell_type": "code",
   "execution_count": 11,
   "id": "4c2c892e-60c9-41d5-b48f-c12e8d63931d",
   "metadata": {},
   "outputs": [
    {
     "data": {
      "text/plain": [
       "(18681, 40)"
      ]
     },
     "execution_count": 11,
     "metadata": {},
     "output_type": "execute_result"
    }
   ],
   "source": [
    "df.shape"
   ]
  },
  {
   "cell_type": "code",
   "execution_count": 12,
   "id": "b570b7c1-b71e-4aef-b127-d5bc0b88812f",
   "metadata": {},
   "outputs": [],
   "source": [
    "df.rename(columns={'Type of Graduation/Post Graduation':'Education', 'Mode of interview given by candidate?':'Mode of Interview', 'Has acquaintance in Company and has spoken to him/her before applying?':'Acquaintance and Referral'}, inplace=True)"
   ]
  },
  {
   "cell_type": "code",
   "execution_count": 13,
   "id": "d9e3f2d9-fb8f-4522-8a1d-b4979018636b",
   "metadata": {},
   "outputs": [],
   "source": [
    "df.rename(columns={'Whether joined the company or not\\n': 'Whether joined the company or not', 'What was the type of Role?\\t': 'What was the type of Role?'}, inplace=True)"
   ]
  },
  {
   "cell_type": "code",
   "execution_count": 14,
   "id": "db26bfdd-d511-43ca-a944-0a940f110c4e",
   "metadata": {},
   "outputs": [],
   "source": [
    "df.rename(columns={\"But, my child's exam are going on now, so we will keep the counselling session after the exams get over.(Time: Favourable pitch: Counsellor hype)\":\"But, my child's exam are going on now, so we will keep the counselling session after the exams get over\"}, inplace=True)"
   ]
  },
  {
   "cell_type": "code",
   "execution_count": 15,
   "id": "ee54b7be-5220-4231-aee3-4a900c10bc1b",
   "metadata": {},
   "outputs": [
    {
     "data": {
      "text/plain": [
       "Index(['Name', 'Age', 'Gender', 'Education', 'Marital status',\n",
       "       'Mode of Interview', 'Pre Interview Check',\n",
       "       'Fluency in English based on introduction', 'Acquaintance and Referral',\n",
       "       'Candidate Status', 'Last Fixed CTC (lakhs) ', 'Currently Employed',\n",
       "       'Experienced candidate - (Experience in months)',\n",
       "       'Experienced Candidate (Nature of work)', 'What was the type of Role?',\n",
       "       'Call-pitch Elements used during the call Sales Scenario',\n",
       "       'But, my child's exam are going on now, so we will keep the counselling session after the exams get over',\n",
       "       'Let me discuss it with my child',\n",
       "       'Sir being in education industry I know this is a marketing gimmick and at the end of the day you'll be selling the app.',\n",
       "       'Role acceptance', 'Interview Verdict',\n",
       "       'Candidate is willing to relocate',\n",
       "       'Role Location to be given to the candidate', 'Comments',\n",
       "       'RedFlags Comments in Interview',\n",
       "       'Confidence based on Introduction (English).1',\n",
       "       'Confidence based on the topic given  .1',\n",
       "       'Confidence Based on the PPT Question.1',\n",
       "       'Confidence based on the sales scenario.1',\n",
       "       'Structured Thinking (In regional only).1',\n",
       "       'Structured Thinking Based on the PPT Question.1',\n",
       "       'Structured Thinking( Call pitch).1',\n",
       "       'Regional fluency based on the topic given  .1',\n",
       "       'Regional fluency Based on the PPT Question.1',\n",
       "       'Regional fluency based on the  sales scenario.1', 'Confidence Score',\n",
       "       'Structured Thinking Score', 'Regional Fluency Score', 'Total Score',\n",
       "       'Whether joined the company or not'],\n",
       "      dtype='object')"
      ]
     },
     "execution_count": 15,
     "metadata": {},
     "output_type": "execute_result"
    }
   ],
   "source": [
    "df.columns"
   ]
  },
  {
   "cell_type": "code",
   "execution_count": 16,
   "id": "4ab622c5-f86d-4195-970a-ad03f0d1f1d3",
   "metadata": {},
   "outputs": [
    {
     "data": {
      "text/plain": [
       "array(['No', 'Yes', 'Not Joined', 'Joined'], dtype=object)"
      ]
     },
     "execution_count": 16,
     "metadata": {},
     "output_type": "execute_result"
    }
   ],
   "source": [
    "df['Whether joined the company or not'].unique()"
   ]
  },
  {
   "cell_type": "code",
   "execution_count": 17,
   "id": "32c77f88-9e21-45a2-8819-30b183ebfd88",
   "metadata": {},
   "outputs": [],
   "source": [
    "df['Whether joined the company or not'] = df['Whether joined the company or not'].replace({'Joined':'Yes', 'Not Joined':'No'})"
   ]
  },
  {
   "cell_type": "code",
   "execution_count": 18,
   "id": "714fcc8f-e282-4000-8797-9f595d71d251",
   "metadata": {},
   "outputs": [],
   "source": [
    "df['Whether joined the company or not'] = df['Whether joined the company or not'].map({'Yes': 1, 'No': 0}).astype(int)"
   ]
  },
  {
   "cell_type": "code",
   "execution_count": 19,
   "id": "28fc4458-f328-40c4-95a8-aed69e417234",
   "metadata": {},
   "outputs": [
    {
     "data": {
      "text/plain": [
       "array([0, 1])"
      ]
     },
     "execution_count": 19,
     "metadata": {},
     "output_type": "execute_result"
    }
   ],
   "source": [
    "df['Whether joined the company or not'].unique()"
   ]
  },
  {
   "cell_type": "code",
   "execution_count": 20,
   "id": "cfd7c6c3-7a17-4c1c-bc54-17e360cc446b",
   "metadata": {},
   "outputs": [
    {
     "data": {
      "text/plain": [
       "array(['25', '29', '27', '22', '23', '24', '26', '21', '30', '20', '31',\n",
       "       '28', '32+', '32'], dtype=object)"
      ]
     },
     "execution_count": 20,
     "metadata": {},
     "output_type": "execute_result"
    }
   ],
   "source": [
    "df['Age'].unique()"
   ]
  },
  {
   "cell_type": "code",
   "execution_count": 21,
   "id": "fee28109-7b8c-4a74-98db-b8e39bcffc6f",
   "metadata": {},
   "outputs": [],
   "source": [
    "df['Age'] = df['Age'].astype(str).str.replace('+', '', regex=False).astype(int)"
   ]
  },
  {
   "cell_type": "code",
   "execution_count": 22,
   "id": "98217f62-5e29-49fa-8e07-6eef1d539f3c",
   "metadata": {},
   "outputs": [
    {
     "data": {
      "text/plain": [
       "array([25, 29, 27, 22, 23, 24, 26, 21, 30, 20, 31, 28, 32])"
      ]
     },
     "execution_count": 22,
     "metadata": {},
     "output_type": "execute_result"
    }
   ],
   "source": [
    "df['Age'].unique()"
   ]
  },
  {
   "cell_type": "code",
   "execution_count": 23,
   "id": "3d016610-ae5d-4f2a-b9f9-edd64264a9cd",
   "metadata": {},
   "outputs": [],
   "source": [
    "bins = [18, 22, 25, 28, 32, 35, float('inf')]\n",
    "labels = ['18-22', '23-25', '26-28', '29-32', '33-35', '35+']"
   ]
  },
  {
   "cell_type": "code",
   "execution_count": 24,
   "id": "cbc73648-051f-4f73-8472-433159671752",
   "metadata": {},
   "outputs": [],
   "source": [
    "df['Age'] = pd.cut(df['Age'], bins=bins, labels=labels, right=True)"
   ]
  },
  {
   "cell_type": "code",
   "execution_count": 25,
   "id": "ec0db924-750c-4111-b377-979b79bf3b5b",
   "metadata": {},
   "outputs": [
    {
     "data": {
      "text/plain": [
       "['23-25', '29-32', '26-28', '18-22']\n",
       "Categories (6, object): ['18-22' < '23-25' < '26-28' < '29-32' < '33-35' < '35+']"
      ]
     },
     "execution_count": 25,
     "metadata": {},
     "output_type": "execute_result"
    }
   ],
   "source": [
    "df['Age'].unique()"
   ]
  },
  {
   "cell_type": "code",
   "execution_count": 26,
   "id": "ef7fa63c-d913-4116-870b-6242ab71ef9f",
   "metadata": {},
   "outputs": [
    {
     "data": {
      "text/plain": [
       "Index(['Name', 'Age', 'Gender', 'Education', 'Marital status',\n",
       "       'Mode of Interview', 'Pre Interview Check',\n",
       "       'Fluency in English based on introduction', 'Acquaintance and Referral',\n",
       "       'Candidate Status', 'Last Fixed CTC (lakhs) ', 'Currently Employed',\n",
       "       'Experienced candidate - (Experience in months)',\n",
       "       'Experienced Candidate (Nature of work)', 'What was the type of Role?',\n",
       "       'Call-pitch Elements used during the call Sales Scenario',\n",
       "       'But, my child's exam are going on now, so we will keep the counselling session after the exams get over',\n",
       "       'Let me discuss it with my child',\n",
       "       'Sir being in education industry I know this is a marketing gimmick and at the end of the day you'll be selling the app.',\n",
       "       'Role acceptance', 'Interview Verdict',\n",
       "       'Candidate is willing to relocate',\n",
       "       'Role Location to be given to the candidate', 'Comments',\n",
       "       'RedFlags Comments in Interview',\n",
       "       'Confidence based on Introduction (English).1',\n",
       "       'Confidence based on the topic given  .1',\n",
       "       'Confidence Based on the PPT Question.1',\n",
       "       'Confidence based on the sales scenario.1',\n",
       "       'Structured Thinking (In regional only).1',\n",
       "       'Structured Thinking Based on the PPT Question.1',\n",
       "       'Structured Thinking( Call pitch).1',\n",
       "       'Regional fluency based on the topic given  .1',\n",
       "       'Regional fluency Based on the PPT Question.1',\n",
       "       'Regional fluency based on the  sales scenario.1', 'Confidence Score',\n",
       "       'Structured Thinking Score', 'Regional Fluency Score', 'Total Score',\n",
       "       'Whether joined the company or not'],\n",
       "      dtype='object')"
      ]
     },
     "execution_count": 26,
     "metadata": {},
     "output_type": "execute_result"
    }
   ],
   "source": [
    "df.columns"
   ]
  },
  {
   "cell_type": "code",
   "execution_count": 27,
   "id": "486c49c3-d2ba-4423-954d-4153d90daa8b",
   "metadata": {},
   "outputs": [
    {
     "data": {
      "text/plain": [
       "(18681, 40)"
      ]
     },
     "execution_count": 27,
     "metadata": {},
     "output_type": "execute_result"
    }
   ],
   "source": [
    "df.shape"
   ]
  },
  {
   "cell_type": "code",
   "execution_count": 28,
   "id": "48783b4b-e5bb-4709-973e-4445955642b7",
   "metadata": {},
   "outputs": [],
   "source": [
    "df['id'] = df.index"
   ]
  },
  {
   "cell_type": "code",
   "execution_count": 29,
   "id": "74da68f3-7ed0-4563-8f89-1a7c66f4aef6",
   "metadata": {},
   "outputs": [
    {
     "data": {
      "text/html": [
       "<div>\n",
       "<style scoped>\n",
       "    .dataframe tbody tr th:only-of-type {\n",
       "        vertical-align: middle;\n",
       "    }\n",
       "\n",
       "    .dataframe tbody tr th {\n",
       "        vertical-align: top;\n",
       "    }\n",
       "\n",
       "    .dataframe thead th {\n",
       "        text-align: right;\n",
       "    }\n",
       "</style>\n",
       "<table border=\"1\" class=\"dataframe\">\n",
       "  <thead>\n",
       "    <tr style=\"text-align: right;\">\n",
       "      <th></th>\n",
       "      <th>Name</th>\n",
       "      <th>Age</th>\n",
       "      <th>Gender</th>\n",
       "      <th>Education</th>\n",
       "      <th>Marital status</th>\n",
       "      <th>Mode of Interview</th>\n",
       "      <th>Pre Interview Check</th>\n",
       "      <th>Fluency in English based on introduction</th>\n",
       "      <th>Acquaintance and Referral</th>\n",
       "      <th>Candidate Status</th>\n",
       "      <th>...</th>\n",
       "      <th>Structured Thinking( Call pitch).1</th>\n",
       "      <th>Regional fluency based on the topic given  .1</th>\n",
       "      <th>Regional fluency Based on the PPT Question.1</th>\n",
       "      <th>Regional fluency based on the  sales scenario.1</th>\n",
       "      <th>Confidence Score</th>\n",
       "      <th>Structured Thinking Score</th>\n",
       "      <th>Regional Fluency Score</th>\n",
       "      <th>Total Score</th>\n",
       "      <th>Whether joined the company or not</th>\n",
       "      <th>id</th>\n",
       "    </tr>\n",
       "  </thead>\n",
       "  <tbody>\n",
       "    <tr>\n",
       "      <th>0</th>\n",
       "      <td>parida</td>\n",
       "      <td>23-25</td>\n",
       "      <td>Female</td>\n",
       "      <td>Masters in data science</td>\n",
       "      <td>Unmarried</td>\n",
       "      <td>Mobile</td>\n",
       "      <td>Proceed with the Interview</td>\n",
       "      <td>Able to speak sentences in a clear/coherent wa...</td>\n",
       "      <td>No</td>\n",
       "      <td>Experienced in non client facing(equal to or m...</td>\n",
       "      <td>...</td>\n",
       "      <td>2</td>\n",
       "      <td>1</td>\n",
       "      <td>1.0</td>\n",
       "      <td>1.0</td>\n",
       "      <td>11</td>\n",
       "      <td>7</td>\n",
       "      <td>3</td>\n",
       "      <td>42</td>\n",
       "      <td>0</td>\n",
       "      <td>0</td>\n",
       "    </tr>\n",
       "    <tr>\n",
       "      <th>1</th>\n",
       "      <td>shreej</td>\n",
       "      <td>29-32</td>\n",
       "      <td>Female</td>\n",
       "      <td>BSc or MSc</td>\n",
       "      <td>Unmarried</td>\n",
       "      <td>Mobile</td>\n",
       "      <td>Proceed with the Interview</td>\n",
       "      <td>Able to speak sentences in a clear/coherent wa...</td>\n",
       "      <td>No</td>\n",
       "      <td>Lateral(2021 and before with (less than 6 mont...</td>\n",
       "      <td>...</td>\n",
       "      <td>3</td>\n",
       "      <td>3</td>\n",
       "      <td>3.0</td>\n",
       "      <td>3.0</td>\n",
       "      <td>12</td>\n",
       "      <td>9</td>\n",
       "      <td>9</td>\n",
       "      <td>60</td>\n",
       "      <td>0</td>\n",
       "      <td>1</td>\n",
       "    </tr>\n",
       "  </tbody>\n",
       "</table>\n",
       "<p>2 rows × 41 columns</p>\n",
       "</div>"
      ],
      "text/plain": [
       "     Name    Age  Gender                Education Marital status  \\\n",
       "0  parida  23-25  Female  Masters in data science      Unmarried   \n",
       "1  shreej  29-32  Female               BSc or MSc      Unmarried   \n",
       "\n",
       "  Mode of Interview         Pre Interview Check  \\\n",
       "0            Mobile  Proceed with the Interview   \n",
       "1            Mobile  Proceed with the Interview   \n",
       "\n",
       "            Fluency in English based on introduction  \\\n",
       "0  Able to speak sentences in a clear/coherent wa...   \n",
       "1  Able to speak sentences in a clear/coherent wa...   \n",
       "\n",
       "  Acquaintance and Referral  \\\n",
       "0                        No   \n",
       "1                        No   \n",
       "\n",
       "                                    Candidate Status  ...  \\\n",
       "0  Experienced in non client facing(equal to or m...  ...   \n",
       "1  Lateral(2021 and before with (less than 6 mont...  ...   \n",
       "\n",
       "  Structured Thinking( Call pitch).1  \\\n",
       "0                                  2   \n",
       "1                                  3   \n",
       "\n",
       "  Regional fluency based on the topic given  .1  \\\n",
       "0                                             1   \n",
       "1                                             3   \n",
       "\n",
       "  Regional fluency Based on the PPT Question.1  \\\n",
       "0                                          1.0   \n",
       "1                                          3.0   \n",
       "\n",
       "  Regional fluency based on the  sales scenario.1 Confidence Score  \\\n",
       "0                                             1.0               11   \n",
       "1                                             3.0               12   \n",
       "\n",
       "  Structured Thinking Score Regional Fluency Score Total Score  \\\n",
       "0                         7                      3          42   \n",
       "1                         9                      9          60   \n",
       "\n",
       "  Whether joined the company or not id  \n",
       "0                                 0  0  \n",
       "1                                 0  1  \n",
       "\n",
       "[2 rows x 41 columns]"
      ]
     },
     "execution_count": 29,
     "metadata": {},
     "output_type": "execute_result"
    }
   ],
   "source": [
    "df.head(2)"
   ]
  },
  {
   "cell_type": "markdown",
   "id": "4686ac28-b640-436a-80bc-38a566edcaf5",
   "metadata": {},
   "source": [
    "# New Dataframe for only Numerical Operations (excluding Name column from it)"
   ]
  },
  {
   "cell_type": "code",
   "execution_count": 30,
   "id": "0b6095c6-0a7b-4943-8fb2-8b83f2b78d53",
   "metadata": {},
   "outputs": [],
   "source": [
    "numerical_df = df.copy()\n",
    "numerical_df.drop(['id',\n",
    "                   'Name',\n",
    "                   'Comments',\n",
    "                   'RedFlags Comments in Interview',\n",
    "                   'Call-pitch Elements used during the call Sales Scenario',\n",
    "                   \"But, my child's exam are going on now, so we will keep the counselling session after the exams get over\",\n",
    "                  'Let me discuss it with my child',\n",
    "                   'Whether joined the company or not',\n",
    "                   \"Sir being in education industry I know this is a marketing gimmick and at the end of the day you'll be selling the app.\",'Role Location to be given to the candidate'],\n",
    "                  axis=1,inplace=True)"
   ]
  },
  {
   "cell_type": "markdown",
   "id": "0ea7a1b0-fe55-4e79-9a30-2ae243737f6b",
   "metadata": {},
   "source": [
    "# Data Scaling\n",
    "The StandardScaler from sklearn.preprocessing transforms data to have:\n",
    "\n",
    "Mean = 0 ,\n",
    "Standard Deviation = 1"
   ]
  },
  {
   "cell_type": "code",
   "execution_count": 31,
   "id": "b4f2e18a-29e4-468f-bf29-ade2764b7538",
   "metadata": {},
   "outputs": [
    {
     "data": {
      "text/html": [
       "<style>#sk-container-id-1 {\n",
       "  /* Definition of color scheme common for light and dark mode */\n",
       "  --sklearn-color-text: black;\n",
       "  --sklearn-color-line: gray;\n",
       "  /* Definition of color scheme for unfitted estimators */\n",
       "  --sklearn-color-unfitted-level-0: #fff5e6;\n",
       "  --sklearn-color-unfitted-level-1: #f6e4d2;\n",
       "  --sklearn-color-unfitted-level-2: #ffe0b3;\n",
       "  --sklearn-color-unfitted-level-3: chocolate;\n",
       "  /* Definition of color scheme for fitted estimators */\n",
       "  --sklearn-color-fitted-level-0: #f0f8ff;\n",
       "  --sklearn-color-fitted-level-1: #d4ebff;\n",
       "  --sklearn-color-fitted-level-2: #b3dbfd;\n",
       "  --sklearn-color-fitted-level-3: cornflowerblue;\n",
       "\n",
       "  /* Specific color for light theme */\n",
       "  --sklearn-color-text-on-default-background: var(--sg-text-color, var(--theme-code-foreground, var(--jp-content-font-color1, black)));\n",
       "  --sklearn-color-background: var(--sg-background-color, var(--theme-background, var(--jp-layout-color0, white)));\n",
       "  --sklearn-color-border-box: var(--sg-text-color, var(--theme-code-foreground, var(--jp-content-font-color1, black)));\n",
       "  --sklearn-color-icon: #696969;\n",
       "\n",
       "  @media (prefers-color-scheme: dark) {\n",
       "    /* Redefinition of color scheme for dark theme */\n",
       "    --sklearn-color-text-on-default-background: var(--sg-text-color, var(--theme-code-foreground, var(--jp-content-font-color1, white)));\n",
       "    --sklearn-color-background: var(--sg-background-color, var(--theme-background, var(--jp-layout-color0, #111)));\n",
       "    --sklearn-color-border-box: var(--sg-text-color, var(--theme-code-foreground, var(--jp-content-font-color1, white)));\n",
       "    --sklearn-color-icon: #878787;\n",
       "  }\n",
       "}\n",
       "\n",
       "#sk-container-id-1 {\n",
       "  color: var(--sklearn-color-text);\n",
       "}\n",
       "\n",
       "#sk-container-id-1 pre {\n",
       "  padding: 0;\n",
       "}\n",
       "\n",
       "#sk-container-id-1 input.sk-hidden--visually {\n",
       "  border: 0;\n",
       "  clip: rect(1px 1px 1px 1px);\n",
       "  clip: rect(1px, 1px, 1px, 1px);\n",
       "  height: 1px;\n",
       "  margin: -1px;\n",
       "  overflow: hidden;\n",
       "  padding: 0;\n",
       "  position: absolute;\n",
       "  width: 1px;\n",
       "}\n",
       "\n",
       "#sk-container-id-1 div.sk-dashed-wrapped {\n",
       "  border: 1px dashed var(--sklearn-color-line);\n",
       "  margin: 0 0.4em 0.5em 0.4em;\n",
       "  box-sizing: border-box;\n",
       "  padding-bottom: 0.4em;\n",
       "  background-color: var(--sklearn-color-background);\n",
       "}\n",
       "\n",
       "#sk-container-id-1 div.sk-container {\n",
       "  /* jupyter's `normalize.less` sets `[hidden] { display: none; }`\n",
       "     but bootstrap.min.css set `[hidden] { display: none !important; }`\n",
       "     so we also need the `!important` here to be able to override the\n",
       "     default hidden behavior on the sphinx rendered scikit-learn.org.\n",
       "     See: https://github.com/scikit-learn/scikit-learn/issues/21755 */\n",
       "  display: inline-block !important;\n",
       "  position: relative;\n",
       "}\n",
       "\n",
       "#sk-container-id-1 div.sk-text-repr-fallback {\n",
       "  display: none;\n",
       "}\n",
       "\n",
       "div.sk-parallel-item,\n",
       "div.sk-serial,\n",
       "div.sk-item {\n",
       "  /* draw centered vertical line to link estimators */\n",
       "  background-image: linear-gradient(var(--sklearn-color-text-on-default-background), var(--sklearn-color-text-on-default-background));\n",
       "  background-size: 2px 100%;\n",
       "  background-repeat: no-repeat;\n",
       "  background-position: center center;\n",
       "}\n",
       "\n",
       "/* Parallel-specific style estimator block */\n",
       "\n",
       "#sk-container-id-1 div.sk-parallel-item::after {\n",
       "  content: \"\";\n",
       "  width: 100%;\n",
       "  border-bottom: 2px solid var(--sklearn-color-text-on-default-background);\n",
       "  flex-grow: 1;\n",
       "}\n",
       "\n",
       "#sk-container-id-1 div.sk-parallel {\n",
       "  display: flex;\n",
       "  align-items: stretch;\n",
       "  justify-content: center;\n",
       "  background-color: var(--sklearn-color-background);\n",
       "  position: relative;\n",
       "}\n",
       "\n",
       "#sk-container-id-1 div.sk-parallel-item {\n",
       "  display: flex;\n",
       "  flex-direction: column;\n",
       "}\n",
       "\n",
       "#sk-container-id-1 div.sk-parallel-item:first-child::after {\n",
       "  align-self: flex-end;\n",
       "  width: 50%;\n",
       "}\n",
       "\n",
       "#sk-container-id-1 div.sk-parallel-item:last-child::after {\n",
       "  align-self: flex-start;\n",
       "  width: 50%;\n",
       "}\n",
       "\n",
       "#sk-container-id-1 div.sk-parallel-item:only-child::after {\n",
       "  width: 0;\n",
       "}\n",
       "\n",
       "/* Serial-specific style estimator block */\n",
       "\n",
       "#sk-container-id-1 div.sk-serial {\n",
       "  display: flex;\n",
       "  flex-direction: column;\n",
       "  align-items: center;\n",
       "  background-color: var(--sklearn-color-background);\n",
       "  padding-right: 1em;\n",
       "  padding-left: 1em;\n",
       "}\n",
       "\n",
       "\n",
       "/* Toggleable style: style used for estimator/Pipeline/ColumnTransformer box that is\n",
       "clickable and can be expanded/collapsed.\n",
       "- Pipeline and ColumnTransformer use this feature and define the default style\n",
       "- Estimators will overwrite some part of the style using the `sk-estimator` class\n",
       "*/\n",
       "\n",
       "/* Pipeline and ColumnTransformer style (default) */\n",
       "\n",
       "#sk-container-id-1 div.sk-toggleable {\n",
       "  /* Default theme specific background. It is overwritten whether we have a\n",
       "  specific estimator or a Pipeline/ColumnTransformer */\n",
       "  background-color: var(--sklearn-color-background);\n",
       "}\n",
       "\n",
       "/* Toggleable label */\n",
       "#sk-container-id-1 label.sk-toggleable__label {\n",
       "  cursor: pointer;\n",
       "  display: block;\n",
       "  width: 100%;\n",
       "  margin-bottom: 0;\n",
       "  padding: 0.5em;\n",
       "  box-sizing: border-box;\n",
       "  text-align: center;\n",
       "}\n",
       "\n",
       "#sk-container-id-1 label.sk-toggleable__label-arrow:before {\n",
       "  /* Arrow on the left of the label */\n",
       "  content: \"▸\";\n",
       "  float: left;\n",
       "  margin-right: 0.25em;\n",
       "  color: var(--sklearn-color-icon);\n",
       "}\n",
       "\n",
       "#sk-container-id-1 label.sk-toggleable__label-arrow:hover:before {\n",
       "  color: var(--sklearn-color-text);\n",
       "}\n",
       "\n",
       "/* Toggleable content - dropdown */\n",
       "\n",
       "#sk-container-id-1 div.sk-toggleable__content {\n",
       "  max-height: 0;\n",
       "  max-width: 0;\n",
       "  overflow: hidden;\n",
       "  text-align: left;\n",
       "  /* unfitted */\n",
       "  background-color: var(--sklearn-color-unfitted-level-0);\n",
       "}\n",
       "\n",
       "#sk-container-id-1 div.sk-toggleable__content.fitted {\n",
       "  /* fitted */\n",
       "  background-color: var(--sklearn-color-fitted-level-0);\n",
       "}\n",
       "\n",
       "#sk-container-id-1 div.sk-toggleable__content pre {\n",
       "  margin: 0.2em;\n",
       "  border-radius: 0.25em;\n",
       "  color: var(--sklearn-color-text);\n",
       "  /* unfitted */\n",
       "  background-color: var(--sklearn-color-unfitted-level-0);\n",
       "}\n",
       "\n",
       "#sk-container-id-1 div.sk-toggleable__content.fitted pre {\n",
       "  /* unfitted */\n",
       "  background-color: var(--sklearn-color-fitted-level-0);\n",
       "}\n",
       "\n",
       "#sk-container-id-1 input.sk-toggleable__control:checked~div.sk-toggleable__content {\n",
       "  /* Expand drop-down */\n",
       "  max-height: 200px;\n",
       "  max-width: 100%;\n",
       "  overflow: auto;\n",
       "}\n",
       "\n",
       "#sk-container-id-1 input.sk-toggleable__control:checked~label.sk-toggleable__label-arrow:before {\n",
       "  content: \"▾\";\n",
       "}\n",
       "\n",
       "/* Pipeline/ColumnTransformer-specific style */\n",
       "\n",
       "#sk-container-id-1 div.sk-label input.sk-toggleable__control:checked~label.sk-toggleable__label {\n",
       "  color: var(--sklearn-color-text);\n",
       "  background-color: var(--sklearn-color-unfitted-level-2);\n",
       "}\n",
       "\n",
       "#sk-container-id-1 div.sk-label.fitted input.sk-toggleable__control:checked~label.sk-toggleable__label {\n",
       "  background-color: var(--sklearn-color-fitted-level-2);\n",
       "}\n",
       "\n",
       "/* Estimator-specific style */\n",
       "\n",
       "/* Colorize estimator box */\n",
       "#sk-container-id-1 div.sk-estimator input.sk-toggleable__control:checked~label.sk-toggleable__label {\n",
       "  /* unfitted */\n",
       "  background-color: var(--sklearn-color-unfitted-level-2);\n",
       "}\n",
       "\n",
       "#sk-container-id-1 div.sk-estimator.fitted input.sk-toggleable__control:checked~label.sk-toggleable__label {\n",
       "  /* fitted */\n",
       "  background-color: var(--sklearn-color-fitted-level-2);\n",
       "}\n",
       "\n",
       "#sk-container-id-1 div.sk-label label.sk-toggleable__label,\n",
       "#sk-container-id-1 div.sk-label label {\n",
       "  /* The background is the default theme color */\n",
       "  color: var(--sklearn-color-text-on-default-background);\n",
       "}\n",
       "\n",
       "/* On hover, darken the color of the background */\n",
       "#sk-container-id-1 div.sk-label:hover label.sk-toggleable__label {\n",
       "  color: var(--sklearn-color-text);\n",
       "  background-color: var(--sklearn-color-unfitted-level-2);\n",
       "}\n",
       "\n",
       "/* Label box, darken color on hover, fitted */\n",
       "#sk-container-id-1 div.sk-label.fitted:hover label.sk-toggleable__label.fitted {\n",
       "  color: var(--sklearn-color-text);\n",
       "  background-color: var(--sklearn-color-fitted-level-2);\n",
       "}\n",
       "\n",
       "/* Estimator label */\n",
       "\n",
       "#sk-container-id-1 div.sk-label label {\n",
       "  font-family: monospace;\n",
       "  font-weight: bold;\n",
       "  display: inline-block;\n",
       "  line-height: 1.2em;\n",
       "}\n",
       "\n",
       "#sk-container-id-1 div.sk-label-container {\n",
       "  text-align: center;\n",
       "}\n",
       "\n",
       "/* Estimator-specific */\n",
       "#sk-container-id-1 div.sk-estimator {\n",
       "  font-family: monospace;\n",
       "  border: 1px dotted var(--sklearn-color-border-box);\n",
       "  border-radius: 0.25em;\n",
       "  box-sizing: border-box;\n",
       "  margin-bottom: 0.5em;\n",
       "  /* unfitted */\n",
       "  background-color: var(--sklearn-color-unfitted-level-0);\n",
       "}\n",
       "\n",
       "#sk-container-id-1 div.sk-estimator.fitted {\n",
       "  /* fitted */\n",
       "  background-color: var(--sklearn-color-fitted-level-0);\n",
       "}\n",
       "\n",
       "/* on hover */\n",
       "#sk-container-id-1 div.sk-estimator:hover {\n",
       "  /* unfitted */\n",
       "  background-color: var(--sklearn-color-unfitted-level-2);\n",
       "}\n",
       "\n",
       "#sk-container-id-1 div.sk-estimator.fitted:hover {\n",
       "  /* fitted */\n",
       "  background-color: var(--sklearn-color-fitted-level-2);\n",
       "}\n",
       "\n",
       "/* Specification for estimator info (e.g. \"i\" and \"?\") */\n",
       "\n",
       "/* Common style for \"i\" and \"?\" */\n",
       "\n",
       ".sk-estimator-doc-link,\n",
       "a:link.sk-estimator-doc-link,\n",
       "a:visited.sk-estimator-doc-link {\n",
       "  float: right;\n",
       "  font-size: smaller;\n",
       "  line-height: 1em;\n",
       "  font-family: monospace;\n",
       "  background-color: var(--sklearn-color-background);\n",
       "  border-radius: 1em;\n",
       "  height: 1em;\n",
       "  width: 1em;\n",
       "  text-decoration: none !important;\n",
       "  margin-left: 1ex;\n",
       "  /* unfitted */\n",
       "  border: var(--sklearn-color-unfitted-level-1) 1pt solid;\n",
       "  color: var(--sklearn-color-unfitted-level-1);\n",
       "}\n",
       "\n",
       ".sk-estimator-doc-link.fitted,\n",
       "a:link.sk-estimator-doc-link.fitted,\n",
       "a:visited.sk-estimator-doc-link.fitted {\n",
       "  /* fitted */\n",
       "  border: var(--sklearn-color-fitted-level-1) 1pt solid;\n",
       "  color: var(--sklearn-color-fitted-level-1);\n",
       "}\n",
       "\n",
       "/* On hover */\n",
       "div.sk-estimator:hover .sk-estimator-doc-link:hover,\n",
       ".sk-estimator-doc-link:hover,\n",
       "div.sk-label-container:hover .sk-estimator-doc-link:hover,\n",
       ".sk-estimator-doc-link:hover {\n",
       "  /* unfitted */\n",
       "  background-color: var(--sklearn-color-unfitted-level-3);\n",
       "  color: var(--sklearn-color-background);\n",
       "  text-decoration: none;\n",
       "}\n",
       "\n",
       "div.sk-estimator.fitted:hover .sk-estimator-doc-link.fitted:hover,\n",
       ".sk-estimator-doc-link.fitted:hover,\n",
       "div.sk-label-container:hover .sk-estimator-doc-link.fitted:hover,\n",
       ".sk-estimator-doc-link.fitted:hover {\n",
       "  /* fitted */\n",
       "  background-color: var(--sklearn-color-fitted-level-3);\n",
       "  color: var(--sklearn-color-background);\n",
       "  text-decoration: none;\n",
       "}\n",
       "\n",
       "/* Span, style for the box shown on hovering the info icon */\n",
       ".sk-estimator-doc-link span {\n",
       "  display: none;\n",
       "  z-index: 9999;\n",
       "  position: relative;\n",
       "  font-weight: normal;\n",
       "  right: .2ex;\n",
       "  padding: .5ex;\n",
       "  margin: .5ex;\n",
       "  width: min-content;\n",
       "  min-width: 20ex;\n",
       "  max-width: 50ex;\n",
       "  color: var(--sklearn-color-text);\n",
       "  box-shadow: 2pt 2pt 4pt #999;\n",
       "  /* unfitted */\n",
       "  background: var(--sklearn-color-unfitted-level-0);\n",
       "  border: .5pt solid var(--sklearn-color-unfitted-level-3);\n",
       "}\n",
       "\n",
       ".sk-estimator-doc-link.fitted span {\n",
       "  /* fitted */\n",
       "  background: var(--sklearn-color-fitted-level-0);\n",
       "  border: var(--sklearn-color-fitted-level-3);\n",
       "}\n",
       "\n",
       ".sk-estimator-doc-link:hover span {\n",
       "  display: block;\n",
       "}\n",
       "\n",
       "/* \"?\"-specific style due to the `<a>` HTML tag */\n",
       "\n",
       "#sk-container-id-1 a.estimator_doc_link {\n",
       "  float: right;\n",
       "  font-size: 1rem;\n",
       "  line-height: 1em;\n",
       "  font-family: monospace;\n",
       "  background-color: var(--sklearn-color-background);\n",
       "  border-radius: 1rem;\n",
       "  height: 1rem;\n",
       "  width: 1rem;\n",
       "  text-decoration: none;\n",
       "  /* unfitted */\n",
       "  color: var(--sklearn-color-unfitted-level-1);\n",
       "  border: var(--sklearn-color-unfitted-level-1) 1pt solid;\n",
       "}\n",
       "\n",
       "#sk-container-id-1 a.estimator_doc_link.fitted {\n",
       "  /* fitted */\n",
       "  border: var(--sklearn-color-fitted-level-1) 1pt solid;\n",
       "  color: var(--sklearn-color-fitted-level-1);\n",
       "}\n",
       "\n",
       "/* On hover */\n",
       "#sk-container-id-1 a.estimator_doc_link:hover {\n",
       "  /* unfitted */\n",
       "  background-color: var(--sklearn-color-unfitted-level-3);\n",
       "  color: var(--sklearn-color-background);\n",
       "  text-decoration: none;\n",
       "}\n",
       "\n",
       "#sk-container-id-1 a.estimator_doc_link.fitted:hover {\n",
       "  /* fitted */\n",
       "  background-color: var(--sklearn-color-fitted-level-3);\n",
       "}\n",
       "</style><div id=\"sk-container-id-1\" class=\"sk-top-container\"><div class=\"sk-text-repr-fallback\"><pre>StandardScaler()</pre><b>In a Jupyter environment, please rerun this cell to show the HTML representation or trust the notebook. <br />On GitHub, the HTML representation is unable to render, please try loading this page with nbviewer.org.</b></div><div class=\"sk-container\" hidden><div class=\"sk-item\"><div class=\"sk-estimator  sk-toggleable\"><input class=\"sk-toggleable__control sk-hidden--visually\" id=\"sk-estimator-id-1\" type=\"checkbox\" checked><label for=\"sk-estimator-id-1\" class=\"sk-toggleable__label  sk-toggleable__label-arrow \">&nbsp;&nbsp;StandardScaler<a class=\"sk-estimator-doc-link \" rel=\"noreferrer\" target=\"_blank\" href=\"https://scikit-learn.org/1.5/modules/generated/sklearn.preprocessing.StandardScaler.html\">?<span>Documentation for StandardScaler</span></a><span class=\"sk-estimator-doc-link \">i<span>Not fitted</span></span></label><div class=\"sk-toggleable__content \"><pre>StandardScaler()</pre></div> </div></div></div></div>"
      ],
      "text/plain": [
       "StandardScaler()"
      ]
     },
     "execution_count": 31,
     "metadata": {},
     "output_type": "execute_result"
    }
   ],
   "source": [
    "scaler = StandardScaler()\n",
    "scaler"
   ]
  },
  {
   "cell_type": "code",
   "execution_count": 32,
   "id": "23f88320-47cb-4f4e-81f3-7ab888f3ad78",
   "metadata": {},
   "outputs": [],
   "source": [
    "temp_list = ['Confidence based on Introduction (English).1',\n",
    "       'Confidence based on the topic given  .1',\n",
    "       'Confidence Based on the PPT Question.1',\n",
    "       'Confidence based on the sales scenario.1',\n",
    "       'Structured Thinking (In regional only).1',\n",
    "       'Structured Thinking Based on the PPT Question.1',\n",
    "       'Structured Thinking( Call pitch).1',\n",
    "       'Regional fluency based on the topic given  .1',\n",
    "       'Regional fluency Based on the PPT Question.1',\n",
    "       'Regional fluency based on the  sales scenario.1', 'Confidence Score',\n",
    "       'Structured Thinking Score', 'Regional Fluency Score', 'Total Score']"
   ]
  },
  {
   "cell_type": "code",
   "execution_count": 33,
   "id": "428c8670-89b8-423c-80f4-0df9e2c8034d",
   "metadata": {},
   "outputs": [
    {
     "name": "stdout",
     "output_type": "stream",
     "text": [
      "Means after scaling:\n",
      " Confidence based on Introduction (English).1      -0.0\n",
      "Confidence based on the topic given  .1           -0.0\n",
      "Confidence Based on the PPT Question.1            -0.0\n",
      "Confidence based on the sales scenario.1          -0.0\n",
      "Structured Thinking (In regional only).1           0.0\n",
      "Structured Thinking Based on the PPT Question.1   -0.0\n",
      "Structured Thinking( Call pitch).1                -0.0\n",
      "Regional fluency based on the topic given  .1      0.0\n",
      "Regional fluency Based on the PPT Question.1      -0.0\n",
      "Regional fluency based on the  sales scenario.1   -0.0\n",
      "Confidence Score                                   0.0\n",
      "Structured Thinking Score                         -0.0\n",
      "Regional Fluency Score                             0.0\n",
      "Total Score                                        0.0\n",
      "dtype: float64\n",
      "Standard deviations after scaling:\n",
      " Confidence based on Introduction (English).1       1.00003\n",
      "Confidence based on the topic given  .1            1.00003\n",
      "Confidence Based on the PPT Question.1             1.00003\n",
      "Confidence based on the sales scenario.1           1.00003\n",
      "Structured Thinking (In regional only).1           1.00003\n",
      "Structured Thinking Based on the PPT Question.1    1.00003\n",
      "Structured Thinking( Call pitch).1                 1.00003\n",
      "Regional fluency based on the topic given  .1      1.00003\n",
      "Regional fluency Based on the PPT Question.1       1.00003\n",
      "Regional fluency based on the  sales scenario.1    1.00003\n",
      "Confidence Score                                   1.00003\n",
      "Structured Thinking Score                          1.00003\n",
      "Regional Fluency Score                             1.00003\n",
      "Total Score                                        1.00003\n",
      "dtype: float64\n"
     ]
    }
   ],
   "source": [
    "numerical_df[temp_list] = scaler.fit_transform(numerical_df[temp_list])\n",
    "print(\"Means after scaling:\\n\", numerical_df[temp_list].mean().round(5))\n",
    "print(\"Standard deviations after scaling:\\n\", numerical_df[temp_list].std().round(5))"
   ]
  },
  {
   "cell_type": "code",
   "execution_count": 34,
   "id": "a00b5ece-fed9-4238-ab45-b6fbcf3d1f5b",
   "metadata": {},
   "outputs": [
    {
     "data": {
      "text/html": [
       "<div>\n",
       "<style scoped>\n",
       "    .dataframe tbody tr th:only-of-type {\n",
       "        vertical-align: middle;\n",
       "    }\n",
       "\n",
       "    .dataframe tbody tr th {\n",
       "        vertical-align: top;\n",
       "    }\n",
       "\n",
       "    .dataframe thead th {\n",
       "        text-align: right;\n",
       "    }\n",
       "</style>\n",
       "<table border=\"1\" class=\"dataframe\">\n",
       "  <thead>\n",
       "    <tr style=\"text-align: right;\">\n",
       "      <th></th>\n",
       "      <th>Age</th>\n",
       "      <th>Gender</th>\n",
       "      <th>Education</th>\n",
       "      <th>Marital status</th>\n",
       "      <th>Mode of Interview</th>\n",
       "      <th>Pre Interview Check</th>\n",
       "      <th>Fluency in English based on introduction</th>\n",
       "      <th>Acquaintance and Referral</th>\n",
       "      <th>Candidate Status</th>\n",
       "      <th>Last Fixed CTC (lakhs)</th>\n",
       "      <th>...</th>\n",
       "      <th>Structured Thinking (In regional only).1</th>\n",
       "      <th>Structured Thinking Based on the PPT Question.1</th>\n",
       "      <th>Structured Thinking( Call pitch).1</th>\n",
       "      <th>Regional fluency based on the topic given  .1</th>\n",
       "      <th>Regional fluency Based on the PPT Question.1</th>\n",
       "      <th>Regional fluency based on the  sales scenario.1</th>\n",
       "      <th>Confidence Score</th>\n",
       "      <th>Structured Thinking Score</th>\n",
       "      <th>Regional Fluency Score</th>\n",
       "      <th>Total Score</th>\n",
       "    </tr>\n",
       "  </thead>\n",
       "  <tbody>\n",
       "    <tr>\n",
       "      <th>0</th>\n",
       "      <td>23-25</td>\n",
       "      <td>Female</td>\n",
       "      <td>Masters in data science</td>\n",
       "      <td>Unmarried</td>\n",
       "      <td>Mobile</td>\n",
       "      <td>Proceed with the Interview</td>\n",
       "      <td>Able to speak sentences in a clear/coherent wa...</td>\n",
       "      <td>No</td>\n",
       "      <td>Experienced in non client facing(equal to or m...</td>\n",
       "      <td>5-5.99</td>\n",
       "      <td>...</td>\n",
       "      <td>-0.618598</td>\n",
       "      <td>1.020654</td>\n",
       "      <td>-0.424411</td>\n",
       "      <td>-1.092966</td>\n",
       "      <td>-1.063625</td>\n",
       "      <td>-1.043289</td>\n",
       "      <td>0.951490</td>\n",
       "      <td>-0.022276</td>\n",
       "      <td>-1.320677</td>\n",
       "      <td>-0.198863</td>\n",
       "    </tr>\n",
       "    <tr>\n",
       "      <th>1</th>\n",
       "      <td>29-32</td>\n",
       "      <td>Female</td>\n",
       "      <td>BSc or MSc</td>\n",
       "      <td>Unmarried</td>\n",
       "      <td>Mobile</td>\n",
       "      <td>Proceed with the Interview</td>\n",
       "      <td>Able to speak sentences in a clear/coherent wa...</td>\n",
       "      <td>No</td>\n",
       "      <td>Lateral(2021 and before with (less than 6 mont...</td>\n",
       "      <td>Fresher</td>\n",
       "      <td>...</td>\n",
       "      <td>0.985514</td>\n",
       "      <td>1.020654</td>\n",
       "      <td>1.006713</td>\n",
       "      <td>0.979581</td>\n",
       "      <td>1.024503</td>\n",
       "      <td>1.060405</td>\n",
       "      <td>1.415087</td>\n",
       "      <td>1.256178</td>\n",
       "      <td>1.264403</td>\n",
       "      <td>1.509342</td>\n",
       "    </tr>\n",
       "    <tr>\n",
       "      <th>2</th>\n",
       "      <td>26-28</td>\n",
       "      <td>Female</td>\n",
       "      <td>B.E / B-Tech</td>\n",
       "      <td>Unmarried</td>\n",
       "      <td>Mobile</td>\n",
       "      <td>Proceed with the Interview</td>\n",
       "      <td>Able to speak sentences in a clear/coherent wa...</td>\n",
       "      <td>Yes</td>\n",
       "      <td>Fresher(only 2022 grad)</td>\n",
       "      <td>Fresher</td>\n",
       "      <td>...</td>\n",
       "      <td>0.985514</td>\n",
       "      <td>1.020654</td>\n",
       "      <td>1.006713</td>\n",
       "      <td>0.979581</td>\n",
       "      <td>-1.063625</td>\n",
       "      <td>1.060405</td>\n",
       "      <td>0.487893</td>\n",
       "      <td>1.256178</td>\n",
       "      <td>0.402709</td>\n",
       "      <td>0.750139</td>\n",
       "    </tr>\n",
       "    <tr>\n",
       "      <th>3</th>\n",
       "      <td>18-22</td>\n",
       "      <td>Male</td>\n",
       "      <td>B.E / B-Tech</td>\n",
       "      <td>Unmarried</td>\n",
       "      <td>Laptop</td>\n",
       "      <td>Proceed with the Interview</td>\n",
       "      <td>Able to speak sentences in a clear/coherent wa...</td>\n",
       "      <td>No</td>\n",
       "      <td>Fresher(only 2022 grad)</td>\n",
       "      <td>Fresher</td>\n",
       "      <td>...</td>\n",
       "      <td>0.985514</td>\n",
       "      <td>1.020654</td>\n",
       "      <td>1.006713</td>\n",
       "      <td>0.979581</td>\n",
       "      <td>1.024503</td>\n",
       "      <td>1.060405</td>\n",
       "      <td>1.415087</td>\n",
       "      <td>1.256178</td>\n",
       "      <td>1.264403</td>\n",
       "      <td>1.509342</td>\n",
       "    </tr>\n",
       "    <tr>\n",
       "      <th>4</th>\n",
       "      <td>18-22</td>\n",
       "      <td>Male</td>\n",
       "      <td>BA/MA</td>\n",
       "      <td>Unmarried</td>\n",
       "      <td>Mobile</td>\n",
       "      <td>Proceed with the Interview</td>\n",
       "      <td>Taking gaps while speaking due to lack of cont...</td>\n",
       "      <td>No</td>\n",
       "      <td>Fresher(only 2022 grad)</td>\n",
       "      <td>Fresher</td>\n",
       "      <td>...</td>\n",
       "      <td>-0.618598</td>\n",
       "      <td>-0.556030</td>\n",
       "      <td>-1.855535</td>\n",
       "      <td>0.979581</td>\n",
       "      <td>-1.063625</td>\n",
       "      <td>1.060405</td>\n",
       "      <td>0.487893</td>\n",
       "      <td>-1.300729</td>\n",
       "      <td>0.402709</td>\n",
       "      <td>-0.009063</td>\n",
       "    </tr>\n",
       "  </tbody>\n",
       "</table>\n",
       "<p>5 rows × 31 columns</p>\n",
       "</div>"
      ],
      "text/plain": [
       "     Age  Gender                Education Marital status Mode of Interview  \\\n",
       "0  23-25  Female  Masters in data science      Unmarried            Mobile   \n",
       "1  29-32  Female               BSc or MSc      Unmarried            Mobile   \n",
       "2  26-28  Female             B.E / B-Tech      Unmarried            Mobile   \n",
       "3  18-22    Male             B.E / B-Tech      Unmarried            Laptop   \n",
       "4  18-22    Male                    BA/MA      Unmarried            Mobile   \n",
       "\n",
       "          Pre Interview Check  \\\n",
       "0  Proceed with the Interview   \n",
       "1  Proceed with the Interview   \n",
       "2  Proceed with the Interview   \n",
       "3  Proceed with the Interview   \n",
       "4  Proceed with the Interview   \n",
       "\n",
       "            Fluency in English based on introduction  \\\n",
       "0  Able to speak sentences in a clear/coherent wa...   \n",
       "1  Able to speak sentences in a clear/coherent wa...   \n",
       "2  Able to speak sentences in a clear/coherent wa...   \n",
       "3  Able to speak sentences in a clear/coherent wa...   \n",
       "4  Taking gaps while speaking due to lack of cont...   \n",
       "\n",
       "  Acquaintance and Referral  \\\n",
       "0                        No   \n",
       "1                        No   \n",
       "2                       Yes   \n",
       "3                        No   \n",
       "4                        No   \n",
       "\n",
       "                                    Candidate Status Last Fixed CTC (lakhs)   \\\n",
       "0  Experienced in non client facing(equal to or m...                  5-5.99   \n",
       "1  Lateral(2021 and before with (less than 6 mont...                 Fresher   \n",
       "2                            Fresher(only 2022 grad)                 Fresher   \n",
       "3                            Fresher(only 2022 grad)                 Fresher   \n",
       "4                            Fresher(only 2022 grad)                 Fresher   \n",
       "\n",
       "   ... Structured Thinking (In regional only).1  \\\n",
       "0  ...                                -0.618598   \n",
       "1  ...                                 0.985514   \n",
       "2  ...                                 0.985514   \n",
       "3  ...                                 0.985514   \n",
       "4  ...                                -0.618598   \n",
       "\n",
       "  Structured Thinking Based on the PPT Question.1  \\\n",
       "0                                        1.020654   \n",
       "1                                        1.020654   \n",
       "2                                        1.020654   \n",
       "3                                        1.020654   \n",
       "4                                       -0.556030   \n",
       "\n",
       "  Structured Thinking( Call pitch).1  \\\n",
       "0                          -0.424411   \n",
       "1                           1.006713   \n",
       "2                           1.006713   \n",
       "3                           1.006713   \n",
       "4                          -1.855535   \n",
       "\n",
       "  Regional fluency based on the topic given  .1  \\\n",
       "0                                     -1.092966   \n",
       "1                                      0.979581   \n",
       "2                                      0.979581   \n",
       "3                                      0.979581   \n",
       "4                                      0.979581   \n",
       "\n",
       "  Regional fluency Based on the PPT Question.1  \\\n",
       "0                                    -1.063625   \n",
       "1                                     1.024503   \n",
       "2                                    -1.063625   \n",
       "3                                     1.024503   \n",
       "4                                    -1.063625   \n",
       "\n",
       "  Regional fluency based on the  sales scenario.1 Confidence Score  \\\n",
       "0                                       -1.043289         0.951490   \n",
       "1                                        1.060405         1.415087   \n",
       "2                                        1.060405         0.487893   \n",
       "3                                        1.060405         1.415087   \n",
       "4                                        1.060405         0.487893   \n",
       "\n",
       "   Structured Thinking Score  Regional Fluency Score  Total Score  \n",
       "0                  -0.022276               -1.320677    -0.198863  \n",
       "1                   1.256178                1.264403     1.509342  \n",
       "2                   1.256178                0.402709     0.750139  \n",
       "3                   1.256178                1.264403     1.509342  \n",
       "4                  -1.300729                0.402709    -0.009063  \n",
       "\n",
       "[5 rows x 31 columns]"
      ]
     },
     "execution_count": 34,
     "metadata": {},
     "output_type": "execute_result"
    }
   ],
   "source": [
    "numerical_df.head()"
   ]
  },
  {
   "cell_type": "code",
   "execution_count": 35,
   "id": "f64b6352-a90d-4851-a8fd-aca06818c445",
   "metadata": {},
   "outputs": [
    {
     "data": {
      "text/plain": [
       "(18681, 31)"
      ]
     },
     "execution_count": 35,
     "metadata": {},
     "output_type": "execute_result"
    }
   ],
   "source": [
    "numerical_df.shape"
   ]
  },
  {
   "cell_type": "markdown",
   "id": "7d4c4ec6-17d4-4e97-96ff-106d4af83e6f",
   "metadata": {},
   "source": [
    "# Data Encoding"
   ]
  },
  {
   "cell_type": "code",
   "execution_count": 36,
   "id": "cc33bb6e-922c-45cc-999c-53cbb9b8881d",
   "metadata": {},
   "outputs": [
    {
     "data": {
      "text/plain": [
       "Role acceptance\n",
       "Emphatic Yes                                        12456\n",
       "Yes : Think and says yes.(Shows some hesitation)     5475\n",
       "No                                                    750\n",
       "Name: count, dtype: int64"
      ]
     },
     "execution_count": 36,
     "metadata": {},
     "output_type": "execute_result"
    }
   ],
   "source": [
    "numerical_df['Role acceptance'].value_counts()"
   ]
  },
  {
   "cell_type": "code",
   "execution_count": 37,
   "id": "e52b3d2d-a5ef-4df4-9849-5cb48155a091",
   "metadata": {},
   "outputs": [],
   "source": [
    "transformer = ColumnTransformer(transformers = [\n",
    "    ('t1', OneHotEncoder(sparse_output=False, drop='first'), ['Gender', 'Experienced Candidate (Nature of work)', 'What was the type of Role?', 'Currently Employed', 'Marital status', 'Mode of Interview', 'Pre Interview Check', 'Fluency in English based on introduction', 'Acquaintance and Referral', 'Candidate Status', 'Education']),\n",
    "    ('t2', OrdinalEncoder(categories=[['Fresher','0-1.99','2-2.99','3-3.99','4-4.99','5-5.99','6-6.99','7+']]), ['Last Fixed CTC (lakhs) ']),\n",
    "    ('t3', OrdinalEncoder(categories=[['No - Want Specific Centre Location Only','Yes - Anywhere Within a City','Yes - Anywhere Within a State','Yes - Anywhere in PAN India']]), ['Candidate is willing to relocate']),\n",
    "    ('t4', OrdinalEncoder(categories=[['Reject','Borderline Reject','Borderline Select','Select','Premium Select']]), ['Interview Verdict']),\n",
    "    ('t5', OrdinalEncoder(categories=[['No','Yes : Think and says yes.(Shows some hesitation)','Emphatic Yes']]), ['Role acceptance']),\n",
    "    ('t6', OrdinalEncoder(categories=[['Fresher(<6 months)','6-11.99 Months','12-17.99 Months','18-23.99 Months','24-29.99 Months','30-35.99 Months','36-47.99 Months','48+ Months']]), ['Experienced candidate - (Experience in months)']),\n",
    "    ('t7', OrdinalEncoder(categories=[['18-22', '23-25', '26-28', '29-32', '33-35', '35+']]), ['Age'])\n",
    "], remainder='passthrough')"
   ]
  },
  {
   "cell_type": "code",
   "execution_count": 38,
   "id": "fdaada05-ade7-4f7f-b569-13b97a6028ae",
   "metadata": {},
   "outputs": [],
   "source": [
    "numerical_df = transformer.fit_transform(numerical_df)"
   ]
  },
  {
   "cell_type": "code",
   "execution_count": 39,
   "id": "041fe4fe-8062-4f7a-8607-935ceb952d9b",
   "metadata": {},
   "outputs": [
    {
     "data": {
      "text/plain": [
       "numpy.ndarray"
      ]
     },
     "execution_count": 39,
     "metadata": {},
     "output_type": "execute_result"
    }
   ],
   "source": [
    "type(numerical_df)"
   ]
  },
  {
   "cell_type": "code",
   "execution_count": 40,
   "id": "a4f07951-d79a-4b4d-9142-6dff770b0c55",
   "metadata": {},
   "outputs": [],
   "source": [
    "features_names = transformer.get_feature_names_out()\n",
    "numerical_df = pd.DataFrame(numerical_df, columns=features_names)"
   ]
  },
  {
   "cell_type": "code",
   "execution_count": 41,
   "id": "c8835d4b-0fee-4ae0-8fb6-44da66815e9a",
   "metadata": {},
   "outputs": [
    {
     "data": {
      "text/plain": [
       "(18681, 1897)"
      ]
     },
     "execution_count": 41,
     "metadata": {},
     "output_type": "execute_result"
    }
   ],
   "source": [
    "numerical_df.shape"
   ]
  },
  {
   "cell_type": "code",
   "execution_count": 42,
   "id": "d35a8793-8d5e-4f17-9f05-9055be7a8bd4",
   "metadata": {},
   "outputs": [
    {
     "data": {
      "text/html": [
       "<div>\n",
       "<style scoped>\n",
       "    .dataframe tbody tr th:only-of-type {\n",
       "        vertical-align: middle;\n",
       "    }\n",
       "\n",
       "    .dataframe tbody tr th {\n",
       "        vertical-align: top;\n",
       "    }\n",
       "\n",
       "    .dataframe thead th {\n",
       "        text-align: right;\n",
       "    }\n",
       "</style>\n",
       "<table border=\"1\" class=\"dataframe\">\n",
       "  <thead>\n",
       "    <tr style=\"text-align: right;\">\n",
       "      <th></th>\n",
       "      <th>t1__Gender_Male</th>\n",
       "      <th>t1__Experienced Candidate (Nature of work)_ DISPATCHER  IN US COMPANY</th>\n",
       "      <th>t1__Experienced Candidate (Nature of work)_ Laboratory Attendant</th>\n",
       "      <th>t1__Experienced Candidate (Nature of work)_ Network Engineer</th>\n",
       "      <th>t1__Experienced Candidate (Nature of work)_ no</th>\n",
       "      <th>t1__Experienced Candidate (Nature of work)_ proctor</th>\n",
       "      <th>t1__Experienced Candidate (Nature of work)_-</th>\n",
       "      <th>t1__Experienced Candidate (Nature of work)_.</th>\n",
       "      <th>t1__Experienced Candidate (Nature of work)_/</th>\n",
       "      <th>t1__Experienced Candidate (Nature of work)_10 lakhs lone</th>\n",
       "      <th>...</th>\n",
       "      <th>remainder__Structured Thinking (In regional only).1</th>\n",
       "      <th>remainder__Structured Thinking Based on the PPT Question.1</th>\n",
       "      <th>remainder__Structured Thinking( Call pitch).1</th>\n",
       "      <th>remainder__Regional fluency based on the topic given  .1</th>\n",
       "      <th>remainder__Regional fluency Based on the PPT Question.1</th>\n",
       "      <th>remainder__Regional fluency based on the  sales scenario.1</th>\n",
       "      <th>remainder__Confidence Score</th>\n",
       "      <th>remainder__Structured Thinking Score</th>\n",
       "      <th>remainder__Regional Fluency Score</th>\n",
       "      <th>remainder__Total Score</th>\n",
       "    </tr>\n",
       "  </thead>\n",
       "  <tbody>\n",
       "    <tr>\n",
       "      <th>0</th>\n",
       "      <td>0.0</td>\n",
       "      <td>0.0</td>\n",
       "      <td>0.0</td>\n",
       "      <td>0.0</td>\n",
       "      <td>0.0</td>\n",
       "      <td>0.0</td>\n",
       "      <td>0.0</td>\n",
       "      <td>0.0</td>\n",
       "      <td>0.0</td>\n",
       "      <td>0.0</td>\n",
       "      <td>...</td>\n",
       "      <td>-0.618598</td>\n",
       "      <td>1.020654</td>\n",
       "      <td>-0.424411</td>\n",
       "      <td>-1.092966</td>\n",
       "      <td>-1.063625</td>\n",
       "      <td>-1.043289</td>\n",
       "      <td>0.951490</td>\n",
       "      <td>-0.022276</td>\n",
       "      <td>-1.320677</td>\n",
       "      <td>-0.198863</td>\n",
       "    </tr>\n",
       "    <tr>\n",
       "      <th>1</th>\n",
       "      <td>0.0</td>\n",
       "      <td>0.0</td>\n",
       "      <td>0.0</td>\n",
       "      <td>0.0</td>\n",
       "      <td>0.0</td>\n",
       "      <td>0.0</td>\n",
       "      <td>0.0</td>\n",
       "      <td>0.0</td>\n",
       "      <td>0.0</td>\n",
       "      <td>0.0</td>\n",
       "      <td>...</td>\n",
       "      <td>0.985514</td>\n",
       "      <td>1.020654</td>\n",
       "      <td>1.006713</td>\n",
       "      <td>0.979581</td>\n",
       "      <td>1.024503</td>\n",
       "      <td>1.060405</td>\n",
       "      <td>1.415087</td>\n",
       "      <td>1.256178</td>\n",
       "      <td>1.264403</td>\n",
       "      <td>1.509342</td>\n",
       "    </tr>\n",
       "  </tbody>\n",
       "</table>\n",
       "<p>2 rows × 1897 columns</p>\n",
       "</div>"
      ],
      "text/plain": [
       "   t1__Gender_Male  \\\n",
       "0              0.0   \n",
       "1              0.0   \n",
       "\n",
       "   t1__Experienced Candidate (Nature of work)_ DISPATCHER  IN US COMPANY   \\\n",
       "0                                                0.0                        \n",
       "1                                                0.0                        \n",
       "\n",
       "   t1__Experienced Candidate (Nature of work)_ Laboratory Attendant   \\\n",
       "0                                                0.0                   \n",
       "1                                                0.0                   \n",
       "\n",
       "   t1__Experienced Candidate (Nature of work)_ Network Engineer  \\\n",
       "0                                                0.0              \n",
       "1                                                0.0              \n",
       "\n",
       "   t1__Experienced Candidate (Nature of work)_ no  \\\n",
       "0                                             0.0   \n",
       "1                                             0.0   \n",
       "\n",
       "   t1__Experienced Candidate (Nature of work)_ proctor   \\\n",
       "0                                                0.0      \n",
       "1                                                0.0      \n",
       "\n",
       "   t1__Experienced Candidate (Nature of work)_-  \\\n",
       "0                                           0.0   \n",
       "1                                           0.0   \n",
       "\n",
       "   t1__Experienced Candidate (Nature of work)_.  \\\n",
       "0                                           0.0   \n",
       "1                                           0.0   \n",
       "\n",
       "   t1__Experienced Candidate (Nature of work)_/  \\\n",
       "0                                           0.0   \n",
       "1                                           0.0   \n",
       "\n",
       "   t1__Experienced Candidate (Nature of work)_10 lakhs lone   ...  \\\n",
       "0                                                0.0          ...   \n",
       "1                                                0.0          ...   \n",
       "\n",
       "   remainder__Structured Thinking (In regional only).1  \\\n",
       "0                                          -0.618598     \n",
       "1                                           0.985514     \n",
       "\n",
       "   remainder__Structured Thinking Based on the PPT Question.1  \\\n",
       "0                                           1.020654            \n",
       "1                                           1.020654            \n",
       "\n",
       "   remainder__Structured Thinking( Call pitch).1  \\\n",
       "0                                      -0.424411   \n",
       "1                                       1.006713   \n",
       "\n",
       "   remainder__Regional fluency based on the topic given  .1  \\\n",
       "0                                          -1.092966          \n",
       "1                                           0.979581          \n",
       "\n",
       "   remainder__Regional fluency Based on the PPT Question.1  \\\n",
       "0                                          -1.063625         \n",
       "1                                           1.024503         \n",
       "\n",
       "   remainder__Regional fluency based on the  sales scenario.1  \\\n",
       "0                                          -1.043289            \n",
       "1                                           1.060405            \n",
       "\n",
       "   remainder__Confidence Score  remainder__Structured Thinking Score  \\\n",
       "0                     0.951490                             -0.022276   \n",
       "1                     1.415087                              1.256178   \n",
       "\n",
       "   remainder__Regional Fluency Score  remainder__Total Score  \n",
       "0                          -1.320677               -0.198863  \n",
       "1                           1.264403                1.509342  \n",
       "\n",
       "[2 rows x 1897 columns]"
      ]
     },
     "execution_count": 42,
     "metadata": {},
     "output_type": "execute_result"
    }
   ],
   "source": [
    "numerical_df.head(2)"
   ]
  },
  {
   "cell_type": "markdown",
   "id": "06ad5ce1-42d8-47cd-9cf2-96800ba8514c",
   "metadata": {},
   "source": [
    "# Principal Component Analysis(PCA) for Dimensionality Reduction\n",
    "**Required to reduce the number of features**"
   ]
  },
  {
   "cell_type": "code",
   "execution_count": 43,
   "id": "981abbbb-2d08-4413-97a2-950c36d8c5a4",
   "metadata": {},
   "outputs": [],
   "source": [
    "pca = PCA(n_components=0.95)\n",
    "numerical_pca = pca.fit_transform(numerical_df)"
   ]
  },
  {
   "cell_type": "code",
   "execution_count": 44,
   "id": "b586921e-706d-4010-b2b2-63fd7ed8351c",
   "metadata": {},
   "outputs": [
    {
     "data": {
      "text/plain": [
       "numpy.ndarray"
      ]
     },
     "execution_count": 44,
     "metadata": {},
     "output_type": "execute_result"
    }
   ],
   "source": [
    "type(numerical_pca)"
   ]
  },
  {
   "cell_type": "code",
   "execution_count": 45,
   "id": "9cf7b500-1332-44be-a088-fbb5490559ec",
   "metadata": {},
   "outputs": [],
   "source": [
    "features_names = pca.get_feature_names_out()\n",
    "numerical_df = pd.DataFrame(numerical_pca, columns=features_names)"
   ]
  },
  {
   "cell_type": "code",
   "execution_count": 46,
   "id": "f6a85c9f-5545-47e2-bca9-302ac60a7c6e",
   "metadata": {},
   "outputs": [
    {
     "data": {
      "text/plain": [
       "pandas.core.frame.DataFrame"
      ]
     },
     "execution_count": 46,
     "metadata": {},
     "output_type": "execute_result"
    }
   ],
   "source": [
    "type(numerical_df)"
   ]
  },
  {
   "cell_type": "code",
   "execution_count": 47,
   "id": "86b7cae9-ea23-4578-8b66-0cbddc6a596b",
   "metadata": {},
   "outputs": [
    {
     "data": {
      "text/plain": [
       "(18681, 22)"
      ]
     },
     "execution_count": 47,
     "metadata": {},
     "output_type": "execute_result"
    }
   ],
   "source": [
    "numerical_df.shape"
   ]
  },
  {
   "cell_type": "code",
   "execution_count": 48,
   "id": "8a1c219d-866f-4708-b65f-110bb0eb50d9",
   "metadata": {},
   "outputs": [
    {
     "data": {
      "text/html": [
       "<div>\n",
       "<style scoped>\n",
       "    .dataframe tbody tr th:only-of-type {\n",
       "        vertical-align: middle;\n",
       "    }\n",
       "\n",
       "    .dataframe tbody tr th {\n",
       "        vertical-align: top;\n",
       "    }\n",
       "\n",
       "    .dataframe thead th {\n",
       "        text-align: right;\n",
       "    }\n",
       "</style>\n",
       "<table border=\"1\" class=\"dataframe\">\n",
       "  <thead>\n",
       "    <tr style=\"text-align: right;\">\n",
       "      <th></th>\n",
       "      <th>pca0</th>\n",
       "      <th>pca1</th>\n",
       "      <th>pca2</th>\n",
       "      <th>pca3</th>\n",
       "      <th>pca4</th>\n",
       "      <th>pca5</th>\n",
       "      <th>pca6</th>\n",
       "      <th>pca7</th>\n",
       "      <th>pca8</th>\n",
       "      <th>pca9</th>\n",
       "      <th>...</th>\n",
       "      <th>pca12</th>\n",
       "      <th>pca13</th>\n",
       "      <th>pca14</th>\n",
       "      <th>pca15</th>\n",
       "      <th>pca16</th>\n",
       "      <th>pca17</th>\n",
       "      <th>pca18</th>\n",
       "      <th>pca19</th>\n",
       "      <th>pca20</th>\n",
       "      <th>pca21</th>\n",
       "    </tr>\n",
       "  </thead>\n",
       "  <tbody>\n",
       "    <tr>\n",
       "      <th>0</th>\n",
       "      <td>-0.041491</td>\n",
       "      <td>1.821674</td>\n",
       "      <td>-1.018671</td>\n",
       "      <td>-1.629676</td>\n",
       "      <td>2.121754</td>\n",
       "      <td>-0.930258</td>\n",
       "      <td>-3.278468</td>\n",
       "      <td>2.380039</td>\n",
       "      <td>1.188027</td>\n",
       "      <td>1.186568</td>\n",
       "      <td>...</td>\n",
       "      <td>-1.022521</td>\n",
       "      <td>-0.207322</td>\n",
       "      <td>1.095852</td>\n",
       "      <td>0.599490</td>\n",
       "      <td>0.066089</td>\n",
       "      <td>-0.435492</td>\n",
       "      <td>0.144108</td>\n",
       "      <td>-0.229863</td>\n",
       "      <td>-0.576524</td>\n",
       "      <td>-0.727757</td>\n",
       "    </tr>\n",
       "    <tr>\n",
       "      <th>1</th>\n",
       "      <td>2.934609</td>\n",
       "      <td>-2.274258</td>\n",
       "      <td>1.599145</td>\n",
       "      <td>0.531347</td>\n",
       "      <td>1.407868</td>\n",
       "      <td>1.304165</td>\n",
       "      <td>-1.878531</td>\n",
       "      <td>-1.936549</td>\n",
       "      <td>2.169131</td>\n",
       "      <td>0.738025</td>\n",
       "      <td>...</td>\n",
       "      <td>-0.076328</td>\n",
       "      <td>-0.851957</td>\n",
       "      <td>0.278085</td>\n",
       "      <td>-0.018831</td>\n",
       "      <td>0.463886</td>\n",
       "      <td>-0.000188</td>\n",
       "      <td>-0.032030</td>\n",
       "      <td>0.022952</td>\n",
       "      <td>0.043180</td>\n",
       "      <td>-0.381693</td>\n",
       "    </tr>\n",
       "    <tr>\n",
       "      <th>2</th>\n",
       "      <td>2.152953</td>\n",
       "      <td>-2.072010</td>\n",
       "      <td>-1.080818</td>\n",
       "      <td>-0.274634</td>\n",
       "      <td>-0.959109</td>\n",
       "      <td>0.319263</td>\n",
       "      <td>1.688017</td>\n",
       "      <td>-0.449569</td>\n",
       "      <td>1.279477</td>\n",
       "      <td>0.487790</td>\n",
       "      <td>...</td>\n",
       "      <td>-1.096375</td>\n",
       "      <td>0.497548</td>\n",
       "      <td>-0.120831</td>\n",
       "      <td>0.538293</td>\n",
       "      <td>0.180238</td>\n",
       "      <td>-0.313600</td>\n",
       "      <td>-0.807497</td>\n",
       "      <td>0.636418</td>\n",
       "      <td>0.757597</td>\n",
       "      <td>-0.503597</td>\n",
       "    </tr>\n",
       "    <tr>\n",
       "      <th>3</th>\n",
       "      <td>3.894837</td>\n",
       "      <td>-3.404232</td>\n",
       "      <td>-0.093392</td>\n",
       "      <td>1.141162</td>\n",
       "      <td>0.336833</td>\n",
       "      <td>-0.232041</td>\n",
       "      <td>0.178308</td>\n",
       "      <td>0.197593</td>\n",
       "      <td>-0.383692</td>\n",
       "      <td>-0.771922</td>\n",
       "      <td>...</td>\n",
       "      <td>0.007924</td>\n",
       "      <td>0.755882</td>\n",
       "      <td>-0.086455</td>\n",
       "      <td>-0.036561</td>\n",
       "      <td>0.269530</td>\n",
       "      <td>-0.189405</td>\n",
       "      <td>-0.086062</td>\n",
       "      <td>-0.346854</td>\n",
       "      <td>0.054016</td>\n",
       "      <td>0.157450</td>\n",
       "    </tr>\n",
       "    <tr>\n",
       "      <th>4</th>\n",
       "      <td>-0.945086</td>\n",
       "      <td>-1.526782</td>\n",
       "      <td>1.592172</td>\n",
       "      <td>-1.561385</td>\n",
       "      <td>0.477810</td>\n",
       "      <td>-1.553965</td>\n",
       "      <td>1.631080</td>\n",
       "      <td>-0.181753</td>\n",
       "      <td>-0.040788</td>\n",
       "      <td>-0.144976</td>\n",
       "      <td>...</td>\n",
       "      <td>-1.072113</td>\n",
       "      <td>-0.128938</td>\n",
       "      <td>0.135667</td>\n",
       "      <td>0.187743</td>\n",
       "      <td>-0.484645</td>\n",
       "      <td>0.297314</td>\n",
       "      <td>-0.579843</td>\n",
       "      <td>-0.016847</td>\n",
       "      <td>-0.168577</td>\n",
       "      <td>0.153979</td>\n",
       "    </tr>\n",
       "  </tbody>\n",
       "</table>\n",
       "<p>5 rows × 22 columns</p>\n",
       "</div>"
      ],
      "text/plain": [
       "       pca0      pca1      pca2      pca3      pca4      pca5      pca6  \\\n",
       "0 -0.041491  1.821674 -1.018671 -1.629676  2.121754 -0.930258 -3.278468   \n",
       "1  2.934609 -2.274258  1.599145  0.531347  1.407868  1.304165 -1.878531   \n",
       "2  2.152953 -2.072010 -1.080818 -0.274634 -0.959109  0.319263  1.688017   \n",
       "3  3.894837 -3.404232 -0.093392  1.141162  0.336833 -0.232041  0.178308   \n",
       "4 -0.945086 -1.526782  1.592172 -1.561385  0.477810 -1.553965  1.631080   \n",
       "\n",
       "       pca7      pca8      pca9  ...     pca12     pca13     pca14     pca15  \\\n",
       "0  2.380039  1.188027  1.186568  ... -1.022521 -0.207322  1.095852  0.599490   \n",
       "1 -1.936549  2.169131  0.738025  ... -0.076328 -0.851957  0.278085 -0.018831   \n",
       "2 -0.449569  1.279477  0.487790  ... -1.096375  0.497548 -0.120831  0.538293   \n",
       "3  0.197593 -0.383692 -0.771922  ...  0.007924  0.755882 -0.086455 -0.036561   \n",
       "4 -0.181753 -0.040788 -0.144976  ... -1.072113 -0.128938  0.135667  0.187743   \n",
       "\n",
       "      pca16     pca17     pca18     pca19     pca20     pca21  \n",
       "0  0.066089 -0.435492  0.144108 -0.229863 -0.576524 -0.727757  \n",
       "1  0.463886 -0.000188 -0.032030  0.022952  0.043180 -0.381693  \n",
       "2  0.180238 -0.313600 -0.807497  0.636418  0.757597 -0.503597  \n",
       "3  0.269530 -0.189405 -0.086062 -0.346854  0.054016  0.157450  \n",
       "4 -0.484645  0.297314 -0.579843 -0.016847 -0.168577  0.153979  \n",
       "\n",
       "[5 rows x 22 columns]"
      ]
     },
     "execution_count": 48,
     "metadata": {},
     "output_type": "execute_result"
    }
   ],
   "source": [
    "numerical_df.head()"
   ]
  },
  {
   "cell_type": "code",
   "execution_count": 49,
   "id": "9485919f-0275-48c4-a331-672871d11cf6",
   "metadata": {},
   "outputs": [
    {
     "data": {
      "text/plain": [
       "pca0     0\n",
       "pca1     0\n",
       "pca2     0\n",
       "pca3     0\n",
       "pca4     0\n",
       "pca5     0\n",
       "pca6     0\n",
       "pca7     0\n",
       "pca8     0\n",
       "pca9     0\n",
       "pca10    0\n",
       "pca11    0\n",
       "pca12    0\n",
       "pca13    0\n",
       "pca14    0\n",
       "pca15    0\n",
       "pca16    0\n",
       "pca17    0\n",
       "pca18    0\n",
       "pca19    0\n",
       "pca20    0\n",
       "pca21    0\n",
       "dtype: int64"
      ]
     },
     "execution_count": 49,
     "metadata": {},
     "output_type": "execute_result"
    }
   ],
   "source": [
    "numerical_df.isnull().sum()"
   ]
  },
  {
   "cell_type": "code",
   "execution_count": 50,
   "id": "04ef1a20-c5b1-4e83-a4b8-ace1e120bc58",
   "metadata": {},
   "outputs": [],
   "source": [
    "df = df[['id',\n",
    "                   'Name',\n",
    "                   'Comments',\n",
    "                   'RedFlags Comments in Interview',\n",
    "                   'Call-pitch Elements used during the call Sales Scenario',\n",
    "                   \"But, my child's exam are going on now, so we will keep the counselling session after the exams get over\",\n",
    "                  'Let me discuss it with my child',\n",
    "                'Whether joined the company or not',\n",
    "                   \"Sir being in education industry I know this is a marketing gimmick and at the end of the day you'll be selling the app.\",'Role Location to be given to the candidate']]"
   ]
  },
  {
   "cell_type": "code",
   "execution_count": 51,
   "id": "86b247ff-eaad-4fc6-9d06-771649842003",
   "metadata": {},
   "outputs": [
    {
     "data": {
      "text/plain": [
       "array([0, 1])"
      ]
     },
     "execution_count": 51,
     "metadata": {},
     "output_type": "execute_result"
    }
   ],
   "source": [
    "df['Whether joined the company or not'].unique()"
   ]
  },
  {
   "cell_type": "code",
   "execution_count": 52,
   "id": "4704f8b9-607f-408d-88d8-914cc1b5555b",
   "metadata": {},
   "outputs": [
    {
     "name": "stdout",
     "output_type": "stream",
     "text": [
      "<class 'pandas.core.frame.DataFrame'>\n",
      "Index: 18681 entries, 0 to 21255\n",
      "Data columns (total 10 columns):\n",
      " #   Column                                                                                                                   Non-Null Count  Dtype \n",
      "---  ------                                                                                                                   --------------  ----- \n",
      " 0   id                                                                                                                       18681 non-null  int64 \n",
      " 1   Name                                                                                                                     18681 non-null  object\n",
      " 2   Comments                                                                                                                 18681 non-null  object\n",
      " 3   RedFlags Comments in Interview                                                                                           18681 non-null  object\n",
      " 4   Call-pitch Elements used during the call Sales Scenario                                                                  18681 non-null  object\n",
      " 5   But, my child's exam are going on now, so we will keep the counselling session after the exams get over                  18681 non-null  object\n",
      " 6   Let me discuss it with my child                                                                                          18681 non-null  object\n",
      " 7   Whether joined the company or not                                                                                        18681 non-null  int32 \n",
      " 8   Sir being in education industry I know this is a marketing gimmick and at the end of the day you'll be selling the app.  18681 non-null  object\n",
      " 9   Role Location to be given to the candidate                                                                               18681 non-null  object\n",
      "dtypes: int32(1), int64(1), object(8)\n",
      "memory usage: 1.5+ MB\n"
     ]
    }
   ],
   "source": [
    "df.info()"
   ]
  },
  {
   "cell_type": "code",
   "execution_count": 53,
   "id": "fa8fa52a-8923-4f36-b6e5-b03a6cb5eaa1",
   "metadata": {},
   "outputs": [],
   "source": [
    "for col in df.columns:\n",
    "    if df[col].dtype == 'object':\n",
    "        df[col] = df[col].apply(lambda x:x.split())"
   ]
  },
  {
   "cell_type": "code",
   "execution_count": 54,
   "id": "8bf35c3b-484b-4971-8e80-86c7b6303156",
   "metadata": {},
   "outputs": [
    {
     "data": {
      "text/html": [
       "<div>\n",
       "<style scoped>\n",
       "    .dataframe tbody tr th:only-of-type {\n",
       "        vertical-align: middle;\n",
       "    }\n",
       "\n",
       "    .dataframe tbody tr th {\n",
       "        vertical-align: top;\n",
       "    }\n",
       "\n",
       "    .dataframe thead th {\n",
       "        text-align: right;\n",
       "    }\n",
       "</style>\n",
       "<table border=\"1\" class=\"dataframe\">\n",
       "  <thead>\n",
       "    <tr style=\"text-align: right;\">\n",
       "      <th></th>\n",
       "      <th>id</th>\n",
       "      <th>Name</th>\n",
       "      <th>Comments</th>\n",
       "      <th>RedFlags Comments in Interview</th>\n",
       "      <th>Call-pitch Elements used during the call Sales Scenario</th>\n",
       "      <th>But, my child's exam are going on now, so we will keep the counselling session after the exams get over</th>\n",
       "      <th>Let me discuss it with my child</th>\n",
       "      <th>Whether joined the company or not</th>\n",
       "      <th>Sir being in education industry I know this is a marketing gimmick and at the end of the day you'll be selling the app.</th>\n",
       "      <th>Role Location to be given to the candidate</th>\n",
       "    </tr>\n",
       "  </thead>\n",
       "  <tbody>\n",
       "    <tr>\n",
       "      <th>0</th>\n",
       "      <td>0</td>\n",
       "      <td>[parida]</td>\n",
       "      <td>[Lipsa, is, 25, female, from, Orissa,, Family,...</td>\n",
       "      <td>[At, least, Graduated, (, not, 12th, Pass, or,...</td>\n",
       "      <td>[Purpose, of, Call, (Book, a, Counselling, Ses...</td>\n",
       "      <td>[Urgency, using, Time]</td>\n",
       "      <td>[None, of, the, above]</td>\n",
       "      <td>0</td>\n",
       "      <td>[None, of, the, above]</td>\n",
       "      <td>[Bangalore]</td>\n",
       "    </tr>\n",
       "    <tr>\n",
       "      <th>1</th>\n",
       "      <td>1</td>\n",
       "      <td>[shreej]</td>\n",
       "      <td>[29, yo, /, female, /, unmarried, /, MSc, Fina...</td>\n",
       "      <td>[Not, Rehire, (CDT, have, not, joined, byjus, ...</td>\n",
       "      <td>[Introduction, (Self, Intro,Company, Name),, P...</td>\n",
       "      <td>[Asking, Questions]</td>\n",
       "      <td>[None, of, the, above]</td>\n",
       "      <td>0</td>\n",
       "      <td>[Non, chargeable, session]</td>\n",
       "      <td>[Delhi]</td>\n",
       "    </tr>\n",
       "    <tr>\n",
       "      <th>2</th>\n",
       "      <td>2</td>\n",
       "      <td>[ms6744]</td>\n",
       "      <td>[nm]</td>\n",
       "      <td>[Not, working, currently, and, ready, to, join...</td>\n",
       "      <td>[Introduction, (Self, Intro,Company, Name)]</td>\n",
       "      <td>[Urgency, using, Time]</td>\n",
       "      <td>[Decision, Making:, Major, decision, of, child...</td>\n",
       "      <td>1</td>\n",
       "      <td>[Non, chargeable, session]</td>\n",
       "      <td>[Chennai]</td>\n",
       "    </tr>\n",
       "    <tr>\n",
       "      <th>3</th>\n",
       "      <td>3</td>\n",
       "      <td>[aswalu]</td>\n",
       "      <td>[Final, Interview, Done, 22YRS, //UTTARAKHAND,...</td>\n",
       "      <td>[Not, Rehire, (CDT, have, not, joined, byjus, ...</td>\n",
       "      <td>[Introduction, (Self, Intro,Company, Name),, P...</td>\n",
       "      <td>[Urgency, using, Time,, Urgency, using, situat...</td>\n",
       "      <td>[None, of, the, above]</td>\n",
       "      <td>1</td>\n",
       "      <td>[Value, creation(Nothing, comes, for, free)]</td>\n",
       "      <td>[Delhi]</td>\n",
       "    </tr>\n",
       "    <tr>\n",
       "      <th>4</th>\n",
       "      <td>4</td>\n",
       "      <td>[aniket]</td>\n",
       "      <td>[Aniket, is, 22, male, from, Bhopal,, BA, Grad...</td>\n",
       "      <td>[Age, is, below, 32.11,, At, least, Graduated,...</td>\n",
       "      <td>[None, of, the, Above]</td>\n",
       "      <td>[Urgency, by, creating, counsellor, Hype]</td>\n",
       "      <td>[Anticipation, of, objection, from, child's, e...</td>\n",
       "      <td>0</td>\n",
       "      <td>[Value, creation(Nothing, comes, for, free)]</td>\n",
       "      <td>[Bangalore]</td>\n",
       "    </tr>\n",
       "  </tbody>\n",
       "</table>\n",
       "</div>"
      ],
      "text/plain": [
       "   id      Name                                           Comments  \\\n",
       "0   0  [parida]  [Lipsa, is, 25, female, from, Orissa,, Family,...   \n",
       "1   1  [shreej]  [29, yo, /, female, /, unmarried, /, MSc, Fina...   \n",
       "2   2  [ms6744]                                               [nm]   \n",
       "3   3  [aswalu]  [Final, Interview, Done, 22YRS, //UTTARAKHAND,...   \n",
       "4   4  [aniket]  [Aniket, is, 22, male, from, Bhopal,, BA, Grad...   \n",
       "\n",
       "                      RedFlags Comments in Interview  \\\n",
       "0  [At, least, Graduated, (, not, 12th, Pass, or,...   \n",
       "1  [Not, Rehire, (CDT, have, not, joined, byjus, ...   \n",
       "2  [Not, working, currently, and, ready, to, join...   \n",
       "3  [Not, Rehire, (CDT, have, not, joined, byjus, ...   \n",
       "4  [Age, is, below, 32.11,, At, least, Graduated,...   \n",
       "\n",
       "  Call-pitch Elements used during the call Sales Scenario  \\\n",
       "0  [Purpose, of, Call, (Book, a, Counselling, Ses...        \n",
       "1  [Introduction, (Self, Intro,Company, Name),, P...        \n",
       "2        [Introduction, (Self, Intro,Company, Name)]        \n",
       "3  [Introduction, (Self, Intro,Company, Name),, P...        \n",
       "4                             [None, of, the, Above]        \n",
       "\n",
       "  But, my child's exam are going on now, so we will keep the counselling session after the exams get over  \\\n",
       "0                             [Urgency, using, Time]                                                        \n",
       "1                                [Asking, Questions]                                                        \n",
       "2                             [Urgency, using, Time]                                                        \n",
       "3  [Urgency, using, Time,, Urgency, using, situat...                                                        \n",
       "4          [Urgency, by, creating, counsellor, Hype]                                                        \n",
       "\n",
       "                     Let me discuss it with my child  \\\n",
       "0                             [None, of, the, above]   \n",
       "1                             [None, of, the, above]   \n",
       "2  [Decision, Making:, Major, decision, of, child...   \n",
       "3                             [None, of, the, above]   \n",
       "4  [Anticipation, of, objection, from, child's, e...   \n",
       "\n",
       "   Whether joined the company or not  \\\n",
       "0                                  0   \n",
       "1                                  0   \n",
       "2                                  1   \n",
       "3                                  1   \n",
       "4                                  0   \n",
       "\n",
       "  Sir being in education industry I know this is a marketing gimmick and at the end of the day you'll be selling the app.  \\\n",
       "0                             [None, of, the, above]                                                                        \n",
       "1                         [Non, chargeable, session]                                                                        \n",
       "2                         [Non, chargeable, session]                                                                        \n",
       "3       [Value, creation(Nothing, comes, for, free)]                                                                        \n",
       "4       [Value, creation(Nothing, comes, for, free)]                                                                        \n",
       "\n",
       "  Role Location to be given to the candidate  \n",
       "0                                [Bangalore]  \n",
       "1                                    [Delhi]  \n",
       "2                                  [Chennai]  \n",
       "3                                    [Delhi]  \n",
       "4                                [Bangalore]  "
      ]
     },
     "execution_count": 54,
     "metadata": {},
     "output_type": "execute_result"
    }
   ],
   "source": [
    "df.head()"
   ]
  },
  {
   "cell_type": "code",
   "execution_count": 55,
   "id": "b4fe1ac3-1f77-477f-a51e-ec2992a8cc6b",
   "metadata": {},
   "outputs": [
    {
     "data": {
      "text/plain": [
       "Index(['id', 'Name', 'Comments', 'RedFlags Comments in Interview',\n",
       "       'Call-pitch Elements used during the call Sales Scenario',\n",
       "       'But, my child's exam are going on now, so we will keep the counselling session after the exams get over',\n",
       "       'Let me discuss it with my child', 'Whether joined the company or not',\n",
       "       'Sir being in education industry I know this is a marketing gimmick and at the end of the day you'll be selling the app.',\n",
       "       'Role Location to be given to the candidate'],\n",
       "      dtype='object')"
      ]
     },
     "execution_count": 55,
     "metadata": {},
     "output_type": "execute_result"
    }
   ],
   "source": [
    "df.columns"
   ]
  },
  {
   "cell_type": "code",
   "execution_count": 56,
   "id": "8213480a-7556-4e88-b4de-e181f1c53b47",
   "metadata": {},
   "outputs": [],
   "source": [
    "df['tags'] = df['Name'] + df['Comments'] + df['RedFlags Comments in Interview'] + df['Call-pitch Elements used during the call Sales Scenario'] + df[\"But, my child's exam are going on now, so we will keep the counselling session after the exams get over\"] + df['Let me discuss it with my child'] + df[\"Sir being in education industry I know this is a marketing gimmick and at the end of the day you'll be selling the app.\"] + df['Role Location to be given to the candidate']"
   ]
  },
  {
   "cell_type": "code",
   "execution_count": 57,
   "id": "39e5b0c2-fcb8-47d9-8f9f-8a06d6766a79",
   "metadata": {},
   "outputs": [
    {
     "data": {
      "text/html": [
       "<div>\n",
       "<style scoped>\n",
       "    .dataframe tbody tr th:only-of-type {\n",
       "        vertical-align: middle;\n",
       "    }\n",
       "\n",
       "    .dataframe tbody tr th {\n",
       "        vertical-align: top;\n",
       "    }\n",
       "\n",
       "    .dataframe thead th {\n",
       "        text-align: right;\n",
       "    }\n",
       "</style>\n",
       "<table border=\"1\" class=\"dataframe\">\n",
       "  <thead>\n",
       "    <tr style=\"text-align: right;\">\n",
       "      <th></th>\n",
       "      <th>id</th>\n",
       "      <th>Name</th>\n",
       "      <th>Comments</th>\n",
       "      <th>RedFlags Comments in Interview</th>\n",
       "      <th>Call-pitch Elements used during the call Sales Scenario</th>\n",
       "      <th>But, my child's exam are going on now, so we will keep the counselling session after the exams get over</th>\n",
       "      <th>Let me discuss it with my child</th>\n",
       "      <th>Whether joined the company or not</th>\n",
       "      <th>Sir being in education industry I know this is a marketing gimmick and at the end of the day you'll be selling the app.</th>\n",
       "      <th>Role Location to be given to the candidate</th>\n",
       "      <th>tags</th>\n",
       "    </tr>\n",
       "  </thead>\n",
       "  <tbody>\n",
       "    <tr>\n",
       "      <th>0</th>\n",
       "      <td>0</td>\n",
       "      <td>[parida]</td>\n",
       "      <td>[Lipsa, is, 25, female, from, Orissa,, Family,...</td>\n",
       "      <td>[At, least, Graduated, (, not, 12th, Pass, or,...</td>\n",
       "      <td>[Purpose, of, Call, (Book, a, Counselling, Ses...</td>\n",
       "      <td>[Urgency, using, Time]</td>\n",
       "      <td>[None, of, the, above]</td>\n",
       "      <td>0</td>\n",
       "      <td>[None, of, the, above]</td>\n",
       "      <td>[Bangalore]</td>\n",
       "      <td>[parida, Lipsa, is, 25, female, from, Orissa,,...</td>\n",
       "    </tr>\n",
       "    <tr>\n",
       "      <th>1</th>\n",
       "      <td>1</td>\n",
       "      <td>[shreej]</td>\n",
       "      <td>[29, yo, /, female, /, unmarried, /, MSc, Fina...</td>\n",
       "      <td>[Not, Rehire, (CDT, have, not, joined, byjus, ...</td>\n",
       "      <td>[Introduction, (Self, Intro,Company, Name),, P...</td>\n",
       "      <td>[Asking, Questions]</td>\n",
       "      <td>[None, of, the, above]</td>\n",
       "      <td>0</td>\n",
       "      <td>[Non, chargeable, session]</td>\n",
       "      <td>[Delhi]</td>\n",
       "      <td>[shreej, 29, yo, /, female, /, unmarried, /, M...</td>\n",
       "    </tr>\n",
       "    <tr>\n",
       "      <th>2</th>\n",
       "      <td>2</td>\n",
       "      <td>[ms6744]</td>\n",
       "      <td>[nm]</td>\n",
       "      <td>[Not, working, currently, and, ready, to, join...</td>\n",
       "      <td>[Introduction, (Self, Intro,Company, Name)]</td>\n",
       "      <td>[Urgency, using, Time]</td>\n",
       "      <td>[Decision, Making:, Major, decision, of, child...</td>\n",
       "      <td>1</td>\n",
       "      <td>[Non, chargeable, session]</td>\n",
       "      <td>[Chennai]</td>\n",
       "      <td>[ms6744, nm, Not, working, currently, and, rea...</td>\n",
       "    </tr>\n",
       "    <tr>\n",
       "      <th>3</th>\n",
       "      <td>3</td>\n",
       "      <td>[aswalu]</td>\n",
       "      <td>[Final, Interview, Done, 22YRS, //UTTARAKHAND,...</td>\n",
       "      <td>[Not, Rehire, (CDT, have, not, joined, byjus, ...</td>\n",
       "      <td>[Introduction, (Self, Intro,Company, Name),, P...</td>\n",
       "      <td>[Urgency, using, Time,, Urgency, using, situat...</td>\n",
       "      <td>[None, of, the, above]</td>\n",
       "      <td>1</td>\n",
       "      <td>[Value, creation(Nothing, comes, for, free)]</td>\n",
       "      <td>[Delhi]</td>\n",
       "      <td>[aswalu, Final, Interview, Done, 22YRS, //UTTA...</td>\n",
       "    </tr>\n",
       "    <tr>\n",
       "      <th>4</th>\n",
       "      <td>4</td>\n",
       "      <td>[aniket]</td>\n",
       "      <td>[Aniket, is, 22, male, from, Bhopal,, BA, Grad...</td>\n",
       "      <td>[Age, is, below, 32.11,, At, least, Graduated,...</td>\n",
       "      <td>[None, of, the, Above]</td>\n",
       "      <td>[Urgency, by, creating, counsellor, Hype]</td>\n",
       "      <td>[Anticipation, of, objection, from, child's, e...</td>\n",
       "      <td>0</td>\n",
       "      <td>[Value, creation(Nothing, comes, for, free)]</td>\n",
       "      <td>[Bangalore]</td>\n",
       "      <td>[aniket, Aniket, is, 22, male, from, Bhopal,, ...</td>\n",
       "    </tr>\n",
       "  </tbody>\n",
       "</table>\n",
       "</div>"
      ],
      "text/plain": [
       "   id      Name                                           Comments  \\\n",
       "0   0  [parida]  [Lipsa, is, 25, female, from, Orissa,, Family,...   \n",
       "1   1  [shreej]  [29, yo, /, female, /, unmarried, /, MSc, Fina...   \n",
       "2   2  [ms6744]                                               [nm]   \n",
       "3   3  [aswalu]  [Final, Interview, Done, 22YRS, //UTTARAKHAND,...   \n",
       "4   4  [aniket]  [Aniket, is, 22, male, from, Bhopal,, BA, Grad...   \n",
       "\n",
       "                      RedFlags Comments in Interview  \\\n",
       "0  [At, least, Graduated, (, not, 12th, Pass, or,...   \n",
       "1  [Not, Rehire, (CDT, have, not, joined, byjus, ...   \n",
       "2  [Not, working, currently, and, ready, to, join...   \n",
       "3  [Not, Rehire, (CDT, have, not, joined, byjus, ...   \n",
       "4  [Age, is, below, 32.11,, At, least, Graduated,...   \n",
       "\n",
       "  Call-pitch Elements used during the call Sales Scenario  \\\n",
       "0  [Purpose, of, Call, (Book, a, Counselling, Ses...        \n",
       "1  [Introduction, (Self, Intro,Company, Name),, P...        \n",
       "2        [Introduction, (Self, Intro,Company, Name)]        \n",
       "3  [Introduction, (Self, Intro,Company, Name),, P...        \n",
       "4                             [None, of, the, Above]        \n",
       "\n",
       "  But, my child's exam are going on now, so we will keep the counselling session after the exams get over  \\\n",
       "0                             [Urgency, using, Time]                                                        \n",
       "1                                [Asking, Questions]                                                        \n",
       "2                             [Urgency, using, Time]                                                        \n",
       "3  [Urgency, using, Time,, Urgency, using, situat...                                                        \n",
       "4          [Urgency, by, creating, counsellor, Hype]                                                        \n",
       "\n",
       "                     Let me discuss it with my child  \\\n",
       "0                             [None, of, the, above]   \n",
       "1                             [None, of, the, above]   \n",
       "2  [Decision, Making:, Major, decision, of, child...   \n",
       "3                             [None, of, the, above]   \n",
       "4  [Anticipation, of, objection, from, child's, e...   \n",
       "\n",
       "   Whether joined the company or not  \\\n",
       "0                                  0   \n",
       "1                                  0   \n",
       "2                                  1   \n",
       "3                                  1   \n",
       "4                                  0   \n",
       "\n",
       "  Sir being in education industry I know this is a marketing gimmick and at the end of the day you'll be selling the app.  \\\n",
       "0                             [None, of, the, above]                                                                        \n",
       "1                         [Non, chargeable, session]                                                                        \n",
       "2                         [Non, chargeable, session]                                                                        \n",
       "3       [Value, creation(Nothing, comes, for, free)]                                                                        \n",
       "4       [Value, creation(Nothing, comes, for, free)]                                                                        \n",
       "\n",
       "  Role Location to be given to the candidate  \\\n",
       "0                                [Bangalore]   \n",
       "1                                    [Delhi]   \n",
       "2                                  [Chennai]   \n",
       "3                                    [Delhi]   \n",
       "4                                [Bangalore]   \n",
       "\n",
       "                                                tags  \n",
       "0  [parida, Lipsa, is, 25, female, from, Orissa,,...  \n",
       "1  [shreej, 29, yo, /, female, /, unmarried, /, M...  \n",
       "2  [ms6744, nm, Not, working, currently, and, rea...  \n",
       "3  [aswalu, Final, Interview, Done, 22YRS, //UTTA...  \n",
       "4  [aniket, Aniket, is, 22, male, from, Bhopal,, ...  "
      ]
     },
     "execution_count": 57,
     "metadata": {},
     "output_type": "execute_result"
    }
   ],
   "source": [
    "df.head()"
   ]
  },
  {
   "cell_type": "code",
   "execution_count": 58,
   "id": "974c6d29-d13d-4932-96d3-3fd74487b6e4",
   "metadata": {
    "scrolled": true
   },
   "outputs": [
    {
     "data": {
      "text/plain": [
       "['shreej',\n",
       " '29',\n",
       " 'yo',\n",
       " '/',\n",
       " 'female',\n",
       " '/',\n",
       " 'unmarried',\n",
       " '/',\n",
       " 'MSc',\n",
       " 'Finance',\n",
       " 'UK',\n",
       " '2022',\n",
       " '/',\n",
       " 'recently',\n",
       " 'relocated',\n",
       " 'to',\n",
       " 'India',\n",
       " 'just',\n",
       " '20',\n",
       " 'days',\n",
       " 'ago',\n",
       " '/',\n",
       " 'Odissa',\n",
       " '/',\n",
       " 'father',\n",
       " '-',\n",
       " 'doctor',\n",
       " '/',\n",
       " 'bro',\n",
       " '-',\n",
       " 'software',\n",
       " 'engineer',\n",
       " '/',\n",
       " 'pursuing',\n",
       " 'internship',\n",
       " 'in',\n",
       " 'investment',\n",
       " 'banking',\n",
       " '-',\n",
       " 'ends',\n",
       " 'in',\n",
       " 'next',\n",
       " 'week',\n",
       " '/',\n",
       " 'worked',\n",
       " 'as',\n",
       " 'a',\n",
       " 'teacher',\n",
       " '/',\n",
       " 'good',\n",
       " 'story',\n",
       " 'teller',\n",
       " '-',\n",
       " 'fluent',\n",
       " 'in',\n",
       " 'hindi',\n",
       " 'and',\n",
       " 'english',\n",
       " '-',\n",
       " 'good',\n",
       " 'energy',\n",
       " '/',\n",
       " 'also',\n",
       " 'prepared',\n",
       " 'for',\n",
       " 'UPSC',\n",
       " 'and',\n",
       " 'GMAT',\n",
       " '-',\n",
       " 'purchased',\n",
       " 'a',\n",
       " 'course',\n",
       " 'from',\n",
       " \"byju's\",\n",
       " 'earlier',\n",
       " '/',\n",
       " 'cracked',\n",
       " 'GMAT',\n",
       " 'and',\n",
       " 'got',\n",
       " 'business',\n",
       " 'school',\n",
       " 'as',\n",
       " 'well/asking',\n",
       " 'ques',\n",
       " 'in',\n",
       " 'sales',\n",
       " 'scenario',\n",
       " '-',\n",
       " '2/5',\n",
       " 'Not',\n",
       " 'Rehire',\n",
       " '(CDT',\n",
       " 'have',\n",
       " 'not',\n",
       " 'joined',\n",
       " 'byjus',\n",
       " 'in',\n",
       " 'sales',\n",
       " 'before),',\n",
       " 'Not',\n",
       " 'Interviewed',\n",
       " 'in',\n",
       " 'Byjus',\n",
       " 'in',\n",
       " 'sales',\n",
       " 'role',\n",
       " 'in',\n",
       " 'last',\n",
       " '90days,',\n",
       " 'Laptop',\n",
       " 'and',\n",
       " 'WiFi',\n",
       " 'are',\n",
       " 'Available,',\n",
       " 'Age',\n",
       " 'is',\n",
       " 'below',\n",
       " '32.11,',\n",
       " 'At',\n",
       " 'least',\n",
       " 'Graduated',\n",
       " '(',\n",
       " 'not',\n",
       " '12th',\n",
       " 'Pass',\n",
       " 'or',\n",
       " 'diploma',\n",
       " 'or',\n",
       " 'Final',\n",
       " 'Year',\n",
       " 'student),',\n",
       " 'Willing',\n",
       " 'to',\n",
       " 'relocate',\n",
       " 'at',\n",
       " 'given',\n",
       " 'location',\n",
       " 'for',\n",
       " 'SSP,',\n",
       " 'Comfortable',\n",
       " 'with',\n",
       " 'the',\n",
       " 'stipend',\n",
       " '&',\n",
       " 'allowances',\n",
       " 'during',\n",
       " 'training,',\n",
       " 'Not',\n",
       " 'working',\n",
       " 'currently',\n",
       " 'and',\n",
       " 'ready',\n",
       " 'to',\n",
       " 'join',\n",
       " 'the',\n",
       " 'R3',\n",
       " 'Process',\n",
       " 'Introduction',\n",
       " '(Self',\n",
       " 'Intro,Company',\n",
       " 'Name),',\n",
       " 'Purpose',\n",
       " 'of',\n",
       " 'Call',\n",
       " '(Book',\n",
       " 'a',\n",
       " 'Counselling',\n",
       " 'Session),',\n",
       " 'Need',\n",
       " 'Generation',\n",
       " '-',\n",
       " 'By',\n",
       " 'Asking',\n",
       " 'ques',\n",
       " 'like',\n",
       " 'student',\n",
       " 'class,',\n",
       " 'performance',\n",
       " 'etc..',\n",
       " 'Asking',\n",
       " 'Questions',\n",
       " 'None',\n",
       " 'of',\n",
       " 'the',\n",
       " 'above',\n",
       " 'Non',\n",
       " 'chargeable',\n",
       " 'session',\n",
       " 'Delhi']"
      ]
     },
     "execution_count": 58,
     "metadata": {},
     "output_type": "execute_result"
    }
   ],
   "source": [
    "df.loc[1,'tags']"
   ]
  },
  {
   "cell_type": "code",
   "execution_count": 59,
   "id": "fb561fdb-ebdb-44a9-87a9-33072f6bb519",
   "metadata": {},
   "outputs": [],
   "source": [
    "df = df[['id','Name','tags','Whether joined the company or not']]"
   ]
  },
  {
   "cell_type": "code",
   "execution_count": 60,
   "id": "ea0337a7-9834-49c0-b6f8-209c3e5353da",
   "metadata": {},
   "outputs": [
    {
     "data": {
      "text/html": [
       "<div>\n",
       "<style scoped>\n",
       "    .dataframe tbody tr th:only-of-type {\n",
       "        vertical-align: middle;\n",
       "    }\n",
       "\n",
       "    .dataframe tbody tr th {\n",
       "        vertical-align: top;\n",
       "    }\n",
       "\n",
       "    .dataframe thead th {\n",
       "        text-align: right;\n",
       "    }\n",
       "</style>\n",
       "<table border=\"1\" class=\"dataframe\">\n",
       "  <thead>\n",
       "    <tr style=\"text-align: right;\">\n",
       "      <th></th>\n",
       "      <th>id</th>\n",
       "      <th>Name</th>\n",
       "      <th>tags</th>\n",
       "      <th>Whether joined the company or not</th>\n",
       "    </tr>\n",
       "  </thead>\n",
       "  <tbody>\n",
       "    <tr>\n",
       "      <th>0</th>\n",
       "      <td>0</td>\n",
       "      <td>[parida]</td>\n",
       "      <td>[parida, Lipsa, is, 25, female, from, Orissa,,...</td>\n",
       "      <td>0</td>\n",
       "    </tr>\n",
       "    <tr>\n",
       "      <th>1</th>\n",
       "      <td>1</td>\n",
       "      <td>[shreej]</td>\n",
       "      <td>[shreej, 29, yo, /, female, /, unmarried, /, M...</td>\n",
       "      <td>0</td>\n",
       "    </tr>\n",
       "  </tbody>\n",
       "</table>\n",
       "</div>"
      ],
      "text/plain": [
       "   id      Name                                               tags  \\\n",
       "0   0  [parida]  [parida, Lipsa, is, 25, female, from, Orissa,,...   \n",
       "1   1  [shreej]  [shreej, 29, yo, /, female, /, unmarried, /, M...   \n",
       "\n",
       "   Whether joined the company or not  \n",
       "0                                  0  \n",
       "1                                  0  "
      ]
     },
     "execution_count": 60,
     "metadata": {},
     "output_type": "execute_result"
    }
   ],
   "source": [
    "df.head(2)"
   ]
  },
  {
   "cell_type": "markdown",
   "id": "f2d0e095-7509-43da-af0a-272165b6b601",
   "metadata": {},
   "source": [
    "## Stemming\n",
    "**Note: Use Lemmatization for more accuracy**\n",
    "\n",
    "To normalize words and reduce them to their root forms, we will apply **stemming**. This helps in handling variations of words and improves text processing efficiency for machine learning models.  \n",
    "(e.g., \"running\" → \"run\")"
   ]
  },
  {
   "cell_type": "code",
   "execution_count": 61,
   "id": "6bd211c2-5bf8-42ba-ae14-0968080779c7",
   "metadata": {},
   "outputs": [
    {
     "data": {
      "text/plain": [
       "<PorterStemmer>"
      ]
     },
     "execution_count": 61,
     "metadata": {},
     "output_type": "execute_result"
    }
   ],
   "source": [
    "ps = PorterStemmer()\n",
    "ps"
   ]
  },
  {
   "cell_type": "code",
   "execution_count": 62,
   "id": "7856c516-ede0-4ce2-9411-744247a76c1e",
   "metadata": {},
   "outputs": [],
   "source": [
    "stop_words = set(stopwords.words('english'))"
   ]
  },
  {
   "cell_type": "code",
   "execution_count": 63,
   "id": "3ff43395-07f0-4a2e-9805-8228a7020b38",
   "metadata": {},
   "outputs": [],
   "source": [
    "def stem(text):\n",
    "    y = []\n",
    "\n",
    "    for i in text:\n",
    "        y.append(ps.stem(i))\n",
    "\n",
    "    return \" \".join(y)    "
   ]
  },
  {
   "cell_type": "code",
   "execution_count": 64,
   "id": "04a8ac27-4b60-4792-ae9e-a3ea897fefea",
   "metadata": {},
   "outputs": [],
   "source": [
    "''' Applying Stemming '''\n",
    "\n",
    "df['tags'] = df['tags'].apply(stem)"
   ]
  },
  {
   "cell_type": "code",
   "execution_count": 65,
   "id": "e24f21c9-fefc-4f67-a69a-2f822e1d3d25",
   "metadata": {},
   "outputs": [
    {
     "data": {
      "text/html": [
       "<div>\n",
       "<style scoped>\n",
       "    .dataframe tbody tr th:only-of-type {\n",
       "        vertical-align: middle;\n",
       "    }\n",
       "\n",
       "    .dataframe tbody tr th {\n",
       "        vertical-align: top;\n",
       "    }\n",
       "\n",
       "    .dataframe thead th {\n",
       "        text-align: right;\n",
       "    }\n",
       "</style>\n",
       "<table border=\"1\" class=\"dataframe\">\n",
       "  <thead>\n",
       "    <tr style=\"text-align: right;\">\n",
       "      <th></th>\n",
       "      <th>id</th>\n",
       "      <th>Name</th>\n",
       "      <th>tags</th>\n",
       "      <th>Whether joined the company or not</th>\n",
       "    </tr>\n",
       "  </thead>\n",
       "  <tbody>\n",
       "    <tr>\n",
       "      <th>0</th>\n",
       "      <td>0</td>\n",
       "      <td>[parida]</td>\n",
       "      <td>parida lipsa is 25 femal from orissa, famili b...</td>\n",
       "      <td>0</td>\n",
       "    </tr>\n",
       "    <tr>\n",
       "      <th>1</th>\n",
       "      <td>1</td>\n",
       "      <td>[shreej]</td>\n",
       "      <td>shreej 29 yo / femal / unmarri / msc financ uk...</td>\n",
       "      <td>0</td>\n",
       "    </tr>\n",
       "    <tr>\n",
       "      <th>2</th>\n",
       "      <td>2</td>\n",
       "      <td>[ms6744]</td>\n",
       "      <td>ms6744 nm not work current and readi to join t...</td>\n",
       "      <td>1</td>\n",
       "    </tr>\n",
       "    <tr>\n",
       "      <th>3</th>\n",
       "      <td>3</td>\n",
       "      <td>[aswalu]</td>\n",
       "      <td>aswalu final interview done 22yr //uttarakhand...</td>\n",
       "      <td>1</td>\n",
       "    </tr>\n",
       "    <tr>\n",
       "      <th>4</th>\n",
       "      <td>4</td>\n",
       "      <td>[aniket]</td>\n",
       "      <td>aniket aniket is 22 male from bhopal, ba grad ...</td>\n",
       "      <td>0</td>\n",
       "    </tr>\n",
       "  </tbody>\n",
       "</table>\n",
       "</div>"
      ],
      "text/plain": [
       "   id      Name                                               tags  \\\n",
       "0   0  [parida]  parida lipsa is 25 femal from orissa, famili b...   \n",
       "1   1  [shreej]  shreej 29 yo / femal / unmarri / msc financ uk...   \n",
       "2   2  [ms6744]  ms6744 nm not work current and readi to join t...   \n",
       "3   3  [aswalu]  aswalu final interview done 22yr //uttarakhand...   \n",
       "4   4  [aniket]  aniket aniket is 22 male from bhopal, ba grad ...   \n",
       "\n",
       "   Whether joined the company or not  \n",
       "0                                  0  \n",
       "1                                  0  \n",
       "2                                  1  \n",
       "3                                  1  \n",
       "4                                  0  "
      ]
     },
     "execution_count": 65,
     "metadata": {},
     "output_type": "execute_result"
    }
   ],
   "source": [
    "df.head()"
   ]
  },
  {
   "cell_type": "code",
   "execution_count": 66,
   "id": "d0e3b336-30b4-43d9-b145-927d61479d05",
   "metadata": {},
   "outputs": [
    {
     "data": {
      "text/plain": [
       "\"shreej 29 yo / femal / unmarri / msc financ uk 2022 / recent reloc to india just 20 day ago / odissa / father - doctor / bro - softwar engin / pursu internship in invest bank - end in next week / work as a teacher / good stori teller - fluent in hindi and english - good energi / also prepar for upsc and gmat - purchas a cours from byju' earlier / crack gmat and got busi school as well/ask que in sale scenario - 2/5 not rehir (cdt have not join byju in sale before), not interview in byju in sale role in last 90days, laptop and wifi are available, age is below 32.11, at least graduat ( not 12th pass or diploma or final year student), will to reloc at given locat for ssp, comfort with the stipend & allow dure training, not work current and readi to join the r3 process introduct (self intro,compani name), purpos of call (book a counsel session), need gener - by ask que like student class, perform etc.. ask question none of the abov non chargeabl session delhi\""
      ]
     },
     "execution_count": 66,
     "metadata": {},
     "output_type": "execute_result"
    }
   ],
   "source": [
    "df.loc[1,'tags']"
   ]
  },
  {
   "cell_type": "code",
   "execution_count": 67,
   "id": "7390a393-8215-4b14-94bd-ab66c3edd436",
   "metadata": {},
   "outputs": [
    {
     "data": {
      "text/plain": [
       "id                                   0\n",
       "Name                                 0\n",
       "tags                                 0\n",
       "Whether joined the company or not    0\n",
       "dtype: int64"
      ]
     },
     "execution_count": 67,
     "metadata": {},
     "output_type": "execute_result"
    }
   ],
   "source": [
    "df.isnull().sum()"
   ]
  },
  {
   "cell_type": "code",
   "execution_count": 68,
   "id": "591a6bb7-e7a2-4bf4-920d-f1ca525da6b3",
   "metadata": {},
   "outputs": [],
   "source": [
    "def stopwords_removal(text):\n",
    "    words = word_tokenize(text.lower())\n",
    "    filtered_words = [word for word in words if word not in stop_words]\n",
    "    return \" \".join(filtered_words)"
   ]
  },
  {
   "cell_type": "code",
   "execution_count": 69,
   "id": "7b25ef5f-2382-4ce3-8473-55880a10f4ca",
   "metadata": {},
   "outputs": [],
   "source": [
    "''' Applying Stopwords Removal '''\n",
    "\n",
    "df['tags'] = df['tags'].apply(stopwords_removal)"
   ]
  },
  {
   "cell_type": "code",
   "execution_count": 70,
   "id": "c28792f4-1b62-4801-b099-ffbf93b4bbf6",
   "metadata": {},
   "outputs": [
    {
     "data": {
      "text/html": [
       "<div>\n",
       "<style scoped>\n",
       "    .dataframe tbody tr th:only-of-type {\n",
       "        vertical-align: middle;\n",
       "    }\n",
       "\n",
       "    .dataframe tbody tr th {\n",
       "        vertical-align: top;\n",
       "    }\n",
       "\n",
       "    .dataframe thead th {\n",
       "        text-align: right;\n",
       "    }\n",
       "</style>\n",
       "<table border=\"1\" class=\"dataframe\">\n",
       "  <thead>\n",
       "    <tr style=\"text-align: right;\">\n",
       "      <th></th>\n",
       "      <th>id</th>\n",
       "      <th>Name</th>\n",
       "      <th>tags</th>\n",
       "      <th>Whether joined the company or not</th>\n",
       "    </tr>\n",
       "  </thead>\n",
       "  <tbody>\n",
       "    <tr>\n",
       "      <th>0</th>\n",
       "      <td>0</td>\n",
       "      <td>[parida]</td>\n",
       "      <td>parida lipsa 25 femal orissa , famili bg - fat...</td>\n",
       "      <td>0</td>\n",
       "    </tr>\n",
       "    <tr>\n",
       "      <th>1</th>\n",
       "      <td>1</td>\n",
       "      <td>[shreej]</td>\n",
       "      <td>shreej 29 yo / femal / unmarri / msc financ uk...</td>\n",
       "      <td>0</td>\n",
       "    </tr>\n",
       "  </tbody>\n",
       "</table>\n",
       "</div>"
      ],
      "text/plain": [
       "   id      Name                                               tags  \\\n",
       "0   0  [parida]  parida lipsa 25 femal orissa , famili bg - fat...   \n",
       "1   1  [shreej]  shreej 29 yo / femal / unmarri / msc financ uk...   \n",
       "\n",
       "   Whether joined the company or not  \n",
       "0                                  0  \n",
       "1                                  0  "
      ]
     },
     "execution_count": 70,
     "metadata": {},
     "output_type": "execute_result"
    }
   ],
   "source": [
    "df.head(2)"
   ]
  },
  {
   "cell_type": "code",
   "execution_count": 71,
   "id": "711591d0-d8c5-4fb3-aa02-190afdec7a72",
   "metadata": {},
   "outputs": [
    {
     "data": {
      "text/plain": [
       "\"shreej 29 yo / femal / unmarri / msc financ uk 2022 / recent reloc india 20 day ago / odissa / father - doctor / bro - softwar engin / pursu internship invest bank - end next week / work teacher / good stori teller - fluent hindi english - good energi / also prepar upsc gmat - purchas cours byju ' earlier / crack gmat got busi school well/ask que sale scenario - 2/5 rehir ( cdt join byju sale ) , interview byju sale role last 90days , laptop wifi available , age 32.11 , least graduat ( 12th pass diploma final year student ) , reloc given locat ssp , comfort stipend & allow dure training , work current readi join r3 process introduct ( self intro , compani name ) , purpos call ( book counsel session ) , need gener - ask que like student class , perform etc .. ask question none abov non chargeabl session delhi\""
      ]
     },
     "execution_count": 71,
     "metadata": {},
     "output_type": "execute_result"
    }
   ],
   "source": [
    "df.loc[1,'tags']"
   ]
  },
  {
   "cell_type": "code",
   "execution_count": 72,
   "id": "060979ad-0d56-43f5-8c9f-442ab92021dc",
   "metadata": {},
   "outputs": [],
   "source": [
    "def remove_duplicates(text):\n",
    "    words = text.split()\n",
    "    seen = set()\n",
    "    unique_words = []\n",
    "\n",
    "    for word in words:\n",
    "        if word not in seen:\n",
    "            seen.add(word)\n",
    "            unique_words.append(word)\n",
    "\n",
    "    return \" \".join(unique_words)        "
   ]
  },
  {
   "cell_type": "code",
   "execution_count": 73,
   "id": "84e703be-d8f9-4e8b-a259-eb8de9eacaa9",
   "metadata": {},
   "outputs": [],
   "source": [
    "df['tags'] = df['tags'].apply(remove_duplicates)"
   ]
  },
  {
   "cell_type": "code",
   "execution_count": 74,
   "id": "aea4eaf9-3ee9-4669-8b50-9b6627cb7e3a",
   "metadata": {},
   "outputs": [],
   "source": [
    "df['tags'] = df['tags'].str.replace('/', '', regex=False)"
   ]
  },
  {
   "cell_type": "code",
   "execution_count": 75,
   "id": "895a811e-df84-42d1-bdca-22003ec4122f",
   "metadata": {},
   "outputs": [
    {
     "data": {
      "text/plain": [
       "\"shreej 29 yo  femal unmarri msc financ uk 2022 recent reloc india 20 day ago odissa father - doctor bro softwar engin pursu internship invest bank end next week work teacher good stori teller fluent hindi english energi also prepar upsc gmat purchas cours byju ' earlier crack got busi school wellask que sale scenario 25 rehir ( cdt join ) , interview role last 90days laptop wifi available age 32.11 least graduat 12th pass diploma final year student given locat ssp comfort stipend & allow dure training current readi r3 process introduct self intro compani name purpos call book counsel session need gener ask like class perform etc .. question none abov non chargeabl delhi\""
      ]
     },
     "execution_count": 75,
     "metadata": {},
     "output_type": "execute_result"
    }
   ],
   "source": [
    "df.loc[1,'tags']"
   ]
  },
  {
   "cell_type": "code",
   "execution_count": 76,
   "id": "694edc15-7495-4b75-b60b-d0a8fd547a02",
   "metadata": {},
   "outputs": [],
   "source": [
    "df = df.join(numerical_df, how='inner')"
   ]
  },
  {
   "cell_type": "code",
   "execution_count": 77,
   "id": "f6d0fdb7-606a-40a1-999f-701a99aa4b5e",
   "metadata": {},
   "outputs": [
    {
     "data": {
      "text/plain": [
       "(16386, 26)"
      ]
     },
     "execution_count": 77,
     "metadata": {},
     "output_type": "execute_result"
    }
   ],
   "source": [
    "df.shape"
   ]
  },
  {
   "cell_type": "code",
   "execution_count": 78,
   "id": "6f8c48de-5284-4444-8e25-c4e3069a3add",
   "metadata": {},
   "outputs": [
    {
     "data": {
      "text/html": [
       "<div>\n",
       "<style scoped>\n",
       "    .dataframe tbody tr th:only-of-type {\n",
       "        vertical-align: middle;\n",
       "    }\n",
       "\n",
       "    .dataframe tbody tr th {\n",
       "        vertical-align: top;\n",
       "    }\n",
       "\n",
       "    .dataframe thead th {\n",
       "        text-align: right;\n",
       "    }\n",
       "</style>\n",
       "<table border=\"1\" class=\"dataframe\">\n",
       "  <thead>\n",
       "    <tr style=\"text-align: right;\">\n",
       "      <th></th>\n",
       "      <th>id</th>\n",
       "      <th>Name</th>\n",
       "      <th>tags</th>\n",
       "      <th>Whether joined the company or not</th>\n",
       "      <th>pca0</th>\n",
       "      <th>pca1</th>\n",
       "      <th>pca2</th>\n",
       "      <th>pca3</th>\n",
       "      <th>pca4</th>\n",
       "      <th>pca5</th>\n",
       "      <th>...</th>\n",
       "      <th>pca12</th>\n",
       "      <th>pca13</th>\n",
       "      <th>pca14</th>\n",
       "      <th>pca15</th>\n",
       "      <th>pca16</th>\n",
       "      <th>pca17</th>\n",
       "      <th>pca18</th>\n",
       "      <th>pca19</th>\n",
       "      <th>pca20</th>\n",
       "      <th>pca21</th>\n",
       "    </tr>\n",
       "  </thead>\n",
       "  <tbody>\n",
       "    <tr>\n",
       "      <th>0</th>\n",
       "      <td>0</td>\n",
       "      <td>[parida]</td>\n",
       "      <td>parida lipsa 25 femal orissa , famili bg - fat...</td>\n",
       "      <td>0</td>\n",
       "      <td>-0.041491</td>\n",
       "      <td>1.821674</td>\n",
       "      <td>-1.018671</td>\n",
       "      <td>-1.629676</td>\n",
       "      <td>2.121754</td>\n",
       "      <td>-0.930258</td>\n",
       "      <td>...</td>\n",
       "      <td>-1.022521</td>\n",
       "      <td>-0.207322</td>\n",
       "      <td>1.095852</td>\n",
       "      <td>0.599490</td>\n",
       "      <td>0.066089</td>\n",
       "      <td>-0.435492</td>\n",
       "      <td>0.144108</td>\n",
       "      <td>-0.229863</td>\n",
       "      <td>-0.576524</td>\n",
       "      <td>-0.727757</td>\n",
       "    </tr>\n",
       "    <tr>\n",
       "      <th>1</th>\n",
       "      <td>1</td>\n",
       "      <td>[shreej]</td>\n",
       "      <td>shreej 29 yo  femal unmarri msc financ uk 2022...</td>\n",
       "      <td>0</td>\n",
       "      <td>2.934609</td>\n",
       "      <td>-2.274258</td>\n",
       "      <td>1.599145</td>\n",
       "      <td>0.531347</td>\n",
       "      <td>1.407868</td>\n",
       "      <td>1.304165</td>\n",
       "      <td>...</td>\n",
       "      <td>-0.076328</td>\n",
       "      <td>-0.851957</td>\n",
       "      <td>0.278085</td>\n",
       "      <td>-0.018831</td>\n",
       "      <td>0.463886</td>\n",
       "      <td>-0.000188</td>\n",
       "      <td>-0.032030</td>\n",
       "      <td>0.022952</td>\n",
       "      <td>0.043180</td>\n",
       "      <td>-0.381693</td>\n",
       "    </tr>\n",
       "    <tr>\n",
       "      <th>2</th>\n",
       "      <td>2</td>\n",
       "      <td>[ms6744]</td>\n",
       "      <td>ms6744 nm work current readi join r3 process i...</td>\n",
       "      <td>1</td>\n",
       "      <td>2.152953</td>\n",
       "      <td>-2.072010</td>\n",
       "      <td>-1.080818</td>\n",
       "      <td>-0.274634</td>\n",
       "      <td>-0.959109</td>\n",
       "      <td>0.319263</td>\n",
       "      <td>...</td>\n",
       "      <td>-1.096375</td>\n",
       "      <td>0.497548</td>\n",
       "      <td>-0.120831</td>\n",
       "      <td>0.538293</td>\n",
       "      <td>0.180238</td>\n",
       "      <td>-0.313600</td>\n",
       "      <td>-0.807497</td>\n",
       "      <td>0.636418</td>\n",
       "      <td>0.757597</td>\n",
       "      <td>-0.503597</td>\n",
       "    </tr>\n",
       "    <tr>\n",
       "      <th>3</th>\n",
       "      <td>3</td>\n",
       "      <td>[aswalu]</td>\n",
       "      <td>aswalu final interview done 22yr uttarakhand  ...</td>\n",
       "      <td>1</td>\n",
       "      <td>3.894837</td>\n",
       "      <td>-3.404232</td>\n",
       "      <td>-0.093392</td>\n",
       "      <td>1.141162</td>\n",
       "      <td>0.336833</td>\n",
       "      <td>-0.232041</td>\n",
       "      <td>...</td>\n",
       "      <td>0.007924</td>\n",
       "      <td>0.755882</td>\n",
       "      <td>-0.086455</td>\n",
       "      <td>-0.036561</td>\n",
       "      <td>0.269530</td>\n",
       "      <td>-0.189405</td>\n",
       "      <td>-0.086062</td>\n",
       "      <td>-0.346854</td>\n",
       "      <td>0.054016</td>\n",
       "      <td>0.157450</td>\n",
       "    </tr>\n",
       "    <tr>\n",
       "      <th>4</th>\n",
       "      <td>4</td>\n",
       "      <td>[aniket]</td>\n",
       "      <td>aniket 22 male bhopal , ba grad 21 famili bg -...</td>\n",
       "      <td>0</td>\n",
       "      <td>-0.945086</td>\n",
       "      <td>-1.526782</td>\n",
       "      <td>1.592172</td>\n",
       "      <td>-1.561385</td>\n",
       "      <td>0.477810</td>\n",
       "      <td>-1.553965</td>\n",
       "      <td>...</td>\n",
       "      <td>-1.072113</td>\n",
       "      <td>-0.128938</td>\n",
       "      <td>0.135667</td>\n",
       "      <td>0.187743</td>\n",
       "      <td>-0.484645</td>\n",
       "      <td>0.297314</td>\n",
       "      <td>-0.579843</td>\n",
       "      <td>-0.016847</td>\n",
       "      <td>-0.168577</td>\n",
       "      <td>0.153979</td>\n",
       "    </tr>\n",
       "  </tbody>\n",
       "</table>\n",
       "<p>5 rows × 26 columns</p>\n",
       "</div>"
      ],
      "text/plain": [
       "   id      Name                                               tags  \\\n",
       "0   0  [parida]  parida lipsa 25 femal orissa , famili bg - fat...   \n",
       "1   1  [shreej]  shreej 29 yo  femal unmarri msc financ uk 2022...   \n",
       "2   2  [ms6744]  ms6744 nm work current readi join r3 process i...   \n",
       "3   3  [aswalu]  aswalu final interview done 22yr uttarakhand  ...   \n",
       "4   4  [aniket]  aniket 22 male bhopal , ba grad 21 famili bg -...   \n",
       "\n",
       "   Whether joined the company or not      pca0      pca1      pca2      pca3  \\\n",
       "0                                  0 -0.041491  1.821674 -1.018671 -1.629676   \n",
       "1                                  0  2.934609 -2.274258  1.599145  0.531347   \n",
       "2                                  1  2.152953 -2.072010 -1.080818 -0.274634   \n",
       "3                                  1  3.894837 -3.404232 -0.093392  1.141162   \n",
       "4                                  0 -0.945086 -1.526782  1.592172 -1.561385   \n",
       "\n",
       "       pca4      pca5  ...     pca12     pca13     pca14     pca15     pca16  \\\n",
       "0  2.121754 -0.930258  ... -1.022521 -0.207322  1.095852  0.599490  0.066089   \n",
       "1  1.407868  1.304165  ... -0.076328 -0.851957  0.278085 -0.018831  0.463886   \n",
       "2 -0.959109  0.319263  ... -1.096375  0.497548 -0.120831  0.538293  0.180238   \n",
       "3  0.336833 -0.232041  ...  0.007924  0.755882 -0.086455 -0.036561  0.269530   \n",
       "4  0.477810 -1.553965  ... -1.072113 -0.128938  0.135667  0.187743 -0.484645   \n",
       "\n",
       "      pca17     pca18     pca19     pca20     pca21  \n",
       "0 -0.435492  0.144108 -0.229863 -0.576524 -0.727757  \n",
       "1 -0.000188 -0.032030  0.022952  0.043180 -0.381693  \n",
       "2 -0.313600 -0.807497  0.636418  0.757597 -0.503597  \n",
       "3 -0.189405 -0.086062 -0.346854  0.054016  0.157450  \n",
       "4  0.297314 -0.579843 -0.016847 -0.168577  0.153979  \n",
       "\n",
       "[5 rows x 26 columns]"
      ]
     },
     "execution_count": 78,
     "metadata": {},
     "output_type": "execute_result"
    }
   ],
   "source": [
    "df.head(5)"
   ]
  },
  {
   "cell_type": "code",
   "execution_count": 79,
   "id": "258b360d-4f40-440f-b999-93fec4aa3e98",
   "metadata": {},
   "outputs": [
    {
     "data": {
      "text/plain": [
       "\"shreej 29 yo  femal unmarri msc financ uk 2022 recent reloc india 20 day ago odissa father - doctor bro softwar engin pursu internship invest bank end next week work teacher good stori teller fluent hindi english energi also prepar upsc gmat purchas cours byju ' earlier crack got busi school wellask que sale scenario 25 rehir ( cdt join ) , interview role last 90days laptop wifi available age 32.11 least graduat 12th pass diploma final year student given locat ssp comfort stipend & allow dure training current readi r3 process introduct self intro compani name purpos call book counsel session need gener ask like class perform etc .. question none abov non chargeabl delhi\""
      ]
     },
     "execution_count": 79,
     "metadata": {},
     "output_type": "execute_result"
    }
   ],
   "source": [
    "df.loc[1,'tags']"
   ]
  },
  {
   "cell_type": "code",
   "execution_count": 80,
   "id": "d0b9084e-e73d-48ae-9d76-9049f4279b33",
   "metadata": {},
   "outputs": [],
   "source": [
    "experimental_df = df.copy()\n",
    "experimental_df.drop('Name', axis=1, inplace=True)"
   ]
  },
  {
   "cell_type": "code",
   "execution_count": 81,
   "id": "bf81f95b-6e82-4c1d-abf2-7a6af7950776",
   "metadata": {},
   "outputs": [
    {
     "data": {
      "text/html": [
       "<div>\n",
       "<style scoped>\n",
       "    .dataframe tbody tr th:only-of-type {\n",
       "        vertical-align: middle;\n",
       "    }\n",
       "\n",
       "    .dataframe tbody tr th {\n",
       "        vertical-align: top;\n",
       "    }\n",
       "\n",
       "    .dataframe thead th {\n",
       "        text-align: right;\n",
       "    }\n",
       "</style>\n",
       "<table border=\"1\" class=\"dataframe\">\n",
       "  <thead>\n",
       "    <tr style=\"text-align: right;\">\n",
       "      <th></th>\n",
       "      <th>id</th>\n",
       "      <th>tags</th>\n",
       "      <th>Whether joined the company or not</th>\n",
       "      <th>pca0</th>\n",
       "      <th>pca1</th>\n",
       "      <th>pca2</th>\n",
       "      <th>pca3</th>\n",
       "      <th>pca4</th>\n",
       "      <th>pca5</th>\n",
       "      <th>pca6</th>\n",
       "      <th>...</th>\n",
       "      <th>pca12</th>\n",
       "      <th>pca13</th>\n",
       "      <th>pca14</th>\n",
       "      <th>pca15</th>\n",
       "      <th>pca16</th>\n",
       "      <th>pca17</th>\n",
       "      <th>pca18</th>\n",
       "      <th>pca19</th>\n",
       "      <th>pca20</th>\n",
       "      <th>pca21</th>\n",
       "    </tr>\n",
       "  </thead>\n",
       "  <tbody>\n",
       "    <tr>\n",
       "      <th>0</th>\n",
       "      <td>0</td>\n",
       "      <td>parida lipsa 25 femal orissa , famili bg - fat...</td>\n",
       "      <td>0</td>\n",
       "      <td>-0.041491</td>\n",
       "      <td>1.821674</td>\n",
       "      <td>-1.018671</td>\n",
       "      <td>-1.629676</td>\n",
       "      <td>2.121754</td>\n",
       "      <td>-0.930258</td>\n",
       "      <td>-3.278468</td>\n",
       "      <td>...</td>\n",
       "      <td>-1.022521</td>\n",
       "      <td>-0.207322</td>\n",
       "      <td>1.095852</td>\n",
       "      <td>0.599490</td>\n",
       "      <td>0.066089</td>\n",
       "      <td>-0.435492</td>\n",
       "      <td>0.144108</td>\n",
       "      <td>-0.229863</td>\n",
       "      <td>-0.576524</td>\n",
       "      <td>-0.727757</td>\n",
       "    </tr>\n",
       "    <tr>\n",
       "      <th>1</th>\n",
       "      <td>1</td>\n",
       "      <td>shreej 29 yo  femal unmarri msc financ uk 2022...</td>\n",
       "      <td>0</td>\n",
       "      <td>2.934609</td>\n",
       "      <td>-2.274258</td>\n",
       "      <td>1.599145</td>\n",
       "      <td>0.531347</td>\n",
       "      <td>1.407868</td>\n",
       "      <td>1.304165</td>\n",
       "      <td>-1.878531</td>\n",
       "      <td>...</td>\n",
       "      <td>-0.076328</td>\n",
       "      <td>-0.851957</td>\n",
       "      <td>0.278085</td>\n",
       "      <td>-0.018831</td>\n",
       "      <td>0.463886</td>\n",
       "      <td>-0.000188</td>\n",
       "      <td>-0.032030</td>\n",
       "      <td>0.022952</td>\n",
       "      <td>0.043180</td>\n",
       "      <td>-0.381693</td>\n",
       "    </tr>\n",
       "  </tbody>\n",
       "</table>\n",
       "<p>2 rows × 25 columns</p>\n",
       "</div>"
      ],
      "text/plain": [
       "   id                                               tags  \\\n",
       "0   0  parida lipsa 25 femal orissa , famili bg - fat...   \n",
       "1   1  shreej 29 yo  femal unmarri msc financ uk 2022...   \n",
       "\n",
       "   Whether joined the company or not      pca0      pca1      pca2      pca3  \\\n",
       "0                                  0 -0.041491  1.821674 -1.018671 -1.629676   \n",
       "1                                  0  2.934609 -2.274258  1.599145  0.531347   \n",
       "\n",
       "       pca4      pca5      pca6  ...     pca12     pca13     pca14     pca15  \\\n",
       "0  2.121754 -0.930258 -3.278468  ... -1.022521 -0.207322  1.095852  0.599490   \n",
       "1  1.407868  1.304165 -1.878531  ... -0.076328 -0.851957  0.278085 -0.018831   \n",
       "\n",
       "      pca16     pca17     pca18     pca19     pca20     pca21  \n",
       "0  0.066089 -0.435492  0.144108 -0.229863 -0.576524 -0.727757  \n",
       "1  0.463886 -0.000188 -0.032030  0.022952  0.043180 -0.381693  \n",
       "\n",
       "[2 rows x 25 columns]"
      ]
     },
     "execution_count": 81,
     "metadata": {},
     "output_type": "execute_result"
    }
   ],
   "source": [
    "experimental_df.head(2)"
   ]
  },
  {
   "cell_type": "code",
   "execution_count": 82,
   "id": "27d9ff90-9dfd-4852-9d3a-02ebff0c10f7",
   "metadata": {},
   "outputs": [
    {
     "data": {
      "text/plain": [
       "Index(['id', 'tags', 'Whether joined the company or not', 'pca0', 'pca1',\n",
       "       'pca2', 'pca3', 'pca4', 'pca5', 'pca6', 'pca7', 'pca8', 'pca9', 'pca10',\n",
       "       'pca11', 'pca12', 'pca13', 'pca14', 'pca15', 'pca16', 'pca17', 'pca18',\n",
       "       'pca19', 'pca20', 'pca21'],\n",
       "      dtype='object')"
      ]
     },
     "execution_count": 82,
     "metadata": {},
     "output_type": "execute_result"
    }
   ],
   "source": [
    "experimental_df.columns"
   ]
  },
  {
   "cell_type": "code",
   "execution_count": 83,
   "id": "a7b0ea54-fe72-4f0f-be8f-8b97eeb8d526",
   "metadata": {},
   "outputs": [],
   "source": [
    "y = experimental_df['Whether joined the company or not']\n",
    "X = experimental_df\n",
    "X.drop('Whether joined the company or not', axis=1, inplace=True)"
   ]
  },
  {
   "cell_type": "markdown",
   "id": "fc89401f-fab9-420a-8390-9a04566bd378",
   "metadata": {
    "jp-MarkdownHeadingCollapsed": true
   },
   "source": [
    "## Data Splitting"
   ]
  },
  {
   "cell_type": "code",
   "execution_count": 86,
   "id": "51b72d4a-ca7a-4b45-84e8-402dd9f65238",
   "metadata": {},
   "outputs": [],
   "source": [
    "X_train, X_test, y_train, y_test = train_test_split(X, y, test_size=0.2, random_state=42)"
   ]
  },
  {
   "cell_type": "code",
   "execution_count": 87,
   "id": "59039393-3e20-480a-836b-379106d0b59d",
   "metadata": {},
   "outputs": [
    {
     "name": "stdout",
     "output_type": "stream",
     "text": [
      "Length of X_train: 13108\n",
      "Length of X_test: 3278\n",
      "Length of y_train: 13108\n",
      "Length of y_test: 3278\n"
     ]
    }
   ],
   "source": [
    "print(f'Length of X_train: {len(X_train)}')\n",
    "print(f'Length of X_test: {len(X_test)}')\n",
    "print(f'Length of y_train: {len(y_train)}')\n",
    "print(f'Length of y_test: {len(y_test)}')"
   ]
  },
  {
   "cell_type": "code",
   "execution_count": 89,
   "id": "1384786e-8710-40e2-8199-f8b8bd1f5072",
   "metadata": {},
   "outputs": [
    {
     "data": {
      "text/plain": [
       "pandas.core.frame.DataFrame"
      ]
     },
     "execution_count": 89,
     "metadata": {},
     "output_type": "execute_result"
    }
   ],
   "source": [
    "type(X_test)"
   ]
  },
  {
   "cell_type": "markdown",
   "id": "eea6f87e-c124-4aa9-832a-adb353130990",
   "metadata": {},
   "source": [
    "## Word Embeddings\n",
    "**Note: Use Contextual Embeddings for More Accuracy**\n",
    "\n",
    "To represent words in a numerical format while preserving their meaning and relationships, we will apply **word embeddings**. This helps in capturing semantic similarities and improving machine learning model performance.\n",
    "(e.g., \"king\" → similar to \"queen\" but different from \"apple\")."
   ]
  },
  {
   "cell_type": "code",
   "execution_count": null,
   "id": "eaa86d5b-4005-405f-a2e4-fb3973ea217f",
   "metadata": {},
   "outputs": [],
   "source": [
    "# sentences = [tag.split() for tag in experimental_df['tags']]\n",
    "# print(sentences)"
   ]
  },
  {
   "cell_type": "code",
   "execution_count": null,
   "id": "153d3d95-4f78-471c-9ff1-47a225bb4357",
   "metadata": {},
   "outputs": [],
   "source": [
    "# # Train Word2Vec model\n",
    "# w2v_model = Word2Vec(sentences, vector_size=100, window=5, min_count=1, workers=4)\n",
    "# w2v_model"
   ]
  },
  {
   "cell_type": "code",
   "execution_count": null,
   "id": "d5918314-e52a-4028-a257-ccfebed1dc1c",
   "metadata": {},
   "outputs": [],
   "source": [
    "# Function to convert text into an average word embedding\n",
    "def text_to_embedding(text):\n",
    "    words = text.split()\n",
    "    embeddings = [w2v_model.wv[word] for word in words if word in w2v_model.wv]\n",
    "    return np.mean(embeddings, axis=0) if embeddings else np.zeros(100)  # Handle empty strings\n",
    "\n",
    "text_embeddings = np.array([text_to_embedding(text) for text in df['tags']])\n",
    "\n",
    "print(text_embeddings.shape)"
   ]
  },
  {
   "cell_type": "code",
   "execution_count": null,
   "id": "2f5e8586-a824-4639-8de2-01157fc7d9f6",
   "metadata": {},
   "outputs": [],
   "source": [
    "experimental_df.head()"
   ]
  },
  {
   "cell_type": "code",
   "execution_count": null,
   "id": "d29f2929-bb8b-4580-8590-82ba26b96916",
   "metadata": {},
   "outputs": [],
   "source": [
    "numeric_df = experimental_df\n",
    "numeric_df.drop(['id', 'tags', 'Whether joined the company or not'], axis=1, inplace=True)"
   ]
  },
  {
   "cell_type": "code",
   "execution_count": null,
   "id": "1d29952c-59c7-4fb0-9b6b-95032a598a01",
   "metadata": {},
   "outputs": [],
   "source": [
    "numeric_arr = numeric_df.to_numpy()"
   ]
  },
  {
   "cell_type": "code",
   "execution_count": null,
   "id": "7c898256-65c6-4739-ba87-2ca226221813",
   "metadata": {},
   "outputs": [],
   "source": [
    "text_tensor = torch.tensor(text_embeddings, dtype=torch.float32)\n",
    "numeric_tensor = torch.tensor(numeric_arr, dtype=torch.float32)"
   ]
  },
  {
   "cell_type": "code",
   "execution_count": null,
   "id": "945b0d49-280a-45b6-86c7-f78f43167db4",
   "metadata": {},
   "outputs": [],
   "source": [
    "text_tensor, text_tensor.shape"
   ]
  },
  {
   "cell_type": "code",
   "execution_count": null,
   "id": "e246e214-e24a-4507-b196-9bea926696bc",
   "metadata": {},
   "outputs": [],
   "source": [
    "numeric_tensor, numeric_tensor.shape"
   ]
  },
  {
   "cell_type": "code",
   "execution_count": null,
   "id": "2dff13bb-bfbc-4fc2-a646-92144c7791d6",
   "metadata": {},
   "outputs": [],
   "source": [
    "final_tensor = torch.cat((text_tensor, numeric_tensor), dim=1)\n",
    "print(final_tensor.shape)"
   ]
  },
  {
   "cell_type": "markdown",
   "id": "d743dc9a-cf94-489b-9dd9-e26c797a3165",
   "metadata": {},
   "source": [
    "## Data Splitting"
   ]
  },
  {
   "cell_type": "code",
   "execution_count": null,
   "id": "b1a0f3f9-4e46-4ce6-8780-859879b7fc18",
   "metadata": {},
   "outputs": [],
   "source": [
    "train_size = int(0.8 * len(final_tensor))\n",
    "test_size = len(final_tensor) - train_size"
   ]
  },
  {
   "cell_type": "code",
   "execution_count": null,
   "id": "9fcd1699-71e3-4dcf-a3d5-59ab5e61fa49",
   "metadata": {},
   "outputs": [],
   "source": [
    "train_size"
   ]
  },
  {
   "cell_type": "code",
   "execution_count": null,
   "id": "05e7e3be-078c-4978-93f9-8615612f902e",
   "metadata": {},
   "outputs": [],
   "source": [
    "test_size"
   ]
  },
  {
   "cell_type": "code",
   "execution_count": null,
   "id": "2fe438dd-23f8-4058-abe3-3b24d05aa1f9",
   "metadata": {},
   "outputs": [],
   "source": [
    "train_size + test_size"
   ]
  },
  {
   "cell_type": "code",
   "execution_count": null,
   "id": "70a4ea00-9132-4de1-af52-16dbefe9ab8b",
   "metadata": {},
   "outputs": [],
   "source": [
    "''' Dataset '''\n",
    "train_dataset, test_dataset = random_split(dataset, [train_size, test_size])"
   ]
  }
 ],
 "metadata": {
  "kernelspec": {
   "display_name": "Python 3 (ipykernel)",
   "language": "python",
   "name": "python3"
  },
  "language_info": {
   "codemirror_mode": {
    "name": "ipython",
    "version": 3
   },
   "file_extension": ".py",
   "mimetype": "text/x-python",
   "name": "python",
   "nbconvert_exporter": "python",
   "pygments_lexer": "ipython3",
   "version": "3.12.7"
  }
 },
 "nbformat": 4,
 "nbformat_minor": 5
}
