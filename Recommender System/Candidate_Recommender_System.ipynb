{
 "cells": [
  {
   "cell_type": "code",
   "execution_count": null,
   "id": "b344c135-138d-4f13-b347-3932d7f337cc",
   "metadata": {},
   "outputs": [],
   "source": [
    "import gensim"
   ]
  },
  {
   "cell_type": "code",
   "execution_count": null,
   "id": "91b41e2a-9aff-4aff-9d2b-167908549bd2",
   "metadata": {},
   "outputs": [],
   "source": [
    "import pandas as pd\n",
    "import seaborn as sns\n",
    "import matplotlib.pyplot as plt\n",
    "\n",
    "# Torch \n",
    "import torch\n",
    "import torch.nn as nn\n",
    "from transformers import BertTokenizer, BertModel\n",
    "\n",
    "# Scikit-Learn\n",
    "# Data Encoding and Scaling\n",
    "from sklearn.compose import ColumnTransformer\n",
    "from sklearn.preprocessing import LabelEncoder, OrdinalEncoder, OneHotEncoder, StandardScaler\n",
    "from sklearn.decomposition import PCA\n",
    "from sklearn.feature_extraction.text import CountVectorizer\n",
    "\n",
    "# Natural Language Processing(NLP)\n",
    "import nltk\n",
    "from nltk.stem.porter import PorterStemmer\n",
    "from nltk.tokenize import word_tokenize\n",
    "from nltk.corpus import stopwords"
   ]
  },
  {
   "cell_type": "code",
   "execution_count": null,
   "id": "e71765a3-5931-4bf0-b81f-fc84d324cdd8",
   "metadata": {},
   "outputs": [],
   "source": [
    "nltk.download('punkt')      # For tokenization\n",
    "nltk.download('stopwords')  # For stopword removal"
   ]
  },
  {
   "cell_type": "code",
   "execution_count": null,
   "id": "923092aa-69a4-47a7-bca4-4577ba30b96c",
   "metadata": {},
   "outputs": [],
   "source": [
    "device = 'cuda' if torch.cuda.is_available() else 'cpu'\n",
    "device"
   ]
  },
  {
   "cell_type": "code",
   "execution_count": null,
   "id": "9e5c4850-7af3-4568-bc1f-ea67cddc933d",
   "metadata": {},
   "outputs": [],
   "source": [
    "df = pd.read_csv('IntervieweeDataset.csv')"
   ]
  },
  {
   "cell_type": "code",
   "execution_count": null,
   "id": "cb9a10aa-d979-495d-8ca8-bbb0b73045e5",
   "metadata": {},
   "outputs": [],
   "source": [
    "df.head(1)"
   ]
  },
  {
   "cell_type": "code",
   "execution_count": null,
   "id": "8d929a89-9b76-43df-9d7e-48ca0695d5fc",
   "metadata": {},
   "outputs": [],
   "source": [
    "df.shape"
   ]
  },
  {
   "cell_type": "code",
   "execution_count": null,
   "id": "a646c1db-49d4-443a-b78c-d8d6403e4a79",
   "metadata": {},
   "outputs": [],
   "source": [
    "df.dropna(inplace=True)"
   ]
  },
  {
   "cell_type": "code",
   "execution_count": null,
   "id": "0731f26b-d7f3-4616-9895-428688b11844",
   "metadata": {},
   "outputs": [],
   "source": [
    "df.shape"
   ]
  },
  {
   "cell_type": "code",
   "execution_count": null,
   "id": "378e6a5e-034d-4c07-9699-858d0b8fc8d3",
   "metadata": {},
   "outputs": [],
   "source": [
    "df.drop(df.iloc[:,8:18], axis=1, inplace=True)"
   ]
  },
  {
   "cell_type": "code",
   "execution_count": null,
   "id": "fde1202a-4a83-42d8-9cca-3f3fc9575960",
   "metadata": {},
   "outputs": [],
   "source": [
    "df.drop(['Does the candidate has mother tongue influence while speaking english.', 'How many slides candidate have submitted in PPT?'], axis=1, inplace=True)"
   ]
  },
  {
   "cell_type": "code",
   "execution_count": null,
   "id": "4c2c892e-60c9-41d5-b48f-c12e8d63931d",
   "metadata": {},
   "outputs": [],
   "source": [
    "df.shape"
   ]
  },
  {
   "cell_type": "code",
   "execution_count": null,
   "id": "b570b7c1-b71e-4aef-b127-d5bc0b88812f",
   "metadata": {},
   "outputs": [],
   "source": [
    "df.rename(columns={'Type of Graduation/Post Graduation':'Education', 'Mode of interview given by candidate?':'Mode of Interview', 'Has acquaintance in Company and has spoken to him/her before applying?':'Acquaintance and Referral'}, inplace=True)"
   ]
  },
  {
   "cell_type": "code",
   "execution_count": null,
   "id": "d9e3f2d9-fb8f-4522-8a1d-b4979018636b",
   "metadata": {},
   "outputs": [],
   "source": [
    "df.rename(columns={'Whether joined the company or not\\n': 'Whether joined the company or not', 'What was the type of Role?\\t': 'What was the type of Role?'}, inplace=True)"
   ]
  },
  {
   "cell_type": "code",
   "execution_count": null,
   "id": "db26bfdd-d511-43ca-a944-0a940f110c4e",
   "metadata": {},
   "outputs": [],
   "source": [
    "df.rename(columns={\"But, my child's exam are going on now, so we will keep the counselling session after the exams get over.(Time: Favourable pitch: Counsellor hype)\":\"But, my child's exam are going on now, so we will keep the counselling session after the exams get over\"}, inplace=True)"
   ]
  },
  {
   "cell_type": "code",
   "execution_count": null,
   "id": "ee54b7be-5220-4231-aee3-4a900c10bc1b",
   "metadata": {},
   "outputs": [],
   "source": [
    "df.columns"
   ]
  },
  {
   "cell_type": "code",
   "execution_count": null,
   "id": "cfd7c6c3-7a17-4c1c-bc54-17e360cc446b",
   "metadata": {},
   "outputs": [],
   "source": [
    "df['Age'].unique()"
   ]
  },
  {
   "cell_type": "code",
   "execution_count": null,
   "id": "fee28109-7b8c-4a74-98db-b8e39bcffc6f",
   "metadata": {},
   "outputs": [],
   "source": [
    "df['Age'] = df['Age'].astype(str).str.replace('+', '', regex=False).astype(int)"
   ]
  },
  {
   "cell_type": "code",
   "execution_count": null,
   "id": "98217f62-5e29-49fa-8e07-6eef1d539f3c",
   "metadata": {},
   "outputs": [],
   "source": [
    "df['Age'].unique()"
   ]
  },
  {
   "cell_type": "code",
   "execution_count": null,
   "id": "3d016610-ae5d-4f2a-b9f9-edd64264a9cd",
   "metadata": {},
   "outputs": [],
   "source": [
    "bins = [18, 22, 25, 28, 32, 35, float('inf')]\n",
    "labels = ['18-22', '23-25', '26-28', '29-32', '33-35', '35+']"
   ]
  },
  {
   "cell_type": "code",
   "execution_count": null,
   "id": "cbc73648-051f-4f73-8472-433159671752",
   "metadata": {},
   "outputs": [],
   "source": [
    "df['Age'] = pd.cut(df['Age'], bins=bins, labels=labels, right=True)"
   ]
  },
  {
   "cell_type": "code",
   "execution_count": null,
   "id": "8b4ef960-050c-4d4c-a5a9-ecc7395d2269",
   "metadata": {},
   "outputs": [],
   "source": [
    "df.isnull().sum()"
   ]
  },
  {
   "cell_type": "code",
   "execution_count": null,
   "id": "ec0db924-750c-4111-b377-979b79bf3b5b",
   "metadata": {},
   "outputs": [],
   "source": [
    "df['Age'].unique()"
   ]
  },
  {
   "cell_type": "code",
   "execution_count": null,
   "id": "ef7fa63c-d913-4116-870b-6242ab71ef9f",
   "metadata": {},
   "outputs": [],
   "source": [
    "df.columns"
   ]
  },
  {
   "cell_type": "code",
   "execution_count": null,
   "id": "6148f548-e84c-4458-af89-c5b3b04e882b",
   "metadata": {},
   "outputs": [],
   "source": [
    "new_df = df[['Confidence based on Introduction (English).1',\n",
    "       'Confidence based on the topic given  .1',\n",
    "       'Confidence Based on the PPT Question.1',\n",
    "       'Confidence based on the sales scenario.1',\n",
    "       'Structured Thinking (In regional only).1',\n",
    "       'Structured Thinking Based on the PPT Question.1',\n",
    "       'Structured Thinking( Call pitch).1',\n",
    "       'Regional fluency based on the topic given  .1',\n",
    "       'Regional fluency Based on the PPT Question.1',\n",
    "       'Regional fluency based on the  sales scenario.1', 'Confidence Score',\n",
    "       'Structured Thinking Score', 'Regional Fluency Score', 'Total Score',]]"
   ]
  },
  {
   "cell_type": "code",
   "execution_count": null,
   "id": "ac2ba45a-1b54-482b-a2ab-165b40126986",
   "metadata": {},
   "outputs": [],
   "source": [
    "new_df.head(1)"
   ]
  },
  {
   "cell_type": "markdown",
   "id": "17f6f7b5-d169-42d9-86eb-1ea0d169325c",
   "metadata": {},
   "source": [
    "new_df.info()"
   ]
  },
  {
   "cell_type": "code",
   "execution_count": null,
   "id": "486c49c3-d2ba-4423-954d-4153d90daa8b",
   "metadata": {},
   "outputs": [],
   "source": [
    "df.shape"
   ]
  },
  {
   "cell_type": "code",
   "execution_count": null,
   "id": "48783b4b-e5bb-4709-973e-4445955642b7",
   "metadata": {},
   "outputs": [],
   "source": [
    "df['id'] = df.index"
   ]
  },
  {
   "cell_type": "code",
   "execution_count": null,
   "id": "74da68f3-7ed0-4563-8f89-1a7c66f4aef6",
   "metadata": {},
   "outputs": [],
   "source": [
    "df.head()"
   ]
  },
  {
   "cell_type": "markdown",
   "id": "4686ac28-b640-436a-80bc-38a566edcaf5",
   "metadata": {},
   "source": [
    "# New Dataframe for only Numerical Operations (excluding Name column from it)"
   ]
  },
  {
   "cell_type": "code",
   "execution_count": null,
   "id": "0b6095c6-0a7b-4943-8fb2-8b83f2b78d53",
   "metadata": {},
   "outputs": [],
   "source": [
    "numerical_df = df.copy()\n",
    "numerical_df.drop(['id',\n",
    "                   'Name',\n",
    "                   'Comments',\n",
    "                   'RedFlags Comments in Interview',\n",
    "                   'Call-pitch Elements used during the call Sales Scenario',\n",
    "                   \"But, my child's exam are going on now, so we will keep the counselling session after the exams get over\",\n",
    "                  'Let me discuss it with my child',\n",
    "                   \"Sir being in education industry I know this is a marketing gimmick and at the end of the day you'll be selling the app.\",'Role Location to be given to the candidate'],\n",
    "                  axis=1,inplace=True)"
   ]
  },
  {
   "cell_type": "markdown",
   "id": "0ea7a1b0-fe55-4e79-9a30-2ae243737f6b",
   "metadata": {},
   "source": [
    "# Data Scaling\n",
    "The StandardScaler from sklearn.preprocessing transforms data to have:\n",
    "\n",
    "Mean = 0 ,\n",
    "Standard Deviation = 1"
   ]
  },
  {
   "cell_type": "code",
   "execution_count": null,
   "id": "b4f2e18a-29e4-468f-bf29-ade2764b7538",
   "metadata": {},
   "outputs": [],
   "source": [
    "scaler = StandardScaler()\n",
    "scaler"
   ]
  },
  {
   "cell_type": "code",
   "execution_count": null,
   "id": "23f88320-47cb-4f4e-81f3-7ab888f3ad78",
   "metadata": {},
   "outputs": [],
   "source": [
    "temp_list = ['Confidence based on Introduction (English).1',\n",
    "       'Confidence based on the topic given  .1',\n",
    "       'Confidence Based on the PPT Question.1',\n",
    "       'Confidence based on the sales scenario.1',\n",
    "       'Structured Thinking (In regional only).1',\n",
    "       'Structured Thinking Based on the PPT Question.1',\n",
    "       'Structured Thinking( Call pitch).1',\n",
    "       'Regional fluency based on the topic given  .1',\n",
    "       'Regional fluency Based on the PPT Question.1',\n",
    "       'Regional fluency based on the  sales scenario.1', 'Confidence Score',\n",
    "       'Structured Thinking Score', 'Regional Fluency Score', 'Total Score']"
   ]
  },
  {
   "cell_type": "code",
   "execution_count": null,
   "id": "428c8670-89b8-423c-80f4-0df9e2c8034d",
   "metadata": {},
   "outputs": [],
   "source": [
    "numerical_df[temp_list] = scaler.fit_transform(numerical_df[temp_list])\n",
    "print(\"Means after scaling:\\n\", numerical_df[temp_list].mean().round(5))\n",
    "print(\"Standard deviations after scaling:\\n\", numerical_df[temp_list].std().round(5))"
   ]
  },
  {
   "cell_type": "code",
   "execution_count": null,
   "id": "a00b5ece-fed9-4238-ab45-b6fbcf3d1f5b",
   "metadata": {},
   "outputs": [],
   "source": [
    "numerical_df.head()"
   ]
  },
  {
   "cell_type": "code",
   "execution_count": null,
   "id": "f64b6352-a90d-4851-a8fd-aca06818c445",
   "metadata": {},
   "outputs": [],
   "source": [
    "numerical_df.shape"
   ]
  },
  {
   "cell_type": "markdown",
   "id": "7d4c4ec6-17d4-4e97-96ff-106d4af83e6f",
   "metadata": {},
   "source": [
    "# Data Encoding"
   ]
  },
  {
   "cell_type": "code",
   "execution_count": null,
   "id": "cc33bb6e-922c-45cc-999c-53cbb9b8881d",
   "metadata": {},
   "outputs": [],
   "source": [
    "numerical_df['Role acceptance'].value_counts()"
   ]
  },
  {
   "cell_type": "code",
   "execution_count": null,
   "id": "e52b3d2d-a5ef-4df4-9849-5cb48155a091",
   "metadata": {},
   "outputs": [],
   "source": [
    "transformer = ColumnTransformer(transformers = [\n",
    "    ('t1', OneHotEncoder(sparse_output=False, drop='first'), ['Gender', 'Experienced Candidate (Nature of work)', 'What was the type of Role?', 'Whether joined the company or not', 'Currently Employed', 'Marital status', 'Mode of Interview', 'Pre Interview Check', 'Fluency in English based on introduction', 'Acquaintance and Referral', 'Candidate Status', 'Education']),\n",
    "    ('t2', OrdinalEncoder(categories=[['Fresher','0-1.99','2-2.99','3-3.99','4-4.99','5-5.99','6-6.99','7+']]), ['Last Fixed CTC (lakhs) ']),\n",
    "    ('t3', OrdinalEncoder(categories=[['No - Want Specific Centre Location Only','Yes - Anywhere Within a City','Yes - Anywhere Within a State','Yes - Anywhere in PAN India']]), ['Candidate is willing to relocate']),\n",
    "    ('t4', OrdinalEncoder(categories=[['Reject','Borderline Reject','Borderline Select','Select','Premium Select']]), ['Interview Verdict']),\n",
    "    ('t5', OrdinalEncoder(categories=[['No','Yes : Think and says yes.(Shows some hesitation)','Emphatic Yes']]), ['Role acceptance']),\n",
    "    ('t6', OrdinalEncoder(categories=[['Fresher(<6 months)','6-11.99 Months','12-17.99 Months','18-23.99 Months','24-29.99 Months','30-35.99 Months','36-47.99 Months','48+ Months']]), ['Experienced candidate - (Experience in months)']),\n",
    "    ('t7', OrdinalEncoder(categories=[['18-22', '23-25', '26-28', '29-32', '33-35', '35+']]), ['Age'])\n",
    "], remainder='passthrough')"
   ]
  },
  {
   "cell_type": "code",
   "execution_count": null,
   "id": "fdaada05-ade7-4f7f-b569-13b97a6028ae",
   "metadata": {},
   "outputs": [],
   "source": [
    "numerical_df = transformer.fit_transform(numerical_df)"
   ]
  },
  {
   "cell_type": "code",
   "execution_count": null,
   "id": "041fe4fe-8062-4f7a-8607-935ceb952d9b",
   "metadata": {},
   "outputs": [],
   "source": [
    "type(numerical_df)"
   ]
  },
  {
   "cell_type": "code",
   "execution_count": null,
   "id": "a4f07951-d79a-4b4d-9142-6dff770b0c55",
   "metadata": {},
   "outputs": [],
   "source": [
    "features_names = transformer.get_feature_names_out()\n",
    "numerical_df = pd.DataFrame(numerical_df, columns=features_names)"
   ]
  },
  {
   "cell_type": "code",
   "execution_count": null,
   "id": "c8835d4b-0fee-4ae0-8fb6-44da66815e9a",
   "metadata": {},
   "outputs": [],
   "source": [
    "numerical_df.shape"
   ]
  },
  {
   "cell_type": "code",
   "execution_count": null,
   "id": "d35a8793-8d5e-4f17-9f05-9055be7a8bd4",
   "metadata": {},
   "outputs": [],
   "source": [
    "numerical_df.head(2)"
   ]
  },
  {
   "cell_type": "markdown",
   "id": "06ad5ce1-42d8-47cd-9cf2-96800ba8514c",
   "metadata": {},
   "source": [
    "# Principal Component Analysis(PCA) for Dimensionality Reduction\n",
    "**Required to reduce the number of features**"
   ]
  },
  {
   "cell_type": "code",
   "execution_count": null,
   "id": "981abbbb-2d08-4413-97a2-950c36d8c5a4",
   "metadata": {},
   "outputs": [],
   "source": [
    "pca = PCA(n_components=0.95)\n",
    "numerical_df = pca.fit_transform(numerical_df)"
   ]
  },
  {
   "cell_type": "code",
   "execution_count": null,
   "id": "b586921e-706d-4010-b2b2-63fd7ed8351c",
   "metadata": {},
   "outputs": [],
   "source": [
    "type(numerical_df)"
   ]
  },
  {
   "cell_type": "code",
   "execution_count": null,
   "id": "9cf7b500-1332-44be-a088-fbb5490559ec",
   "metadata": {},
   "outputs": [],
   "source": [
    " features_names = pca.get_feature_names_out()\n",
    "numerical_df = pd.DataFrame(numerical_df, columns=features_names)"
   ]
  },
  {
   "cell_type": "code",
   "execution_count": null,
   "id": "f6a85c9f-5545-47e2-bca9-302ac60a7c6e",
   "metadata": {},
   "outputs": [],
   "source": [
    "type(numerical_df)"
   ]
  },
  {
   "cell_type": "code",
   "execution_count": null,
   "id": "86b7cae9-ea23-4578-8b66-0cbddc6a596b",
   "metadata": {},
   "outputs": [],
   "source": [
    "numerical_df.shape"
   ]
  },
  {
   "cell_type": "code",
   "execution_count": null,
   "id": "8a1c219d-866f-4708-b65f-110bb0eb50d9",
   "metadata": {},
   "outputs": [],
   "source": [
    "numerical_df.head()"
   ]
  },
  {
   "cell_type": "code",
   "execution_count": null,
   "id": "9485919f-0275-48c4-a331-672871d11cf6",
   "metadata": {},
   "outputs": [],
   "source": [
    "numerical_df.isnull().sum()"
   ]
  },
  {
   "cell_type": "code",
   "execution_count": null,
   "id": "04ef1a20-c5b1-4e83-a4b8-ace1e120bc58",
   "metadata": {},
   "outputs": [],
   "source": [
    "df = df[['id',\n",
    "                   'Name',\n",
    "                   'Comments',\n",
    "                   'RedFlags Comments in Interview',\n",
    "                   'Call-pitch Elements used during the call Sales Scenario',\n",
    "                   \"But, my child's exam are going on now, so we will keep the counselling session after the exams get over\",\n",
    "                  'Let me discuss it with my child',\n",
    "                   \"Sir being in education industry I know this is a marketing gimmick and at the end of the day you'll be selling the app.\",'Role Location to be given to the candidate']]"
   ]
  },
  {
   "cell_type": "code",
   "execution_count": null,
   "id": "86b247ff-eaad-4fc6-9d06-771649842003",
   "metadata": {},
   "outputs": [],
   "source": [
    "df.head()"
   ]
  },
  {
   "cell_type": "code",
   "execution_count": null,
   "id": "4704f8b9-607f-408d-88d8-914cc1b5555b",
   "metadata": {},
   "outputs": [],
   "source": [
    "df.info()"
   ]
  },
  {
   "cell_type": "code",
   "execution_count": null,
   "id": "fa8fa52a-8923-4f36-b6e5-b03a6cb5eaa1",
   "metadata": {},
   "outputs": [],
   "source": [
    "for col in df.columns:\n",
    "    if df[col].dtype == 'object':\n",
    "        df[col] = df[col].apply(lambda x:x.split())"
   ]
  },
  {
   "cell_type": "code",
   "execution_count": null,
   "id": "8bf35c3b-484b-4971-8e80-86c7b6303156",
   "metadata": {},
   "outputs": [],
   "source": [
    "df.head()"
   ]
  },
  {
   "cell_type": "code",
   "execution_count": null,
   "id": "b4fe1ac3-1f77-477f-a51e-ec2992a8cc6b",
   "metadata": {},
   "outputs": [],
   "source": [
    "df.columns"
   ]
  },
  {
   "cell_type": "code",
   "execution_count": null,
   "id": "8213480a-7556-4e88-b4de-e181f1c53b47",
   "metadata": {},
   "outputs": [],
   "source": [
    "df['tags'] = df['Name'] + df['Comments'] + df['RedFlags Comments in Interview'] + df['Call-pitch Elements used during the call Sales Scenario'] + df[\"But, my child's exam are going on now, so we will keep the counselling session after the exams get over\"] + df['Let me discuss it with my child'] + df[\"Sir being in education industry I know this is a marketing gimmick and at the end of the day you'll be selling the app.\"] + df['Role Location to be given to the candidate']"
   ]
  },
  {
   "cell_type": "code",
   "execution_count": null,
   "id": "39e5b0c2-fcb8-47d9-8f9f-8a06d6766a79",
   "metadata": {},
   "outputs": [],
   "source": [
    "df.head()"
   ]
  },
  {
   "cell_type": "code",
   "execution_count": null,
   "id": "974c6d29-d13d-4932-96d3-3fd74487b6e4",
   "metadata": {
    "scrolled": true
   },
   "outputs": [],
   "source": [
    "df.loc[1,'tags']"
   ]
  },
  {
   "cell_type": "code",
   "execution_count": null,
   "id": "fb561fdb-ebdb-44a9-87a9-33072f6bb519",
   "metadata": {},
   "outputs": [],
   "source": [
    "df = df[['id','Name','tags']]"
   ]
  },
  {
   "cell_type": "code",
   "execution_count": null,
   "id": "ea0337a7-9834-49c0-b6f8-209c3e5353da",
   "metadata": {},
   "outputs": [],
   "source": [
    "df.head(1)"
   ]
  },
  {
   "cell_type": "markdown",
   "id": "f2d0e095-7509-43da-af0a-272165b6b601",
   "metadata": {},
   "source": [
    "## Stemming\n",
    "**Note: Use Lemmatization for more accuracy**\n",
    "\n",
    "To normalize words and reduce them to their root forms, we will apply **stemming**. This helps in handling variations of words and improves text processing efficiency for machine learning models.  \n",
    "(e.g., \"running\" → \"run\")"
   ]
  },
  {
   "cell_type": "code",
   "execution_count": null,
   "id": "6bd211c2-5bf8-42ba-ae14-0968080779c7",
   "metadata": {},
   "outputs": [],
   "source": [
    "ps = PorterStemmer()\n",
    "ps"
   ]
  },
  {
   "cell_type": "code",
   "execution_count": null,
   "id": "7856c516-ede0-4ce2-9411-744247a76c1e",
   "metadata": {},
   "outputs": [],
   "source": [
    "stop_words = set(stopwords.words('english'))"
   ]
  },
  {
   "cell_type": "code",
   "execution_count": null,
   "id": "3ff43395-07f0-4a2e-9805-8228a7020b38",
   "metadata": {},
   "outputs": [],
   "source": [
    "def stem(text):\n",
    "    y = []\n",
    "\n",
    "    for i in text:\n",
    "        y.append(ps.stem(i))\n",
    "\n",
    "    return \" \".join(y)    "
   ]
  },
  {
   "cell_type": "code",
   "execution_count": null,
   "id": "04a8ac27-4b60-4792-ae9e-a3ea897fefea",
   "metadata": {},
   "outputs": [],
   "source": [
    "''' Applying Stemming '''\n",
    "\n",
    "df['tags'] = df['tags'].apply(stem)"
   ]
  },
  {
   "cell_type": "code",
   "execution_count": null,
   "id": "e24f21c9-fefc-4f67-a69a-2f822e1d3d25",
   "metadata": {},
   "outputs": [],
   "source": [
    "df.head()"
   ]
  },
  {
   "cell_type": "code",
   "execution_count": null,
   "id": "d0e3b336-30b4-43d9-b145-927d61479d05",
   "metadata": {},
   "outputs": [],
   "source": [
    "df.loc[1,'tags']"
   ]
  },
  {
   "cell_type": "code",
   "execution_count": null,
   "id": "7390a393-8215-4b14-94bd-ab66c3edd436",
   "metadata": {},
   "outputs": [],
   "source": [
    "df.isnull().sum()"
   ]
  },
  {
   "cell_type": "code",
   "execution_count": null,
   "id": "591a6bb7-e7a2-4bf4-920d-f1ca525da6b3",
   "metadata": {},
   "outputs": [],
   "source": [
    "def stopwords_removal(text):\n",
    "    words = word_tokenize(text.lower())\n",
    "    filtered_words = [word for word in words if word not in stop_words]\n",
    "    return \" \".join(filtered_words)"
   ]
  },
  {
   "cell_type": "code",
   "execution_count": null,
   "id": "7b25ef5f-2382-4ce3-8473-55880a10f4ca",
   "metadata": {},
   "outputs": [],
   "source": [
    "''' Applying Stopwords Removal '''\n",
    "\n",
    "df['tags'] = df['tags'].apply(stopwords_removal)"
   ]
  },
  {
   "cell_type": "code",
   "execution_count": null,
   "id": "c28792f4-1b62-4801-b099-ffbf93b4bbf6",
   "metadata": {},
   "outputs": [],
   "source": [
    "df.head(2)"
   ]
  },
  {
   "cell_type": "code",
   "execution_count": null,
   "id": "711591d0-d8c5-4fb3-aa02-190afdec7a72",
   "metadata": {},
   "outputs": [],
   "source": [
    "df.loc[1,'tags']"
   ]
  },
  {
   "cell_type": "code",
   "execution_count": null,
   "id": "060979ad-0d56-43f5-8c9f-442ab92021dc",
   "metadata": {},
   "outputs": [],
   "source": [
    "def remove_duplicates(text):\n",
    "    words = text.split()\n",
    "    seen = set()\n",
    "    unique_words = []\n",
    "\n",
    "    for word in words:\n",
    "        if word not in seen:\n",
    "            seen.add(word)\n",
    "            unique_words.append(word)\n",
    "\n",
    "    return \" \".join(unique_words)        "
   ]
  },
  {
   "cell_type": "code",
   "execution_count": null,
   "id": "84e703be-d8f9-4e8b-a259-eb8de9eacaa9",
   "metadata": {},
   "outputs": [],
   "source": [
    "df['tags'] = df['tags'].apply(remove_duplicates)"
   ]
  },
  {
   "cell_type": "code",
   "execution_count": null,
   "id": "aea4eaf9-3ee9-4669-8b50-9b6627cb7e3a",
   "metadata": {},
   "outputs": [],
   "source": [
    "df['tags'] = df['tags'].str.replace('/', '', regex=False)"
   ]
  },
  {
   "cell_type": "code",
   "execution_count": null,
   "id": "895a811e-df84-42d1-bdca-22003ec4122f",
   "metadata": {},
   "outputs": [],
   "source": [
    "df.loc[1,'tags']"
   ]
  },
  {
   "cell_type": "code",
   "execution_count": null,
   "id": "694edc15-7495-4b75-b60b-d0a8fd547a02",
   "metadata": {},
   "outputs": [],
   "source": [
    "df = df.join(numerical_df, how='inner')"
   ]
  },
  {
   "cell_type": "code",
   "execution_count": null,
   "id": "f6d0fdb7-606a-40a1-999f-701a99aa4b5e",
   "metadata": {},
   "outputs": [],
   "source": [
    "df.shape"
   ]
  },
  {
   "cell_type": "code",
   "execution_count": null,
   "id": "6f8c48de-5284-4444-8e25-c4e3069a3add",
   "metadata": {},
   "outputs": [],
   "source": [
    "df.head(30)"
   ]
  },
  {
   "cell_type": "code",
   "execution_count": null,
   "id": "f09920e7-57b6-43f6-9d52-c6a7fb93f037",
   "metadata": {},
   "outputs": [],
   "source": [
    "df['pca0'].unique()"
   ]
  },
  {
   "cell_type": "code",
   "execution_count": null,
   "id": "53447c4d-16d4-4c9e-8b56-b1eccc19116a",
   "metadata": {},
   "outputs": [],
   "source": [
    "df.isnull().sum()"
   ]
  },
  {
   "cell_type": "markdown",
   "id": "eea6f87e-c124-4aa9-832a-adb353130990",
   "metadata": {},
   "source": [
    "## Text Vectorization using Bag of Words  \n",
    "\n",
    "Now that the tags are in text form, we will convert them into vector form using the **Bag of Words (BoW)** technique. This process transforms text into numerical representations, making it suitable for machine learning models.  "
   ]
  },
  {
   "cell_type": "code",
   "execution_count": null,
   "id": "d74dac94-afa9-44ec-bbb0-202756d03ef9",
   "metadata": {},
   "outputs": [],
   "source": [
    "cv = CountVectorizer(max_features=5000)"
   ]
  },
  {
   "cell_type": "code",
   "execution_count": null,
   "id": "a7955373-3a96-4471-b31b-ab13a4a337f0",
   "metadata": {},
   "outputs": [],
   "source": [
    "vectors = cv.fit_transform(df['tags']).toarray()"
   ]
  }
 ],
 "metadata": {
  "kernelspec": {
   "display_name": "Python 3 (ipykernel)",
   "language": "python",
   "name": "python3"
  },
  "language_info": {
   "codemirror_mode": {
    "name": "ipython",
    "version": 3
   },
   "file_extension": ".py",
   "mimetype": "text/x-python",
   "name": "python",
   "nbconvert_exporter": "python",
   "pygments_lexer": "ipython3",
   "version": "3.13.2"
  }
 },
 "nbformat": 4,
 "nbformat_minor": 5
}
