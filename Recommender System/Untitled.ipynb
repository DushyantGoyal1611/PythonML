{
 "cells": [
  {
   "cell_type": "code",
   "execution_count": 2,
   "id": "4bb19686-cd1a-4a2d-a36c-18d892861fec",
   "metadata": {},
   "outputs": [],
   "source": [
    "import pandas as pd\n",
    "import numpy as np\n",
    "import matplotlib.pyplot as plt\n",
    "\n",
    "# Torch \n",
    "import torch\n",
    "import torch.nn as nn\n",
    "from torchmetrics import Accuracy\n",
    "from torch.utils.data import Dataset, DataLoader\n",
    "\n",
    "# Scikit-Learn\n",
    "# Data Encoding and Scaling\n",
    "from sklearn.compose import ColumnTransformer\n",
    "from sklearn.preprocessing import LabelEncoder, OrdinalEncoder, OneHotEncoder, StandardScaler\n",
    "from sklearn.model_selection import train_test_split\n",
    "from sklearn.decomposition import PCA\n",
    "\n",
    "# Natural Language Processing(NLP)\n",
    "import nltk\n",
    "from nltk.tokenize import word_tokenize\n",
    "from nltk.corpus import stopwords\n",
    "from nltk.stem import WordNetLemmatizer\n",
    "# Word Embedding\n",
    "import gensim\n",
    "from gensim.models import Word2Vec"
   ]
  },
  {
   "cell_type": "code",
   "execution_count": 3,
   "id": "960d9b8f-6338-4725-a353-b4cb52d66d62",
   "metadata": {},
   "outputs": [
    {
     "data": {
      "text/plain": [
       "'cpu'"
      ]
     },
     "execution_count": 3,
     "metadata": {},
     "output_type": "execute_result"
    }
   ],
   "source": [
    "device = 'cuda' if torch.cuda.is_available() else 'cpu'\n",
    "device"
   ]
  },
  {
   "cell_type": "code",
   "execution_count": 4,
   "id": "a09d2134-cedb-4083-973b-8ac6862cebda",
   "metadata": {},
   "outputs": [],
   "source": [
    "df = pd.read_csv('IntervieweeDataset.csv')"
   ]
  },
  {
   "cell_type": "code",
   "execution_count": 5,
   "id": "088674cc-dc26-4228-a9e7-18be0463cf21",
   "metadata": {},
   "outputs": [
    {
     "data": {
      "text/html": [
       "<div>\n",
       "<style scoped>\n",
       "    .dataframe tbody tr th:only-of-type {\n",
       "        vertical-align: middle;\n",
       "    }\n",
       "\n",
       "    .dataframe tbody tr th {\n",
       "        vertical-align: top;\n",
       "    }\n",
       "\n",
       "    .dataframe thead th {\n",
       "        text-align: right;\n",
       "    }\n",
       "</style>\n",
       "<table border=\"1\" class=\"dataframe\">\n",
       "  <thead>\n",
       "    <tr style=\"text-align: right;\">\n",
       "      <th></th>\n",
       "      <th>Name</th>\n",
       "      <th>Age</th>\n",
       "      <th>Gender</th>\n",
       "      <th>Type of Graduation/Post Graduation</th>\n",
       "      <th>Marital status</th>\n",
       "      <th>Mode of interview given by candidate?</th>\n",
       "      <th>Pre Interview Check</th>\n",
       "      <th>Fluency in English based on introduction</th>\n",
       "      <th>Confidence based on Introduction (English)</th>\n",
       "      <th>Confidence based on the topic given</th>\n",
       "      <th>...</th>\n",
       "      <th>Structured Thinking Based on the PPT Question.1</th>\n",
       "      <th>Structured Thinking( Call pitch).1</th>\n",
       "      <th>Regional fluency based on the topic given  .1</th>\n",
       "      <th>Regional fluency Based on the PPT Question.1</th>\n",
       "      <th>Regional fluency based on the  sales scenario.1</th>\n",
       "      <th>Confidence Score</th>\n",
       "      <th>Structured Thinking Score</th>\n",
       "      <th>Regional Fluency Score</th>\n",
       "      <th>Total Score</th>\n",
       "      <th>Whether joined the company or not\\n</th>\n",
       "    </tr>\n",
       "  </thead>\n",
       "  <tbody>\n",
       "    <tr>\n",
       "      <th>0</th>\n",
       "      <td>parida</td>\n",
       "      <td>25</td>\n",
       "      <td>Female</td>\n",
       "      <td>Masters in data science</td>\n",
       "      <td>Unmarried</td>\n",
       "      <td>Mobile</td>\n",
       "      <td>Proceed with the Interview</td>\n",
       "      <td>Able to speak sentences in a clear/coherent wa...</td>\n",
       "      <td>Impactful - Good confidence throughout the Int...</td>\n",
       "      <td>Guarded Confidence - Confident in some areas a...</td>\n",
       "      <td>...</td>\n",
       "      <td>3</td>\n",
       "      <td>2</td>\n",
       "      <td>1</td>\n",
       "      <td>1.0</td>\n",
       "      <td>1.0</td>\n",
       "      <td>11</td>\n",
       "      <td>7</td>\n",
       "      <td>3</td>\n",
       "      <td>42</td>\n",
       "      <td>No</td>\n",
       "    </tr>\n",
       "    <tr>\n",
       "      <th>1</th>\n",
       "      <td>shreej</td>\n",
       "      <td>29</td>\n",
       "      <td>Female</td>\n",
       "      <td>BSc or MSc</td>\n",
       "      <td>Unmarried</td>\n",
       "      <td>Mobile</td>\n",
       "      <td>Proceed with the Interview</td>\n",
       "      <td>Able to speak sentences in a clear/coherent wa...</td>\n",
       "      <td>Impactful - Good confidence throughout the Int...</td>\n",
       "      <td>Impactful - Good confidence throughout the Int...</td>\n",
       "      <td>...</td>\n",
       "      <td>3</td>\n",
       "      <td>3</td>\n",
       "      <td>3</td>\n",
       "      <td>3.0</td>\n",
       "      <td>3.0</td>\n",
       "      <td>12</td>\n",
       "      <td>9</td>\n",
       "      <td>9</td>\n",
       "      <td>60</td>\n",
       "      <td>No</td>\n",
       "    </tr>\n",
       "  </tbody>\n",
       "</table>\n",
       "<p>2 rows × 52 columns</p>\n",
       "</div>"
      ],
      "text/plain": [
       "     Name Age  Gender Type of Graduation/Post Graduation Marital status  \\\n",
       "0  parida  25  Female            Masters in data science      Unmarried   \n",
       "1  shreej  29  Female                         BSc or MSc      Unmarried   \n",
       "\n",
       "  Mode of interview given by candidate?         Pre Interview Check  \\\n",
       "0                                Mobile  Proceed with the Interview   \n",
       "1                                Mobile  Proceed with the Interview   \n",
       "\n",
       "            Fluency in English based on introduction  \\\n",
       "0  Able to speak sentences in a clear/coherent wa...   \n",
       "1  Able to speak sentences in a clear/coherent wa...   \n",
       "\n",
       "          Confidence based on Introduction (English)  \\\n",
       "0  Impactful - Good confidence throughout the Int...   \n",
       "1  Impactful - Good confidence throughout the Int...   \n",
       "\n",
       "               Confidence based on the topic given    ...  \\\n",
       "0  Guarded Confidence - Confident in some areas a...  ...   \n",
       "1  Impactful - Good confidence throughout the Int...  ...   \n",
       "\n",
       "  Structured Thinking Based on the PPT Question.1  \\\n",
       "0                                               3   \n",
       "1                                               3   \n",
       "\n",
       "  Structured Thinking( Call pitch).1  \\\n",
       "0                                  2   \n",
       "1                                  3   \n",
       "\n",
       "  Regional fluency based on the topic given  .1  \\\n",
       "0                                             1   \n",
       "1                                             3   \n",
       "\n",
       "  Regional fluency Based on the PPT Question.1  \\\n",
       "0                                          1.0   \n",
       "1                                          3.0   \n",
       "\n",
       "  Regional fluency based on the  sales scenario.1 Confidence Score  \\\n",
       "0                                             1.0               11   \n",
       "1                                             3.0               12   \n",
       "\n",
       "  Structured Thinking Score Regional Fluency Score Total Score  \\\n",
       "0                         7                      3          42   \n",
       "1                         9                      9          60   \n",
       "\n",
       "  Whether joined the company or not\\n  \n",
       "0                                  No  \n",
       "1                                  No  \n",
       "\n",
       "[2 rows x 52 columns]"
      ]
     },
     "execution_count": 5,
     "metadata": {},
     "output_type": "execute_result"
    }
   ],
   "source": [
    "df.head(2)"
   ]
  },
  {
   "cell_type": "code",
   "execution_count": 6,
   "id": "c669420f-cc78-4460-a85b-72ed81f06f41",
   "metadata": {},
   "outputs": [
    {
     "data": {
      "text/plain": [
       "(21256, 52)"
      ]
     },
     "execution_count": 6,
     "metadata": {},
     "output_type": "execute_result"
    }
   ],
   "source": [
    "df.shape"
   ]
  },
  {
   "cell_type": "code",
   "execution_count": 7,
   "id": "624b4191-b322-406b-83ed-7992e5ca5df0",
   "metadata": {},
   "outputs": [],
   "source": [
    "df.dropna(inplace=True)"
   ]
  },
  {
   "cell_type": "code",
   "execution_count": 8,
   "id": "517e9c92-0181-4937-92cd-651b8aa2c69f",
   "metadata": {},
   "outputs": [],
   "source": [
    "df.drop(df.iloc[:,8:18], axis=1, inplace=True)"
   ]
  },
  {
   "cell_type": "code",
   "execution_count": 9,
   "id": "214f35e1-9d05-46c1-81fb-aaeb7a1f5ab4",
   "metadata": {},
   "outputs": [],
   "source": [
    "df.drop(['Does the candidate has mother tongue influence while speaking english.', 'How many slides candidate have submitted in PPT?'], axis=1, inplace=True)"
   ]
  },
  {
   "cell_type": "code",
   "execution_count": 10,
   "id": "6576eb18-f6af-46c4-84ad-fb7440b32006",
   "metadata": {},
   "outputs": [],
   "source": [
    "df.drop('Pre Interview Check', axis=1, inplace=True)"
   ]
  },
  {
   "cell_type": "code",
   "execution_count": 11,
   "id": "ccc60c67-e99d-4ce3-bae2-8654fcfe9c79",
   "metadata": {},
   "outputs": [
    {
     "data": {
      "text/plain": [
       "(18681, 39)"
      ]
     },
     "execution_count": 11,
     "metadata": {},
     "output_type": "execute_result"
    }
   ],
   "source": [
    "df.shape"
   ]
  },
  {
   "cell_type": "code",
   "execution_count": 12,
   "id": "74f36449-80e6-4095-ba08-e7936140d837",
   "metadata": {},
   "outputs": [
    {
     "data": {
      "text/plain": [
       "array(['Masters in data science', 'BSc or MSc', 'B.E / B-Tech', 'BA/MA',\n",
       "       'B.ed(Teaching)', 'M.E / M-Tech', 'B.com (Bachelor of commerce)',\n",
       "       'MED', 'M.com', 'MBA', 'BCA/MCA',\n",
       "       'B.comm (Bachelor of mass comm.)', 'BBA or BBM',\n",
       "       'Hotel Management', 'PG diploma ', 'B.pharma/M.pharma', 'PGDM',\n",
       "       'Bachelor in dental', 'pgdm', 'Bachelor in medical lab', 'Pgdm',\n",
       "       'master maas comm', 'BE - CSe and CDAC ',\n",
       "       'Bachelors in fisheries in science', 'LLM', 'PHD ', 'BMS',\n",
       "       'B-pharma', 'bachlors in journalism-2021', 'msw-hr-2014', 'MS',\n",
       "       'LLB', 'Mphil', 'b.com and pgdc , ', 'bachelor mass communication',\n",
       "       'PG(Bachelor of Library Science)', 'MMC', 'MASTER IN MANGEMENT ',\n",
       "       'pgdm ', 'M Phil', 'PGPM', 'PGPCEM', 'BA in French', 'B-pharm ',\n",
       "       'PHARMA D', 'MJMC 2020', 'bms ', 'PGPM in marketing', 'MSW',\n",
       "       'mass media', 'Bachelor of Tourism', 'MASTERS IN DESIGN ',\n",
       "       'mass comm', 'Bled', 'msw', 'English Honors', 'mass com',\n",
       "       'Masters in Clinical Psychology', 'PGDCA', 'BJMC',\n",
       "       'B.voc in applied clinical psychology', 'CSE',\n",
       "       'pgdm -banking and finance ', 'm.ed ', 'M.Pharma',\n",
       "       'Post graduation diploma in IB ', '+ Bed ', 'PGDF',\n",
       "       'Bachelor of Business Economics (B.B.E.)', 'BCS', 'MPA',\n",
       "       'PDGM Advance Computing', 'PG PM ', 'PGDM 2022', 'M.Phil', 'Bvoc',\n",
       "       'MASTERS IN DATA ANALYTICS, ',\n",
       "       'B.voc networking and mobile applications', 'PGD', 'master',\n",
       "       'PDGM marketing', 'Masters in archelogy', 'Bvoc - IT ',\n",
       "       'Ph D genetics ', 'Masters in mass communication- 2020, ',\n",
       "       'travel & toursim ', 'MF SC', 'Bachelors - voc', 'BHM ',\n",
       "       'Masters in Convergent Journalism', 'B.vocational ', 'Bsc Agri',\n",
       "       'bcom , pgdca 2020', 'BMM ( MAss Media)', 'D.el.ed',\n",
       "       'B.Physiotherapist', 'B.ED', 'MBA agro businesss', 'PGDA',\n",
       "       'Bsc Bedd - computer science ', 'masters of social work',\n",
       "       'Masters in fashion designing', 'BPharma', 'BCom computers',\n",
       "       'Bachelors in philosophy', 'B.arch ',\n",
       "       'masters in banking  and insurance ', 'Bach in IT',\n",
       "       'MASTERS IN MASS COM', 'B.VOC', 'mass com-pg', 'Bach in Tourism',\n",
       "       'BCOM COMPUTERS', 'B.ed', 'masters in forensic ', 'MPAT ',\n",
       "       'M.phill', 'doctorate ', 'BBM', 'BCCA', 'BACHELORS IN HOMEPATHY ',\n",
       "       'food technology', 'Bachelors in toursim', 'BCM', 'MBBS', 'BHM',\n",
       "       'B.LIC', 'b.ARCH', 'Masters of Statistics', 'biotech', 'bcom -pa',\n",
       "       'BVOC', 'bcom computers', 'Bachelors in design', 'BMS marketing',\n",
       "       'PGDC', 'Bcom computers', 'PG - msc biochemistry',\n",
       "       'masters in biotechnology', 'B.Arch', 'PG DIPLOMA IN BANKING',\n",
       "       'Bachelor of Architecture', 'masters in biology', 'diploma',\n",
       "       'B.PHARMA', 'B -pharm', 'B-Voc', 'BPO , ortho studies ', 'B ENG',\n",
       "       'M.ed', 'Mphil ', 'pgdca', 'masters in hospitality', 'BRM', 'bped',\n",
       "       'pursuing pharmacy', 'BSW', 'bds', 'bcom CA',\n",
       "       'BACHLORS OF FINANCE', 'M in Library', 'BENGALI HONORS', 'B.ARCH',\n",
       "       'PGP', 'MASTERS IN SOCIAL SCIENCE', 'B. Pharma ', 'BMIT',\n",
       "       'd el. ed', 'BDS', 'BTC', 'BBE',\n",
       "       'Bachelors in labs and technology', 'Masscom', 'Diploma in engr',\n",
       "       'bachelor in eco', 'Dled', 'bachelors in management studies',\n",
       "       'Diploma in corporate learn management', 'MSW HRM',\n",
       "       'Public administartion', 'PG DIPLOMA ', 'Bio science',\n",
       "       'masss media', 'MSW ', 'PGDM ', 'PGDM marketing (velenkr cllg)',\n",
       "       'B.Design', 'bachelors of vocational - automobile', 'bms', 'b.ed',\n",
       "       'BMM', 'bvoc ', 'BVoc', 'PGDBS', 'MFC',\n",
       "       \"Bachelor's in Hospitality\", 'PGBCA', 'BA German', 'BFSC',\n",
       "       'masters in comparative religion', 'Phd', 'bboc',\n",
       "       'BACHELORS OF COMM', 'master in electroc media',\n",
       "       'Master of social work (MSW)', 'bachelors in biotechnology',\n",
       "       'travel', 'MFM', 'pharm D ', 'bms-2020', 'MBA- 2019', 'BSC', 'MFA',\n",
       "       'B-Tech - INTEGRATED ', 'Mass comm', 'PGDI',\n",
       "       'PG DIPLOMA IN MACHINERY', 'MLIS', 'MASTERS MICROBILOGY 2018',\n",
       "       'Bachelors of planning', 'B Voc - Banking & Finance', 'MTM ',\n",
       "       'm.phil  2020', 'B.ARC'], dtype=object)"
      ]
     },
     "execution_count": 12,
     "metadata": {},
     "output_type": "execute_result"
    }
   ],
   "source": [
    "df['Type of Graduation/Post Graduation'].unique()"
   ]
  },
  {
   "cell_type": "code",
   "execution_count": 13,
   "id": "9fb8a584-faba-411f-87d4-80fa1259cfee",
   "metadata": {},
   "outputs": [],
   "source": [
    "education_mapping = {\n",
    "    'Engineering & Technology': [\n",
    "        'B.E / B-Tech', 'M.E / M-Tech', 'B-Tech - INTEGRATED', 'BE - CSe and CDAC',\n",
    "        'B.ENG', 'Bachelors of planning', 'B.Arch', 'Bachelor of Architecture', 'B.ARC'\n",
    "    ],\n",
    "    'Science & Medical': [\n",
    "        'BSc or MSc', 'BSC', 'MS', 'Masters in biotechnology', 'PG - msc biochemistry',\n",
    "        'Bio science', 'masters in biology', 'biotech', 'Masters of Statistics',\n",
    "        'Bachelors in biotechnology', 'Ph D genetics', 'MBBS', 'Bachelor in medical lab',\n",
    "        'B.Physiotherapist', 'B.pharma', 'M.pharma', 'B -pharm', 'B.PHARMA',\n",
    "        'PHARMA D', 'pharm D', 'M.Pharma', 'Bachelors in dental',\n",
    "        'Masters in Clinical Psychology', 'B.voc in applied clinical psychology'\n",
    "    ],\n",
    "    'Commerce & Business': [\n",
    "        'B.com', 'BCOM COMPUTERS', 'Bcom computers', 'bcom -pa', 'M.com',\n",
    "        'MBA', 'MBA- 2019', 'MBA agro business', 'PGDM', 'pgdm', 'PGDM 2022',\n",
    "        'PGDM marketing', 'PG diploma in banking', 'PG DIPLOMA IN BANKING',\n",
    "        'Masters in banking and insurance', 'BBA or BBM', 'BBM',\n",
    "        'Bachelor of Business Economics (B.B.E.)', 'PGPM', 'PGPM in marketing',\n",
    "        'PGPCEM', 'PGDBS', 'B.Voc - Banking & Finance'\n",
    "    ],\n",
    "    'Humanities & Social Sciences': [\n",
    "        'BA/MA', 'LLB', 'LLM', 'MPhil', 'M.phil', 'Mphil 2020', 'PHD', 'doctorate',\n",
    "        'Masters of Social Work (MSW)', 'msw', 'msw-hr-2014', 'MSW HRM',\n",
    "        'Public administration', 'Masters in comparative religion', 'Masters in archeology',\n",
    "        'English Honors', 'MASTERS IN SOCIAL SCIENCE', 'Bengali Honors'\n",
    "    ],\n",
    "    'Mass Communication & Media': [\n",
    "        'B.comm (Bachelor of mass comm.)', 'Bachelor mass communication',\n",
    "        'mass media', 'masss media', 'mass comm', 'Mass comm', 'BMM ( MAss Media)',\n",
    "        'BJMC', 'MJMC 2020', 'Masters in mass communication', 'MASTERS IN MASS COM',\n",
    "        'Masters in Convergent Journalism', 'master maas comm', 'master in electronic media'\n",
    "    ],\n",
    "    'Vocational & Professional Courses': [\n",
    "        'B.ed (Teaching)', 'B.ed', 'B.ED', 'M.ed', 'D.el.ed', 'd el. ed', 'Dled',\n",
    "        'Bachelors in fisheries science', 'Bachelors in tourism', 'Bachelor of Tourism',\n",
    "        'travel & toursim', 'Bachelors in design', 'B.Design', 'Bachelors in hospitality',\n",
    "        \"Bachelor's in Hospitality\", 'Hotel Management', 'Masters in fashion designing',\n",
    "        'Masters in hospitality', 'Masters in design', 'food technology',\n",
    "        'BVoc', 'B.VOC', 'B.vocational', 'B.voc - IT', 'B.voc networking and mobile applications',\n",
    "        'bachelors of vocational - automobile', 'Bpharma', 'Mpharma', 'Diploma', 'Diploma in engr',\n",
    "        'PGDCA', 'PGD', 'pgdca', 'PGD (Bachelor of Library Science)', 'BMIT',\n",
    "        'PGDF', 'PGDA', 'MFC', 'MLIS', 'BMS', 'BMS marketing', 'bms', 'bms-2020',\n",
    "        'Bachelor in IT', 'BCA/MCA', 'CSE', 'PDGM Advance Computing'\n",
    "    ]\n",
    "}\n",
    "\n",
    "# Function to map education to categories\n",
    "def categorize_education(education):\n",
    "    for category, degrees in education_mapping.items():\n",
    "        if education in degrees:\n",
    "            return category\n",
    "    return 'Other'  # Default category if not found"
   ]
  },
  {
   "cell_type": "code",
   "execution_count": 14,
   "id": "d3ccd83c-6546-4e5e-893a-ef1fa77980b8",
   "metadata": {},
   "outputs": [
    {
     "data": {
      "text/plain": [
       "array(['Masters in data science', 'BSc or MSc', 'B.E / B-Tech', 'BA/MA',\n",
       "       'B.ed(Teaching)', 'M.E / M-Tech', 'B.com (Bachelor of commerce)',\n",
       "       'MED', 'M.com', 'MBA', 'BCA/MCA',\n",
       "       'B.comm (Bachelor of mass comm.)', 'BBA or BBM',\n",
       "       'Hotel Management', 'PG diploma ', 'B.pharma/M.pharma', 'PGDM',\n",
       "       'Bachelor in dental', 'pgdm', 'Bachelor in medical lab', 'Pgdm',\n",
       "       'master maas comm', 'BE - CSe and CDAC ',\n",
       "       'Bachelors in fisheries in science', 'LLM', 'PHD ', 'BMS',\n",
       "       'B-pharma', 'bachlors in journalism-2021', 'msw-hr-2014', 'MS',\n",
       "       'LLB', 'Mphil', 'b.com and pgdc , ', 'bachelor mass communication',\n",
       "       'PG(Bachelor of Library Science)', 'MMC', 'MASTER IN MANGEMENT ',\n",
       "       'pgdm ', 'M Phil', 'PGPM', 'PGPCEM', 'BA in French', 'B-pharm ',\n",
       "       'PHARMA D', 'MJMC 2020', 'bms ', 'PGPM in marketing', 'MSW',\n",
       "       'mass media', 'Bachelor of Tourism', 'MASTERS IN DESIGN ',\n",
       "       'mass comm', 'Bled', 'msw', 'English Honors', 'mass com',\n",
       "       'Masters in Clinical Psychology', 'PGDCA', 'BJMC',\n",
       "       'B.voc in applied clinical psychology', 'CSE',\n",
       "       'pgdm -banking and finance ', 'm.ed ', 'M.Pharma',\n",
       "       'Post graduation diploma in IB ', '+ Bed ', 'PGDF',\n",
       "       'Bachelor of Business Economics (B.B.E.)', 'BCS', 'MPA',\n",
       "       'PDGM Advance Computing', 'PG PM ', 'PGDM 2022', 'M.Phil', 'Bvoc',\n",
       "       'MASTERS IN DATA ANALYTICS, ',\n",
       "       'B.voc networking and mobile applications', 'PGD', 'master',\n",
       "       'PDGM marketing', 'Masters in archelogy', 'Bvoc - IT ',\n",
       "       'Ph D genetics ', 'Masters in mass communication- 2020, ',\n",
       "       'travel & toursim ', 'MF SC', 'Bachelors - voc', 'BHM ',\n",
       "       'Masters in Convergent Journalism', 'B.vocational ', 'Bsc Agri',\n",
       "       'bcom , pgdca 2020', 'BMM ( MAss Media)', 'D.el.ed',\n",
       "       'B.Physiotherapist', 'B.ED', 'MBA agro businesss', 'PGDA',\n",
       "       'Bsc Bedd - computer science ', 'masters of social work',\n",
       "       'Masters in fashion designing', 'BPharma', 'BCom computers',\n",
       "       'Bachelors in philosophy', 'B.arch ',\n",
       "       'masters in banking  and insurance ', 'Bach in IT',\n",
       "       'MASTERS IN MASS COM', 'B.VOC', 'mass com-pg', 'Bach in Tourism',\n",
       "       'BCOM COMPUTERS', 'B.ed', 'masters in forensic ', 'MPAT ',\n",
       "       'M.phill', 'doctorate ', 'BBM', 'BCCA', 'BACHELORS IN HOMEPATHY ',\n",
       "       'food technology', 'Bachelors in toursim', 'BCM', 'MBBS', 'BHM',\n",
       "       'B.LIC', 'b.ARCH', 'Masters of Statistics', 'biotech', 'bcom -pa',\n",
       "       'BVOC', 'bcom computers', 'Bachelors in design', 'BMS marketing',\n",
       "       'PGDC', 'Bcom computers', 'PG - msc biochemistry',\n",
       "       'masters in biotechnology', 'B.Arch', 'PG DIPLOMA IN BANKING',\n",
       "       'Bachelor of Architecture', 'masters in biology', 'diploma',\n",
       "       'B.PHARMA', 'B -pharm', 'B-Voc', 'BPO , ortho studies ', 'B ENG',\n",
       "       'M.ed', 'Mphil ', 'pgdca', 'masters in hospitality', 'BRM', 'bped',\n",
       "       'pursuing pharmacy', 'BSW', 'bds', 'bcom CA',\n",
       "       'BACHLORS OF FINANCE', 'M in Library', 'BENGALI HONORS', 'B.ARCH',\n",
       "       'PGP', 'MASTERS IN SOCIAL SCIENCE', 'B. Pharma ', 'BMIT',\n",
       "       'd el. ed', 'BDS', 'BTC', 'BBE',\n",
       "       'Bachelors in labs and technology', 'Masscom', 'Diploma in engr',\n",
       "       'bachelor in eco', 'Dled', 'bachelors in management studies',\n",
       "       'Diploma in corporate learn management', 'MSW HRM',\n",
       "       'Public administartion', 'PG DIPLOMA ', 'Bio science',\n",
       "       'masss media', 'MSW ', 'PGDM ', 'PGDM marketing (velenkr cllg)',\n",
       "       'B.Design', 'bachelors of vocational - automobile', 'bms', 'b.ed',\n",
       "       'BMM', 'bvoc ', 'BVoc', 'PGDBS', 'MFC',\n",
       "       \"Bachelor's in Hospitality\", 'PGBCA', 'BA German', 'BFSC',\n",
       "       'masters in comparative religion', 'Phd', 'bboc',\n",
       "       'BACHELORS OF COMM', 'master in electroc media',\n",
       "       'Master of social work (MSW)', 'bachelors in biotechnology',\n",
       "       'travel', 'MFM', 'pharm D ', 'bms-2020', 'MBA- 2019', 'BSC', 'MFA',\n",
       "       'B-Tech - INTEGRATED ', 'Mass comm', 'PGDI',\n",
       "       'PG DIPLOMA IN MACHINERY', 'MLIS', 'MASTERS MICROBILOGY 2018',\n",
       "       'Bachelors of planning', 'B Voc - Banking & Finance', 'MTM ',\n",
       "       'm.phil  2020', 'B.ARC'], dtype=object)"
      ]
     },
     "execution_count": 14,
     "metadata": {},
     "output_type": "execute_result"
    }
   ],
   "source": [
    "df['Type of Graduation/Post Graduation'].unique()"
   ]
  },
  {
   "cell_type": "code",
   "execution_count": 15,
   "id": "6f926e4c-d4e0-4139-9e4a-a86c237f2bac",
   "metadata": {},
   "outputs": [],
   "source": [
    "df.rename(columns={'Whether joined the company or not\\n': 'Whether joined the company or not', 'What was the type of Role?\\t': 'What was the type of Role?'}, inplace=True)"
   ]
  },
  {
   "cell_type": "code",
   "execution_count": 16,
   "id": "1ba771d1-510f-4618-9c1d-4916bde64db7",
   "metadata": {},
   "outputs": [],
   "source": [
    "df.rename(columns={\"But, my child's exam are going on now, so we will keep the counselling session after the exams get over.(Time: Favourable pitch: Counsellor hype)\":\"But, my child's exam are going on now, so we will keep the counselling session after the exams get over\"}, inplace=True)"
   ]
  },
  {
   "cell_type": "code",
   "execution_count": 17,
   "id": "2b17d473-3714-4a35-a193-0bea76bb6b32",
   "metadata": {},
   "outputs": [],
   "source": [
    "df.rename(columns = {'Has acquaintance in Company and has spoken to him/her before applying?' : 'Acquaintance and Referral'}, inplace=True)"
   ]
  },
  {
   "cell_type": "code",
   "execution_count": 18,
   "id": "95a9c09b-27e1-4073-9260-dbfe2ab71709",
   "metadata": {},
   "outputs": [],
   "source": [
    "df['id'] = df.index"
   ]
  },
  {
   "cell_type": "code",
   "execution_count": 19,
   "id": "6b76f264-06ed-4d6f-90a5-0d65d40ded4b",
   "metadata": {},
   "outputs": [
    {
     "data": {
      "text/html": [
       "<div>\n",
       "<style scoped>\n",
       "    .dataframe tbody tr th:only-of-type {\n",
       "        vertical-align: middle;\n",
       "    }\n",
       "\n",
       "    .dataframe tbody tr th {\n",
       "        vertical-align: top;\n",
       "    }\n",
       "\n",
       "    .dataframe thead th {\n",
       "        text-align: right;\n",
       "    }\n",
       "</style>\n",
       "<table border=\"1\" class=\"dataframe\">\n",
       "  <thead>\n",
       "    <tr style=\"text-align: right;\">\n",
       "      <th></th>\n",
       "      <th>Name</th>\n",
       "      <th>Age</th>\n",
       "      <th>Gender</th>\n",
       "      <th>Type of Graduation/Post Graduation</th>\n",
       "      <th>Marital status</th>\n",
       "      <th>Mode of interview given by candidate?</th>\n",
       "      <th>Fluency in English based on introduction</th>\n",
       "      <th>Acquaintance and Referral</th>\n",
       "      <th>Candidate Status</th>\n",
       "      <th>Last Fixed CTC (lakhs)</th>\n",
       "      <th>...</th>\n",
       "      <th>Structured Thinking( Call pitch).1</th>\n",
       "      <th>Regional fluency based on the topic given  .1</th>\n",
       "      <th>Regional fluency Based on the PPT Question.1</th>\n",
       "      <th>Regional fluency based on the  sales scenario.1</th>\n",
       "      <th>Confidence Score</th>\n",
       "      <th>Structured Thinking Score</th>\n",
       "      <th>Regional Fluency Score</th>\n",
       "      <th>Total Score</th>\n",
       "      <th>Whether joined the company or not</th>\n",
       "      <th>id</th>\n",
       "    </tr>\n",
       "  </thead>\n",
       "  <tbody>\n",
       "    <tr>\n",
       "      <th>0</th>\n",
       "      <td>parida</td>\n",
       "      <td>25</td>\n",
       "      <td>Female</td>\n",
       "      <td>Masters in data science</td>\n",
       "      <td>Unmarried</td>\n",
       "      <td>Mobile</td>\n",
       "      <td>Able to speak sentences in a clear/coherent wa...</td>\n",
       "      <td>No</td>\n",
       "      <td>Experienced in non client facing(equal to or m...</td>\n",
       "      <td>5-5.99</td>\n",
       "      <td>...</td>\n",
       "      <td>2</td>\n",
       "      <td>1</td>\n",
       "      <td>1.0</td>\n",
       "      <td>1.0</td>\n",
       "      <td>11</td>\n",
       "      <td>7</td>\n",
       "      <td>3</td>\n",
       "      <td>42</td>\n",
       "      <td>No</td>\n",
       "      <td>0</td>\n",
       "    </tr>\n",
       "  </tbody>\n",
       "</table>\n",
       "<p>1 rows × 40 columns</p>\n",
       "</div>"
      ],
      "text/plain": [
       "     Name Age  Gender Type of Graduation/Post Graduation Marital status  \\\n",
       "0  parida  25  Female            Masters in data science      Unmarried   \n",
       "\n",
       "  Mode of interview given by candidate?  \\\n",
       "0                                Mobile   \n",
       "\n",
       "            Fluency in English based on introduction  \\\n",
       "0  Able to speak sentences in a clear/coherent wa...   \n",
       "\n",
       "  Acquaintance and Referral  \\\n",
       "0                        No   \n",
       "\n",
       "                                    Candidate Status Last Fixed CTC (lakhs)   \\\n",
       "0  Experienced in non client facing(equal to or m...                  5-5.99   \n",
       "\n",
       "   ... Structured Thinking( Call pitch).1  \\\n",
       "0  ...                                  2   \n",
       "\n",
       "  Regional fluency based on the topic given  .1  \\\n",
       "0                                             1   \n",
       "\n",
       "  Regional fluency Based on the PPT Question.1  \\\n",
       "0                                          1.0   \n",
       "\n",
       "  Regional fluency based on the  sales scenario.1 Confidence Score  \\\n",
       "0                                             1.0               11   \n",
       "\n",
       "  Structured Thinking Score Regional Fluency Score Total Score  \\\n",
       "0                         7                      3          42   \n",
       "\n",
       "  Whether joined the company or not id  \n",
       "0                                No  0  \n",
       "\n",
       "[1 rows x 40 columns]"
      ]
     },
     "execution_count": 19,
     "metadata": {},
     "output_type": "execute_result"
    }
   ],
   "source": [
    "df.head(1)"
   ]
  },
  {
   "cell_type": "code",
   "execution_count": 20,
   "id": "3e175625-925f-4b18-a308-0a1f21aa23df",
   "metadata": {},
   "outputs": [
    {
     "data": {
      "text/plain": [
       "Index(['Name', 'Age', 'Gender', 'Type of Graduation/Post Graduation',\n",
       "       'Marital status', 'Mode of interview given by candidate?',\n",
       "       'Fluency in English based on introduction', 'Acquaintance and Referral',\n",
       "       'Candidate Status', 'Last Fixed CTC (lakhs) ', 'Currently Employed',\n",
       "       'Experienced candidate - (Experience in months)',\n",
       "       'Experienced Candidate (Nature of work)', 'What was the type of Role?',\n",
       "       'Call-pitch Elements used during the call Sales Scenario',\n",
       "       'But, my child's exam are going on now, so we will keep the counselling session after the exams get over',\n",
       "       'Let me discuss it with my child',\n",
       "       'Sir being in education industry I know this is a marketing gimmick and at the end of the day you'll be selling the app.',\n",
       "       'Role acceptance', 'Interview Verdict',\n",
       "       'Candidate is willing to relocate',\n",
       "       'Role Location to be given to the candidate', 'Comments',\n",
       "       'RedFlags Comments in Interview',\n",
       "       'Confidence based on Introduction (English).1',\n",
       "       'Confidence based on the topic given  .1',\n",
       "       'Confidence Based on the PPT Question.1',\n",
       "       'Confidence based on the sales scenario.1',\n",
       "       'Structured Thinking (In regional only).1',\n",
       "       'Structured Thinking Based on the PPT Question.1',\n",
       "       'Structured Thinking( Call pitch).1',\n",
       "       'Regional fluency based on the topic given  .1',\n",
       "       'Regional fluency Based on the PPT Question.1',\n",
       "       'Regional fluency based on the  sales scenario.1', 'Confidence Score',\n",
       "       'Structured Thinking Score', 'Regional Fluency Score', 'Total Score',\n",
       "       'Whether joined the company or not', 'id'],\n",
       "      dtype='object')"
      ]
     },
     "execution_count": 20,
     "metadata": {},
     "output_type": "execute_result"
    }
   ],
   "source": [
    "df.columns"
   ]
  },
  {
   "cell_type": "code",
   "execution_count": 21,
   "id": "f871b0fe-7cdf-420b-9c0e-c2b91f2a4898",
   "metadata": {},
   "outputs": [],
   "source": [
    "df['Whether joined the company or not'] = df['Whether joined the company or not'].replace({'Joined':'Yes', 'Not Joined':'No'})\n",
    "df['Whether joined the company or not'] = df['Whether joined the company or not'].map({'Yes': 1, 'No': 0}).astype(int)"
   ]
  },
  {
   "cell_type": "code",
   "execution_count": 22,
   "id": "ad685e46-6944-41ba-9407-5cb3f8454c3c",
   "metadata": {},
   "outputs": [],
   "source": [
    "numerical_df = df.copy()\n",
    "numerical_df.drop(['Name',\n",
    "                   'Comments',\n",
    "                   'RedFlags Comments in Interview',\n",
    "                   'Whether joined the company or not'], axis=1, inplace=True)"
   ]
  },
  {
   "cell_type": "code",
   "execution_count": 23,
   "id": "16586004-5963-4068-b4b7-a81fc4fae504",
   "metadata": {},
   "outputs": [],
   "source": [
    "df = df[['Name',\n",
    "         'Comments',\n",
    "         'RedFlags Comments in Interview',\n",
    "         'Whether joined the company or not'\n",
    "        ]]"
   ]
  },
  {
   "cell_type": "code",
   "execution_count": 24,
   "id": "21f8fd63-1467-47b3-ab9d-0cd346a90a4b",
   "metadata": {},
   "outputs": [
    {
     "data": {
      "text/html": [
       "<style>#sk-container-id-1 {\n",
       "  /* Definition of color scheme common for light and dark mode */\n",
       "  --sklearn-color-text: black;\n",
       "  --sklearn-color-line: gray;\n",
       "  /* Definition of color scheme for unfitted estimators */\n",
       "  --sklearn-color-unfitted-level-0: #fff5e6;\n",
       "  --sklearn-color-unfitted-level-1: #f6e4d2;\n",
       "  --sklearn-color-unfitted-level-2: #ffe0b3;\n",
       "  --sklearn-color-unfitted-level-3: chocolate;\n",
       "  /* Definition of color scheme for fitted estimators */\n",
       "  --sklearn-color-fitted-level-0: #f0f8ff;\n",
       "  --sklearn-color-fitted-level-1: #d4ebff;\n",
       "  --sklearn-color-fitted-level-2: #b3dbfd;\n",
       "  --sklearn-color-fitted-level-3: cornflowerblue;\n",
       "\n",
       "  /* Specific color for light theme */\n",
       "  --sklearn-color-text-on-default-background: var(--sg-text-color, var(--theme-code-foreground, var(--jp-content-font-color1, black)));\n",
       "  --sklearn-color-background: var(--sg-background-color, var(--theme-background, var(--jp-layout-color0, white)));\n",
       "  --sklearn-color-border-box: var(--sg-text-color, var(--theme-code-foreground, var(--jp-content-font-color1, black)));\n",
       "  --sklearn-color-icon: #696969;\n",
       "\n",
       "  @media (prefers-color-scheme: dark) {\n",
       "    /* Redefinition of color scheme for dark theme */\n",
       "    --sklearn-color-text-on-default-background: var(--sg-text-color, var(--theme-code-foreground, var(--jp-content-font-color1, white)));\n",
       "    --sklearn-color-background: var(--sg-background-color, var(--theme-background, var(--jp-layout-color0, #111)));\n",
       "    --sklearn-color-border-box: var(--sg-text-color, var(--theme-code-foreground, var(--jp-content-font-color1, white)));\n",
       "    --sklearn-color-icon: #878787;\n",
       "  }\n",
       "}\n",
       "\n",
       "#sk-container-id-1 {\n",
       "  color: var(--sklearn-color-text);\n",
       "}\n",
       "\n",
       "#sk-container-id-1 pre {\n",
       "  padding: 0;\n",
       "}\n",
       "\n",
       "#sk-container-id-1 input.sk-hidden--visually {\n",
       "  border: 0;\n",
       "  clip: rect(1px 1px 1px 1px);\n",
       "  clip: rect(1px, 1px, 1px, 1px);\n",
       "  height: 1px;\n",
       "  margin: -1px;\n",
       "  overflow: hidden;\n",
       "  padding: 0;\n",
       "  position: absolute;\n",
       "  width: 1px;\n",
       "}\n",
       "\n",
       "#sk-container-id-1 div.sk-dashed-wrapped {\n",
       "  border: 1px dashed var(--sklearn-color-line);\n",
       "  margin: 0 0.4em 0.5em 0.4em;\n",
       "  box-sizing: border-box;\n",
       "  padding-bottom: 0.4em;\n",
       "  background-color: var(--sklearn-color-background);\n",
       "}\n",
       "\n",
       "#sk-container-id-1 div.sk-container {\n",
       "  /* jupyter's `normalize.less` sets `[hidden] { display: none; }`\n",
       "     but bootstrap.min.css set `[hidden] { display: none !important; }`\n",
       "     so we also need the `!important` here to be able to override the\n",
       "     default hidden behavior on the sphinx rendered scikit-learn.org.\n",
       "     See: https://github.com/scikit-learn/scikit-learn/issues/21755 */\n",
       "  display: inline-block !important;\n",
       "  position: relative;\n",
       "}\n",
       "\n",
       "#sk-container-id-1 div.sk-text-repr-fallback {\n",
       "  display: none;\n",
       "}\n",
       "\n",
       "div.sk-parallel-item,\n",
       "div.sk-serial,\n",
       "div.sk-item {\n",
       "  /* draw centered vertical line to link estimators */\n",
       "  background-image: linear-gradient(var(--sklearn-color-text-on-default-background), var(--sklearn-color-text-on-default-background));\n",
       "  background-size: 2px 100%;\n",
       "  background-repeat: no-repeat;\n",
       "  background-position: center center;\n",
       "}\n",
       "\n",
       "/* Parallel-specific style estimator block */\n",
       "\n",
       "#sk-container-id-1 div.sk-parallel-item::after {\n",
       "  content: \"\";\n",
       "  width: 100%;\n",
       "  border-bottom: 2px solid var(--sklearn-color-text-on-default-background);\n",
       "  flex-grow: 1;\n",
       "}\n",
       "\n",
       "#sk-container-id-1 div.sk-parallel {\n",
       "  display: flex;\n",
       "  align-items: stretch;\n",
       "  justify-content: center;\n",
       "  background-color: var(--sklearn-color-background);\n",
       "  position: relative;\n",
       "}\n",
       "\n",
       "#sk-container-id-1 div.sk-parallel-item {\n",
       "  display: flex;\n",
       "  flex-direction: column;\n",
       "}\n",
       "\n",
       "#sk-container-id-1 div.sk-parallel-item:first-child::after {\n",
       "  align-self: flex-end;\n",
       "  width: 50%;\n",
       "}\n",
       "\n",
       "#sk-container-id-1 div.sk-parallel-item:last-child::after {\n",
       "  align-self: flex-start;\n",
       "  width: 50%;\n",
       "}\n",
       "\n",
       "#sk-container-id-1 div.sk-parallel-item:only-child::after {\n",
       "  width: 0;\n",
       "}\n",
       "\n",
       "/* Serial-specific style estimator block */\n",
       "\n",
       "#sk-container-id-1 div.sk-serial {\n",
       "  display: flex;\n",
       "  flex-direction: column;\n",
       "  align-items: center;\n",
       "  background-color: var(--sklearn-color-background);\n",
       "  padding-right: 1em;\n",
       "  padding-left: 1em;\n",
       "}\n",
       "\n",
       "\n",
       "/* Toggleable style: style used for estimator/Pipeline/ColumnTransformer box that is\n",
       "clickable and can be expanded/collapsed.\n",
       "- Pipeline and ColumnTransformer use this feature and define the default style\n",
       "- Estimators will overwrite some part of the style using the `sk-estimator` class\n",
       "*/\n",
       "\n",
       "/* Pipeline and ColumnTransformer style (default) */\n",
       "\n",
       "#sk-container-id-1 div.sk-toggleable {\n",
       "  /* Default theme specific background. It is overwritten whether we have a\n",
       "  specific estimator or a Pipeline/ColumnTransformer */\n",
       "  background-color: var(--sklearn-color-background);\n",
       "}\n",
       "\n",
       "/* Toggleable label */\n",
       "#sk-container-id-1 label.sk-toggleable__label {\n",
       "  cursor: pointer;\n",
       "  display: block;\n",
       "  width: 100%;\n",
       "  margin-bottom: 0;\n",
       "  padding: 0.5em;\n",
       "  box-sizing: border-box;\n",
       "  text-align: center;\n",
       "}\n",
       "\n",
       "#sk-container-id-1 label.sk-toggleable__label-arrow:before {\n",
       "  /* Arrow on the left of the label */\n",
       "  content: \"▸\";\n",
       "  float: left;\n",
       "  margin-right: 0.25em;\n",
       "  color: var(--sklearn-color-icon);\n",
       "}\n",
       "\n",
       "#sk-container-id-1 label.sk-toggleable__label-arrow:hover:before {\n",
       "  color: var(--sklearn-color-text);\n",
       "}\n",
       "\n",
       "/* Toggleable content - dropdown */\n",
       "\n",
       "#sk-container-id-1 div.sk-toggleable__content {\n",
       "  max-height: 0;\n",
       "  max-width: 0;\n",
       "  overflow: hidden;\n",
       "  text-align: left;\n",
       "  /* unfitted */\n",
       "  background-color: var(--sklearn-color-unfitted-level-0);\n",
       "}\n",
       "\n",
       "#sk-container-id-1 div.sk-toggleable__content.fitted {\n",
       "  /* fitted */\n",
       "  background-color: var(--sklearn-color-fitted-level-0);\n",
       "}\n",
       "\n",
       "#sk-container-id-1 div.sk-toggleable__content pre {\n",
       "  margin: 0.2em;\n",
       "  border-radius: 0.25em;\n",
       "  color: var(--sklearn-color-text);\n",
       "  /* unfitted */\n",
       "  background-color: var(--sklearn-color-unfitted-level-0);\n",
       "}\n",
       "\n",
       "#sk-container-id-1 div.sk-toggleable__content.fitted pre {\n",
       "  /* unfitted */\n",
       "  background-color: var(--sklearn-color-fitted-level-0);\n",
       "}\n",
       "\n",
       "#sk-container-id-1 input.sk-toggleable__control:checked~div.sk-toggleable__content {\n",
       "  /* Expand drop-down */\n",
       "  max-height: 200px;\n",
       "  max-width: 100%;\n",
       "  overflow: auto;\n",
       "}\n",
       "\n",
       "#sk-container-id-1 input.sk-toggleable__control:checked~label.sk-toggleable__label-arrow:before {\n",
       "  content: \"▾\";\n",
       "}\n",
       "\n",
       "/* Pipeline/ColumnTransformer-specific style */\n",
       "\n",
       "#sk-container-id-1 div.sk-label input.sk-toggleable__control:checked~label.sk-toggleable__label {\n",
       "  color: var(--sklearn-color-text);\n",
       "  background-color: var(--sklearn-color-unfitted-level-2);\n",
       "}\n",
       "\n",
       "#sk-container-id-1 div.sk-label.fitted input.sk-toggleable__control:checked~label.sk-toggleable__label {\n",
       "  background-color: var(--sklearn-color-fitted-level-2);\n",
       "}\n",
       "\n",
       "/* Estimator-specific style */\n",
       "\n",
       "/* Colorize estimator box */\n",
       "#sk-container-id-1 div.sk-estimator input.sk-toggleable__control:checked~label.sk-toggleable__label {\n",
       "  /* unfitted */\n",
       "  background-color: var(--sklearn-color-unfitted-level-2);\n",
       "}\n",
       "\n",
       "#sk-container-id-1 div.sk-estimator.fitted input.sk-toggleable__control:checked~label.sk-toggleable__label {\n",
       "  /* fitted */\n",
       "  background-color: var(--sklearn-color-fitted-level-2);\n",
       "}\n",
       "\n",
       "#sk-container-id-1 div.sk-label label.sk-toggleable__label,\n",
       "#sk-container-id-1 div.sk-label label {\n",
       "  /* The background is the default theme color */\n",
       "  color: var(--sklearn-color-text-on-default-background);\n",
       "}\n",
       "\n",
       "/* On hover, darken the color of the background */\n",
       "#sk-container-id-1 div.sk-label:hover label.sk-toggleable__label {\n",
       "  color: var(--sklearn-color-text);\n",
       "  background-color: var(--sklearn-color-unfitted-level-2);\n",
       "}\n",
       "\n",
       "/* Label box, darken color on hover, fitted */\n",
       "#sk-container-id-1 div.sk-label.fitted:hover label.sk-toggleable__label.fitted {\n",
       "  color: var(--sklearn-color-text);\n",
       "  background-color: var(--sklearn-color-fitted-level-2);\n",
       "}\n",
       "\n",
       "/* Estimator label */\n",
       "\n",
       "#sk-container-id-1 div.sk-label label {\n",
       "  font-family: monospace;\n",
       "  font-weight: bold;\n",
       "  display: inline-block;\n",
       "  line-height: 1.2em;\n",
       "}\n",
       "\n",
       "#sk-container-id-1 div.sk-label-container {\n",
       "  text-align: center;\n",
       "}\n",
       "\n",
       "/* Estimator-specific */\n",
       "#sk-container-id-1 div.sk-estimator {\n",
       "  font-family: monospace;\n",
       "  border: 1px dotted var(--sklearn-color-border-box);\n",
       "  border-radius: 0.25em;\n",
       "  box-sizing: border-box;\n",
       "  margin-bottom: 0.5em;\n",
       "  /* unfitted */\n",
       "  background-color: var(--sklearn-color-unfitted-level-0);\n",
       "}\n",
       "\n",
       "#sk-container-id-1 div.sk-estimator.fitted {\n",
       "  /* fitted */\n",
       "  background-color: var(--sklearn-color-fitted-level-0);\n",
       "}\n",
       "\n",
       "/* on hover */\n",
       "#sk-container-id-1 div.sk-estimator:hover {\n",
       "  /* unfitted */\n",
       "  background-color: var(--sklearn-color-unfitted-level-2);\n",
       "}\n",
       "\n",
       "#sk-container-id-1 div.sk-estimator.fitted:hover {\n",
       "  /* fitted */\n",
       "  background-color: var(--sklearn-color-fitted-level-2);\n",
       "}\n",
       "\n",
       "/* Specification for estimator info (e.g. \"i\" and \"?\") */\n",
       "\n",
       "/* Common style for \"i\" and \"?\" */\n",
       "\n",
       ".sk-estimator-doc-link,\n",
       "a:link.sk-estimator-doc-link,\n",
       "a:visited.sk-estimator-doc-link {\n",
       "  float: right;\n",
       "  font-size: smaller;\n",
       "  line-height: 1em;\n",
       "  font-family: monospace;\n",
       "  background-color: var(--sklearn-color-background);\n",
       "  border-radius: 1em;\n",
       "  height: 1em;\n",
       "  width: 1em;\n",
       "  text-decoration: none !important;\n",
       "  margin-left: 1ex;\n",
       "  /* unfitted */\n",
       "  border: var(--sklearn-color-unfitted-level-1) 1pt solid;\n",
       "  color: var(--sklearn-color-unfitted-level-1);\n",
       "}\n",
       "\n",
       ".sk-estimator-doc-link.fitted,\n",
       "a:link.sk-estimator-doc-link.fitted,\n",
       "a:visited.sk-estimator-doc-link.fitted {\n",
       "  /* fitted */\n",
       "  border: var(--sklearn-color-fitted-level-1) 1pt solid;\n",
       "  color: var(--sklearn-color-fitted-level-1);\n",
       "}\n",
       "\n",
       "/* On hover */\n",
       "div.sk-estimator:hover .sk-estimator-doc-link:hover,\n",
       ".sk-estimator-doc-link:hover,\n",
       "div.sk-label-container:hover .sk-estimator-doc-link:hover,\n",
       ".sk-estimator-doc-link:hover {\n",
       "  /* unfitted */\n",
       "  background-color: var(--sklearn-color-unfitted-level-3);\n",
       "  color: var(--sklearn-color-background);\n",
       "  text-decoration: none;\n",
       "}\n",
       "\n",
       "div.sk-estimator.fitted:hover .sk-estimator-doc-link.fitted:hover,\n",
       ".sk-estimator-doc-link.fitted:hover,\n",
       "div.sk-label-container:hover .sk-estimator-doc-link.fitted:hover,\n",
       ".sk-estimator-doc-link.fitted:hover {\n",
       "  /* fitted */\n",
       "  background-color: var(--sklearn-color-fitted-level-3);\n",
       "  color: var(--sklearn-color-background);\n",
       "  text-decoration: none;\n",
       "}\n",
       "\n",
       "/* Span, style for the box shown on hovering the info icon */\n",
       ".sk-estimator-doc-link span {\n",
       "  display: none;\n",
       "  z-index: 9999;\n",
       "  position: relative;\n",
       "  font-weight: normal;\n",
       "  right: .2ex;\n",
       "  padding: .5ex;\n",
       "  margin: .5ex;\n",
       "  width: min-content;\n",
       "  min-width: 20ex;\n",
       "  max-width: 50ex;\n",
       "  color: var(--sklearn-color-text);\n",
       "  box-shadow: 2pt 2pt 4pt #999;\n",
       "  /* unfitted */\n",
       "  background: var(--sklearn-color-unfitted-level-0);\n",
       "  border: .5pt solid var(--sklearn-color-unfitted-level-3);\n",
       "}\n",
       "\n",
       ".sk-estimator-doc-link.fitted span {\n",
       "  /* fitted */\n",
       "  background: var(--sklearn-color-fitted-level-0);\n",
       "  border: var(--sklearn-color-fitted-level-3);\n",
       "}\n",
       "\n",
       ".sk-estimator-doc-link:hover span {\n",
       "  display: block;\n",
       "}\n",
       "\n",
       "/* \"?\"-specific style due to the `<a>` HTML tag */\n",
       "\n",
       "#sk-container-id-1 a.estimator_doc_link {\n",
       "  float: right;\n",
       "  font-size: 1rem;\n",
       "  line-height: 1em;\n",
       "  font-family: monospace;\n",
       "  background-color: var(--sklearn-color-background);\n",
       "  border-radius: 1rem;\n",
       "  height: 1rem;\n",
       "  width: 1rem;\n",
       "  text-decoration: none;\n",
       "  /* unfitted */\n",
       "  color: var(--sklearn-color-unfitted-level-1);\n",
       "  border: var(--sklearn-color-unfitted-level-1) 1pt solid;\n",
       "}\n",
       "\n",
       "#sk-container-id-1 a.estimator_doc_link.fitted {\n",
       "  /* fitted */\n",
       "  border: var(--sklearn-color-fitted-level-1) 1pt solid;\n",
       "  color: var(--sklearn-color-fitted-level-1);\n",
       "}\n",
       "\n",
       "/* On hover */\n",
       "#sk-container-id-1 a.estimator_doc_link:hover {\n",
       "  /* unfitted */\n",
       "  background-color: var(--sklearn-color-unfitted-level-3);\n",
       "  color: var(--sklearn-color-background);\n",
       "  text-decoration: none;\n",
       "}\n",
       "\n",
       "#sk-container-id-1 a.estimator_doc_link.fitted:hover {\n",
       "  /* fitted */\n",
       "  background-color: var(--sklearn-color-fitted-level-3);\n",
       "}\n",
       "</style><div id=\"sk-container-id-1\" class=\"sk-top-container\"><div class=\"sk-text-repr-fallback\"><pre>LabelEncoder()</pre><b>In a Jupyter environment, please rerun this cell to show the HTML representation or trust the notebook. <br />On GitHub, the HTML representation is unable to render, please try loading this page with nbviewer.org.</b></div><div class=\"sk-container\" hidden><div class=\"sk-item\"><div class=\"sk-estimator  sk-toggleable\"><input class=\"sk-toggleable__control sk-hidden--visually\" id=\"sk-estimator-id-1\" type=\"checkbox\" checked><label for=\"sk-estimator-id-1\" class=\"sk-toggleable__label  sk-toggleable__label-arrow \">&nbsp;&nbsp;LabelEncoder<a class=\"sk-estimator-doc-link \" rel=\"noreferrer\" target=\"_blank\" href=\"https://scikit-learn.org/1.5/modules/generated/sklearn.preprocessing.LabelEncoder.html\">?<span>Documentation for LabelEncoder</span></a><span class=\"sk-estimator-doc-link \">i<span>Not fitted</span></span></label><div class=\"sk-toggleable__content \"><pre>LabelEncoder()</pre></div> </div></div></div></div>"
      ],
      "text/plain": [
       "LabelEncoder()"
      ]
     },
     "execution_count": 24,
     "metadata": {},
     "output_type": "execute_result"
    }
   ],
   "source": [
    "le = LabelEncoder()\n",
    "le"
   ]
  },
  {
   "cell_type": "code",
   "execution_count": 25,
   "id": "be174961-a2b9-4f96-9c37-e9f4ada7360b",
   "metadata": {},
   "outputs": [],
   "source": [
    "numerical_df['Type of Graduation/Post Graduation'] = numerical_df['Type of Graduation/Post Graduation'].apply(categorize_education)"
   ]
  },
  {
   "cell_type": "code",
   "execution_count": 26,
   "id": "032d96b8-7c41-41e1-9fd1-253f1bb38372",
   "metadata": {},
   "outputs": [
    {
     "data": {
      "text/plain": [
       "array(['tech', 'Fresher(<6 months)', 'Sales numbers', ...,\n",
       "       'Sales numbers, HOTEL MANAGEMENT', 'weekly targets', 'networking'],\n",
       "      dtype=object)"
      ]
     },
     "execution_count": 26,
     "metadata": {},
     "output_type": "execute_result"
    }
   ],
   "source": [
    "numerical_df['Experienced Candidate (Nature of work)'].unique()"
   ]
  },
  {
   "cell_type": "code",
   "execution_count": 27,
   "id": "d150e1d4-404e-4970-a1d4-0de0f51a10f2",
   "metadata": {},
   "outputs": [],
   "source": [
    "job_category_mapping = {\n",
    "    'tech': 'Technology', 'tech job ': 'Technology', 'in  tech job ': 'Technology',\n",
    "    'software ': 'Technology', 'software testor': 'Technology', 'IT RELATED WORK': 'Technology',\n",
    "    'application support ': 'Technology', 'tech support ': 'Technology',\n",
    "    'Junior software engineer - Providing a task.': 'Technology', 'business analyst': 'Technology',\n",
    "    'BACKEND ': 'Technology',\n",
    "\n",
    "    'Sales numbers': 'Sales & Marketing', 'Call time, Sales numbers': 'Sales & Marketing',\n",
    "    'Sales numbers, Customer visits': 'Sales & Marketing',\n",
    "    'Call time, Sales numbers, Customer visits': 'Sales & Marketing',\n",
    "    'Call time, Sales numbers, Customer visits, working hours': 'Sales & Marketing',\n",
    "    'marketing ': 'Sales & Marketing', 'Lead generation ': 'Sales & Marketing',\n",
    "    'sales ': 'Sales & Marketing', 'CSAT Traget': 'Sales & Marketing',\n",
    "    'Marketing and HR': 'Sales & Marketing', 'Call time': 'Sales & Marketing',\n",
    "    'Call time, Customer visits': 'Sales & Marketing', \n",
    "    'Call time, Customer visits, working hours': 'Sales & Marketing',\n",
    "\n",
    "    'working hours': 'Operations & Management', 'Operations': 'Operations & Management',\n",
    "    'opertaional': 'Operations & Management', 'operation': 'Operations & Management',\n",
    "    'data and operations ': 'Operations & Management',\n",
    "    'maintaining data and client meeting ': 'Operations & Management',\n",
    "    'targets regarding joinees ': 'Operations & Management', \n",
    "    'manpower managmeny': 'Operations & Management',\n",
    "    'data entry': 'Operations & Management', 'Customer visits, working hours': 'Operations & Management',\n",
    "\n",
    "    'finance': 'Finance & Accounting', 'finance ': 'Finance & Accounting',\n",
    "    'finance of tv and mobiles, ': 'Finance & Accounting', 'Accounts': 'Finance & Accounting',\n",
    "    'complete and file itr under timeline': 'Finance & Accounting',\n",
    "    'Details of stocks': 'Finance & Accounting',\n",
    "\n",
    "    'Teaching': 'Teaching & Education', 'teaching': 'Teaching & Education',\n",
    "    'TEACHING': 'Teaching & Education', 'TEACHING ': 'Teaching & Education',\n",
    "    'tEACHER': 'Teaching & Education', 'teaching roles': 'Teaching & Education',\n",
    "\n",
    "    'quality check': 'Manufacturing & Engineering', 'quality checking': 'Manufacturing & Engineering',\n",
    "    'trade fitter 2 years': 'Manufacturing & Engineering', 'mech field trainee and had a team': 'Manufacturing & Engineering',\n",
    "    'civil engineering': 'Manufacturing & Engineering', 'civil engg cdt, some client handling ': 'Manufacturing & Engineering',\n",
    "    'engg': 'Manufacturing & Engineering', 'geolist engineering ': 'Manufacturing & Engineering',\n",
    "\n",
    "    'customer feeback': 'Customer Support & Service', 'customer service ': 'Customer Support & Service',\n",
    "    'resolve queries': 'Customer Support & Service', \"SOLVING CANDIDATE'S ISSUES\": 'Customer Support & Service',\n",
    "\n",
    "    'Market research': 'Research & Analysis', 'how he is gathering information': 'Research & Analysis',\n",
    "    'analyzing work': 'Research & Analysis', 'validation work': 'Research & Analysis',\n",
    "\n",
    "    'CLIENTS BROUGHT TO THE CO': 'Human Resources',\n",
    "\n",
    "    'Fresher(<6 months)': 'Other', 'Fresher': 'Other', 'FRESHER': 'Other',\n",
    "    'Fresher(<6 months), Operation': 'Other', 'MeetINGs': 'Other', 'Meetings': 'Other',\n",
    "    'other': 'Other', 'others': 'Other', 'email': 'Other', 'na': 'Other', 'Na': 'Other', '.': 'Other',\n",
    "    'No targets': 'Other', 'no targets ': 'Other', 'no target': 'Other', 'No targets ': 'Other',\n",
    "    'No Targets': 'Other', 'Non Target Oriented Role': 'Other', 'no  ': 'Other'\n",
    "}\n"
   ]
  },
  {
   "cell_type": "code",
   "execution_count": 28,
   "id": "453bd6f2-386b-4acf-86ec-891c04accde9",
   "metadata": {},
   "outputs": [],
   "source": [
    "#mapping & \"Other\" to unknown categories \n",
    "numerical_df['Experienced Candidate (Nature of work)'] = numerical_df['Experienced Candidate (Nature of work)'].map(job_category_mapping).fillna('Other') "
   ]
  },
  {
   "cell_type": "code",
   "execution_count": 29,
   "id": "94204041-6d30-4de5-9b9e-75be46c6d8e7",
   "metadata": {},
   "outputs": [
    {
     "data": {
      "text/plain": [
       "Experienced Candidate (Nature of work)\n",
       "Other                          15012\n",
       "Sales & Marketing               2605\n",
       "Operations & Management          830\n",
       "Teaching & Education             143\n",
       "Technology                        44\n",
       "Finance & Accounting              22\n",
       "Manufacturing & Engineering       15\n",
       "Customer Support & Service         5\n",
       "Research & Analysis                4\n",
       "Human Resources                    1\n",
       "Name: count, dtype: int64"
      ]
     },
     "execution_count": 29,
     "metadata": {},
     "output_type": "execute_result"
    }
   ],
   "source": [
    "numerical_df['Experienced Candidate (Nature of work)'].value_counts()"
   ]
  },
  {
   "cell_type": "code",
   "execution_count": 30,
   "id": "de27f263-c9bf-4578-b81b-f514023146d4",
   "metadata": {},
   "outputs": [],
   "source": [
    "call_pitch_mapping = {\n",
    "    'Purpose of Call (Book a Counselling Session)': 'Purpose & Need Generation',\n",
    "\n",
    "    'Introduction (Self Intro,Company Name)': 'Introduction',\n",
    "\n",
    "    'Introduction (Self Intro,Company Name), Purpose of Call (Book a Counselling Session)': 'Purpose & Need Generation',\n",
    "\n",
    "    'Introduction (Self Intro,Company Name), Need Generation - By Asking ques like student class, performance etc..': 'Purpose & Need Generation',\n",
    "\n",
    "    'Rapport Building - Connect with Customer by asking ques like customer background, location, language, education etc.': 'Rapport Building',\n",
    "\n",
    "    'Need Generation - By Asking ques like student class, performance etc..': 'Purpose & Need Generation',\n",
    "\n",
    "    'Closing - Taking address / date / time from the customer to book a session': 'Closing',\n",
    "\n",
    "    'Urgency of the session  - Scholarship, CDT shortlisted from your area and so on.': 'Urgency Creation',\n",
    "\n",
    "    'None of the Above': 'Unknown/Unclear',\n",
    "    \"None of the Above / CDT Don't Know the Call Pitch\": 'Unknown/Unclear',\n",
    "    \"Introduction (Self Intro,Company Name), None of the Above / CDT Don't Know the Call Pitch\": 'Unknown/Unclear',\n",
    "    \"Rapport Building - Connect with Customer by asking ques like customer background, location, language, education etc., None of the Above / CDT Don't Know the Call Pitch\": 'Unknown/Unclear',\n",
    "\n",
    "    # Multi-component calls categorized under 'Multiple Components'\n",
    "    'Introduction (Self Intro,Company Name), Purpose of Call (Book a Counselling Session), Need Generation - By Asking ques like student class, performance etc..': 'Multiple Components',\n",
    "    \n",
    "    'Introduction (Self Intro,Company Name), Purpose of Call (Book a Counselling Session), Rapport Building - Connect with Customer by asking ques like customer background, location, language, education etc.': 'Multiple Components',\n",
    "\n",
    "    'Introduction (Self Intro,Company Name), Purpose of Call (Book a Counselling Session), Urgency of the session  - Scholarship, CDT shortlisted from your area and so on.': 'Multiple Components',\n",
    "\n",
    "    'Introduction (Self Intro,Company Name), Purpose of Call (Book a Counselling Session), Closing - Taking address / date / time from the customer to book a session': 'Multiple Components',\n",
    "\n",
    "    'Introduction (Self Intro,Company Name), Purpose of Call (Book a Counselling Session), Need Generation - By Asking ques like student class, performance etc.., Closing - Taking address / date / time from the customer to book a session': 'Multiple Components',\n",
    "\n",
    "    'Introduction (Self Intro,Company Name), Purpose of Call (Book a Counselling Session), Rapport Building - Connect with Customer by asking ques like customer background, location, language, education etc., Closing - Taking address / date / time from the customer to book a session': 'Multiple Components',\n",
    "\n",
    "    'Introduction (Self Intro,Company Name), Purpose of Call (Book a Counselling Session), Need Generation - By Asking ques like student class, performance etc.., Urgency of the session  - Scholarship, CDT shortlisted from your area and so on.': 'Multiple Components',\n",
    "\n",
    "    'Introduction (Self Intro,Company Name), Purpose of Call (Book a Counselling Session), Need Generation - By Asking ques like student class, performance etc.., Urgency of the session  - Scholarship, CDT shortlisted from your area and so on., Closing - Taking address / date / time from the customer to book a session': 'Multiple Components',\n",
    "\n",
    "    'Introduction (Self Intro,Company Name), Rapport Building - Connect with Customer by asking ques like customer background, location, language, education etc., Need Generation - By Asking ques like student class, performance etc..': 'Multiple Components',\n",
    "\n",
    "    'Introduction (Self Intro,Company Name), Rapport Building - Connect with Customer by asking ques like customer background, location, language, education etc., Need Generation - By Asking ques like student class, performance etc.., Closing - Taking address / date / time from the customer to book a session': 'Multiple Components',\n",
    "\n",
    "    'Purpose of Call (Book a Counselling Session), Rapport Building - Connect with Customer by asking ques like customer background, location, language, education etc., Need Generation - By Asking ques like student class, performance etc..': 'Multiple Components',\n",
    "\n",
    "    'Purpose of Call (Book a Counselling Session), Need Generation - By Asking ques like student class, performance etc.., Closing - Taking address / date / time from the customer to book a session': 'Multiple Components',\n",
    "\n",
    "    'Introduction (Self Intro,Company Name), Purpose of Call (Book a Counselling Session), Rapport Building - Connect with Customer by asking ques like customer background, location, language, education etc., Urgency of the session  - Scholarship, CDT shortlisted from your area and so on.': 'Multiple Components',\n",
    "\n",
    "    'Introduction (Self Intro,Company Name), Purpose of Call (Book a Counselling Session), Rapport Building - Connect with Customer by asking ques like customer background, location, language, education etc., Urgency of the session  - Scholarship, CDT shortlisted from your area and so on., Closing - Taking address / date / time from the customer to book a session': 'Multiple Components',\n",
    "\n",
    "    \"Introduction (Self Intro,Company Name), Purpose of Call (Book a Counselling Session), Need Generation - By Asking ques like student class, performance etc.., None of the Above / CDT Don't Know the Call Pitch\": 'Multiple Components',\n",
    "\n",
    "    'Introduction (Self Intro,Company Name), Rapport Building - Connect with Customer by asking ques like customer background, location, language, education etc., Urgency of the session  - Scholarship, CDT shortlisted from your area and so on.': 'Multiple Components',\n",
    "}"
   ]
  },
  {
   "cell_type": "code",
   "execution_count": 31,
   "id": "83fcf328-7fb4-4997-9c44-3e2b065e7a72",
   "metadata": {},
   "outputs": [],
   "source": [
    "numerical_df['Call-pitch Elements used during the call Sales Scenario'] = numerical_df['Call-pitch Elements used during the call Sales Scenario'].map(call_pitch_mapping).fillna('Other')"
   ]
  },
  {
   "cell_type": "code",
   "execution_count": 32,
   "id": "2cb46c76-9c35-4edb-b7a3-051411057448",
   "metadata": {},
   "outputs": [],
   "source": [
    "numerical_df['Call-pitch Elements used during the call Sales Scenario'] = le.fit_transform(numerical_df['Call-pitch Elements used during the call Sales Scenario'])"
   ]
  },
  {
   "cell_type": "code",
   "execution_count": 33,
   "id": "8d7c9cfd-b2c7-4002-8450-628629a0eac1",
   "metadata": {},
   "outputs": [
    {
     "data": {
      "text/plain": [
       "Call-pitch Elements used during the call Sales Scenario\n",
       "4    5505\n",
       "1    4406\n",
       "2    3671\n",
       "3    2783\n",
       "6    1973\n",
       "5     289\n",
       "0      31\n",
       "7      23\n",
       "Name: count, dtype: int64"
      ]
     },
     "execution_count": 33,
     "metadata": {},
     "output_type": "execute_result"
    }
   ],
   "source": [
    "numerical_df['Call-pitch Elements used during the call Sales Scenario'].value_counts()\n"
   ]
  },
  {
   "cell_type": "code",
   "execution_count": 34,
   "id": "b2655c28-360e-4838-ba97-05d35b202011",
   "metadata": {},
   "outputs": [],
   "source": [
    "numerical_df['Age'] = numerical_df['Age'].astype(str).str.replace('+', '', regex=False).astype(int)"
   ]
  },
  {
   "cell_type": "code",
   "execution_count": 35,
   "id": "9f9aa087-f45e-4570-8056-f0ef43c2d51f",
   "metadata": {},
   "outputs": [],
   "source": [
    "bins = [18, 22, 25, 28, 32, 35, float('inf')]\n",
    "labels = ['18-22', '23-25', '26-28', '29-32', '33-35', '35+']"
   ]
  },
  {
   "cell_type": "code",
   "execution_count": 36,
   "id": "fce64823-570e-4e11-ae74-4a43cb2e4dad",
   "metadata": {},
   "outputs": [],
   "source": [
    "numerical_df['Age'] = pd.cut(numerical_df['Age'], bins=bins, labels=labels, right=True)"
   ]
  },
  {
   "cell_type": "code",
   "execution_count": 37,
   "id": "138c9e24-6100-4d22-bd79-48f318ee6ce0",
   "metadata": {},
   "outputs": [
    {
     "data": {
      "text/plain": [
       "['23-25', '29-32', '26-28', '18-22']\n",
       "Categories (6, object): ['18-22' < '23-25' < '26-28' < '29-32' < '33-35' < '35+']"
      ]
     },
     "execution_count": 37,
     "metadata": {},
     "output_type": "execute_result"
    }
   ],
   "source": [
    "numerical_df['Age'].unique()"
   ]
  },
  {
   "cell_type": "code",
   "execution_count": 38,
   "id": "9cb75bb6-3985-4c55-8b11-9d8d0e8631fc",
   "metadata": {},
   "outputs": [],
   "source": [
    "numerical_df['Role Location to be given to the candidate'] = numerical_df['Role Location to be given to the candidate'].replace({'Inbound Bangalore':'Bangalore ', 'Bangalore ':'Bangalore'})"
   ]
  },
  {
   "cell_type": "code",
   "execution_count": 39,
   "id": "b787a2dc-381e-456b-9d4c-f533bf4216d2",
   "metadata": {},
   "outputs": [
    {
     "data": {
      "text/plain": [
       "array(['Fresher', 'Individual Contributor', 'Team Handling'], dtype=object)"
      ]
     },
     "execution_count": 39,
     "metadata": {},
     "output_type": "execute_result"
    }
   ],
   "source": [
    "numerical_df['What was the type of Role?'].unique()"
   ]
  },
  {
   "cell_type": "markdown",
   "id": "c74d020e-af46-49f3-ad38-5bb9bd20168d",
   "metadata": {},
   "source": [
    "## Label Encoding"
   ]
  },
  {
   "cell_type": "code",
   "execution_count": 41,
   "id": "c7b8a711-a3c1-487a-abd1-3f3f27db8eb5",
   "metadata": {},
   "outputs": [],
   "source": [
    "numerical_df['Gender'] = le.fit_transform(numerical_df['Gender'])"
   ]
  },
  {
   "cell_type": "code",
   "execution_count": 42,
   "id": "aa431f26-cb94-4117-8073-c9af317ad7e6",
   "metadata": {},
   "outputs": [],
   "source": [
    "numerical_df['Experienced Candidate (Nature of work)'] = le.fit_transform(numerical_df['Experienced Candidate (Nature of work)'])"
   ]
  },
  {
   "cell_type": "code",
   "execution_count": 43,
   "id": "c07114e7-303b-4df2-b7bb-77f8ea6ba70c",
   "metadata": {},
   "outputs": [],
   "source": [
    "numerical_df['Mode of interview given by candidate?'] = le.fit_transform(numerical_df['Mode of interview given by candidate?'])"
   ]
  },
  {
   "cell_type": "code",
   "execution_count": 44,
   "id": "7dd76c52-0503-4146-b261-93466ca85ee0",
   "metadata": {},
   "outputs": [],
   "source": [
    "numerical_df['Marital status'] = le.fit_transform(numerical_df['Marital status'])"
   ]
  },
  {
   "cell_type": "code",
   "execution_count": 45,
   "id": "2405e0f3-dc28-4d1d-ac86-b607b3c3886e",
   "metadata": {},
   "outputs": [],
   "source": [
    "numerical_df['Acquaintance and Referral'] = le.fit_transform(numerical_df['Acquaintance and Referral'])"
   ]
  },
  {
   "cell_type": "code",
   "execution_count": 46,
   "id": "97dac05e-fd87-4b5d-a188-213ff3ec695d",
   "metadata": {},
   "outputs": [],
   "source": [
    "numerical_df['Candidate Status'] = le.fit_transform(numerical_df['Candidate Status'])"
   ]
  },
  {
   "cell_type": "code",
   "execution_count": 47,
   "id": "c96eaff5-32ff-4453-94b5-5a871e71c095",
   "metadata": {},
   "outputs": [],
   "source": [
    "numerical_df['Currently Employed'] = le.fit_transform(numerical_df['Currently Employed'])"
   ]
  },
  {
   "cell_type": "markdown",
   "id": "18f80f7e-7109-4bd2-94c8-22257ef3bf76",
   "metadata": {},
   "source": [
    "## Ordinal and OneHot Encoding using Column Transformer"
   ]
  },
  {
   "cell_type": "code",
   "execution_count": 49,
   "id": "d3ea00cb-bf8b-4585-86bc-00bc902da815",
   "metadata": {},
   "outputs": [],
   "source": [
    "transformer = ColumnTransformer(transformers = [\n",
    "    ('t1', OrdinalEncoder(categories=[['No - Want Specific Centre Location Only','Yes - Anywhere Within a City','Yes - Anywhere Within a State','Yes - Anywhere in PAN India']]), ['Candidate is willing to relocate']),\n",
    "    ('t2', OrdinalEncoder(categories=[['No','Yes : Think and says yes.(Shows some hesitation)','Emphatic Yes']]), ['Role acceptance']),\n",
    "    ('t3', OrdinalEncoder(categories=[['Fresher(<6 months)','6-11.99 Months','12-17.99 Months','18-23.99 Months','24-29.99 Months','30-35.99 Months','36-47.99 Months','48+ Months']]), ['Experienced candidate - (Experience in months)']),\n",
    "    ('t4', OrdinalEncoder(categories=[['Reject','Borderline Reject','Borderline Select','Select','Premium Select']]), ['Interview Verdict']),\n",
    "    ('t5', OrdinalEncoder(categories=[['18-22','23-25','26-28','29-32']]), ['Age']),\n",
    "    ('t6', OrdinalEncoder(categories=[['Fresher','0-1.99','2-2.99','3-3.99','4-4.99','5-5.99','6-6.99','7+']]), ['Last Fixed CTC (lakhs) ']),\n",
    "    ('t7', OneHotEncoder(sparse_output=False, drop='first'), [\"Let me discuss it with my child\", \"Sir being in education industry I know this is a marketing gimmick and at the end of the day you'll be selling the app.\", 'Type of Graduation/Post Graduation', 'Fluency in English based on introduction', 'Role Location to be given to the candidate', 'What was the type of Role?', \"But, my child's exam are going on now, so we will keep the counselling session after the exams get over\"])\n",
    "], remainder='passthrough')"
   ]
  },
  {
   "cell_type": "code",
   "execution_count": 50,
   "id": "33b591db-0e55-4902-a68d-84a631a68959",
   "metadata": {},
   "outputs": [],
   "source": [
    "numerical_df = transformer.fit_transform(numerical_df)\n",
    "features_names = transformer.get_feature_names_out()\n",
    "numerical_df = pd.DataFrame(numerical_df, columns=features_names)"
   ]
  },
  {
   "cell_type": "code",
   "execution_count": 51,
   "id": "f4418362-631d-4e4b-99b2-523cd1246458",
   "metadata": {},
   "outputs": [
    {
     "data": {
      "text/html": [
       "<div>\n",
       "<style scoped>\n",
       "    .dataframe tbody tr th:only-of-type {\n",
       "        vertical-align: middle;\n",
       "    }\n",
       "\n",
       "    .dataframe tbody tr th {\n",
       "        vertical-align: top;\n",
       "    }\n",
       "\n",
       "    .dataframe thead th {\n",
       "        text-align: right;\n",
       "    }\n",
       "</style>\n",
       "<table border=\"1\" class=\"dataframe\">\n",
       "  <thead>\n",
       "    <tr style=\"text-align: right;\">\n",
       "      <th></th>\n",
       "      <th>t1__Candidate is willing to relocate</th>\n",
       "      <th>t2__Role acceptance</th>\n",
       "      <th>t3__Experienced candidate - (Experience in months)</th>\n",
       "      <th>t4__Interview Verdict</th>\n",
       "      <th>t5__Age</th>\n",
       "      <th>t6__Last Fixed CTC (lakhs)</th>\n",
       "      <th>t7__Let me discuss it with my child_Anticipation of objection from child's end:, Did not answer</th>\n",
       "      <th>t7__Let me discuss it with my child_Anticipation of objection from child's end:, None of the above</th>\n",
       "      <th>t7__Let me discuss it with my child_Asking questions:</th>\n",
       "      <th>t7__Let me discuss it with my child_Asking questions:, Anticipation of objection from child's end:</th>\n",
       "      <th>...</th>\n",
       "      <th>remainder__Structured Thinking Based on the PPT Question.1</th>\n",
       "      <th>remainder__Structured Thinking( Call pitch).1</th>\n",
       "      <th>remainder__Regional fluency based on the topic given  .1</th>\n",
       "      <th>remainder__Regional fluency Based on the PPT Question.1</th>\n",
       "      <th>remainder__Regional fluency based on the  sales scenario.1</th>\n",
       "      <th>remainder__Confidence Score</th>\n",
       "      <th>remainder__Structured Thinking Score</th>\n",
       "      <th>remainder__Regional Fluency Score</th>\n",
       "      <th>remainder__Total Score</th>\n",
       "      <th>remainder__id</th>\n",
       "    </tr>\n",
       "  </thead>\n",
       "  <tbody>\n",
       "    <tr>\n",
       "      <th>0</th>\n",
       "      <td>1.0</td>\n",
       "      <td>1.0</td>\n",
       "      <td>1.0</td>\n",
       "      <td>0.0</td>\n",
       "      <td>1.0</td>\n",
       "      <td>5.0</td>\n",
       "      <td>0.0</td>\n",
       "      <td>0.0</td>\n",
       "      <td>0.0</td>\n",
       "      <td>0.0</td>\n",
       "      <td>...</td>\n",
       "      <td>3.0</td>\n",
       "      <td>2.0</td>\n",
       "      <td>1.0</td>\n",
       "      <td>1.0</td>\n",
       "      <td>1.0</td>\n",
       "      <td>11.0</td>\n",
       "      <td>7.0</td>\n",
       "      <td>3.0</td>\n",
       "      <td>42.0</td>\n",
       "      <td>0.0</td>\n",
       "    </tr>\n",
       "    <tr>\n",
       "      <th>1</th>\n",
       "      <td>3.0</td>\n",
       "      <td>2.0</td>\n",
       "      <td>0.0</td>\n",
       "      <td>0.0</td>\n",
       "      <td>3.0</td>\n",
       "      <td>0.0</td>\n",
       "      <td>0.0</td>\n",
       "      <td>0.0</td>\n",
       "      <td>0.0</td>\n",
       "      <td>0.0</td>\n",
       "      <td>...</td>\n",
       "      <td>3.0</td>\n",
       "      <td>3.0</td>\n",
       "      <td>3.0</td>\n",
       "      <td>3.0</td>\n",
       "      <td>3.0</td>\n",
       "      <td>12.0</td>\n",
       "      <td>9.0</td>\n",
       "      <td>9.0</td>\n",
       "      <td>60.0</td>\n",
       "      <td>1.0</td>\n",
       "    </tr>\n",
       "    <tr>\n",
       "      <th>2</th>\n",
       "      <td>1.0</td>\n",
       "      <td>2.0</td>\n",
       "      <td>0.0</td>\n",
       "      <td>4.0</td>\n",
       "      <td>2.0</td>\n",
       "      <td>0.0</td>\n",
       "      <td>0.0</td>\n",
       "      <td>0.0</td>\n",
       "      <td>0.0</td>\n",
       "      <td>0.0</td>\n",
       "      <td>...</td>\n",
       "      <td>3.0</td>\n",
       "      <td>3.0</td>\n",
       "      <td>3.0</td>\n",
       "      <td>1.0</td>\n",
       "      <td>3.0</td>\n",
       "      <td>10.0</td>\n",
       "      <td>9.0</td>\n",
       "      <td>7.0</td>\n",
       "      <td>52.0</td>\n",
       "      <td>2.0</td>\n",
       "    </tr>\n",
       "    <tr>\n",
       "      <th>3</th>\n",
       "      <td>3.0</td>\n",
       "      <td>2.0</td>\n",
       "      <td>0.0</td>\n",
       "      <td>4.0</td>\n",
       "      <td>0.0</td>\n",
       "      <td>0.0</td>\n",
       "      <td>0.0</td>\n",
       "      <td>0.0</td>\n",
       "      <td>0.0</td>\n",
       "      <td>0.0</td>\n",
       "      <td>...</td>\n",
       "      <td>3.0</td>\n",
       "      <td>3.0</td>\n",
       "      <td>3.0</td>\n",
       "      <td>3.0</td>\n",
       "      <td>3.0</td>\n",
       "      <td>12.0</td>\n",
       "      <td>9.0</td>\n",
       "      <td>9.0</td>\n",
       "      <td>60.0</td>\n",
       "      <td>3.0</td>\n",
       "    </tr>\n",
       "    <tr>\n",
       "      <th>4</th>\n",
       "      <td>0.0</td>\n",
       "      <td>1.0</td>\n",
       "      <td>0.0</td>\n",
       "      <td>2.0</td>\n",
       "      <td>0.0</td>\n",
       "      <td>0.0</td>\n",
       "      <td>0.0</td>\n",
       "      <td>0.0</td>\n",
       "      <td>0.0</td>\n",
       "      <td>0.0</td>\n",
       "      <td>...</td>\n",
       "      <td>2.0</td>\n",
       "      <td>1.0</td>\n",
       "      <td>3.0</td>\n",
       "      <td>1.0</td>\n",
       "      <td>3.0</td>\n",
       "      <td>10.0</td>\n",
       "      <td>5.0</td>\n",
       "      <td>7.0</td>\n",
       "      <td>44.0</td>\n",
       "      <td>4.0</td>\n",
       "    </tr>\n",
       "  </tbody>\n",
       "</table>\n",
       "<p>5 rows × 271 columns</p>\n",
       "</div>"
      ],
      "text/plain": [
       "   t1__Candidate is willing to relocate  t2__Role acceptance  \\\n",
       "0                                   1.0                  1.0   \n",
       "1                                   3.0                  2.0   \n",
       "2                                   1.0                  2.0   \n",
       "3                                   3.0                  2.0   \n",
       "4                                   0.0                  1.0   \n",
       "\n",
       "   t3__Experienced candidate - (Experience in months)  t4__Interview Verdict  \\\n",
       "0                                                1.0                     0.0   \n",
       "1                                                0.0                     0.0   \n",
       "2                                                0.0                     4.0   \n",
       "3                                                0.0                     4.0   \n",
       "4                                                0.0                     2.0   \n",
       "\n",
       "   t5__Age  t6__Last Fixed CTC (lakhs)   \\\n",
       "0      1.0                          5.0   \n",
       "1      3.0                          0.0   \n",
       "2      2.0                          0.0   \n",
       "3      0.0                          0.0   \n",
       "4      0.0                          0.0   \n",
       "\n",
       "   t7__Let me discuss it with my child_Anticipation of objection from child's end:, Did not answer  \\\n",
       "0                                                0.0                                                 \n",
       "1                                                0.0                                                 \n",
       "2                                                0.0                                                 \n",
       "3                                                0.0                                                 \n",
       "4                                                0.0                                                 \n",
       "\n",
       "   t7__Let me discuss it with my child_Anticipation of objection from child's end:, None of the above  \\\n",
       "0                                                0.0                                                    \n",
       "1                                                0.0                                                    \n",
       "2                                                0.0                                                    \n",
       "3                                                0.0                                                    \n",
       "4                                                0.0                                                    \n",
       "\n",
       "   t7__Let me discuss it with my child_Asking questions:  \\\n",
       "0                                                0.0       \n",
       "1                                                0.0       \n",
       "2                                                0.0       \n",
       "3                                                0.0       \n",
       "4                                                0.0       \n",
       "\n",
       "   t7__Let me discuss it with my child_Asking questions:, Anticipation of objection from child's end:  \\\n",
       "0                                                0.0                                                    \n",
       "1                                                0.0                                                    \n",
       "2                                                0.0                                                    \n",
       "3                                                0.0                                                    \n",
       "4                                                0.0                                                    \n",
       "\n",
       "   ...  remainder__Structured Thinking Based on the PPT Question.1  \\\n",
       "0  ...                                                3.0            \n",
       "1  ...                                                3.0            \n",
       "2  ...                                                3.0            \n",
       "3  ...                                                3.0            \n",
       "4  ...                                                2.0            \n",
       "\n",
       "   remainder__Structured Thinking( Call pitch).1  \\\n",
       "0                                            2.0   \n",
       "1                                            3.0   \n",
       "2                                            3.0   \n",
       "3                                            3.0   \n",
       "4                                            1.0   \n",
       "\n",
       "   remainder__Regional fluency based on the topic given  .1  \\\n",
       "0                                                1.0          \n",
       "1                                                3.0          \n",
       "2                                                3.0          \n",
       "3                                                3.0          \n",
       "4                                                3.0          \n",
       "\n",
       "   remainder__Regional fluency Based on the PPT Question.1  \\\n",
       "0                                                1.0         \n",
       "1                                                3.0         \n",
       "2                                                1.0         \n",
       "3                                                3.0         \n",
       "4                                                1.0         \n",
       "\n",
       "   remainder__Regional fluency based on the  sales scenario.1  \\\n",
       "0                                                1.0            \n",
       "1                                                3.0            \n",
       "2                                                3.0            \n",
       "3                                                3.0            \n",
       "4                                                3.0            \n",
       "\n",
       "   remainder__Confidence Score  remainder__Structured Thinking Score  \\\n",
       "0                         11.0                                   7.0   \n",
       "1                         12.0                                   9.0   \n",
       "2                         10.0                                   9.0   \n",
       "3                         12.0                                   9.0   \n",
       "4                         10.0                                   5.0   \n",
       "\n",
       "   remainder__Regional Fluency Score  remainder__Total Score  remainder__id  \n",
       "0                                3.0                    42.0            0.0  \n",
       "1                                9.0                    60.0            1.0  \n",
       "2                                7.0                    52.0            2.0  \n",
       "3                                9.0                    60.0            3.0  \n",
       "4                                7.0                    44.0            4.0  \n",
       "\n",
       "[5 rows x 271 columns]"
      ]
     },
     "execution_count": 51,
     "metadata": {},
     "output_type": "execute_result"
    }
   ],
   "source": [
    "numerical_df.head(5)"
   ]
  },
  {
   "cell_type": "code",
   "execution_count": 52,
   "id": "190d7c9e-a8e6-44ef-bbcf-edab34993672",
   "metadata": {},
   "outputs": [
    {
     "data": {
      "text/plain": [
       "(18681, 271)"
      ]
     },
     "execution_count": 52,
     "metadata": {},
     "output_type": "execute_result"
    }
   ],
   "source": [
    "numerical_df.shape"
   ]
  },
  {
   "cell_type": "code",
   "execution_count": 53,
   "id": "c528c42d-0864-4a12-8a7d-2c57d334fe09",
   "metadata": {},
   "outputs": [
    {
     "data": {
      "text/plain": [
       "Index(['t1__Candidate is willing to relocate', 't2__Role acceptance',\n",
       "       't3__Experienced candidate - (Experience in months)',\n",
       "       't4__Interview Verdict', 't5__Age', 't6__Last Fixed CTC (lakhs) ',\n",
       "       't7__Let me discuss it with my child_Anticipation of objection from child's end:, Did not answer',\n",
       "       't7__Let me discuss it with my child_Anticipation of objection from child's end:, None of the above',\n",
       "       't7__Let me discuss it with my child_Asking questions:',\n",
       "       't7__Let me discuss it with my child_Asking questions:, Anticipation of objection from child's end:',\n",
       "       ...\n",
       "       'remainder__Structured Thinking Based on the PPT Question.1',\n",
       "       'remainder__Structured Thinking( Call pitch).1',\n",
       "       'remainder__Regional fluency based on the topic given  .1',\n",
       "       'remainder__Regional fluency Based on the PPT Question.1',\n",
       "       'remainder__Regional fluency based on the  sales scenario.1',\n",
       "       'remainder__Confidence Score', 'remainder__Structured Thinking Score',\n",
       "       'remainder__Regional Fluency Score', 'remainder__Total Score',\n",
       "       'remainder__id'],\n",
       "      dtype='object', length=271)"
      ]
     },
     "execution_count": 53,
     "metadata": {},
     "output_type": "execute_result"
    }
   ],
   "source": [
    "numerical_df.columns"
   ]
  },
  {
   "cell_type": "code",
   "execution_count": 54,
   "id": "7bdd614a-fad3-486b-b2d4-4623ba042334",
   "metadata": {},
   "outputs": [],
   "source": [
    "numerical_df.columns = numerical_df.columns.str.replace(r'^remainder__', '', regex=True)"
   ]
  },
  {
   "cell_type": "markdown",
   "id": "42d7ffce-8f2b-44aa-88f0-a1dc363ac789",
   "metadata": {},
   "source": [
    "## Feature Scaling"
   ]
  },
  {
   "cell_type": "code",
   "execution_count": 56,
   "id": "cf636909-067d-448a-80c2-7db729c6af71",
   "metadata": {},
   "outputs": [
    {
     "data": {
      "text/html": [
       "<style>#sk-container-id-2 {\n",
       "  /* Definition of color scheme common for light and dark mode */\n",
       "  --sklearn-color-text: black;\n",
       "  --sklearn-color-line: gray;\n",
       "  /* Definition of color scheme for unfitted estimators */\n",
       "  --sklearn-color-unfitted-level-0: #fff5e6;\n",
       "  --sklearn-color-unfitted-level-1: #f6e4d2;\n",
       "  --sklearn-color-unfitted-level-2: #ffe0b3;\n",
       "  --sklearn-color-unfitted-level-3: chocolate;\n",
       "  /* Definition of color scheme for fitted estimators */\n",
       "  --sklearn-color-fitted-level-0: #f0f8ff;\n",
       "  --sklearn-color-fitted-level-1: #d4ebff;\n",
       "  --sklearn-color-fitted-level-2: #b3dbfd;\n",
       "  --sklearn-color-fitted-level-3: cornflowerblue;\n",
       "\n",
       "  /* Specific color for light theme */\n",
       "  --sklearn-color-text-on-default-background: var(--sg-text-color, var(--theme-code-foreground, var(--jp-content-font-color1, black)));\n",
       "  --sklearn-color-background: var(--sg-background-color, var(--theme-background, var(--jp-layout-color0, white)));\n",
       "  --sklearn-color-border-box: var(--sg-text-color, var(--theme-code-foreground, var(--jp-content-font-color1, black)));\n",
       "  --sklearn-color-icon: #696969;\n",
       "\n",
       "  @media (prefers-color-scheme: dark) {\n",
       "    /* Redefinition of color scheme for dark theme */\n",
       "    --sklearn-color-text-on-default-background: var(--sg-text-color, var(--theme-code-foreground, var(--jp-content-font-color1, white)));\n",
       "    --sklearn-color-background: var(--sg-background-color, var(--theme-background, var(--jp-layout-color0, #111)));\n",
       "    --sklearn-color-border-box: var(--sg-text-color, var(--theme-code-foreground, var(--jp-content-font-color1, white)));\n",
       "    --sklearn-color-icon: #878787;\n",
       "  }\n",
       "}\n",
       "\n",
       "#sk-container-id-2 {\n",
       "  color: var(--sklearn-color-text);\n",
       "}\n",
       "\n",
       "#sk-container-id-2 pre {\n",
       "  padding: 0;\n",
       "}\n",
       "\n",
       "#sk-container-id-2 input.sk-hidden--visually {\n",
       "  border: 0;\n",
       "  clip: rect(1px 1px 1px 1px);\n",
       "  clip: rect(1px, 1px, 1px, 1px);\n",
       "  height: 1px;\n",
       "  margin: -1px;\n",
       "  overflow: hidden;\n",
       "  padding: 0;\n",
       "  position: absolute;\n",
       "  width: 1px;\n",
       "}\n",
       "\n",
       "#sk-container-id-2 div.sk-dashed-wrapped {\n",
       "  border: 1px dashed var(--sklearn-color-line);\n",
       "  margin: 0 0.4em 0.5em 0.4em;\n",
       "  box-sizing: border-box;\n",
       "  padding-bottom: 0.4em;\n",
       "  background-color: var(--sklearn-color-background);\n",
       "}\n",
       "\n",
       "#sk-container-id-2 div.sk-container {\n",
       "  /* jupyter's `normalize.less` sets `[hidden] { display: none; }`\n",
       "     but bootstrap.min.css set `[hidden] { display: none !important; }`\n",
       "     so we also need the `!important` here to be able to override the\n",
       "     default hidden behavior on the sphinx rendered scikit-learn.org.\n",
       "     See: https://github.com/scikit-learn/scikit-learn/issues/21755 */\n",
       "  display: inline-block !important;\n",
       "  position: relative;\n",
       "}\n",
       "\n",
       "#sk-container-id-2 div.sk-text-repr-fallback {\n",
       "  display: none;\n",
       "}\n",
       "\n",
       "div.sk-parallel-item,\n",
       "div.sk-serial,\n",
       "div.sk-item {\n",
       "  /* draw centered vertical line to link estimators */\n",
       "  background-image: linear-gradient(var(--sklearn-color-text-on-default-background), var(--sklearn-color-text-on-default-background));\n",
       "  background-size: 2px 100%;\n",
       "  background-repeat: no-repeat;\n",
       "  background-position: center center;\n",
       "}\n",
       "\n",
       "/* Parallel-specific style estimator block */\n",
       "\n",
       "#sk-container-id-2 div.sk-parallel-item::after {\n",
       "  content: \"\";\n",
       "  width: 100%;\n",
       "  border-bottom: 2px solid var(--sklearn-color-text-on-default-background);\n",
       "  flex-grow: 1;\n",
       "}\n",
       "\n",
       "#sk-container-id-2 div.sk-parallel {\n",
       "  display: flex;\n",
       "  align-items: stretch;\n",
       "  justify-content: center;\n",
       "  background-color: var(--sklearn-color-background);\n",
       "  position: relative;\n",
       "}\n",
       "\n",
       "#sk-container-id-2 div.sk-parallel-item {\n",
       "  display: flex;\n",
       "  flex-direction: column;\n",
       "}\n",
       "\n",
       "#sk-container-id-2 div.sk-parallel-item:first-child::after {\n",
       "  align-self: flex-end;\n",
       "  width: 50%;\n",
       "}\n",
       "\n",
       "#sk-container-id-2 div.sk-parallel-item:last-child::after {\n",
       "  align-self: flex-start;\n",
       "  width: 50%;\n",
       "}\n",
       "\n",
       "#sk-container-id-2 div.sk-parallel-item:only-child::after {\n",
       "  width: 0;\n",
       "}\n",
       "\n",
       "/* Serial-specific style estimator block */\n",
       "\n",
       "#sk-container-id-2 div.sk-serial {\n",
       "  display: flex;\n",
       "  flex-direction: column;\n",
       "  align-items: center;\n",
       "  background-color: var(--sklearn-color-background);\n",
       "  padding-right: 1em;\n",
       "  padding-left: 1em;\n",
       "}\n",
       "\n",
       "\n",
       "/* Toggleable style: style used for estimator/Pipeline/ColumnTransformer box that is\n",
       "clickable and can be expanded/collapsed.\n",
       "- Pipeline and ColumnTransformer use this feature and define the default style\n",
       "- Estimators will overwrite some part of the style using the `sk-estimator` class\n",
       "*/\n",
       "\n",
       "/* Pipeline and ColumnTransformer style (default) */\n",
       "\n",
       "#sk-container-id-2 div.sk-toggleable {\n",
       "  /* Default theme specific background. It is overwritten whether we have a\n",
       "  specific estimator or a Pipeline/ColumnTransformer */\n",
       "  background-color: var(--sklearn-color-background);\n",
       "}\n",
       "\n",
       "/* Toggleable label */\n",
       "#sk-container-id-2 label.sk-toggleable__label {\n",
       "  cursor: pointer;\n",
       "  display: block;\n",
       "  width: 100%;\n",
       "  margin-bottom: 0;\n",
       "  padding: 0.5em;\n",
       "  box-sizing: border-box;\n",
       "  text-align: center;\n",
       "}\n",
       "\n",
       "#sk-container-id-2 label.sk-toggleable__label-arrow:before {\n",
       "  /* Arrow on the left of the label */\n",
       "  content: \"▸\";\n",
       "  float: left;\n",
       "  margin-right: 0.25em;\n",
       "  color: var(--sklearn-color-icon);\n",
       "}\n",
       "\n",
       "#sk-container-id-2 label.sk-toggleable__label-arrow:hover:before {\n",
       "  color: var(--sklearn-color-text);\n",
       "}\n",
       "\n",
       "/* Toggleable content - dropdown */\n",
       "\n",
       "#sk-container-id-2 div.sk-toggleable__content {\n",
       "  max-height: 0;\n",
       "  max-width: 0;\n",
       "  overflow: hidden;\n",
       "  text-align: left;\n",
       "  /* unfitted */\n",
       "  background-color: var(--sklearn-color-unfitted-level-0);\n",
       "}\n",
       "\n",
       "#sk-container-id-2 div.sk-toggleable__content.fitted {\n",
       "  /* fitted */\n",
       "  background-color: var(--sklearn-color-fitted-level-0);\n",
       "}\n",
       "\n",
       "#sk-container-id-2 div.sk-toggleable__content pre {\n",
       "  margin: 0.2em;\n",
       "  border-radius: 0.25em;\n",
       "  color: var(--sklearn-color-text);\n",
       "  /* unfitted */\n",
       "  background-color: var(--sklearn-color-unfitted-level-0);\n",
       "}\n",
       "\n",
       "#sk-container-id-2 div.sk-toggleable__content.fitted pre {\n",
       "  /* unfitted */\n",
       "  background-color: var(--sklearn-color-fitted-level-0);\n",
       "}\n",
       "\n",
       "#sk-container-id-2 input.sk-toggleable__control:checked~div.sk-toggleable__content {\n",
       "  /* Expand drop-down */\n",
       "  max-height: 200px;\n",
       "  max-width: 100%;\n",
       "  overflow: auto;\n",
       "}\n",
       "\n",
       "#sk-container-id-2 input.sk-toggleable__control:checked~label.sk-toggleable__label-arrow:before {\n",
       "  content: \"▾\";\n",
       "}\n",
       "\n",
       "/* Pipeline/ColumnTransformer-specific style */\n",
       "\n",
       "#sk-container-id-2 div.sk-label input.sk-toggleable__control:checked~label.sk-toggleable__label {\n",
       "  color: var(--sklearn-color-text);\n",
       "  background-color: var(--sklearn-color-unfitted-level-2);\n",
       "}\n",
       "\n",
       "#sk-container-id-2 div.sk-label.fitted input.sk-toggleable__control:checked~label.sk-toggleable__label {\n",
       "  background-color: var(--sklearn-color-fitted-level-2);\n",
       "}\n",
       "\n",
       "/* Estimator-specific style */\n",
       "\n",
       "/* Colorize estimator box */\n",
       "#sk-container-id-2 div.sk-estimator input.sk-toggleable__control:checked~label.sk-toggleable__label {\n",
       "  /* unfitted */\n",
       "  background-color: var(--sklearn-color-unfitted-level-2);\n",
       "}\n",
       "\n",
       "#sk-container-id-2 div.sk-estimator.fitted input.sk-toggleable__control:checked~label.sk-toggleable__label {\n",
       "  /* fitted */\n",
       "  background-color: var(--sklearn-color-fitted-level-2);\n",
       "}\n",
       "\n",
       "#sk-container-id-2 div.sk-label label.sk-toggleable__label,\n",
       "#sk-container-id-2 div.sk-label label {\n",
       "  /* The background is the default theme color */\n",
       "  color: var(--sklearn-color-text-on-default-background);\n",
       "}\n",
       "\n",
       "/* On hover, darken the color of the background */\n",
       "#sk-container-id-2 div.sk-label:hover label.sk-toggleable__label {\n",
       "  color: var(--sklearn-color-text);\n",
       "  background-color: var(--sklearn-color-unfitted-level-2);\n",
       "}\n",
       "\n",
       "/* Label box, darken color on hover, fitted */\n",
       "#sk-container-id-2 div.sk-label.fitted:hover label.sk-toggleable__label.fitted {\n",
       "  color: var(--sklearn-color-text);\n",
       "  background-color: var(--sklearn-color-fitted-level-2);\n",
       "}\n",
       "\n",
       "/* Estimator label */\n",
       "\n",
       "#sk-container-id-2 div.sk-label label {\n",
       "  font-family: monospace;\n",
       "  font-weight: bold;\n",
       "  display: inline-block;\n",
       "  line-height: 1.2em;\n",
       "}\n",
       "\n",
       "#sk-container-id-2 div.sk-label-container {\n",
       "  text-align: center;\n",
       "}\n",
       "\n",
       "/* Estimator-specific */\n",
       "#sk-container-id-2 div.sk-estimator {\n",
       "  font-family: monospace;\n",
       "  border: 1px dotted var(--sklearn-color-border-box);\n",
       "  border-radius: 0.25em;\n",
       "  box-sizing: border-box;\n",
       "  margin-bottom: 0.5em;\n",
       "  /* unfitted */\n",
       "  background-color: var(--sklearn-color-unfitted-level-0);\n",
       "}\n",
       "\n",
       "#sk-container-id-2 div.sk-estimator.fitted {\n",
       "  /* fitted */\n",
       "  background-color: var(--sklearn-color-fitted-level-0);\n",
       "}\n",
       "\n",
       "/* on hover */\n",
       "#sk-container-id-2 div.sk-estimator:hover {\n",
       "  /* unfitted */\n",
       "  background-color: var(--sklearn-color-unfitted-level-2);\n",
       "}\n",
       "\n",
       "#sk-container-id-2 div.sk-estimator.fitted:hover {\n",
       "  /* fitted */\n",
       "  background-color: var(--sklearn-color-fitted-level-2);\n",
       "}\n",
       "\n",
       "/* Specification for estimator info (e.g. \"i\" and \"?\") */\n",
       "\n",
       "/* Common style for \"i\" and \"?\" */\n",
       "\n",
       ".sk-estimator-doc-link,\n",
       "a:link.sk-estimator-doc-link,\n",
       "a:visited.sk-estimator-doc-link {\n",
       "  float: right;\n",
       "  font-size: smaller;\n",
       "  line-height: 1em;\n",
       "  font-family: monospace;\n",
       "  background-color: var(--sklearn-color-background);\n",
       "  border-radius: 1em;\n",
       "  height: 1em;\n",
       "  width: 1em;\n",
       "  text-decoration: none !important;\n",
       "  margin-left: 1ex;\n",
       "  /* unfitted */\n",
       "  border: var(--sklearn-color-unfitted-level-1) 1pt solid;\n",
       "  color: var(--sklearn-color-unfitted-level-1);\n",
       "}\n",
       "\n",
       ".sk-estimator-doc-link.fitted,\n",
       "a:link.sk-estimator-doc-link.fitted,\n",
       "a:visited.sk-estimator-doc-link.fitted {\n",
       "  /* fitted */\n",
       "  border: var(--sklearn-color-fitted-level-1) 1pt solid;\n",
       "  color: var(--sklearn-color-fitted-level-1);\n",
       "}\n",
       "\n",
       "/* On hover */\n",
       "div.sk-estimator:hover .sk-estimator-doc-link:hover,\n",
       ".sk-estimator-doc-link:hover,\n",
       "div.sk-label-container:hover .sk-estimator-doc-link:hover,\n",
       ".sk-estimator-doc-link:hover {\n",
       "  /* unfitted */\n",
       "  background-color: var(--sklearn-color-unfitted-level-3);\n",
       "  color: var(--sklearn-color-background);\n",
       "  text-decoration: none;\n",
       "}\n",
       "\n",
       "div.sk-estimator.fitted:hover .sk-estimator-doc-link.fitted:hover,\n",
       ".sk-estimator-doc-link.fitted:hover,\n",
       "div.sk-label-container:hover .sk-estimator-doc-link.fitted:hover,\n",
       ".sk-estimator-doc-link.fitted:hover {\n",
       "  /* fitted */\n",
       "  background-color: var(--sklearn-color-fitted-level-3);\n",
       "  color: var(--sklearn-color-background);\n",
       "  text-decoration: none;\n",
       "}\n",
       "\n",
       "/* Span, style for the box shown on hovering the info icon */\n",
       ".sk-estimator-doc-link span {\n",
       "  display: none;\n",
       "  z-index: 9999;\n",
       "  position: relative;\n",
       "  font-weight: normal;\n",
       "  right: .2ex;\n",
       "  padding: .5ex;\n",
       "  margin: .5ex;\n",
       "  width: min-content;\n",
       "  min-width: 20ex;\n",
       "  max-width: 50ex;\n",
       "  color: var(--sklearn-color-text);\n",
       "  box-shadow: 2pt 2pt 4pt #999;\n",
       "  /* unfitted */\n",
       "  background: var(--sklearn-color-unfitted-level-0);\n",
       "  border: .5pt solid var(--sklearn-color-unfitted-level-3);\n",
       "}\n",
       "\n",
       ".sk-estimator-doc-link.fitted span {\n",
       "  /* fitted */\n",
       "  background: var(--sklearn-color-fitted-level-0);\n",
       "  border: var(--sklearn-color-fitted-level-3);\n",
       "}\n",
       "\n",
       ".sk-estimator-doc-link:hover span {\n",
       "  display: block;\n",
       "}\n",
       "\n",
       "/* \"?\"-specific style due to the `<a>` HTML tag */\n",
       "\n",
       "#sk-container-id-2 a.estimator_doc_link {\n",
       "  float: right;\n",
       "  font-size: 1rem;\n",
       "  line-height: 1em;\n",
       "  font-family: monospace;\n",
       "  background-color: var(--sklearn-color-background);\n",
       "  border-radius: 1rem;\n",
       "  height: 1rem;\n",
       "  width: 1rem;\n",
       "  text-decoration: none;\n",
       "  /* unfitted */\n",
       "  color: var(--sklearn-color-unfitted-level-1);\n",
       "  border: var(--sklearn-color-unfitted-level-1) 1pt solid;\n",
       "}\n",
       "\n",
       "#sk-container-id-2 a.estimator_doc_link.fitted {\n",
       "  /* fitted */\n",
       "  border: var(--sklearn-color-fitted-level-1) 1pt solid;\n",
       "  color: var(--sklearn-color-fitted-level-1);\n",
       "}\n",
       "\n",
       "/* On hover */\n",
       "#sk-container-id-2 a.estimator_doc_link:hover {\n",
       "  /* unfitted */\n",
       "  background-color: var(--sklearn-color-unfitted-level-3);\n",
       "  color: var(--sklearn-color-background);\n",
       "  text-decoration: none;\n",
       "}\n",
       "\n",
       "#sk-container-id-2 a.estimator_doc_link.fitted:hover {\n",
       "  /* fitted */\n",
       "  background-color: var(--sklearn-color-fitted-level-3);\n",
       "}\n",
       "</style><div id=\"sk-container-id-2\" class=\"sk-top-container\"><div class=\"sk-text-repr-fallback\"><pre>StandardScaler()</pre><b>In a Jupyter environment, please rerun this cell to show the HTML representation or trust the notebook. <br />On GitHub, the HTML representation is unable to render, please try loading this page with nbviewer.org.</b></div><div class=\"sk-container\" hidden><div class=\"sk-item\"><div class=\"sk-estimator  sk-toggleable\"><input class=\"sk-toggleable__control sk-hidden--visually\" id=\"sk-estimator-id-2\" type=\"checkbox\" checked><label for=\"sk-estimator-id-2\" class=\"sk-toggleable__label  sk-toggleable__label-arrow \">&nbsp;&nbsp;StandardScaler<a class=\"sk-estimator-doc-link \" rel=\"noreferrer\" target=\"_blank\" href=\"https://scikit-learn.org/1.5/modules/generated/sklearn.preprocessing.StandardScaler.html\">?<span>Documentation for StandardScaler</span></a><span class=\"sk-estimator-doc-link \">i<span>Not fitted</span></span></label><div class=\"sk-toggleable__content \"><pre>StandardScaler()</pre></div> </div></div></div></div>"
      ],
      "text/plain": [
       "StandardScaler()"
      ]
     },
     "execution_count": 56,
     "metadata": {},
     "output_type": "execute_result"
    }
   ],
   "source": [
    "scaler = StandardScaler()\n",
    "scaler"
   ]
  },
  {
   "cell_type": "code",
   "execution_count": 57,
   "id": "cf468e78-fda5-4ea2-bdf2-2a8cdbc1c22d",
   "metadata": {},
   "outputs": [],
   "source": [
    "scaled_data = scaler.fit_transform(numerical_df)\n",
    "numerical_df = pd.DataFrame(scaled_data, columns=numerical_df.columns)"
   ]
  },
  {
   "cell_type": "code",
   "execution_count": 58,
   "id": "57a241c7-4902-4215-829b-71f4161d1e0c",
   "metadata": {},
   "outputs": [
    {
     "data": {
      "text/html": [
       "<div>\n",
       "<style scoped>\n",
       "    .dataframe tbody tr th:only-of-type {\n",
       "        vertical-align: middle;\n",
       "    }\n",
       "\n",
       "    .dataframe tbody tr th {\n",
       "        vertical-align: top;\n",
       "    }\n",
       "\n",
       "    .dataframe thead th {\n",
       "        text-align: right;\n",
       "    }\n",
       "</style>\n",
       "<table border=\"1\" class=\"dataframe\">\n",
       "  <thead>\n",
       "    <tr style=\"text-align: right;\">\n",
       "      <th></th>\n",
       "      <th>t1__Candidate is willing to relocate</th>\n",
       "      <th>t2__Role acceptance</th>\n",
       "      <th>t3__Experienced candidate - (Experience in months)</th>\n",
       "      <th>t4__Interview Verdict</th>\n",
       "      <th>t5__Age</th>\n",
       "      <th>t6__Last Fixed CTC (lakhs)</th>\n",
       "      <th>t7__Let me discuss it with my child_Anticipation of objection from child's end:, Did not answer</th>\n",
       "      <th>t7__Let me discuss it with my child_Anticipation of objection from child's end:, None of the above</th>\n",
       "      <th>t7__Let me discuss it with my child_Asking questions:</th>\n",
       "      <th>t7__Let me discuss it with my child_Asking questions:, Anticipation of objection from child's end:</th>\n",
       "      <th>...</th>\n",
       "      <th>Structured Thinking Based on the PPT Question.1</th>\n",
       "      <th>Structured Thinking( Call pitch).1</th>\n",
       "      <th>Regional fluency based on the topic given  .1</th>\n",
       "      <th>Regional fluency Based on the PPT Question.1</th>\n",
       "      <th>Regional fluency based on the  sales scenario.1</th>\n",
       "      <th>Confidence Score</th>\n",
       "      <th>Structured Thinking Score</th>\n",
       "      <th>Regional Fluency Score</th>\n",
       "      <th>Total Score</th>\n",
       "      <th>id</th>\n",
       "    </tr>\n",
       "  </thead>\n",
       "  <tbody>\n",
       "    <tr>\n",
       "      <th>0</th>\n",
       "      <td>-0.522198</td>\n",
       "      <td>-1.117797</td>\n",
       "      <td>-0.136479</td>\n",
       "      <td>-1.693605</td>\n",
       "      <td>-0.066121</td>\n",
       "      <td>3.048871</td>\n",
       "      <td>-0.010348</td>\n",
       "      <td>-0.012673</td>\n",
       "      <td>-0.364134</td>\n",
       "      <td>-0.088752</td>\n",
       "      <td>...</td>\n",
       "      <td>1.020654</td>\n",
       "      <td>-0.424411</td>\n",
       "      <td>-1.092966</td>\n",
       "      <td>-1.063625</td>\n",
       "      <td>-1.043289</td>\n",
       "      <td>0.951490</td>\n",
       "      <td>-0.022276</td>\n",
       "      <td>-1.320677</td>\n",
       "      <td>-0.198863</td>\n",
       "      <td>-1.728980</td>\n",
       "    </tr>\n",
       "    <tr>\n",
       "      <th>1</th>\n",
       "      <td>1.262994</td>\n",
       "      <td>0.666037</td>\n",
       "      <td>-0.589010</td>\n",
       "      <td>-1.693605</td>\n",
       "      <td>2.093340</td>\n",
       "      <td>-0.648992</td>\n",
       "      <td>-0.010348</td>\n",
       "      <td>-0.012673</td>\n",
       "      <td>-0.364134</td>\n",
       "      <td>-0.088752</td>\n",
       "      <td>...</td>\n",
       "      <td>1.020654</td>\n",
       "      <td>1.006713</td>\n",
       "      <td>0.979581</td>\n",
       "      <td>1.024503</td>\n",
       "      <td>1.060405</td>\n",
       "      <td>1.415087</td>\n",
       "      <td>1.256178</td>\n",
       "      <td>1.264403</td>\n",
       "      <td>1.509342</td>\n",
       "      <td>-1.728817</td>\n",
       "    </tr>\n",
       "    <tr>\n",
       "      <th>2</th>\n",
       "      <td>-0.522198</td>\n",
       "      <td>0.666037</td>\n",
       "      <td>-0.589010</td>\n",
       "      <td>1.415727</td>\n",
       "      <td>1.013609</td>\n",
       "      <td>-0.648992</td>\n",
       "      <td>-0.010348</td>\n",
       "      <td>-0.012673</td>\n",
       "      <td>-0.364134</td>\n",
       "      <td>-0.088752</td>\n",
       "      <td>...</td>\n",
       "      <td>1.020654</td>\n",
       "      <td>1.006713</td>\n",
       "      <td>0.979581</td>\n",
       "      <td>-1.063625</td>\n",
       "      <td>1.060405</td>\n",
       "      <td>0.487893</td>\n",
       "      <td>1.256178</td>\n",
       "      <td>0.402709</td>\n",
       "      <td>0.750139</td>\n",
       "      <td>-1.728655</td>\n",
       "    </tr>\n",
       "    <tr>\n",
       "      <th>3</th>\n",
       "      <td>1.262994</td>\n",
       "      <td>0.666037</td>\n",
       "      <td>-0.589010</td>\n",
       "      <td>1.415727</td>\n",
       "      <td>-1.145852</td>\n",
       "      <td>-0.648992</td>\n",
       "      <td>-0.010348</td>\n",
       "      <td>-0.012673</td>\n",
       "      <td>-0.364134</td>\n",
       "      <td>-0.088752</td>\n",
       "      <td>...</td>\n",
       "      <td>1.020654</td>\n",
       "      <td>1.006713</td>\n",
       "      <td>0.979581</td>\n",
       "      <td>1.024503</td>\n",
       "      <td>1.060405</td>\n",
       "      <td>1.415087</td>\n",
       "      <td>1.256178</td>\n",
       "      <td>1.264403</td>\n",
       "      <td>1.509342</td>\n",
       "      <td>-1.728492</td>\n",
       "    </tr>\n",
       "    <tr>\n",
       "      <th>4</th>\n",
       "      <td>-1.414794</td>\n",
       "      <td>-1.117797</td>\n",
       "      <td>-0.589010</td>\n",
       "      <td>-0.138939</td>\n",
       "      <td>-1.145852</td>\n",
       "      <td>-0.648992</td>\n",
       "      <td>-0.010348</td>\n",
       "      <td>-0.012673</td>\n",
       "      <td>-0.364134</td>\n",
       "      <td>-0.088752</td>\n",
       "      <td>...</td>\n",
       "      <td>-0.556030</td>\n",
       "      <td>-1.855535</td>\n",
       "      <td>0.979581</td>\n",
       "      <td>-1.063625</td>\n",
       "      <td>1.060405</td>\n",
       "      <td>0.487893</td>\n",
       "      <td>-1.300729</td>\n",
       "      <td>0.402709</td>\n",
       "      <td>-0.009063</td>\n",
       "      <td>-1.728330</td>\n",
       "    </tr>\n",
       "  </tbody>\n",
       "</table>\n",
       "<p>5 rows × 271 columns</p>\n",
       "</div>"
      ],
      "text/plain": [
       "   t1__Candidate is willing to relocate  t2__Role acceptance  \\\n",
       "0                             -0.522198            -1.117797   \n",
       "1                              1.262994             0.666037   \n",
       "2                             -0.522198             0.666037   \n",
       "3                              1.262994             0.666037   \n",
       "4                             -1.414794            -1.117797   \n",
       "\n",
       "   t3__Experienced candidate - (Experience in months)  t4__Interview Verdict  \\\n",
       "0                                          -0.136479               -1.693605   \n",
       "1                                          -0.589010               -1.693605   \n",
       "2                                          -0.589010                1.415727   \n",
       "3                                          -0.589010                1.415727   \n",
       "4                                          -0.589010               -0.138939   \n",
       "\n",
       "    t5__Age  t6__Last Fixed CTC (lakhs)   \\\n",
       "0 -0.066121                     3.048871   \n",
       "1  2.093340                    -0.648992   \n",
       "2  1.013609                    -0.648992   \n",
       "3 -1.145852                    -0.648992   \n",
       "4 -1.145852                    -0.648992   \n",
       "\n",
       "   t7__Let me discuss it with my child_Anticipation of objection from child's end:, Did not answer  \\\n",
       "0                                          -0.010348                                                 \n",
       "1                                          -0.010348                                                 \n",
       "2                                          -0.010348                                                 \n",
       "3                                          -0.010348                                                 \n",
       "4                                          -0.010348                                                 \n",
       "\n",
       "   t7__Let me discuss it with my child_Anticipation of objection from child's end:, None of the above  \\\n",
       "0                                          -0.012673                                                    \n",
       "1                                          -0.012673                                                    \n",
       "2                                          -0.012673                                                    \n",
       "3                                          -0.012673                                                    \n",
       "4                                          -0.012673                                                    \n",
       "\n",
       "   t7__Let me discuss it with my child_Asking questions:  \\\n",
       "0                                          -0.364134       \n",
       "1                                          -0.364134       \n",
       "2                                          -0.364134       \n",
       "3                                          -0.364134       \n",
       "4                                          -0.364134       \n",
       "\n",
       "   t7__Let me discuss it with my child_Asking questions:, Anticipation of objection from child's end:  \\\n",
       "0                                          -0.088752                                                    \n",
       "1                                          -0.088752                                                    \n",
       "2                                          -0.088752                                                    \n",
       "3                                          -0.088752                                                    \n",
       "4                                          -0.088752                                                    \n",
       "\n",
       "   ...  Structured Thinking Based on the PPT Question.1  \\\n",
       "0  ...                                         1.020654   \n",
       "1  ...                                         1.020654   \n",
       "2  ...                                         1.020654   \n",
       "3  ...                                         1.020654   \n",
       "4  ...                                        -0.556030   \n",
       "\n",
       "   Structured Thinking( Call pitch).1  \\\n",
       "0                           -0.424411   \n",
       "1                            1.006713   \n",
       "2                            1.006713   \n",
       "3                            1.006713   \n",
       "4                           -1.855535   \n",
       "\n",
       "   Regional fluency based on the topic given  .1  \\\n",
       "0                                      -1.092966   \n",
       "1                                       0.979581   \n",
       "2                                       0.979581   \n",
       "3                                       0.979581   \n",
       "4                                       0.979581   \n",
       "\n",
       "   Regional fluency Based on the PPT Question.1  \\\n",
       "0                                     -1.063625   \n",
       "1                                      1.024503   \n",
       "2                                     -1.063625   \n",
       "3                                      1.024503   \n",
       "4                                     -1.063625   \n",
       "\n",
       "   Regional fluency based on the  sales scenario.1  Confidence Score  \\\n",
       "0                                        -1.043289          0.951490   \n",
       "1                                         1.060405          1.415087   \n",
       "2                                         1.060405          0.487893   \n",
       "3                                         1.060405          1.415087   \n",
       "4                                         1.060405          0.487893   \n",
       "\n",
       "   Structured Thinking Score  Regional Fluency Score  Total Score        id  \n",
       "0                  -0.022276               -1.320677    -0.198863 -1.728980  \n",
       "1                   1.256178                1.264403     1.509342 -1.728817  \n",
       "2                   1.256178                0.402709     0.750139 -1.728655  \n",
       "3                   1.256178                1.264403     1.509342 -1.728492  \n",
       "4                  -1.300729                0.402709    -0.009063 -1.728330  \n",
       "\n",
       "[5 rows x 271 columns]"
      ]
     },
     "execution_count": 58,
     "metadata": {},
     "output_type": "execute_result"
    }
   ],
   "source": [
    "numerical_df.head()"
   ]
  },
  {
   "cell_type": "code",
   "execution_count": 59,
   "id": "0ca7f501-244e-410b-9938-3f1fb7f8759f",
   "metadata": {},
   "outputs": [
    {
     "data": {
      "text/plain": [
       "(18681, 271)"
      ]
     },
     "execution_count": 59,
     "metadata": {},
     "output_type": "execute_result"
    }
   ],
   "source": [
    "numerical_df.shape"
   ]
  },
  {
   "cell_type": "markdown",
   "id": "bc110acf-5d40-43c5-b65a-991b2bd1e988",
   "metadata": {},
   "source": [
    "# Principal Component Analysis(PCA) for Dimensionality Reduction\n",
    "**Required to reduce the number of features**"
   ]
  },
  {
   "cell_type": "code",
   "execution_count": 61,
   "id": "6439b57a-d021-49f7-ba4c-33d30fad9c81",
   "metadata": {},
   "outputs": [],
   "source": [
    "pca = PCA(n_components=0.95)\n",
    "numerical_pca = pca.fit_transform(numerical_df)"
   ]
  },
  {
   "cell_type": "code",
   "execution_count": 62,
   "id": "8c61657e-d268-4807-8422-75591d3e01a3",
   "metadata": {},
   "outputs": [
    {
     "data": {
      "text/plain": [
       "numpy.ndarray"
      ]
     },
     "execution_count": 62,
     "metadata": {},
     "output_type": "execute_result"
    }
   ],
   "source": [
    "type(numerical_pca)"
   ]
  },
  {
   "cell_type": "code",
   "execution_count": 63,
   "id": "25a1274a-c837-41e3-ac1e-72d96bfa6cd2",
   "metadata": {},
   "outputs": [],
   "source": [
    "features_names = pca.get_feature_names_out()\n",
    "numerical_df = pd.DataFrame(numerical_pca, columns=features_names)"
   ]
  },
  {
   "cell_type": "code",
   "execution_count": 64,
   "id": "7c6c743f-6272-4946-ac5f-49d3d6a9aab4",
   "metadata": {},
   "outputs": [
    {
     "data": {
      "text/plain": [
       "pandas.core.frame.DataFrame"
      ]
     },
     "execution_count": 64,
     "metadata": {},
     "output_type": "execute_result"
    }
   ],
   "source": [
    "type(numerical_df)"
   ]
  },
  {
   "cell_type": "code",
   "execution_count": 65,
   "id": "8f8cf927-c9e0-4c7a-81ec-da956241b10b",
   "metadata": {},
   "outputs": [
    {
     "data": {
      "text/plain": [
       "(18681, 234)"
      ]
     },
     "execution_count": 65,
     "metadata": {},
     "output_type": "execute_result"
    }
   ],
   "source": [
    "numerical_df.shape"
   ]
  },
  {
   "cell_type": "code",
   "execution_count": 66,
   "id": "bbbd2c3c-d8dd-4516-b701-5b64f273b77e",
   "metadata": {},
   "outputs": [
    {
     "data": {
      "text/html": [
       "<div>\n",
       "<style scoped>\n",
       "    .dataframe tbody tr th:only-of-type {\n",
       "        vertical-align: middle;\n",
       "    }\n",
       "\n",
       "    .dataframe tbody tr th {\n",
       "        vertical-align: top;\n",
       "    }\n",
       "\n",
       "    .dataframe thead th {\n",
       "        text-align: right;\n",
       "    }\n",
       "</style>\n",
       "<table border=\"1\" class=\"dataframe\">\n",
       "  <thead>\n",
       "    <tr style=\"text-align: right;\">\n",
       "      <th></th>\n",
       "      <th>pca0</th>\n",
       "      <th>pca1</th>\n",
       "      <th>pca2</th>\n",
       "      <th>pca3</th>\n",
       "      <th>pca4</th>\n",
       "      <th>pca5</th>\n",
       "      <th>pca6</th>\n",
       "      <th>pca7</th>\n",
       "      <th>pca8</th>\n",
       "      <th>pca9</th>\n",
       "      <th>...</th>\n",
       "      <th>pca224</th>\n",
       "      <th>pca225</th>\n",
       "      <th>pca226</th>\n",
       "      <th>pca227</th>\n",
       "      <th>pca228</th>\n",
       "      <th>pca229</th>\n",
       "      <th>pca230</th>\n",
       "      <th>pca231</th>\n",
       "      <th>pca232</th>\n",
       "      <th>pca233</th>\n",
       "    </tr>\n",
       "  </thead>\n",
       "  <tbody>\n",
       "    <tr>\n",
       "      <th>0</th>\n",
       "      <td>-0.059958</td>\n",
       "      <td>1.967844</td>\n",
       "      <td>0.791072</td>\n",
       "      <td>0.930622</td>\n",
       "      <td>-0.967575</td>\n",
       "      <td>-0.595480</td>\n",
       "      <td>-1.568730</td>\n",
       "      <td>-2.874542</td>\n",
       "      <td>0.240615</td>\n",
       "      <td>0.305617</td>\n",
       "      <td>...</td>\n",
       "      <td>0.500215</td>\n",
       "      <td>0.364574</td>\n",
       "      <td>-0.357573</td>\n",
       "      <td>0.303395</td>\n",
       "      <td>-0.198337</td>\n",
       "      <td>0.905160</td>\n",
       "      <td>0.450304</td>\n",
       "      <td>0.469067</td>\n",
       "      <td>1.280040</td>\n",
       "      <td>2.177951</td>\n",
       "    </tr>\n",
       "    <tr>\n",
       "      <th>1</th>\n",
       "      <td>3.698572</td>\n",
       "      <td>-1.482395</td>\n",
       "      <td>0.254087</td>\n",
       "      <td>-0.305812</td>\n",
       "      <td>-1.636005</td>\n",
       "      <td>1.030700</td>\n",
       "      <td>1.438826</td>\n",
       "      <td>-2.430317</td>\n",
       "      <td>0.423096</td>\n",
       "      <td>-0.173099</td>\n",
       "      <td>...</td>\n",
       "      <td>-0.105114</td>\n",
       "      <td>0.131983</td>\n",
       "      <td>0.003022</td>\n",
       "      <td>0.699302</td>\n",
       "      <td>0.511851</td>\n",
       "      <td>-0.134448</td>\n",
       "      <td>-0.275407</td>\n",
       "      <td>-0.436982</td>\n",
       "      <td>0.442234</td>\n",
       "      <td>-0.708785</td>\n",
       "    </tr>\n",
       "    <tr>\n",
       "      <th>2</th>\n",
       "      <td>3.224709</td>\n",
       "      <td>0.138319</td>\n",
       "      <td>-0.831574</td>\n",
       "      <td>0.161763</td>\n",
       "      <td>0.497050</td>\n",
       "      <td>-1.751071</td>\n",
       "      <td>-0.140966</td>\n",
       "      <td>-1.119169</td>\n",
       "      <td>1.192239</td>\n",
       "      <td>-1.907205</td>\n",
       "      <td>...</td>\n",
       "      <td>-0.093457</td>\n",
       "      <td>0.258606</td>\n",
       "      <td>0.096928</td>\n",
       "      <td>0.964655</td>\n",
       "      <td>0.665793</td>\n",
       "      <td>-1.563354</td>\n",
       "      <td>0.117937</td>\n",
       "      <td>-0.439032</td>\n",
       "      <td>0.068522</td>\n",
       "      <td>-0.468852</td>\n",
       "    </tr>\n",
       "    <tr>\n",
       "      <th>3</th>\n",
       "      <td>4.742158</td>\n",
       "      <td>-2.375978</td>\n",
       "      <td>-0.257246</td>\n",
       "      <td>-0.636099</td>\n",
       "      <td>-0.475089</td>\n",
       "      <td>-0.216451</td>\n",
       "      <td>0.532651</td>\n",
       "      <td>-0.270385</td>\n",
       "      <td>0.617076</td>\n",
       "      <td>-1.016399</td>\n",
       "      <td>...</td>\n",
       "      <td>0.625858</td>\n",
       "      <td>0.205325</td>\n",
       "      <td>0.319116</td>\n",
       "      <td>0.089294</td>\n",
       "      <td>0.417715</td>\n",
       "      <td>-0.399509</td>\n",
       "      <td>1.317505</td>\n",
       "      <td>-0.143920</td>\n",
       "      <td>0.927697</td>\n",
       "      <td>-0.332506</td>\n",
       "    </tr>\n",
       "    <tr>\n",
       "      <th>4</th>\n",
       "      <td>-0.572848</td>\n",
       "      <td>-1.181530</td>\n",
       "      <td>-1.312333</td>\n",
       "      <td>0.053090</td>\n",
       "      <td>0.492537</td>\n",
       "      <td>-0.653270</td>\n",
       "      <td>0.976185</td>\n",
       "      <td>-1.388048</td>\n",
       "      <td>0.626494</td>\n",
       "      <td>0.175301</td>\n",
       "      <td>...</td>\n",
       "      <td>1.154244</td>\n",
       "      <td>0.118662</td>\n",
       "      <td>0.496598</td>\n",
       "      <td>-2.078430</td>\n",
       "      <td>-0.860710</td>\n",
       "      <td>1.100854</td>\n",
       "      <td>-0.907559</td>\n",
       "      <td>0.776750</td>\n",
       "      <td>0.016804</td>\n",
       "      <td>-0.348629</td>\n",
       "    </tr>\n",
       "  </tbody>\n",
       "</table>\n",
       "<p>5 rows × 234 columns</p>\n",
       "</div>"
      ],
      "text/plain": [
       "       pca0      pca1      pca2      pca3      pca4      pca5      pca6  \\\n",
       "0 -0.059958  1.967844  0.791072  0.930622 -0.967575 -0.595480 -1.568730   \n",
       "1  3.698572 -1.482395  0.254087 -0.305812 -1.636005  1.030700  1.438826   \n",
       "2  3.224709  0.138319 -0.831574  0.161763  0.497050 -1.751071 -0.140966   \n",
       "3  4.742158 -2.375978 -0.257246 -0.636099 -0.475089 -0.216451  0.532651   \n",
       "4 -0.572848 -1.181530 -1.312333  0.053090  0.492537 -0.653270  0.976185   \n",
       "\n",
       "       pca7      pca8      pca9  ...    pca224    pca225    pca226    pca227  \\\n",
       "0 -2.874542  0.240615  0.305617  ...  0.500215  0.364574 -0.357573  0.303395   \n",
       "1 -2.430317  0.423096 -0.173099  ... -0.105114  0.131983  0.003022  0.699302   \n",
       "2 -1.119169  1.192239 -1.907205  ... -0.093457  0.258606  0.096928  0.964655   \n",
       "3 -0.270385  0.617076 -1.016399  ...  0.625858  0.205325  0.319116  0.089294   \n",
       "4 -1.388048  0.626494  0.175301  ...  1.154244  0.118662  0.496598 -2.078430   \n",
       "\n",
       "     pca228    pca229    pca230    pca231    pca232    pca233  \n",
       "0 -0.198337  0.905160  0.450304  0.469067  1.280040  2.177951  \n",
       "1  0.511851 -0.134448 -0.275407 -0.436982  0.442234 -0.708785  \n",
       "2  0.665793 -1.563354  0.117937 -0.439032  0.068522 -0.468852  \n",
       "3  0.417715 -0.399509  1.317505 -0.143920  0.927697 -0.332506  \n",
       "4 -0.860710  1.100854 -0.907559  0.776750  0.016804 -0.348629  \n",
       "\n",
       "[5 rows x 234 columns]"
      ]
     },
     "execution_count": 66,
     "metadata": {},
     "output_type": "execute_result"
    }
   ],
   "source": [
    "numerical_df.head(5)"
   ]
  },
  {
   "cell_type": "code",
   "execution_count": null,
   "id": "798e40f7-d665-43b5-8b4f-a25c29b542d6",
   "metadata": {},
   "outputs": [],
   "source": []
  },
  {
   "cell_type": "code",
   "execution_count": 67,
   "id": "7dac9ef0-b0dd-440d-bcb8-0ba9ea5f34ec",
   "metadata": {},
   "outputs": [
    {
     "data": {
      "text/html": [
       "<div>\n",
       "<style scoped>\n",
       "    .dataframe tbody tr th:only-of-type {\n",
       "        vertical-align: middle;\n",
       "    }\n",
       "\n",
       "    .dataframe tbody tr th {\n",
       "        vertical-align: top;\n",
       "    }\n",
       "\n",
       "    .dataframe thead th {\n",
       "        text-align: right;\n",
       "    }\n",
       "</style>\n",
       "<table border=\"1\" class=\"dataframe\">\n",
       "  <thead>\n",
       "    <tr style=\"text-align: right;\">\n",
       "      <th></th>\n",
       "      <th>Name</th>\n",
       "      <th>Comments</th>\n",
       "      <th>RedFlags Comments in Interview</th>\n",
       "      <th>Whether joined the company or not</th>\n",
       "    </tr>\n",
       "  </thead>\n",
       "  <tbody>\n",
       "    <tr>\n",
       "      <th>0</th>\n",
       "      <td>parida</td>\n",
       "      <td>Lipsa is 25 female from Orissa, Family BG - Fa...</td>\n",
       "      <td>At least Graduated ( not 12th Pass or diploma ...</td>\n",
       "      <td>0</td>\n",
       "    </tr>\n",
       "    <tr>\n",
       "      <th>1</th>\n",
       "      <td>shreej</td>\n",
       "      <td>29 yo / female / unmarried / MSc Finance UK 20...</td>\n",
       "      <td>Not Rehire (CDT have not joined byjus in sales...</td>\n",
       "      <td>0</td>\n",
       "    </tr>\n",
       "  </tbody>\n",
       "</table>\n",
       "</div>"
      ],
      "text/plain": [
       "     Name                                           Comments  \\\n",
       "0  parida  Lipsa is 25 female from Orissa, Family BG - Fa...   \n",
       "1  shreej  29 yo / female / unmarried / MSc Finance UK 20...   \n",
       "\n",
       "                      RedFlags Comments in Interview  \\\n",
       "0  At least Graduated ( not 12th Pass or diploma ...   \n",
       "1  Not Rehire (CDT have not joined byjus in sales...   \n",
       "\n",
       "   Whether joined the company or not  \n",
       "0                                  0  \n",
       "1                                  0  "
      ]
     },
     "execution_count": 67,
     "metadata": {},
     "output_type": "execute_result"
    }
   ],
   "source": [
    "df.head(2)"
   ]
  },
  {
   "cell_type": "code",
   "execution_count": 68,
   "id": "de76827d-f47d-4b65-8b82-79f1417025d8",
   "metadata": {},
   "outputs": [
    {
     "data": {
      "text/plain": [
       "Index(['Name', 'Comments', 'RedFlags Comments in Interview',\n",
       "       'Whether joined the company or not'],\n",
       "      dtype='object')"
      ]
     },
     "execution_count": 68,
     "metadata": {},
     "output_type": "execute_result"
    }
   ],
   "source": [
    "df.columns"
   ]
  },
  {
   "cell_type": "markdown",
   "id": "92a6400e-055b-41ed-a4a8-3ca37b746827",
   "metadata": {},
   "source": [
    "## Stemming\n",
    "**Note: Use Lemmatization for more accuracy**\n",
    "\n",
    "To normalize words and reduce them to their root forms, we will apply **stemming**. This helps in handling variations of words and improves text processing efficiency for machine learning models.  \n",
    "(e.g., \"running\" → \"run\")"
   ]
  },
  {
   "cell_type": "markdown",
   "id": "1acd7b79-d5f0-404a-9d00-4295d87890df",
   "metadata": {},
   "source": [
    "**Currently Using Lemmatization**"
   ]
  },
  {
   "cell_type": "code",
   "execution_count": 71,
   "id": "72798a1f-b1af-431b-ba63-dfea06887c95",
   "metadata": {},
   "outputs": [],
   "source": [
    "df['tags'] = df['Comments'] + \" \" + df['RedFlags Comments in Interview']"
   ]
  },
  {
   "cell_type": "code",
   "execution_count": 72,
   "id": "d2692fb0-bcbe-4b2e-b00f-a0df8e560ba9",
   "metadata": {},
   "outputs": [
    {
     "data": {
      "text/plain": [
       "\"29 yo / female / unmarried / MSc Finance UK 2022 / recently relocated to India just 20 days ago / Odissa / father - doctor / bro - software engineer / pursuing internship in investment banking - ends in next week / worked as a teacher / good story teller - fluent in hindi and english - good energy / also prepared for UPSC and GMAT - purchased a course from byju's earlier / cracked GMAT and got business school as well/asking ques in sales scenario - 2/5\""
      ]
     },
     "execution_count": 72,
     "metadata": {},
     "output_type": "execute_result"
    }
   ],
   "source": [
    "df.loc[1, 'Comments']"
   ]
  },
  {
   "cell_type": "code",
   "execution_count": 73,
   "id": "32ba58bd-ac12-4206-ae7b-4fb878a1d388",
   "metadata": {},
   "outputs": [
    {
     "data": {
      "text/plain": [
       "'Not Rehire (CDT have not joined byjus in sales before), Not Interviewed in Byjus in sales role in last 90days, Laptop and WiFi are Available, Age is below 32.11, At least Graduated ( not 12th Pass or diploma or Final Year student), Willing to relocate at given location for SSP, Comfortable with the stipend & allowances during training, Not working currently and ready to join the R3 Process'"
      ]
     },
     "execution_count": 73,
     "metadata": {},
     "output_type": "execute_result"
    }
   ],
   "source": [
    "df.loc[1, 'RedFlags Comments in Interview']"
   ]
  },
  {
   "cell_type": "code",
   "execution_count": 74,
   "id": "2bb4972b-df64-4123-b4b0-86b6bd89edec",
   "metadata": {},
   "outputs": [
    {
     "data": {
      "text/plain": [
       "\"29 yo / female / unmarried / MSc Finance UK 2022 / recently relocated to India just 20 days ago / Odissa / father - doctor / bro - software engineer / pursuing internship in investment banking - ends in next week / worked as a teacher / good story teller - fluent in hindi and english - good energy / also prepared for UPSC and GMAT - purchased a course from byju's earlier / cracked GMAT and got business school as well/asking ques in sales scenario - 2/5 Not Rehire (CDT have not joined byjus in sales before), Not Interviewed in Byjus in sales role in last 90days, Laptop and WiFi are Available, Age is below 32.11, At least Graduated ( not 12th Pass or diploma or Final Year student), Willing to relocate at given location for SSP, Comfortable with the stipend & allowances during training, Not working currently and ready to join the R3 Process\""
      ]
     },
     "execution_count": 74,
     "metadata": {},
     "output_type": "execute_result"
    }
   ],
   "source": [
    "df.loc[1, 'tags']"
   ]
  },
  {
   "cell_type": "code",
   "execution_count": 75,
   "id": "9a585376-41dc-41af-ae23-ceb9bda99c9b",
   "metadata": {},
   "outputs": [],
   "source": [
    "lemmatizer = WordNetLemmatizer()"
   ]
  },
  {
   "cell_type": "code",
   "execution_count": 76,
   "id": "8ac53c6d-4237-49f8-a115-b16a3c5e31f4",
   "metadata": {},
   "outputs": [],
   "source": [
    "stop_words = set(stopwords.words('english'))"
   ]
  },
  {
   "cell_type": "code",
   "execution_count": 77,
   "id": "a36c5b59-bc7f-4c3c-876f-b8b36aeb68fa",
   "metadata": {},
   "outputs": [],
   "source": [
    "def formatting(text):\n",
    "    if isinstance(text, list):\n",
    "        text = \" \".join(text)\n",
    "    words = word_tokenize(text.lower())\n",
    "    filtered_words = [lemmatizer.lemmatize(word) for word in words if word not in stop_words]\n",
    "    return \" \".join(filtered_words)"
   ]
  },
  {
   "cell_type": "code",
   "execution_count": 78,
   "id": "d583fbb9-9f86-4e46-8b82-3c61331b074d",
   "metadata": {},
   "outputs": [],
   "source": [
    "def remove_duplicates(text):\n",
    "    words = text.split()\n",
    "    seen = set()\n",
    "    unique_words = []\n",
    "\n",
    "    for word in words:\n",
    "        if word not in seen:\n",
    "            seen.add(word)\n",
    "            unique_words.append(word)\n",
    "\n",
    "    return \" \".join(unique_words)  "
   ]
  },
  {
   "cell_type": "code",
   "execution_count": 79,
   "id": "1379016c-046c-4220-9b82-23e8e068a8e1",
   "metadata": {},
   "outputs": [],
   "source": [
    "''' Applying Stopwords Removal and Lemmatization'''\n",
    "df['tags'] = df['tags'].apply(formatting)\n",
    "df['tags'] = df['tags'].apply(remove_duplicates)"
   ]
  },
  {
   "cell_type": "code",
   "execution_count": 80,
   "id": "f620027d-53ac-49f8-9f7f-a219e5083e10",
   "metadata": {},
   "outputs": [],
   "source": [
    "df['tags'] = df['tags'].str.replace('/', '', regex=False)\n",
    "df['tags'] = df['tags'].str.replace('[','', regex=False)\n",
    "df['tags'] = df['tags'].str.replace(']','', regex=False)"
   ]
  },
  {
   "cell_type": "code",
   "execution_count": 81,
   "id": "b7d582d5-318b-44dd-a2fd-aa6ce1ceccd6",
   "metadata": {},
   "outputs": [
    {
     "data": {
      "text/plain": [
       "\"29 yo  female unmarried msc finance uk 2022 recently relocated india 20 day ago odissa father - doctor bro software engineer pursuing internship investment banking end next week worked teacher good story teller fluent hindi english energy also prepared upsc gmat purchased course byju 's earlier cracked got business school wellasking ques sale scenario 25 rehire ( cdt joined byjus ) , interviewed role last 90days laptop wifi available age 32.11 least graduated 12th pas diploma final year student willing relocate given location ssp comfortable stipend & allowance training working currently ready join r3 process\""
      ]
     },
     "execution_count": 81,
     "metadata": {},
     "output_type": "execute_result"
    }
   ],
   "source": [
    "df.loc[1,'tags']"
   ]
  },
  {
   "cell_type": "code",
   "execution_count": 82,
   "id": "4f7b2c22-4ce9-42eb-923a-a7d8470941e1",
   "metadata": {},
   "outputs": [
    {
     "data": {
      "text/plain": [
       "Index(['Name', 'Comments', 'RedFlags Comments in Interview',\n",
       "       'Whether joined the company or not', 'tags'],\n",
       "      dtype='object')"
      ]
     },
     "execution_count": 82,
     "metadata": {},
     "output_type": "execute_result"
    }
   ],
   "source": [
    "df.columns"
   ]
  },
  {
   "cell_type": "code",
   "execution_count": 83,
   "id": "fc419cd9-a40c-4548-9b55-af1b41f2e89c",
   "metadata": {},
   "outputs": [],
   "source": [
    "df.drop(['Comments', 'RedFlags Comments in Interview'], axis=1, inplace=True)"
   ]
  },
  {
   "cell_type": "code",
   "execution_count": 84,
   "id": "edb611fb-6331-4984-803e-f7f9c78c8144",
   "metadata": {},
   "outputs": [
    {
     "data": {
      "text/plain": [
       "Index(['Name', 'Whether joined the company or not', 'tags'], dtype='object')"
      ]
     },
     "execution_count": 84,
     "metadata": {},
     "output_type": "execute_result"
    }
   ],
   "source": [
    "df.columns"
   ]
  },
  {
   "cell_type": "markdown",
   "id": "834f66a0-e3b9-454d-8c8d-a2630ae12944",
   "metadata": {},
   "source": [
    "## Word Embeddings\n",
    "**Note: Use Contextual Embeddings for More Accuracy**\n",
    "\n",
    "To represent words in a numerical format while preserving their meaning and relationships, we will apply **word embeddings**. This helps in capturing semantic similarities and improving machine learning model performance.\n",
    "(e.g., \"king\" → similar to \"queen\" but different from \"apple\")."
   ]
  },
  {
   "cell_type": "code",
   "execution_count": 86,
   "id": "8c85a7b9-59a6-47d1-8ece-33550362ac44",
   "metadata": {},
   "outputs": [],
   "source": [
    "sentences = [tag.split() for tag in df['tags']]"
   ]
  },
  {
   "cell_type": "code",
   "execution_count": 87,
   "id": "b8a5f016-5e4d-45fe-b86c-d1b3c43cca04",
   "metadata": {},
   "outputs": [],
   "source": [
    "# # Train Word2Vec model\n",
    "w2v_model = Word2Vec(sentences, vector_size=16, window=5, min_count=1, workers=4)"
   ]
  },
  {
   "cell_type": "code",
   "execution_count": 88,
   "id": "16e47be7-01b5-4cb8-a398-280d42a498d3",
   "metadata": {},
   "outputs": [],
   "source": [
    "# Function to convert text into an average word embedding\n",
    "def text_to_embedding(text):\n",
    "    words = text.split()\n",
    "    embeddings = [w2v_model.wv[word] for word in words if word in w2v_model.wv]\n",
    "    return np.mean(embeddings, axis=0) if embeddings else np.zeros(16)"
   ]
  },
  {
   "cell_type": "code",
   "execution_count": 89,
   "id": "4612a7f8-4665-4f2a-912c-1b0356ad6190",
   "metadata": {},
   "outputs": [],
   "source": [
    "text_embeddings = np.array([text_to_embedding(text) for text in df['tags']])\n",
    "text_embeddings_df = pd.DataFrame(text_embeddings, columns=[f'emb_{i}' for i in range(16)])"
   ]
  },
  {
   "cell_type": "code",
   "execution_count": 90,
   "id": "84f98728-4c30-4e8b-976b-6b5e31183760",
   "metadata": {},
   "outputs": [
    {
     "data": {
      "text/plain": [
       "Index(['Name', 'Whether joined the company or not', 'tags'], dtype='object')"
      ]
     },
     "execution_count": 90,
     "metadata": {},
     "output_type": "execute_result"
    }
   ],
   "source": [
    "df.columns"
   ]
  },
  {
   "cell_type": "code",
   "execution_count": 91,
   "id": "5d0094ca-c5f1-4b05-88dd-85f53f214c7e",
   "metadata": {},
   "outputs": [],
   "source": [
    "# Ensure target is binary\n",
    "df['Whether joined the company or not'] = (df['Whether joined the company or not'] >= 0.5).astype(int)"
   ]
  },
  {
   "cell_type": "code",
   "execution_count": 92,
   "id": "ce8f9c1d-fed9-41af-a2fe-668a8bb7c74a",
   "metadata": {},
   "outputs": [],
   "source": [
    "text_df = df.copy()\n",
    "text_df.drop(['Name', 'tags'], axis=1, inplace=True)\n",
    "df = df['Name']"
   ]
  },
  {
   "cell_type": "code",
   "execution_count": 93,
   "id": "d86c8c94-9117-40b1-ba3c-1323aa2a9276",
   "metadata": {},
   "outputs": [
    {
     "data": {
      "text/plain": [
       "Index(['emb_0', 'emb_1', 'emb_2', 'emb_3', 'emb_4', 'emb_5', 'emb_6', 'emb_7',\n",
       "       'emb_8', 'emb_9', 'emb_10', 'emb_11', 'emb_12', 'emb_13', 'emb_14',\n",
       "       'emb_15'],\n",
       "      dtype='object')"
      ]
     },
     "execution_count": 93,
     "metadata": {},
     "output_type": "execute_result"
    }
   ],
   "source": [
    "text_embeddings_df.columns"
   ]
  },
  {
   "cell_type": "code",
   "execution_count": 94,
   "id": "c864f644-31ed-4ee3-a6f0-6f3fb54acf18",
   "metadata": {},
   "outputs": [
    {
     "data": {
      "text/plain": [
       "Index(['pca0', 'pca1', 'pca2', 'pca3', 'pca4', 'pca5', 'pca6', 'pca7', 'pca8',\n",
       "       'pca9',\n",
       "       ...\n",
       "       'pca224', 'pca225', 'pca226', 'pca227', 'pca228', 'pca229', 'pca230',\n",
       "       'pca231', 'pca232', 'pca233'],\n",
       "      dtype='object', length=234)"
      ]
     },
     "execution_count": 94,
     "metadata": {},
     "output_type": "execute_result"
    }
   ],
   "source": [
    "numerical_df.columns"
   ]
  },
  {
   "cell_type": "code",
   "execution_count": 95,
   "id": "8f169e3b-7f30-4d5f-a597-46edaf89b155",
   "metadata": {},
   "outputs": [],
   "source": [
    "neural_df = text_df.join([text_embeddings_df, numerical_df], how='inner')"
   ]
  },
  {
   "cell_type": "code",
   "execution_count": 96,
   "id": "301f90c2-2e6c-44b6-a73a-26449a0d8f98",
   "metadata": {},
   "outputs": [
    {
     "data": {
      "text/plain": [
       "Index(['Whether joined the company or not', 'emb_0', 'emb_1', 'emb_2', 'emb_3',\n",
       "       'emb_4', 'emb_5', 'emb_6', 'emb_7', 'emb_8',\n",
       "       ...\n",
       "       'pca224', 'pca225', 'pca226', 'pca227', 'pca228', 'pca229', 'pca230',\n",
       "       'pca231', 'pca232', 'pca233'],\n",
       "      dtype='object', length=251)"
      ]
     },
     "execution_count": 96,
     "metadata": {},
     "output_type": "execute_result"
    }
   ],
   "source": [
    "neural_df.columns"
   ]
  },
  {
   "cell_type": "code",
   "execution_count": 97,
   "id": "227fdd9e-612b-4a77-abb5-d846504ecee2",
   "metadata": {},
   "outputs": [],
   "source": [
    "y = neural_df['Whether joined the company or not']\n",
    "X = neural_df\n",
    "X.drop('Whether joined the company or not', axis=1, inplace=True)"
   ]
  },
  {
   "cell_type": "markdown",
   "id": "6e783d81-3630-4232-940c-c68d30c08915",
   "metadata": {},
   "source": [
    "<hr style=\"border: 2px dashed yellow;\">"
   ]
  },
  {
   "cell_type": "markdown",
   "id": "20c0c2ea-eb40-4672-8b85-5dae31b9dfd0",
   "metadata": {},
   "source": [
    "## Data Splitting"
   ]
  },
  {
   "cell_type": "code",
   "execution_count": 99,
   "id": "002dc4ea-7b68-4f70-94b4-e1cc3d3057d6",
   "metadata": {},
   "outputs": [],
   "source": [
    "X_train, X_test, y_train, y_test = train_test_split(X, y, test_size=0.2, random_state=42)"
   ]
  },
  {
   "cell_type": "code",
   "execution_count": 100,
   "id": "00c01bd7-568c-4509-9799-719794de9650",
   "metadata": {},
   "outputs": [
    {
     "name": "stdout",
     "output_type": "stream",
     "text": [
      "Length of X_train: 13108\n",
      "Length of X_test: 3278\n",
      "Length of y_train: 13108\n",
      "Length of y_test: 3278\n"
     ]
    }
   ],
   "source": [
    "print(f'Length of X_train: {len(X_train)}')\n",
    "print(f'Length of X_test: {len(X_test)}')\n",
    "print(f'Length of y_train: {len(y_train)}')\n",
    "print(f'Length of y_test: {len(X_test)}')"
   ]
  },
  {
   "cell_type": "code",
   "execution_count": 101,
   "id": "f3001c50-944f-43bc-bc5a-077bf74b3a25",
   "metadata": {},
   "outputs": [
    {
     "data": {
      "text/plain": [
       "(pandas.core.frame.DataFrame, pandas.core.series.Series)"
      ]
     },
     "execution_count": 101,
     "metadata": {},
     "output_type": "execute_result"
    }
   ],
   "source": [
    "type(X_train), type(y_train)"
   ]
  },
  {
   "cell_type": "markdown",
   "id": "ff0fb1b8-a3d4-4c37-ad57-cb8c1fd6b97c",
   "metadata": {},
   "source": [
    "## Dataset"
   ]
  },
  {
   "cell_type": "code",
   "execution_count": 105,
   "id": "fa917c84-7999-46ba-b748-e4020a3fe96b",
   "metadata": {},
   "outputs": [],
   "source": [
    "class CustomDataset(Dataset):\n",
    "    def __init__(self, features, labels):\n",
    "        self.features = torch.tensor(features.values, dtype=torch.float32)\n",
    "        self.labels = torch.tensor(labels.values, dtype=torch.float32)\n",
    "\n",
    "    def __len__(self):\n",
    "        return len(self.labels)\n",
    "\n",
    "    def __getitem__(self, idx):\n",
    "        return self.features[idx], self.labels[idx]"
   ]
  },
  {
   "cell_type": "code",
   "execution_count": 107,
   "id": "1258cf1f-8d8d-43a8-a726-8e767836561e",
   "metadata": {},
   "outputs": [],
   "source": [
    "train_data = CustomDataset(X_train, y_train)\n",
    "test_data = CustomDataset(X_test, y_test)"
   ]
  },
  {
   "cell_type": "code",
   "execution_count": 109,
   "id": "e9704d5c-2466-40ea-80b1-3a3f95b62a0e",
   "metadata": {},
   "outputs": [
    {
     "data": {
      "text/plain": [
       "250"
      ]
     },
     "execution_count": 109,
     "metadata": {},
     "output_type": "execute_result"
    }
   ],
   "source": [
    "X_train.shape[1]"
   ]
  },
  {
   "cell_type": "markdown",
   "id": "0a256dd0-8815-4194-a37a-7daaa6e62a47",
   "metadata": {},
   "source": [
    "## Dataloader"
   ]
  },
  {
   "cell_type": "code",
   "execution_count": 111,
   "id": "f1f7f479-c711-4b65-b0c1-d69db7be721d",
   "metadata": {},
   "outputs": [],
   "source": [
    "BATCH_SIZE = 16"
   ]
  },
  {
   "cell_type": "code",
   "execution_count": 113,
   "id": "8b1eaa86-ea68-4279-a3ac-c33a457130c3",
   "metadata": {},
   "outputs": [],
   "source": [
    "train_dataloader = DataLoader(train_data, batch_size=BATCH_SIZE, shuffle=True)\n",
    "test_dataloader = DataLoader(test_data, batch_size=BATCH_SIZE, shuffle=True)"
   ]
  },
  {
   "cell_type": "code",
   "execution_count": 117,
   "id": "537da533-fe87-44f1-8e6b-2eaf0e22a0f9",
   "metadata": {},
   "outputs": [
    {
     "data": {
      "text/plain": [
       "(13108, 3278)"
      ]
     },
     "execution_count": 117,
     "metadata": {},
     "output_type": "execute_result"
    }
   ],
   "source": [
    "len(train_data), len(test_data)"
   ]
  },
  {
   "cell_type": "code",
   "execution_count": 119,
   "id": "4fd6bc38-2d52-4747-b637-08e2f33808fd",
   "metadata": {},
   "outputs": [
    {
     "data": {
      "text/plain": [
       "(820, 205)"
      ]
     },
     "execution_count": 119,
     "metadata": {},
     "output_type": "execute_result"
    }
   ],
   "source": [
    "len(train_dataloader), len(test_dataloader)"
   ]
  },
  {
   "cell_type": "markdown",
   "id": "b9c3ebcc-fe47-4b93-a9a7-94004c9be0a3",
   "metadata": {},
   "source": [
    "## Define a Model"
   ]
  },
  {
   "cell_type": "code",
   "execution_count": 124,
   "id": "4a02b65e-5caa-45bc-a07a-e013e933920b",
   "metadata": {},
   "outputs": [],
   "source": [
    "class HybridRecommender(nn.Module):\n",
    "    def __init__(self, input_size):\n",
    "        super().__init__()\n",
    "        self.network = nn.Sequential(\n",
    "            nn.Linear(input_size, 256),\n",
    "            nn.BatchNorm1d(256),\n",
    "            nn.LeakyReLU(),\n",
    "            nn.Dropout(0.3),\n",
    "            \n",
    "            nn.Linear(256, 128),\n",
    "            nn.BatchNorm1d(128),\n",
    "            nn.LeakyReLU(),\n",
    "            nn.Dropout(0.3),\n",
    "\n",
    "            nn.Linear(128, 64),\n",
    "            nn.BatchNorm1d(64),\n",
    "            nn.LeakyReLU(),\n",
    "            nn.Dropout(0.3),\n",
    "\n",
    "            nn.Linear(64, 32),\n",
    "            nn.LeakyReLU(),\n",
    "            \n",
    "            nn.Linear(32, 1),\n",
    "            nn.Sigmoid()\n",
    "        )\n",
    "\n",
    "    def forward(self, x):\n",
    "        return self.network(x)"
   ]
  },
  {
   "cell_type": "code",
   "execution_count": 127,
   "id": "b0e5c685-2c90-493f-9aa4-2e51c2a23faa",
   "metadata": {},
   "outputs": [
    {
     "data": {
      "text/plain": [
       "HybridRecommender(\n",
       "  (network): Sequential(\n",
       "    (0): Linear(in_features=250, out_features=256, bias=True)\n",
       "    (1): BatchNorm1d(256, eps=1e-05, momentum=0.1, affine=True, track_running_stats=True)\n",
       "    (2): LeakyReLU(negative_slope=0.01)\n",
       "    (3): Dropout(p=0.3, inplace=False)\n",
       "    (4): Linear(in_features=256, out_features=128, bias=True)\n",
       "    (5): BatchNorm1d(128, eps=1e-05, momentum=0.1, affine=True, track_running_stats=True)\n",
       "    (6): LeakyReLU(negative_slope=0.01)\n",
       "    (7): Dropout(p=0.3, inplace=False)\n",
       "    (8): Linear(in_features=128, out_features=64, bias=True)\n",
       "    (9): BatchNorm1d(64, eps=1e-05, momentum=0.1, affine=True, track_running_stats=True)\n",
       "    (10): LeakyReLU(negative_slope=0.01)\n",
       "    (11): Dropout(p=0.3, inplace=False)\n",
       "    (12): Linear(in_features=64, out_features=32, bias=True)\n",
       "    (13): LeakyReLU(negative_slope=0.01)\n",
       "    (14): Linear(in_features=32, out_features=1, bias=True)\n",
       "    (15): Sigmoid()\n",
       "  )\n",
       ")"
      ]
     },
     "execution_count": 127,
     "metadata": {},
     "output_type": "execute_result"
    }
   ],
   "source": [
    "''' Initializing the model '''\n",
    "input_size = X_train.shape[1]\n",
    "model_0 = HybridRecommender(input_size)\n",
    "model_0.to(device)"
   ]
  },
  {
   "cell_type": "code",
   "execution_count": 130,
   "id": "6321cd24-fe9c-4250-9a35-319584e0bf7a",
   "metadata": {},
   "outputs": [],
   "source": [
    "''' Important Parameters '''\n",
    "learning_rate = 0.001\n",
    "epochs = 10"
   ]
  },
  {
   "cell_type": "code",
   "execution_count": 133,
   "id": "c99341e4-4f9e-47b7-941d-e2776d7ec967",
   "metadata": {},
   "outputs": [],
   "source": [
    "''' Loss Function and Optimizer '''\n",
    "loss_function = nn.BCELoss()\n",
    "optimizer = torch.optim.Adam(model_0.parameters(), lr=learning_rate)"
   ]
  },
  {
   "cell_type": "markdown",
   "id": "c00ca5db-3f4a-42f2-a68c-e8d54ec3789e",
   "metadata": {},
   "source": [
    "## Training Loop"
   ]
  },
  {
   "cell_type": "code",
   "execution_count": 137,
   "id": "eb25d751-7b36-444b-a622-97a896b15594",
   "metadata": {},
   "outputs": [],
   "source": [
    "def train_step(model:torch.nn.Module,\n",
    "              dataloader:torch.utils.data.DataLoader,\n",
    "              loss_function:torch.nn.Module,\n",
    "              optimizer:torch.optim.Optimizer,\n",
    "              accuracy,\n",
    "              device:torch.device):\n",
    "\n",
    "    train_loss, train_acc = 0,0\n",
    "    model.train()\n",
    "\n",
    "    for features, labels in dataloader:\n",
    "        X, y = features.to(device), labels.to(device)\n",
    "        # Forward Pass\n",
    "        # y_pred = model(X)\n",
    "        y_logits = model(X).squeeze()\n",
    "        y_pred = torch.round(torch.sigmoid(y_logits))\n",
    "\n",
    "        # Calculate Loss and Accuracy per batch\n",
    "        # loss = loss_function(y_pred, y)\n",
    "        loss = loss_function(y_logits, y)\n",
    "        train_loss += loss.item()\n",
    "        train_acc += accuracy(y, y_pred).item()*100\n",
    "\n",
    "        # Set gradients to zero\n",
    "        optimizer.zero_grad()\n",
    "\n",
    "        # Back Propogation\n",
    "        loss.backward()\n",
    "\n",
    "        # Update the Parameters\n",
    "        optimizer.step()\n",
    "\n",
    "    train_loss /= len(dataloader)\n",
    "    train_acc /= len(dataloader)\n",
    "\n",
    "    return train_loss, train_acc"
   ]
  },
  {
   "cell_type": "markdown",
   "id": "297e5b4b-2a29-4f55-bb9f-696901fae114",
   "metadata": {},
   "source": [
    "## Testing Loop"
   ]
  },
  {
   "cell_type": "code",
   "execution_count": 141,
   "id": "af98ea4c-68dc-4556-8a46-8fbd85aa1e8d",
   "metadata": {},
   "outputs": [],
   "source": [
    "def test_step(model:torch.nn.Module,\n",
    "             dataloader:torch.utils.data.DataLoader,\n",
    "             loss_function:torch.nn.Module,\n",
    "             accuracy,\n",
    "             device:torch.device):\n",
    "\n",
    "    test_loss, test_acc = 0,0\n",
    "\n",
    "    model.eval()\n",
    "    with torch.inference_mode():\n",
    "        for features, labels in dataloader:\n",
    "            X, y = features.to(device), labels.to(device)\n",
    "            # Forward Pass\n",
    "            # test_pred = model(X)\n",
    "            test_logits = model(X).squeeze()\n",
    "            test_pred = torch.round(torch.sigmoid(test_logits))\n",
    "            \n",
    "            # Calculate Loss and Accuracy per batch\n",
    "            loss = loss_function(test_logits, y)\n",
    "            test_loss += loss.item()\n",
    "            test_acc += accuracy(y, test_pred).item()*100\n",
    "\n",
    "        test_loss /= len(dataloader)\n",
    "        test_acc /= len(dataloader)\n",
    "\n",
    "        return test_loss, test_acc"
   ]
  },
  {
   "cell_type": "markdown",
   "id": "78ce1290-8e68-423a-814d-516edbf1845d",
   "metadata": {},
   "source": [
    "## Combining Training and Testing Loop into evaluate()"
   ]
  },
  {
   "cell_type": "code",
   "execution_count": 146,
   "id": "d0dca99d-61c5-4df7-b46b-4392b7c9b385",
   "metadata": {},
   "outputs": [],
   "source": [
    "def evaluate(model:torch.nn.Module,\n",
    "             train_dataloader:torch.utils.data.DataLoader,\n",
    "             test_dataloader:torch.utils.data.DataLoader,\n",
    "             loss_function:torch.nn.Module,\n",
    "             optimizer:torch.optim.Optimizer,\n",
    "             accuracy,\n",
    "             device:torch.device,\n",
    "             epochs:int = 5):\n",
    "\n",
    "    model.to(device)\n",
    "    # Create empty result dictionary\n",
    "    results = {'train_loss':[],\n",
    "              'train_acc':[],\n",
    "              'test_loss':[],\n",
    "              'test_acc':[]}\n",
    "\n",
    "    # Loop through training and testing steps for the number of epochs\n",
    "    for epoch in range(epochs):\n",
    "        train_loss, train_acc = train_step(model=model,\n",
    "                                          dataloader=train_dataloader,\n",
    "                                          loss_function=loss_function,\n",
    "                                          optimizer=optimizer,\n",
    "                                          accuracy=accuracy,\n",
    "                                          device=device)\n",
    "        \n",
    "        test_loss, test_acc = test_step(model=model,\n",
    "                                          dataloader=test_dataloader,\n",
    "                                          loss_function=loss_function,\n",
    "                                          accuracy=accuracy,\n",
    "                                          device=device)\n",
    "\n",
    "        print(f'Training Loss: {train_loss:.5f} | Training Accuracy: {train_acc:.2f}% | Testing Loss: {test_loss:.5f} | Testing Accuracy: {test_acc:.2f}%')      \n",
    "\n",
    "        results['train_loss'].append(train_loss)\n",
    "        results['train_acc'].append(train_acc)\n",
    "        results['test_loss'].append(test_loss)\n",
    "        results['test_acc'].append(test_acc)\n",
    "\n",
    "    return results"
   ]
  },
  {
   "cell_type": "code",
   "execution_count": 149,
   "id": "be03e138-c654-4ddf-adb9-e23723aa9020",
   "metadata": {},
   "outputs": [
    {
     "name": "stdout",
     "output_type": "stream",
     "text": [
      "Training Loss: 0.69402 | Training Accuracy: 47.63% | Testing Loss: 0.69175 | Testing Accuracy: 46.01%\n",
      "Training Loss: 0.69247 | Training Accuracy: 47.58% | Testing Loss: 0.69144 | Testing Accuracy: 46.01%\n",
      "Training Loss: 0.69181 | Training Accuracy: 47.61% | Testing Loss: 0.69170 | Testing Accuracy: 46.00%\n",
      "Training Loss: 0.69073 | Training Accuracy: 47.63% | Testing Loss: 0.69242 | Testing Accuracy: 46.02%\n",
      "Training Loss: 0.68925 | Training Accuracy: 47.63% | Testing Loss: 0.69533 | Testing Accuracy: 46.01%\n",
      "Training Loss: 0.68883 | Training Accuracy: 47.63% | Testing Loss: 0.69451 | Testing Accuracy: 46.00%\n",
      "Training Loss: 0.68665 | Training Accuracy: 47.63% | Testing Loss: 0.69713 | Testing Accuracy: 46.01%\n",
      "Training Loss: 0.68532 | Training Accuracy: 47.58% | Testing Loss: 0.69599 | Testing Accuracy: 46.00%\n",
      "Training Loss: 0.68508 | Training Accuracy: 47.58% | Testing Loss: 0.69704 | Testing Accuracy: 46.00%\n",
      "Training Loss: 0.68398 | Training Accuracy: 47.58% | Testing Loss: 0.69810 | Testing Accuracy: 46.00%\n"
     ]
    }
   ],
   "source": [
    "torch.manual_seed(42)\n",
    "accuracy = Accuracy(task='binary').to(device)\n",
    "\n",
    "model_0_results = evaluate(model=model_0,\n",
    "                        train_dataloader=train_dataloader,\n",
    "                        test_dataloader=test_dataloader,\n",
    "                        loss_function=loss_function,\n",
    "                        optimizer=optimizer,\n",
    "                        accuracy=accuracy,\n",
    "                        device=device,\n",
    "                        epochs=epochs)"
   ]
  },
  {
   "cell_type": "markdown",
   "id": "3db82eb8-dbde-4498-8289-a7cddadb2044",
   "metadata": {},
   "source": [
    "## Loss and Accuracy Curves"
   ]
  },
  {
   "cell_type": "code",
   "execution_count": 154,
   "id": "e27c2ecc-9e5b-4c1e-ae5e-4dbf00465ad4",
   "metadata": {},
   "outputs": [
    {
     "data": {
      "image/png": "[encoded data removed]",
      "text/plain": [
       "<Figure size 1500x500 with 2 Axes>"
      ]
     },
     "metadata": {},
     "output_type": "display_data"
    }
   ],
   "source": [
    "plt.figure(figsize=(15,5))\n",
    "epochs = range(len(model_0_results['train_loss']))\n",
    "\n",
    "plt.subplot(1,2,1)\n",
    "plt.plot(epochs, model_0_results['train_loss'], label='Training Loss')\n",
    "plt.plot(epochs, model_0_results['test_loss'], label='Testing Loss')\n",
    "plt.xlabel('Epochs')\n",
    "plt.ylabel('Loss')\n",
    "plt.title('Training Vs Testing Loss')\n",
    "plt.legend()\n",
    "\n",
    "plt.subplot(1,2,2)\n",
    "plt.plot(epochs, model_0_results['train_acc'], label='Training Accuracy')\n",
    "plt.plot(epochs, model_0_results['test_acc'], label='Testing Accuracy')\n",
    "plt.xlabel('Epochs')\n",
    "plt.ylabel('Accuracy')\n",
    "plt.title('Training Vs Testing Accuracy')\n",
    "plt.legend()\n",
    "\n",
    "plt.show()"
   ]
  }
 ],
 "metadata": {
  "kernelspec": {
   "display_name": "Python 3 (ipykernel)",
   "language": "python",
   "name": "python3"
  },
  "language_info": {
   "codemirror_mode": {
    "name": "ipython",
    "version": 3
   },
   "file_extension": ".py",
   "mimetype": "text/x-python",
   "name": "python",
   "nbconvert_exporter": "python",
   "pygments_lexer": "ipython3",
   "version": "3.12.7"
  }
 },
 "nbformat": 4,
 "nbformat_minor": 5
}
